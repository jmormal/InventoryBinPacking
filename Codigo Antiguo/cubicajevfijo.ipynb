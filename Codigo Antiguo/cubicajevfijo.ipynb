{
 "cells": [
  {
   "cell_type": "code",
   "execution_count": 1,
   "id": "e42650f7-d9b6-45a8-b68c-76ae8f92e009",
   "metadata": {},
   "outputs": [],
   "source": [
    "import pyodbc\n",
    "import pandas as pd\n",
    "import pyomo.environ as pe\n",
    "import pyomo.opt as po\n",
    "model = pe.ConcreteModel(\"Cargacamiones\")\n"
   ]
  },
  {
   "cell_type": "code",
   "execution_count": 2,
   "id": "b8fa57e5-a2fb-4af9-8ef3-3624a71f3b1d",
   "metadata": {},
   "outputs": [],
   "source": [
    "path=r\"C:\\Users\\juano\\Documents\\pyomcamiones\\Carga de camiones\\Transporte_cubicaje.mdb\"\n",
    "conn = pyodbc.connect('Driver={Microsoft Access Driver (*.mdb, *.accdb)};DBQ='+path+';')\n",
    "cursor = conn.cursor()"
   ]
  },
  {
   "cell_type": "markdown",
   "id": "90368ebb-04b7-4902-9262-c9170e9c357a",
   "metadata": {},
   "source": [
    "Familias Carga de datos"
   ]
  },
  {
   "cell_type": "code",
   "execution_count": 3,
   "id": "4cec6228-3dcb-4b33-82c2-6f7a31f7dee8",
   "metadata": {},
   "outputs": [],
   "source": [
    "cursor.execute('select IdProducto from Productos')\n",
    "productos=[]\n",
    "for row in cursor.fetchall():\n",
    "    productos.append(row[0])"
   ]
  },
  {
   "cell_type": "code",
   "execution_count": 4,
   "id": "1729c2ef-9b05-47de-8bb3-00b4c5f6eeaa",
   "metadata": {},
   "outputs": [],
   "source": [
    "cursor.execute('select IdFamilia from Familias')\n",
    "familias=[]\n",
    "for row in cursor.fetchall():\n",
    "    familias.append(row[0])"
   ]
  },
  {
   "cell_type": "code",
   "execution_count": 5,
   "id": "67d24c87-6a45-4b11-9a79-ca590c00db10",
   "metadata": {},
   "outputs": [],
   "source": [
    "cursor.execute('select IdCamion from Camiones WHERE IdCamion<4')\n",
    "camiones=[]\n",
    "for i in range(1,40):\n",
    "    camiones.append(i)"
   ]
  },
  {
   "cell_type": "code",
   "execution_count": 6,
   "id": "b146f205-9229-4c16-8c3b-b7c6fa6030c1",
   "metadata": {},
   "outputs": [],
   "source": [
    "cursor.execute('select IdDia from Dias WHERE \"IdDia\"<=19')\n",
    "dias=[]\n",
    "for row in cursor.fetchall():\n",
    "    dias.append(row[0])\n",
    "        "
   ]
  },
  {
   "cell_type": "code",
   "execution_count": 7,
   "id": "a819db32-4ace-44cc-8422-436a1943c34d",
   "metadata": {},
   "outputs": [],
   "source": [
    "cursor.execute('select IdDia from Dias')\n",
    "dias1=[]\n",
    "for row in cursor.fetchall():\n",
    "    dias1.append(row[0])\n",
    "\n"
   ]
  },
  {
   "cell_type": "code",
   "execution_count": 8,
   "id": "07399b98-4597-43ce-97d2-e4354d17b914",
   "metadata": {},
   "outputs": [],
   "source": [
    "columnas=[1,2]\n",
    "A1=[6,7]\n",
    "B1=[4,2]"
   ]
  },
  {
   "cell_type": "markdown",
   "id": "45f4435a-4da6-4a13-b895-945c4f2e2f48",
   "metadata": {},
   "source": [
    "## Familias Pyomo"
   ]
  },
  {
   "cell_type": "code",
   "execution_count": 9,
   "id": "62d43fd4-f804-4e33-8960-4f0123a03598",
   "metadata": {},
   "outputs": [],
   "source": [
    "model.i = pe.Set(initialize=productos)\n",
    "model.f = pe.Set(initialize=familias)\n",
    "model.c = pe.Set(initialize=camiones)\n",
    "model.t = pe.Set(initialize=dias)\n",
    "model.t1 = pe.Set(initialize=dias1)\n",
    "model.col=pe.Set(initialize=columnas)\n",
    "model.A1=pe.Set(initialize=A1)\n",
    "model.B1=pe.Set(initialize=B1)"
   ]
  },
  {
   "cell_type": "markdown",
   "id": "56854c70-cd27-4926-ae52-ab188ae1680d",
   "metadata": {},
   "source": [
    "## Carga de datos productos"
   ]
  },
  {
   "cell_type": "code",
   "execution_count": 10,
   "id": "0e9d47b7-50e0-4466-b192-b6585231c153",
   "metadata": {},
   "outputs": [],
   "source": [
    "cursor.execute('select IdFamilia, LotePedido from Familias')\n",
    "lotepedido={}\n",
    "for row in cursor.fetchall():\n",
    "    lotepedido.update({row[0]:row[1]})\n"
   ]
  },
  {
   "cell_type": "code",
   "execution_count": 11,
   "id": "29c33ca3-f76a-428c-9a79-8c12eca08171",
   "metadata": {},
   "outputs": [],
   "source": [
    "cursor.execute('select IdProducto , PiezasCont from Productos')\n",
    "piezascont={}\n",
    "for row in cursor.fetchall():\n",
    "    piezascont.update({row[0]:row[1]})"
   ]
  },
  {
   "cell_type": "code",
   "execution_count": 12,
   "id": "995a888b-08b1-4a53-929e-e56697c2c0ee",
   "metadata": {},
   "outputs": [],
   "source": [
    "cursor.execute('select IdProducto , LargoContedor from Productos')\n",
    "piezas_largo_box={}\n",
    "for row in cursor.fetchall():\n",
    "    piezas_largo_box.update({row[0]:row[1]})"
   ]
  },
  {
   "cell_type": "code",
   "execution_count": 13,
   "id": "13962258-4bdf-4a63-9482-1bca7ab61528",
   "metadata": {},
   "outputs": [],
   "source": [
    "cursor.execute('select IdProducto , IdFamilia, beta from beta')\n",
    "b={}\n",
    "for row in cursor.fetchall():\n",
    "    b.update({(row[0],row[1]):row[2]})\n"
   ]
  },
  {
   "cell_type": "code",
   "execution_count": 14,
   "id": "099cc323-bcbb-4125-8d79-fee66ccdaae3",
   "metadata": {},
   "outputs": [],
   "source": [
    "cursor.execute('select  IdProducto , IdDia, Demanda from Demanda')\n",
    "demanda={}\n",
    "for row in cursor.fetchall():\n",
    "    demanda.update({(row[0],row[1]):row[2]})"
   ]
  },
  {
   "cell_type": "code",
   "execution_count": 15,
   "id": "e0eb904d-1c8a-4e15-a0dd-803f5cc4f972",
   "metadata": {},
   "outputs": [],
   "source": [
    "# cursor.execute('select IdProducto , StockInicial from Productos')\n",
    "stockInicial={}\n",
    "# for row in cursor.fetchall():\n",
    "#     stockInicial.update({row[0]:row[1]})\n",
    "cursor.execute('select  IdProducto , Demanda from Demanda where IdDia=1')\n",
    "\n",
    "for row in cursor.fetchall():\n",
    "    stockInicial.update({row[0]:row[1]*3})\n"
   ]
  },
  {
   "cell_type": "code",
   "execution_count": null,
   "id": "d1592a33-918c-4279-989e-67b75cc553da",
   "metadata": {},
   "outputs": [],
   "source": []
  },
  {
   "cell_type": "code",
   "execution_count": 16,
   "id": "8750c074-23b5-4b1e-94e1-7e7f9a9d0f77",
   "metadata": {},
   "outputs": [],
   "source": [
    "cursor.execute('select  IdProducto , Valor from Productos')\n",
    "valor={}\n",
    "for row in cursor.fetchall():\n",
    "    valor.update({row[0]:row[1]})"
   ]
  },
  {
   "cell_type": "code",
   "execution_count": 17,
   "id": "ae03f73d-8cda-4a9d-a6a2-9cf71c6441a6",
   "metadata": {},
   "outputs": [],
   "source": [
    "PC={}\n",
    "for camion in camiones:\n",
    "    PC.update({camion:1000})"
   ]
  },
  {
   "cell_type": "code",
   "execution_count": 18,
   "id": "5f7ec971-3d78-49a9-8518-1d2454643441",
   "metadata": {},
   "outputs": [],
   "source": [
    "L=78\n",
    "nu=26/30\n",
    "NT_lw=5\n",
    "NT_up=10"
   ]
  },
  {
   "cell_type": "code",
   "execution_count": 19,
   "id": "285975ba-3b0f-4e8a-ae1f-7656bd99d3cb",
   "metadata": {},
   "outputs": [
    {
     "name": "stdout",
     "output_type": "stream",
     "text": [
      "WARNING: DEPRECATED: The default domain for Param objects is 'Any'.  However,\n",
      "    we will be changing that default to 'Reals' in the future.  If you really\n",
      "    intend the domain of this Param (LargoCont) to be 'Any', you can suppress\n",
      "    this warning by explicitly specifying 'within=Any' to the Param\n",
      "    constructor.  (deprecated in 5.6.9, will be removed in 6.0) (called from\n",
      "    C:\\Users\\juano\\Anaconda3\\envs\\pyomo-tutorials\\lib\\site-\n",
      "    packages\\pyomo\\core\\base\\param.py:77)\n",
      "WARNING: DEPRECATED: The default domain for Param objects is 'Any'.  However,\n",
      "    we will be changing that default to 'Reals' in the future.  If you really\n",
      "    intend the domain of this Param (LargoCont) to be 'Any', you can suppress\n",
      "    this warning by explicitly specifying 'within=Any' to the Param\n",
      "    constructor.  (deprecated in 5.6.9, will be removed in 6.0) (called from\n",
      "    C:\\Users\\juano\\Anaconda3\\envs\\pyomo-tutorials\\lib\\site-\n",
      "    packages\\pyomo\\core\\base\\param.py:77)\n",
      "WARNING: DEPRECATED: The default domain for Param objects is 'Any'.  However,\n",
      "    we will be changing that default to 'Reals' in the future.  If you really\n",
      "    intend the domain of this Param (LargoCont) to be 'Any', you can suppress\n",
      "    this warning by explicitly specifying 'within=Any' to the Param\n",
      "    constructor.  (deprecated in 5.6.9, will be removed in 6.0) (called from\n",
      "    C:\\Users\\juano\\Anaconda3\\envs\\pyomo-tutorials\\lib\\site-\n",
      "    packages\\pyomo\\core\\base\\param.py:77)\n",
      "WARNING: DEPRECATED: The default domain for Param objects is 'Any'.  However,\n",
      "    we will be changing that default to 'Reals' in the future.  If you really\n",
      "    intend the domain of this Param (LargoCont) to be 'Any', you can suppress\n",
      "    this warning by explicitly specifying 'within=Any' to the Param\n",
      "    constructor.  (deprecated in 5.6.9, will be removed in 6.0) (called from\n",
      "    C:\\Users\\juano\\Anaconda3\\envs\\pyomo-tutorials\\lib\\site-\n",
      "    packages\\pyomo\\core\\base\\param.py:77)\n",
      "WARNING: DEPRECATED: The default domain for Param objects is 'Any'.  However,\n",
      "    we will be changing that default to 'Reals' in the future.  If you really\n",
      "    intend the domain of this Param (LargoCont) to be 'Any', you can suppress\n",
      "    this warning by explicitly specifying 'within=Any' to the Param\n",
      "    constructor.  (deprecated in 5.6.9, will be removed in 6.0) (called from\n",
      "    C:\\Users\\juano\\Anaconda3\\envs\\pyomo-tutorials\\lib\\site-\n",
      "    packages\\pyomo\\core\\base\\param.py:77)\n",
      "WARNING: DEPRECATED: The default domain for Param objects is 'Any'.  However,\n",
      "    we will be changing that default to 'Reals' in the future.  If you really\n",
      "    intend the domain of this Param (LargoCont) to be 'Any', you can suppress\n",
      "    this warning by explicitly specifying 'within=Any' to the Param\n",
      "    constructor.  (deprecated in 5.6.9, will be removed in 6.0) (called from\n",
      "    C:\\Users\\juano\\Anaconda3\\envs\\pyomo-tutorials\\lib\\site-\n",
      "    packages\\pyomo\\core\\base\\param.py:77)\n",
      "WARNING: DEPRECATED: The default domain for Param objects is 'Any'.  However,\n",
      "    we will be changing that default to 'Reals' in the future.  If you really\n",
      "    intend the domain of this Param (LargoCont) to be 'Any', you can suppress\n",
      "    this warning by explicitly specifying 'within=Any' to the Param\n",
      "    constructor.  (deprecated in 5.6.9, will be removed in 6.0) (called from\n",
      "    C:\\Users\\juano\\Anaconda3\\envs\\pyomo-tutorials\\lib\\site-\n",
      "    packages\\pyomo\\core\\base\\param.py:77)\n",
      "WARNING: DEPRECATED: The default domain for Param objects is 'Any'.  However,\n",
      "    we will be changing that default to 'Reals' in the future.  If you really\n",
      "    intend the domain of this Param (LargoCont) to be 'Any', you can suppress\n",
      "    this warning by explicitly specifying 'within=Any' to the Param\n",
      "    constructor.  (deprecated in 5.6.9, will be removed in 6.0) (called from\n",
      "    C:\\Users\\juano\\Anaconda3\\envs\\pyomo-tutorials\\lib\\site-\n",
      "    packages\\pyomo\\core\\base\\param.py:77)\n",
      "WARNING: DEPRECATED: The default domain for Param objects is 'Any'.  However,\n",
      "    we will be changing that default to 'Reals' in the future.  If you really\n",
      "    intend the domain of this Param (LargoCont) to be 'Any', you can suppress\n",
      "    this warning by explicitly specifying 'within=Any' to the Param\n",
      "    constructor.  (deprecated in 5.6.9, will be removed in 6.0) (called from\n",
      "    C:\\Users\\juano\\Anaconda3\\envs\\pyomo-tutorials\\lib\\site-\n",
      "    packages\\pyomo\\core\\base\\param.py:77)\n",
      "WARNING: DEPRECATED: The default domain for Param objects is 'Any'.  However,\n",
      "    we will be changing that default to 'Reals' in the future.  If you really\n",
      "    intend the domain of this Param (LargoCont) to be 'Any', you can suppress\n",
      "    this warning by explicitly specifying 'within=Any' to the Param\n",
      "    constructor.  (deprecated in 5.6.9, will be removed in 6.0) (called from\n",
      "    C:\\Users\\juano\\Anaconda3\\envs\\pyomo-tutorials\\lib\\site-\n",
      "    packages\\pyomo\\core\\base\\param.py:77)\n",
      "WARNING: DEPRECATED: The default domain for Param objects is 'Any'.  However,\n",
      "    we will be changing that default to 'Reals' in the future.  If you really\n",
      "    intend the domain of this Param (LargoCont) to be 'Any', you can suppress\n",
      "    this warning by explicitly specifying 'within=Any' to the Param\n",
      "    constructor.  (deprecated in 5.6.9, will be removed in 6.0) (called from\n",
      "    C:\\Users\\juano\\Anaconda3\\envs\\pyomo-tutorials\\lib\\site-\n",
      "    packages\\pyomo\\core\\base\\param.py:77)\n",
      "WARNING: DEPRECATED: The default domain for Param objects is 'Any'.  However,\n",
      "    we will be changing that default to 'Reals' in the future.  If you really\n",
      "    intend the domain of this Param (LargoCont) to be 'Any', you can suppress\n",
      "    this warning by explicitly specifying 'within=Any' to the Param\n",
      "    constructor.  (deprecated in 5.6.9, will be removed in 6.0) (called from\n",
      "    C:\\Users\\juano\\Anaconda3\\envs\\pyomo-tutorials\\lib\\site-\n",
      "    packages\\pyomo\\core\\base\\param.py:77)\n",
      "WARNING: DEPRECATED: The default domain for Param objects is 'Any'.  However,\n",
      "    we will be changing that default to 'Reals' in the future.  If you really\n",
      "    intend the domain of this Param (LargoCont) to be 'Any', you can suppress\n",
      "    this warning by explicitly specifying 'within=Any' to the Param\n",
      "    constructor.  (deprecated in 5.6.9, will be removed in 6.0) (called from\n",
      "    C:\\Users\\juano\\Anaconda3\\envs\\pyomo-tutorials\\lib\\site-\n",
      "    packages\\pyomo\\core\\base\\param.py:77)\n",
      "WARNING: DEPRECATED: The default domain for Param objects is 'Any'.  However,\n",
      "    we will be changing that default to 'Reals' in the future.  If you really\n",
      "    intend the domain of this Param (LargoCont) to be 'Any', you can suppress\n",
      "    this warning by explicitly specifying 'within=Any' to the Param\n",
      "    constructor.  (deprecated in 5.6.9, will be removed in 6.0) (called from\n",
      "    C:\\Users\\juano\\Anaconda3\\envs\\pyomo-tutorials\\lib\\site-\n",
      "    packages\\pyomo\\core\\base\\param.py:77)\n",
      "WARNING: DEPRECATED: The default domain for Param objects is 'Any'.  However,\n",
      "    we will be changing that default to 'Reals' in the future.  If you really\n",
      "    intend the domain of this Param (LargoCont) to be 'Any', you can suppress\n",
      "    this warning by explicitly specifying 'within=Any' to the Param\n",
      "    constructor.  (deprecated in 5.6.9, will be removed in 6.0) (called from\n",
      "    C:\\Users\\juano\\Anaconda3\\envs\\pyomo-tutorials\\lib\\site-\n",
      "    packages\\pyomo\\core\\base\\param.py:77)\n"
     ]
    }
   ],
   "source": [
    "model.LotePedido = pe.Param(model.f , initialize=lotepedido)\n",
    "model.PiezasCont= pe.Param(model.i ,initialize=piezascont)\n",
    "model.b= pe.Param(model.i, model.f ,initialize=b, default=0)\n",
    "model.StockInicial= pe.Param(model.i, initialize=stockInicial)\n",
    "model.demanda= pe.Param(model.i, model.t1,  initialize=demanda)\n",
    "model.valor=pe.Param(model.i, initialize=stockInicial)\n",
    "model.PC=pe.Param(model.c, initialize=PC)\n",
    "model.L=pe.Param(initialize=L)\n",
    "model.nu=pe.Param(initialize=nu)\n",
    "model.NT_lw=pe.Param(initialize=NT_lw)\n",
    "model.NT_up=pe.Param(initialize=NT_up)\n",
    "model.LargoCont=pe.Param(model.i,initialize=piezas_largo_box)"
   ]
  },
  {
   "cell_type": "markdown",
   "id": "dfe06a96-676c-48f6-a963-bf71ffbabd5a",
   "metadata": {},
   "source": [
    "# # Varibles"
   ]
  },
  {
   "cell_type": "code",
   "execution_count": 20,
   "id": "703e4d9f-a03e-4019-a8c1-a631475fc6b8",
   "metadata": {},
   "outputs": [],
   "source": [
    "model.CantidadPedir = pe.Var(model.i, model.c, model.t,model.col, domain=pe.Integers)"
   ]
  },
  {
   "cell_type": "code",
   "execution_count": 21,
   "id": "45e1db77-888c-451b-887b-6eb9855e3dbe",
   "metadata": {},
   "outputs": [],
   "source": [
    "model.CantidadPedir2 = pe.Var(model.i,model.f, model.c, model.t,model.col, domain=pe.Integers, bounds=(0,None) )\n",
    "model.ContenedoresCamion=pe.Var(model.c,model.t,model.col,model.i, domain=pe.Integers)"
   ]
  },
  {
   "cell_type": "code",
   "execution_count": 22,
   "id": "8aedd595-3e0e-455b-83eb-b29110277101",
   "metadata": {},
   "outputs": [],
   "source": [
    "model.Stock=pe.Var(model.i,model.t, bounds=(0,None))"
   ]
  },
  {
   "cell_type": "code",
   "execution_count": 23,
   "id": "78544ce4-f486-43f6-b950-4b2f91e332e0",
   "metadata": {},
   "outputs": [],
   "source": [
    "model.RetrasoDemanda=pe.Var(model.i,model.t, bounds=(0,None))"
   ]
  },
  {
   "cell_type": "code",
   "execution_count": 24,
   "id": "5d8daad9-835e-4f5e-9f06-8c33b3459648",
   "metadata": {},
   "outputs": [],
   "source": [
    "model.K=pe.Var(model.f,model.c,model.t,model.col ,domain=pe.Integers)"
   ]
  },
  {
   "cell_type": "code",
   "execution_count": 25,
   "id": "9a57ba50-b2eb-4f12-926d-29626c730758",
   "metadata": {},
   "outputs": [],
   "source": [
    "model.Y=pe.Var(model.c,model.t ,domain=pe.Binary, initialize=0)"
   ]
  },
  {
   "cell_type": "code",
   "execution_count": 26,
   "id": "a7e18df4-c807-425e-8357-7d834d601616",
   "metadata": {},
   "outputs": [],
   "source": [
    "model.A=pe.Var(model.c,model.col,model.t, domain=pe.Integers, bounds=(5.5,8.5))\n",
    "model.B=pe.Var(model.c,model.col, model.t, domain=pe.Integers, bounds=(1.5,4.5))\n"
   ]
  },
  {
   "cell_type": "markdown",
   "id": "4456c6c3-d50e-42ad-8287-5c26dfdf99af",
   "metadata": {},
   "source": [
    "## Función Objetivo\n",
    "Minimizar el número de camiones usado\n",
    "$$\\sum_{c,t}PC(c)Y(c,t)$$"
   ]
  },
  {
   "cell_type": "code",
   "execution_count": 27,
   "id": "21e0ac46-c8c0-4d10-921f-5d4fb694b2cd",
   "metadata": {},
   "outputs": [],
   "source": [
    "expr = sum(model.PC[c]*model.Y[c,t]  for c in model.c for t in model.t)"
   ]
  },
  {
   "cell_type": "code",
   "execution_count": 28,
   "id": "51e5e1fd-4e59-4dd4-89de-7c103381e841",
   "metadata": {},
   "outputs": [],
   "source": [
    " #Coste Transporte\n",
    "model.objective = pe.Objective(sense=pe.minimize, expr=expr)"
   ]
  },
  {
   "cell_type": "markdown",
   "id": "ceb7304e-b5e4-4fd0-b692-5224aaff29fb",
   "metadata": {},
   "source": [
    "## Funciones auxiliares"
   ]
  },
  {
   "cell_type": "code",
   "execution_count": 29,
   "id": "5e708056-8ba4-400c-82a8-9a14cbc7f647",
   "metadata": {},
   "outputs": [],
   "source": [
    "def UsoCamion(model):\n",
    "    return sum(model.L*model.Y[c,t] for c in model.c for t in model.t)-\\\n",
    "        sum(model.ContenedoresCamion[c,t] for c in model.c for t in model.t)"
   ]
  },
  {
   "cell_type": "code",
   "execution_count": 30,
   "id": "2715fc7d-df48-4756-a01f-8f4ba07c26b2",
   "metadata": {},
   "outputs": [],
   "source": [
    "def CTransporte(model):\n",
    "    return sum(model.PC[c]*model.Y[c,t] for c in model.c for t in model.t)"
   ]
  },
  {
   "cell_type": "code",
   "execution_count": 31,
   "id": "165ba238-8b2c-42c3-91ae-5fb67d2187ea",
   "metadata": {},
   "outputs": [],
   "source": [
    "def NumeroCamiones(model):\n",
    "    return sum(model.Y[c,t] for c in model.c for t in model.t)"
   ]
  },
  {
   "cell_type": "markdown",
   "id": "2f88e217-bfde-44aa-807a-172241f861dd",
   "metadata": {},
   "source": [
    "## Restricciones"
   ]
  },
  {
   "cell_type": "code",
   "execution_count": 32,
   "id": "f5a915f0-7814-45c9-b5c1-5dfb41a5f4c3",
   "metadata": {},
   "outputs": [],
   "source": [
    "model.stocks=pe.ConstraintList()"
   ]
  },
  {
   "cell_type": "markdown",
   "id": "4b89345a-c85f-4913-bd1e-5c67cc788f89",
   "metadata": {},
   "source": [
    "$$Stock(i,t)=Stock(i,t-1)+\\sum_{c,col}CantidadPedir(i,c,t,col)-Demanda(i,t)$$"
   ]
  },
  {
   "cell_type": "code",
   "execution_count": 33,
   "id": "82962da3-51e5-41d5-a9f1-36918b46d14c",
   "metadata": {},
   "outputs": [],
   "source": [
    "for i in model.i:\n",
    "        lhs=model.Stock[i,1]\n",
    "        rhs=model.StockInicial[i]-model.demanda[i,1]+sum(model.CantidadPedir[i,c,1,col] for c in model.c for col in model.col )\n",
    "        model.stocks.add(lhs==rhs)"
   ]
  },
  {
   "cell_type": "code",
   "execution_count": 34,
   "id": "173d8196-22f7-4695-8c8a-1922b5c29a23",
   "metadata": {},
   "outputs": [],
   "source": [
    "for t in list(model.t)[1:]:\n",
    "    for i in model.i:\n",
    "            lhs=model.Stock[i,t]\n",
    "            rhs=model.Stock[i,t-1]-model.demanda[i,t-1]+sum(model.CantidadPedir[i,c,t-1,col] for c in model.c for col in model.col)\n",
    "            model.stocks.add(lhs==rhs)"
   ]
  },
  {
   "cell_type": "code",
   "execution_count": 35,
   "id": "05d94883-746b-4680-9115-cd65cd7b429f",
   "metadata": {},
   "outputs": [],
   "source": [
    "model.RcantidadPedir=pe.ConstraintList()"
   ]
  },
  {
   "cell_type": "markdown",
   "id": "76278bb1-b6f8-4c6f-9d8f-c983266b00b3",
   "metadata": {},
   "source": [
    "$$CantidadPedir2_{i,f,c,t,col}=K(f,c,t,col)*LotePedido(f)*b(i,f)$$"
   ]
  },
  {
   "cell_type": "code",
   "execution_count": 36,
   "id": "01555077-48bd-4a11-ad7d-256c44725d76",
   "metadata": {},
   "outputs": [],
   "source": [
    "for i in model.i:\n",
    "    for f in model.f:\n",
    "        for c in model.c:\n",
    "            for t in model.t:\n",
    "                for col in model.col:\n",
    "                    lhs=model.CantidadPedir2[i,f,c,t,col]\n",
    "                    rhs=model.K[f,c,t,col]*model.LotePedido[f]*model.b[i,f]\n",
    "                    model.RcantidadPedir.add(lhs==rhs)"
   ]
  },
  {
   "cell_type": "code",
   "execution_count": 37,
   "id": "8e74beb7-51cf-44e2-b5c4-bd406b1526bf",
   "metadata": {},
   "outputs": [],
   "source": [
    "model.RcantidadPedir2=pe.ConstraintList()"
   ]
  },
  {
   "cell_type": "markdown",
   "id": "9542afb7-5195-41b8-a516-b659fd00a74d",
   "metadata": {},
   "source": [
    "$$CantidadPedir_{i,c,t,col}= \\sum_f CanitdadPedir2(i,f,c,t,col)$$"
   ]
  },
  {
   "cell_type": "code",
   "execution_count": 38,
   "id": "90e660c5-19e9-4fb3-824c-6588d1ee577d",
   "metadata": {},
   "outputs": [],
   "source": [
    "for i in model.i:\n",
    "    for c in model.c:\n",
    "        for t in model.t:\n",
    "            for col in model.col:\n",
    "                lhs=model.CantidadPedir[i,c,t,col]\n",
    "                rhs=sum(model.CantidadPedir2[i,f,c,t,col] for f in model.f)\n",
    "                model.RcantidadPedir2.add(lhs==rhs)"
   ]
  },
  {
   "cell_type": "code",
   "execution_count": null,
   "id": "cfc9bfa9-ccf0-4430-adab-24bd891132d2",
   "metadata": {},
   "outputs": [],
   "source": []
  },
  {
   "cell_type": "code",
   "execution_count": 39,
   "id": "d6bf0da5-4f2f-4a52-8a2a-df1f172058ab",
   "metadata": {},
   "outputs": [],
   "source": [
    "# model.RContendores=pe.ConstraintList()"
   ]
  },
  {
   "cell_type": "code",
   "execution_count": 40,
   "id": "80eb9004-3a56-42fc-8c6a-20a5db275f08",
   "metadata": {},
   "outputs": [],
   "source": [
    "# for c in model.c:\n",
    "#     for t in model.t:\n",
    "#         for col in model.col:\n",
    "#             for i in model.i:\n",
    "#                 lhs=model.ContenedoresCamion[c,t,col,i]\n",
    "#                 rhs=model.CantidadPedir[i,c,t,col]/model.PiezasCont[i]\n",
    "#                 model.RContendores.add(lhs==rhs)"
   ]
  },
  {
   "cell_type": "code",
   "execution_count": 41,
   "id": "6bd9b17b-a8c1-496f-8932-beed91d88eb6",
   "metadata": {},
   "outputs": [],
   "source": [
    "model.RDimensionesCamion=pe.ConstraintList()"
   ]
  },
  {
   "cell_type": "markdown",
   "id": "49edeb77-d58e-43d5-a2c9-0b6cdf3fdd1d",
   "metadata": {},
   "source": [
    "$$ 1600A_{c,col,t} +1000B_{c,col,t}   \\leq 13000$$"
   ]
  },
  {
   "cell_type": "code",
   "execution_count": 42,
   "id": "13920e0a-7f48-4177-a90a-c0e69e64648f",
   "metadata": {},
   "outputs": [],
   "source": [
    "for c in model.c:\n",
    "    for t in model.t:\n",
    "        for col in model.col:\n",
    "            lhs=13600\n",
    "            rhs=(model.A[c,col,t]*1600+model.B[c,col,t]*1000)*model.Y[c,t]\n",
    "            model.RDimensionesCamion.add(lhs>=rhs)"
   ]
  },
  {
   "cell_type": "code",
   "execution_count": 43,
   "id": "e327728c-f509-4340-b66c-19a743ee6d17",
   "metadata": {},
   "outputs": [],
   "source": [
    "model.RCajasTotales=pe.ConstraintList()"
   ]
  },
  {
   "cell_type": "markdown",
   "id": "15485314-f64b-4db9-841f-a3743ffd1afa",
   "metadata": {},
   "source": [
    "$$ \\sum_i CantidadPedir(i,c,t,col)/PiezasCont(i) \\leq A_{c,col,t}*4+B_{c,col,t}*3 $$"
   ]
  },
  {
   "cell_type": "code",
   "execution_count": 44,
   "id": "c9cf7adb-6b4c-4f0f-8ecd-65e881651242",
   "metadata": {},
   "outputs": [],
   "source": [
    "for c in model.c:\n",
    "    for t in model.t:\n",
    "        for col in model.col:\n",
    "            lhs=sum(model.CantidadPedir[i,c,t,col]/model.PiezasCont[i] for i in model.i)\n",
    "            rhs=(model.A[c,col,t]*4+model.B[c,col,t]*3)*model.Y[c,t]\n",
    "            model.RCajasTotales.add(lhs<=rhs)"
   ]
  },
  {
   "cell_type": "code",
   "execution_count": 45,
   "id": "2c10fa4c-7e07-4358-83c4-07f0b542553a",
   "metadata": {},
   "outputs": [],
   "source": [
    "model.RCajasTipoA=pe.ConstraintList()"
   ]
  },
  {
   "cell_type": "markdown",
   "id": "07829fb9-7383-47e0-a0c5-21ab6d8775f0",
   "metadata": {},
   "source": [
    "$$ \\sum_i CantidadPedir(i,c,t,col)/PiezasCont(i)[tipoA] \\leq A_{c,col,t}*4 $$"
   ]
  },
  {
   "cell_type": "code",
   "execution_count": 46,
   "id": "f45ddf77-3df3-4a21-9ddd-d19d0f80f87d",
   "metadata": {},
   "outputs": [],
   "source": [
    "for c in model.c:\n",
    "    for t in model.t:\n",
    "        for col in model.col:\n",
    "            lhs=sum(model.CantidadPedir[i,c,t,col]/model.PiezasCont[i]*float(int(model.LargoCont[i])==int(1600)) for i in model.i)\n",
    "            rhs=model.A[c,col,t]*4*model.Y[c,t]\n",
    "            model.RCajasTipoA.add(lhs<=rhs)"
   ]
  },
  {
   "cell_type": "code",
   "execution_count": 47,
   "id": "7074250a-752b-44e4-a9d3-efa4947a1d8b",
   "metadata": {},
   "outputs": [],
   "source": [
    "model.RCajasTipoB=pe.ConstraintList()"
   ]
  },
  {
   "cell_type": "code",
   "execution_count": 48,
   "id": "7a45175a-b1db-4ab3-a1bd-c7e61ba29d53",
   "metadata": {},
   "outputs": [],
   "source": [
    "for c in model.c:\n",
    "    for t in model.t:\n",
    "        for col in model.col:\n",
    "            lhs=sum(model.ContenedoresCamion[c,t,col,i]*float(int(model.LargoCont[i])==int(1000)) for i in model.i)\n",
    "            rhs=model.B[c,col,t]*3*model.Y[c,t]\n",
    "            model.RCajasTipoB.add(lhs<=rhs)"
   ]
  },
  {
   "cell_type": "code",
   "execution_count": 49,
   "id": "67223171-4297-46a8-b4ab-7fd0a3a6c557",
   "metadata": {},
   "outputs": [],
   "source": [
    "# model.RDimensionesCamion=pe.ConstraintList()"
   ]
  },
  {
   "cell_type": "code",
   "execution_count": 50,
   "id": "2da9c700-9c62-4829-8837-f1f58fb6a219",
   "metadata": {},
   "outputs": [],
   "source": [
    "# for c in model.c:\n",
    "#     for t in model.t:\n",
    "#         lhs=model.ContenedoresCamion[c,t]\n",
    "#         rhs=model.L*model.Y[c,t]\n",
    "#         model.RDimensionesCamion.add(lhs<=rhs)"
   ]
  },
  {
   "cell_type": "code",
   "execution_count": 51,
   "id": "2896c7d5-1505-4bb6-b8b0-a6b08933bd8e",
   "metadata": {},
   "outputs": [],
   "source": [
    "# model.RLlenado=pe.ConstraintList()\n",
    "# for c in model.c:\n",
    "#     for t in model.t:\n",
    "#         lhs=model.ContenedoresCamion[c,t]\n",
    "#         rhs=model.L*model.nu*model.Y[c,t]\n",
    "#         model.RLlenado.add(lhs>=rhs)"
   ]
  },
  {
   "cell_type": "code",
   "execution_count": null,
   "id": "e92fe4e8-1c87-498b-ac19-3e6b28179e3c",
   "metadata": {},
   "outputs": [],
   "source": []
  },
  {
   "cell_type": "code",
   "execution_count": 52,
   "id": "fdae8c93-f5a9-4aa4-b772-2974f089f8cd",
   "metadata": {},
   "outputs": [],
   "source": [
    "model.RCobertura=pe.ConstraintList()\n",
    "for i in model.i:\n",
    "    for t in range(1,16):\n",
    "        lhs=model.Stock[i,t]\n",
    "        rhs=(model.demanda[i,t+1]+model.demanda[i,t+2]+model.demanda[i,t+3]+model.demanda[i,t+4])\n",
    "        model.RCobertura.add(lhs>=rhs)\n",
    "for i in model.i:\n",
    "    for t in range(16,20):\n",
    "        lhs=model.Stock[i,t]\n",
    "        model.RCobertura.add(lhs>=rhs)"
   ]
  },
  {
   "cell_type": "code",
   "execution_count": 53,
   "id": "9355d322-e790-4a34-aeda-8c028dc594d1",
   "metadata": {},
   "outputs": [],
   "source": [
    "model.bounds=pe.ConstraintList()\n",
    "for i in model.i:\n",
    "    for t in model.t:\n",
    "        model.bounds.add(model.Stock[i,t]>=0)\n"
   ]
  },
  {
   "cell_type": "code",
   "execution_count": 54,
   "id": "e954eeff-bab1-4415-b601-7a7679b6bcc0",
   "metadata": {
    "tags": []
   },
   "outputs": [
    {
     "name": "stdout",
     "output_type": "stream",
     "text": [
      "Set parameter Username\n",
      "Academic license - for non-commercial use only - expires 2022-08-06\n",
      "Read LP format model from file C:\\Users\\juano\\AppData\\Local\\Temp\\tmp08zfk5dp.pyomo.lp\n",
      "Reading time = 0.90 seconds\n",
      "x404416: 356536 rows, 386347 columns, 734716 nonzeros\n",
      "Gurobi Optimizer version 9.5.1 build v9.5.1rc2 (win64)\n",
      "Thread count: 6 physical cores, 12 logical processors, using up to 12 threads\n",
      "Optimize a model with 356536 rows, 386347 columns and 734716 nonzeros\n",
      "Model fingerprint: 0xb8529a63\n",
      "Model has 5928 quadratic constraints\n",
      "Variable types: 286 continuous, 386061 integer (741 binary)\n",
      "Coefficient statistics:\n",
      "  Matrix range     [1e+00, 1e+00]\n",
      "  QMatrix range    [3e+00, 2e+03]\n",
      "  QLMatrix range   [2e-02, 1e+00]\n",
      "  Objective range  [1e+03, 1e+03]\n",
      "  Bounds range     [1e+00, 8e+00]\n",
      "  RHS range        [1e+00, 3e+03]\n",
      "  QRHS range       [1e+04, 1e+04]\n",
      "Presolve removed 352057 rows and 357313 columns\n",
      "Presolve time: 0.27s\n",
      "Presolved: 12903 rows, 31842 columns, 111654 nonzeros\n",
      "Variable types: 0 continuous, 31842 integer (702 binary)\n",
      "\n",
      "Deterministic concurrent LP optimizer: primal and dual simplex\n",
      "Showing first log only...\n",
      "\n",
      "\n",
      "Use crossover to convert LP symmetric solution to basic solution...\n",
      "Concurrent spin time: 0.00s\n",
      "\n",
      "Solved with primal simplex\n",
      "\n",
      "Root relaxation: objective 3.665891e+04, 4613 iterations, 0.07 seconds (0.09 work units)\n",
      "\n",
      "    Nodes    |    Current Node    |     Objective Bounds      |     Work\n",
      " Expl Unexpl |  Obj  Depth IntInf | Incumbent    BestBd   Gap | It/Node Time\n",
      "\n",
      "     0     0 36658.9078    0  124          - 36658.9078      -     -    1s\n",
      "H    0     0                    40000.000000 36658.9078  8.35%     -    1s\n",
      "H    0     0                    39000.000000 36658.9078  6.00%     -    1s\n",
      "H    0     0                    38000.000000 36658.9078  3.53%     -    1s\n",
      "     0     0 36665.7118    0  211 38000.0000 36665.7118  3.51%     -    1s\n",
      "     0     0 36665.7118    0  209 38000.0000 36665.7118  3.51%     -    1s\n",
      "     0     0 36665.7118    0  179 38000.0000 36665.7118  3.51%     -    1s\n",
      "     0     0 38000.0000    0  118 38000.0000 38000.0000  0.00%     -    2s\n",
      "\n",
      "Cutting planes:\n",
      "  Gomory: 1\n",
      "  Implied bound: 98\n",
      "  MIR: 63\n",
      "  Flow cover: 3\n",
      "  Zero half: 8\n",
      "  RLT: 23\n",
      "  Relax-and-lift: 2\n",
      "\n",
      "Explored 1 nodes (22166 simplex iterations) in 2.99 seconds (3.70 work units)\n",
      "Thread count was 12 (of 12 available processors)\n",
      "\n",
      "Solution count 3: 38000 39000 40000 \n",
      "\n",
      "Optimal solution found (tolerance 1.00e-04)\n",
      "Best objective 3.800000000000e+04, best bound 3.800000000000e+04, gap 0.0000%\n"
     ]
    }
   ],
   "source": [
    "solver = po.SolverFactory('gurobi')\n",
    "solver.options[\"MIPFocus\"] = 0\n",
    "\n",
    "results = solver.solve(model, tee=True)"
   ]
  },
  {
   "cell_type": "code",
   "execution_count": 55,
   "id": "5edb9921-3a44-43e9-8b31-f2571b116986",
   "metadata": {},
   "outputs": [],
   "source": [
    "def mean(x):\n",
    "    return sum(x)/len(x)"
   ]
  },
  {
   "cell_type": "code",
   "execution_count": 56,
   "id": "49e6734a-b1a9-4f51-bbb6-be21a51c9354",
   "metadata": {},
   "outputs": [
    {
     "data": {
      "text/plain": [
       "0.9680056661819428"
      ]
     },
     "execution_count": 56,
     "metadata": {},
     "output_type": "execute_result"
    }
   ],
   "source": [
    "utilizacion=0\n",
    "volumen_por_camion=[]\n",
    "for t in model.t:\n",
    "    for c in model.c:\n",
    "        if model.Y[c,t].value==1:\n",
    "            volumen_por_camion.append(((sum(model.CantidadPedir[i,c,t,col].value/model.PiezasCont[i] for i in model.i for col in model.col if int(model.LargoCont[i])==int(1600))*750*1200*1600+\n",
    "                                     +(sum(model.CantidadPedir[i,c,t,col].value/model.PiezasCont[i] for i in model.i for col in model.col if int(model.LargoCont[i])==int(1000)))*1000*1000*1200)/\n",
    "                                     (3000*2400*13600)))\n",
    "volumen_por_camion\n",
    "mean(volumen_por_camion)"
   ]
  },
  {
   "cell_type": "code",
   "execution_count": 57,
   "id": "63f19f4c-ef02-4479-ac90-1172ab745460",
   "metadata": {},
   "outputs": [
    {
     "name": "stdout",
     "output_type": "stream",
     "text": [
      "1 1 7.0 2.0 0.9642602495543672\n",
      "1 1 7.0 2.0 0.9642602495543672\n",
      "2 1 7.0 2.0 0.9852941176470589\n",
      "2 1 6.0 4.0 0.9852941176470589\n",
      "3 1 7.0 2.0 0.9852941176470589\n",
      "3 1 6.0 4.0 0.9852941176470589\n",
      "4 1 7.0 2.0 0.9705882352941176\n",
      "4 1 7.0 2.0 0.9705882352941176\n",
      "5 1 7.0 2.0 0.951797385620915\n",
      "5 1 7.0 2.0 0.951797385620915\n",
      "6 1 7.0 2.0 0.9705882352941176\n",
      "6 1 7.0 2.0 0.9705882352941176\n",
      "7 1 7.0 2.0 0.9847370766488414\n",
      "7 1 6.0 4.0 0.9847370766488414\n",
      "8 1 7.0 2.0 0.9669117647058824\n",
      "8 1 6.0 4.0 0.9669117647058824\n",
      "9 1 6.0 4.0 0.9852941176470589\n",
      "9 1 7.0 2.0 0.9852941176470589\n",
      "10 1 7.0 2.0 0.9522058823529411\n",
      "10 1 7.0 2.0 0.9522058823529411\n",
      "11 1 7.0 2.0 0.9705882352941176\n",
      "11 1 7.0 2.0 0.9705882352941176\n",
      "12 1 7.0 2.0 0.9705882352941176\n",
      "12 1 7.0 2.0 0.9705882352941176\n",
      "13 1 7.0 2.0 0.9705882352941176\n",
      "13 1 7.0 2.0 0.9705882352941176\n",
      "14 1 7.0 2.0 0.9705882352941176\n",
      "14 1 7.0 2.0 0.9705882352941176\n",
      "15 1 7.0 2.0 0.9705882352941176\n",
      "15 1 7.0 2.0 0.9705882352941176\n",
      "16 1 6.0 4.0 0.9995766488413548\n",
      "16 1 6.0 4.0 0.9995766488413548\n",
      "17 1 6.0 4.0 0.9852941176470589\n",
      "17 1 7.0 2.0 0.9852941176470589\n",
      "18 1 7.0 2.0 0.9705882352941176\n",
      "18 1 7.0 2.0 0.9705882352941176\n",
      "19 1 7.0 2.0 0.9705882352941176\n",
      "19 1 7.0 2.0 0.9705882352941176\n",
      "20 1 7.0 2.0 0.932843137254902\n",
      "20 1 7.0 2.0 0.932843137254902\n",
      "21 1 7.0 2.0 0.9705882352941176\n",
      "21 1 7.0 2.0 0.9705882352941176\n",
      "22 1 7.0 2.0 0.9705882352941176\n",
      "22 1 7.0 2.0 0.9705882352941176\n",
      "23 1 7.0 2.0 0.9829991087344029\n",
      "23 1 6.0 4.0 0.9829991087344029\n",
      "24 1 7.0 2.0 0.9705882352941176\n",
      "24 1 7.0 2.0 0.9705882352941176\n",
      "25 1 7.0 2.0 0.9705882352941176\n",
      "25 1 7.0 2.0 0.9705882352941176\n",
      "26 1 7.0 2.0 0.9338235294117647\n",
      "26 1 7.0 2.0 0.9338235294117647\n",
      "27 1 7.0 2.0 0.9554812834224599\n",
      "27 1 7.0 2.0 0.9554812834224599\n",
      "28 1 7.0 2.0 0.9404616013071896\n",
      "28 1 7.0 2.0 0.9404616013071896\n",
      "29 1 7.0 2.0 0.970343137254902\n",
      "29 1 7.0 2.0 0.970343137254902\n",
      "30 1 6.0 4.0 0.9852941176470589\n",
      "30 1 7.0 2.0 0.9852941176470589\n",
      "31 1 7.0 2.0 0.9852941176470589\n",
      "31 1 6.0 4.0 0.9852941176470589\n",
      "33 1 7.0 2.0 0.9705882352941176\n",
      "33 1 7.0 2.0 0.9705882352941176\n",
      "34 1 7.0 2.0 0.9338235294117647\n",
      "34 1 7.0 2.0 0.9338235294117647\n",
      "35 1 7.0 2.0 0.9338235294117647\n",
      "35 1 7.0 2.0 0.9338235294117647\n",
      "36 1 7.0 2.0 0.9698529411764706\n",
      "36 1 7.0 2.0 0.9698529411764706\n",
      "37 1 7.0 2.0 0.9705882352941176\n",
      "37 1 7.0 2.0 0.9705882352941176\n",
      "38 1 7.0 2.0 0.9705882352941176\n",
      "38 1 7.0 2.0 0.9705882352941176\n",
      "39 1 7.0 2.0 0.9700980392156863\n",
      "39 1 7.0 2.0 0.9700980392156863\n"
     ]
    }
   ],
   "source": [
    "for t in model.t:\n",
    "    for c in model.c:\n",
    "        for col in model.col:\n",
    "            if model.Y[c,t].value==1:\n",
    "                print(c,t,model.A[c,col,t].value,model.B[c,col,t].value,((sum(model.CantidadPedir[i,c,t,col].value/model.PiezasCont[i] for i in model.i for col in model.col if int(model.LargoCont[i])==int(1600))*750*1200*1600+\n",
    "                                     +(sum(model.CantidadPedir[i,c,t,col].value/model.PiezasCont[i] for i in model.i for col in model.col if int(model.LargoCont[i])==int(1000)))*1000*1000*1200)/\n",
    "                                     (3000*2400*13600)))"
   ]
  },
  {
   "cell_type": "code",
   "execution_count": null,
   "id": "7d7a6cbf-bb23-4cca-946a-69ac53a8dd08",
   "metadata": {},
   "outputs": [],
   "source": []
  },
  {
   "cell_type": "code",
   "execution_count": null,
   "id": "c9519392-2e9f-46e5-bb00-e7ff8a7f2c8a",
   "metadata": {},
   "outputs": [],
   "source": []
  },
  {
   "cell_type": "code",
   "execution_count": null,
   "id": "5f05379e-ae03-4fac-ad83-22893ff1a1f3",
   "metadata": {},
   "outputs": [],
   "source": []
  },
  {
   "cell_type": "code",
   "execution_count": 58,
   "id": "d16a462d-a2a9-47a5-b1ff-062d41c209d9",
   "metadata": {},
   "outputs": [
    {
     "data": {
      "text/plain": [
       "1000"
      ]
     },
     "execution_count": 58,
     "metadata": {},
     "output_type": "execute_result"
    }
   ],
   "source": [
    "int(model.LargoCont[14])"
   ]
  },
  {
   "cell_type": "code",
   "execution_count": null,
   "id": "bc0dd6ad-4f70-4e3a-b9ce-53fd974e6287",
   "metadata": {},
   "outputs": [],
   "source": []
  },
  {
   "cell_type": "code",
   "execution_count": 59,
   "id": "acfcd42b-9220-4232-a412-d56ff37467e5",
   "metadata": {},
   "outputs": [
    {
     "ename": "TypeError",
     "evalue": "cannot unpack non-iterable int object",
     "output_type": "error",
     "traceback": [
      "\u001b[1;31m---------------------------------------------------------------------------\u001b[0m",
      "\u001b[1;31mTypeError\u001b[0m                                 Traceback (most recent call last)",
      "Input \u001b[1;32mIn [59]\u001b[0m, in \u001b[0;36m<cell line: 1>\u001b[1;34m()\u001b[0m\n\u001b[1;32m----> 1\u001b[0m \u001b[38;5;28;01mfor\u001b[39;00m i,v \u001b[38;5;129;01min\u001b[39;00m model\u001b[38;5;241m.\u001b[39mLargoCont:\n\u001b[0;32m      2\u001b[0m     \u001b[38;5;28mprint\u001b[39m(i)\n",
      "\u001b[1;31mTypeError\u001b[0m: cannot unpack non-iterable int object"
     ]
    }
   ],
   "source": [
    "for i,v in model.LargoCont:\n",
    "    print(i)"
   ]
  },
  {
   "cell_type": "code",
   "execution_count": null,
   "id": "e2c9b24a-b02c-48ed-a521-c6e3c6149bee",
   "metadata": {},
   "outputs": [],
   "source": []
  },
  {
   "cell_type": "code",
   "execution_count": null,
   "id": "8f8c464d-433a-4da3-8846-c517cbec5988",
   "metadata": {},
   "outputs": [],
   "source": []
  },
  {
   "cell_type": "code",
   "execution_count": null,
   "id": "8b53b8fa-7b4d-4629-b361-b1c66e9264ee",
   "metadata": {},
   "outputs": [],
   "source": []
  },
  {
   "cell_type": "code",
   "execution_count": null,
   "id": "fb35ef05-0c26-47cc-80a8-7f5479e998db",
   "metadata": {},
   "outputs": [],
   "source": []
  }
 ],
 "metadata": {
  "kernelspec": {
   "display_name": "Python 3 (ipykernel)",
   "language": "python",
   "name": "python3"
  },
  "language_info": {
   "codemirror_mode": {
    "name": "ipython",
    "version": 3
   },
   "file_extension": ".py",
   "mimetype": "text/x-python",
   "name": "python",
   "nbconvert_exporter": "python",
   "pygments_lexer": "ipython3",
   "version": "3.8.10"
  }
 },
 "nbformat": 4,
 "nbformat_minor": 5
}
