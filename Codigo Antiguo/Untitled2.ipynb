{
 "cells": [
  {
   "cell_type": "code",
   "execution_count": 1,
   "id": "ae385e5f-b847-48ae-9083-b20fec68dfab",
   "metadata": {},
   "outputs": [],
   "source": [
    "import itertools\n",
    "import traceback\n",
    "\n",
    "import networkx as nx\n",
    "import numpy as np\n",
    "import pandas as pd\n",
    "import pyomo.environ as pe"
   ]
  },
  {
   "cell_type": "code",
   "execution_count": 4,
   "id": "68493c8e-e383-4b44-bdb3-909d503f39d8",
   "metadata": {},
   "outputs": [
    {
     "data": {
      "image/png": "[encoded data removed]",
      "text/plain": [
       "<Figure size 432x288 with 1 Axes>"
      ]
     },
     "metadata": {},
     "output_type": "display_data"
    }
   ],
   "source": [
    "N = 6\n",
    "p = 0.50\n",
    "graph = nx.erdos_renyi_graph(N, p, seed=42, directed=True)\n",
    "nx.draw_networkx(graph)"
   ]
  },
  {
   "cell_type": "code",
   "execution_count": null,
   "id": "23cd7b74-22ad-4371-8b53-dae2e26ad065",
   "metadata": {},
   "outputs": [],
   "source": [
    "N = 6\n",
    "p = 0.50\n",
    "graph = nx.erdos_renyi_graph(N, p, seed=42, directed=True)\n",
    "nx.draw_networkx(graph)"
   ]
  },
  {
   "cell_type": "code",
   "execution_count": 6,
   "id": "18d5abf1-ac3e-4441-b186-3054893e9f53",
   "metadata": {},
   "outputs": [
    {
     "data": {
      "text/html": [
       "<div>\n",
       "<style scoped>\n",
       "    .dataframe tbody tr th:only-of-type {\n",
       "        vertical-align: middle;\n",
       "    }\n",
       "\n",
       "    .dataframe tbody tr th {\n",
       "        vertical-align: top;\n",
       "    }\n",
       "\n",
       "    .dataframe thead th {\n",
       "        text-align: right;\n",
       "    }\n",
       "</style>\n",
       "<table border=\"1\" class=\"dataframe\">\n",
       "  <thead>\n",
       "    <tr style=\"text-align: right;\">\n",
       "      <th></th>\n",
       "      <th></th>\n",
       "      <th>weight</th>\n",
       "    </tr>\n",
       "    <tr>\n",
       "      <th>i</th>\n",
       "      <th>j</th>\n",
       "      <th></th>\n",
       "    </tr>\n",
       "  </thead>\n",
       "  <tbody>\n",
       "    <tr>\n",
       "      <th rowspan=\"3\" valign=\"top\">0</th>\n",
       "      <th>2</th>\n",
       "      <td>2</td>\n",
       "    </tr>\n",
       "    <tr>\n",
       "      <th>3</th>\n",
       "      <td>1</td>\n",
       "    </tr>\n",
       "    <tr>\n",
       "      <th>4</th>\n",
       "      <td>1</td>\n",
       "    </tr>\n",
       "    <tr>\n",
       "      <th rowspan=\"3\" valign=\"top\">1</th>\n",
       "      <th>3</th>\n",
       "      <td>3</td>\n",
       "    </tr>\n",
       "    <tr>\n",
       "      <th>4</th>\n",
       "      <td>1</td>\n",
       "    </tr>\n",
       "    <tr>\n",
       "      <th>5</th>\n",
       "      <td>1</td>\n",
       "    </tr>\n",
       "    <tr>\n",
       "      <th rowspan=\"3\" valign=\"top\">2</th>\n",
       "      <th>0</th>\n",
       "      <td>2</td>\n",
       "    </tr>\n",
       "    <tr>\n",
       "      <th>3</th>\n",
       "      <td>3</td>\n",
       "    </tr>\n",
       "    <tr>\n",
       "      <th>4</th>\n",
       "      <td>1</td>\n",
       "    </tr>\n",
       "    <tr>\n",
       "      <th rowspan=\"2\" valign=\"top\">3</th>\n",
       "      <th>1</th>\n",
       "      <td>2</td>\n",
       "    </tr>\n",
       "    <tr>\n",
       "      <th>5</th>\n",
       "      <td>4</td>\n",
       "    </tr>\n",
       "    <tr>\n",
       "      <th rowspan=\"2\" valign=\"top\">4</th>\n",
       "      <th>2</th>\n",
       "      <td>1</td>\n",
       "    </tr>\n",
       "    <tr>\n",
       "      <th>3</th>\n",
       "      <td>1</td>\n",
       "    </tr>\n",
       "    <tr>\n",
       "      <th rowspan=\"3\" valign=\"top\">5</th>\n",
       "      <th>0</th>\n",
       "      <td>1</td>\n",
       "    </tr>\n",
       "    <tr>\n",
       "      <th>1</th>\n",
       "      <td>1</td>\n",
       "    </tr>\n",
       "    <tr>\n",
       "      <th>2</th>\n",
       "      <td>6</td>\n",
       "    </tr>\n",
       "  </tbody>\n",
       "</table>\n",
       "</div>"
      ],
      "text/plain": [
       "     weight\n",
       "i j        \n",
       "0 2       2\n",
       "  3       1\n",
       "  4       1\n",
       "1 3       3\n",
       "  4       1\n",
       "  5       1\n",
       "2 0       2\n",
       "  3       3\n",
       "  4       1\n",
       "3 1       2\n",
       "  5       4\n",
       "4 2       1\n",
       "  3       1\n",
       "5 0       1\n",
       "  1       1\n",
       "  2       6"
      ]
     },
     "metadata": {},
     "output_type": "display_data"
    }
   ],
   "source": [
    "data = {}\n",
    "np.random.seed(100)\n",
    "for edge in graph.edges():\n",
    "    data[edge] = {'weight': np.random.geometric(0.5)}\n",
    "df = pd.DataFrame.from_dict(data, orient='index')\n",
    "df.index.names = ['i', 'j']\n",
    "display(df)"
   ]
  },
  {
   "cell_type": "code",
   "execution_count": 7,
   "id": "77427f6c-b168-49df-9c57-6c9fd2950259",
   "metadata": {},
   "outputs": [
    {
     "data": {
      "text/html": [
       "<div>\n",
       "<style scoped>\n",
       "    .dataframe tbody tr th:only-of-type {\n",
       "        vertical-align: middle;\n",
       "    }\n",
       "\n",
       "    .dataframe tbody tr th {\n",
       "        vertical-align: top;\n",
       "    }\n",
       "\n",
       "    .dataframe thead th {\n",
       "        text-align: right;\n",
       "    }\n",
       "</style>\n",
       "<table border=\"1\" class=\"dataframe\">\n",
       "  <thead>\n",
       "    <tr style=\"text-align: right;\">\n",
       "      <th>j</th>\n",
       "      <th>0</th>\n",
       "      <th>1</th>\n",
       "      <th>2</th>\n",
       "      <th>3</th>\n",
       "      <th>4</th>\n",
       "      <th>5</th>\n",
       "    </tr>\n",
       "    <tr>\n",
       "      <th>i</th>\n",
       "      <th></th>\n",
       "      <th></th>\n",
       "      <th></th>\n",
       "      <th></th>\n",
       "      <th></th>\n",
       "      <th></th>\n",
       "    </tr>\n",
       "  </thead>\n",
       "  <tbody>\n",
       "    <tr>\n",
       "      <th>0</th>\n",
       "      <td>NaN</td>\n",
       "      <td>NaN</td>\n",
       "      <td>2.0</td>\n",
       "      <td>1.0</td>\n",
       "      <td>1.0</td>\n",
       "      <td>NaN</td>\n",
       "    </tr>\n",
       "    <tr>\n",
       "      <th>1</th>\n",
       "      <td>NaN</td>\n",
       "      <td>NaN</td>\n",
       "      <td>NaN</td>\n",
       "      <td>3.0</td>\n",
       "      <td>1.0</td>\n",
       "      <td>1.0</td>\n",
       "    </tr>\n",
       "    <tr>\n",
       "      <th>2</th>\n",
       "      <td>2.0</td>\n",
       "      <td>NaN</td>\n",
       "      <td>NaN</td>\n",
       "      <td>3.0</td>\n",
       "      <td>1.0</td>\n",
       "      <td>NaN</td>\n",
       "    </tr>\n",
       "    <tr>\n",
       "      <th>3</th>\n",
       "      <td>NaN</td>\n",
       "      <td>2.0</td>\n",
       "      <td>NaN</td>\n",
       "      <td>NaN</td>\n",
       "      <td>NaN</td>\n",
       "      <td>4.0</td>\n",
       "    </tr>\n",
       "    <tr>\n",
       "      <th>4</th>\n",
       "      <td>NaN</td>\n",
       "      <td>NaN</td>\n",
       "      <td>1.0</td>\n",
       "      <td>1.0</td>\n",
       "      <td>NaN</td>\n",
       "      <td>NaN</td>\n",
       "    </tr>\n",
       "    <tr>\n",
       "      <th>5</th>\n",
       "      <td>1.0</td>\n",
       "      <td>1.0</td>\n",
       "      <td>6.0</td>\n",
       "      <td>NaN</td>\n",
       "      <td>NaN</td>\n",
       "      <td>NaN</td>\n",
       "    </tr>\n",
       "  </tbody>\n",
       "</table>\n",
       "</div>"
      ],
      "text/plain": [
       "j    0    1    2    3    4    5\n",
       "i                              \n",
       "0  NaN  NaN  2.0  1.0  1.0  NaN\n",
       "1  NaN  NaN  NaN  3.0  1.0  1.0\n",
       "2  2.0  NaN  NaN  3.0  1.0  NaN\n",
       "3  NaN  2.0  NaN  NaN  NaN  4.0\n",
       "4  NaN  NaN  1.0  1.0  NaN  NaN\n",
       "5  1.0  1.0  6.0  NaN  NaN  NaN"
      ]
     },
     "metadata": {},
     "output_type": "display_data"
    }
   ],
   "source": [
    "df_cost = df['weight'].reset_index()\\\n",
    "                      .pivot(index='i', columns='j', values='weight')\\\n",
    "                    .  reindex(index=graph.nodes(), columns=graph.nodes())\n",
    "display(df_cost)"
   ]
  },
  {
   "cell_type": "code",
   "execution_count": 8,
   "id": "081677fc-d82b-4f07-96fc-4374d3d52e50",
   "metadata": {},
   "outputs": [
    {
     "name": "stdout",
     "output_type": "stream",
     "text": [
      "WARNING: Initializing ordered Set nodes with a fundamentally unordered data\n",
      "    source (type: set).  This WILL potentially lead to nondeterministic\n",
      "    behavior in Pyomo\n"
     ]
    }
   ],
   "source": [
    "nodes = set(itertools.chain(*df.index))\n",
    "\n",
    "model = pe.ConcreteModel()\n",
    "model.nodes = pe.Set(initialize=nodes)\n",
    "# initialize as Cartesian product of node set with itself\n",
    "model.edges = pe.Set(initialize=model.nodes*model.nodes)"
   ]
  },
  {
   "cell_type": "code",
   "execution_count": 13,
   "id": "a7341ae5-04bf-4e40-82bb-072544f0ce62",
   "metadata": {},
   "outputs": [
    {
     "name": "stdout",
     "output_type": "stream",
     "text": [
      "WARNING: Initializing ordered Set nodes with a fundamentally unordered data\n",
      "    source (type: set).  This WILL potentially lead to nondeterministic\n",
      "    behavior in Pyomo\n"
     ]
    },
    {
     "data": {
      "text/plain": [
       "0"
      ]
     },
     "execution_count": 13,
     "metadata": {},
     "output_type": "execute_result"
    }
   ],
   "source": [
    "nodes = set(itertools.chain(*df.index))\n",
    "\n",
    "model = pe.ConcreteModel()\n",
    "model.nodes = pe.Set(initialize=nodes)\n",
    "# declare as a subset of the Cartesian product\n",
    "model.edges = pe.Set(within=model.nodes*model.nodes)\n",
    "\n",
    "len(model.edges)"
   ]
  },
  {
   "cell_type": "code",
   "execution_count": 16,
   "id": "13c32c92-2655-434f-9c18-ea2d86f13aeb",
   "metadata": {},
   "outputs": [
    {
     "name": "stdout",
     "output_type": "stream",
     "text": [
      "WARNING: Initializing ordered Set nodes with a fundamentally unordered data\n",
      "    source (type: set).  This WILL potentially lead to nondeterministic\n",
      "    behavior in Pyomo\n"
     ]
    }
   ],
   "source": [
    "nodes = set(itertools.chain(*df.index))\n",
    "edges = set(df.index)\n",
    "\n",
    "\n",
    "model = pe.ConcreteModel()\n",
    "model.nodes = pe.Set(initialize=nodes)\n",
    "# declare as a subset of the Cartesian product, initialize as DataFrame index\n",
    "model.edges = pe.Set(within=model.nodes*model.nodes, initialize=edges)"
   ]
  },
  {
   "cell_type": "code",
   "execution_count": 17,
   "id": "9c3855a9-dec0-49bf-b5e7-39ab5ccf4ceb",
   "metadata": {},
   "outputs": [
    {
     "data": {
      "text/plain": [
       "16"
      ]
     },
     "execution_count": 17,
     "metadata": {},
     "output_type": "execute_result"
    }
   ],
   "source": [
    "len(model.edges)"
   ]
  },
  {
   "cell_type": "code",
   "execution_count": 18,
   "id": "5b3713d0-f2db-4080-b4a1-c3fcebf6b6b4",
   "metadata": {},
   "outputs": [
    {
     "data": {
      "text/plain": [
       "{(0, 2): 2.0,\n",
       " (0, 3): 1.0,\n",
       " (0, 4): 1.0,\n",
       " (1, 3): 3.0,\n",
       " (1, 4): 1.0,\n",
       " (1, 5): 1.0,\n",
       " (2, 0): 2.0,\n",
       " (2, 3): 3.0,\n",
       " (2, 4): 1.0,\n",
       " (3, 1): 2.0,\n",
       " (3, 5): 4.0,\n",
       " (4, 2): 1.0,\n",
       " (4, 3): 1.0,\n",
       " (5, 0): 1.0,\n",
       " (5, 1): 1.0,\n",
       " (5, 2): 6.0}"
      ]
     },
     "execution_count": 18,
     "metadata": {},
     "output_type": "execute_result"
    }
   ],
   "source": [
    "df_cost.stack().to_dict()"
   ]
  },
  {
   "cell_type": "code",
   "execution_count": 21,
   "id": "78cf4a68-9dab-45eb-bc56-469de0cc2f17",
   "metadata": {},
   "outputs": [
    {
     "name": "stdout",
     "output_type": "stream",
     "text": [
      "WARNING: Initializing ordered Set nodes with a fundamentally unordered data\n",
      "    source (type: set).  This WILL potentially lead to nondeterministic\n",
      "    behavior in Pyomo\n"
     ]
    },
    {
     "data": {
      "text/plain": [
       "{(0, 2): 2.0,\n",
       " (0, 3): 1.0,\n",
       " (0, 4): 1.0,\n",
       " (1, 3): 3.0,\n",
       " (1, 4): 1.0,\n",
       " (1, 5): 1.0,\n",
       " (2, 0): 2.0,\n",
       " (2, 3): 3.0,\n",
       " (2, 4): 1.0,\n",
       " (3, 1): 2.0,\n",
       " (3, 5): 4.0,\n",
       " (4, 2): 1.0,\n",
       " (4, 3): 1.0,\n",
       " (5, 0): 1.0,\n",
       " (5, 1): 1.0,\n",
       " (5, 2): 6.0}"
      ]
     },
     "execution_count": 21,
     "metadata": {},
     "output_type": "execute_result"
    }
   ],
   "source": [
    "nodes = set(itertools.chain(*df.index))\n",
    "\n",
    "model = pe.ConcreteModel()\n",
    "model.nodes = pe.Set(initialize=nodes)\n",
    "model.edges = pe.Set(within=model.nodes*model.nodes, initialize=df.index)\n",
    "# build parameter from table data (nodes * nodes)\n",
    "model.cost = pe.Param(model.edges, initialize=df_cost.stack().to_dict())\n",
    "df_cost.stack().to_dict()\n",
    "nodes = set(itertools.chain(*df.index))\n",
    "dict(model.cost)"
   ]
  },
  {
   "cell_type": "code",
   "execution_count": 20,
   "id": "1cef44f8-a976-45fc-9f4d-af00f8259dc9",
   "metadata": {},
   "outputs": [
    {
     "name": "stdout",
     "output_type": "stream",
     "text": [
      "WARNING: Initializing ordered Set nodes with a fundamentally unordered data\n",
      "    source (type: set).  This WILL potentially lead to nondeterministic\n",
      "    behavior in Pyomo\n",
      "WARNING: Initializing ordered Set nodes with a fundamentally unordered data\n",
      "    source (type: set).  This WILL potentially lead to nondeterministic\n",
      "    behavior in Pyomo\n"
     ]
    },
    {
     "data": {
      "text/plain": [
       "{(0, 2): 2,\n",
       " (0, 3): 1,\n",
       " (0, 4): 1,\n",
       " (1, 3): 3,\n",
       " (1, 4): 1,\n",
       " (1, 5): 1,\n",
       " (2, 0): 2,\n",
       " (2, 3): 3,\n",
       " (2, 4): 1,\n",
       " (3, 1): 2,\n",
       " (3, 5): 4,\n",
       " (4, 2): 1,\n",
       " (4, 3): 1,\n",
       " (5, 0): 1,\n",
       " (5, 1): 1,\n",
       " (5, 2): 6}"
      ]
     },
     "execution_count": 20,
     "metadata": {},
     "output_type": "execute_result"
    }
   ],
   "source": [
    "model = pe.ConcreteModel()\n",
    "model.nodes = pe.Set(initialize=nodes)\n",
    "model.edges = pe.Set(within=model.nodes*model.nodes, initialize=df.index)\n",
    "# build parameter from flattened data indexed by edge set\n",
    "model.cost = pe.Param(model.edges, initialize=df['weight'].to_dict())\n",
    "df['weight'].to_dict()\n",
    "dict(model.cost)"
   ]
  },
  {
   "cell_type": "code",
   "execution_count": 22,
   "id": "64b6d470-e9f4-4c59-868b-1034a9985181",
   "metadata": {},
   "outputs": [
    {
     "data": {
      "text/html": [
       "<div>\n",
       "<style scoped>\n",
       "    .dataframe tbody tr th:only-of-type {\n",
       "        vertical-align: middle;\n",
       "    }\n",
       "\n",
       "    .dataframe tbody tr th {\n",
       "        vertical-align: top;\n",
       "    }\n",
       "\n",
       "    .dataframe thead th {\n",
       "        text-align: right;\n",
       "    }\n",
       "</style>\n",
       "<table border=\"1\" class=\"dataframe\">\n",
       "  <thead>\n",
       "    <tr style=\"text-align: right;\">\n",
       "      <th></th>\n",
       "      <th></th>\n",
       "      <th>weight</th>\n",
       "    </tr>\n",
       "    <tr>\n",
       "      <th>i</th>\n",
       "      <th>j</th>\n",
       "      <th></th>\n",
       "    </tr>\n",
       "  </thead>\n",
       "  <tbody>\n",
       "    <tr>\n",
       "      <th rowspan=\"3\" valign=\"top\">0</th>\n",
       "      <th>2</th>\n",
       "      <td>2</td>\n",
       "    </tr>\n",
       "    <tr>\n",
       "      <th>3</th>\n",
       "      <td>1</td>\n",
       "    </tr>\n",
       "    <tr>\n",
       "      <th>4</th>\n",
       "      <td>1</td>\n",
       "    </tr>\n",
       "    <tr>\n",
       "      <th rowspan=\"3\" valign=\"top\">1</th>\n",
       "      <th>3</th>\n",
       "      <td>3</td>\n",
       "    </tr>\n",
       "    <tr>\n",
       "      <th>4</th>\n",
       "      <td>1</td>\n",
       "    </tr>\n",
       "    <tr>\n",
       "      <th>5</th>\n",
       "      <td>1</td>\n",
       "    </tr>\n",
       "    <tr>\n",
       "      <th rowspan=\"3\" valign=\"top\">2</th>\n",
       "      <th>0</th>\n",
       "      <td>2</td>\n",
       "    </tr>\n",
       "    <tr>\n",
       "      <th>3</th>\n",
       "      <td>3</td>\n",
       "    </tr>\n",
       "    <tr>\n",
       "      <th>4</th>\n",
       "      <td>1</td>\n",
       "    </tr>\n",
       "    <tr>\n",
       "      <th rowspan=\"2\" valign=\"top\">3</th>\n",
       "      <th>1</th>\n",
       "      <td>2</td>\n",
       "    </tr>\n",
       "    <tr>\n",
       "      <th>5</th>\n",
       "      <td>4</td>\n",
       "    </tr>\n",
       "    <tr>\n",
       "      <th rowspan=\"2\" valign=\"top\">4</th>\n",
       "      <th>2</th>\n",
       "      <td>1</td>\n",
       "    </tr>\n",
       "    <tr>\n",
       "      <th>3</th>\n",
       "      <td>1</td>\n",
       "    </tr>\n",
       "    <tr>\n",
       "      <th rowspan=\"3\" valign=\"top\">5</th>\n",
       "      <th>0</th>\n",
       "      <td>1</td>\n",
       "    </tr>\n",
       "    <tr>\n",
       "      <th>1</th>\n",
       "      <td>1</td>\n",
       "    </tr>\n",
       "    <tr>\n",
       "      <th>2</th>\n",
       "      <td>6</td>\n",
       "    </tr>\n",
       "  </tbody>\n",
       "</table>\n",
       "</div>"
      ],
      "text/plain": [
       "     weight\n",
       "i j        \n",
       "0 2       2\n",
       "  3       1\n",
       "  4       1\n",
       "1 3       3\n",
       "  4       1\n",
       "  5       1\n",
       "2 0       2\n",
       "  3       3\n",
       "  4       1\n",
       "3 1       2\n",
       "  5       4\n",
       "4 2       1\n",
       "  3       1\n",
       "5 0       1\n",
       "  1       1\n",
       "  2       6"
      ]
     },
     "execution_count": 22,
     "metadata": {},
     "output_type": "execute_result"
    }
   ],
   "source": [
    "df"
   ]
  },
  {
   "cell_type": "code",
   "execution_count": null,
   "id": "989f6b1e-0eca-46e3-b4ae-c09c37876360",
   "metadata": {},
   "outputs": [],
   "source": []
  }
 ],
 "metadata": {
  "kernelspec": {
   "display_name": "Python 3 (ipykernel)",
   "language": "python",
   "name": "python3"
  },
  "language_info": {
   "codemirror_mode": {
    "name": "ipython",
    "version": 3
   },
   "file_extension": ".py",
   "mimetype": "text/x-python",
   "name": "python",
   "nbconvert_exporter": "python",
   "pygments_lexer": "ipython3",
   "version": "3.8.13"
  }
 },
 "nbformat": 4,
 "nbformat_minor": 5
}
