{
 "cells": [
  {
   "cell_type": "code",
   "execution_count": 1,
   "id": "e42650f7-d9b6-45a8-b68c-76ae8f92e009",
   "metadata": {
    "pycharm": {
     "name": "#%%\n"
    }
   },
   "outputs": [],
   "source": [
    "import pyodbc\n",
    "import pandas as pd\n",
    "import pyomo.environ as pe\n",
    "import pyomo.opt as po\n",
    "model = pe.ConcreteModel(\"Cargacamiones\")\n",
    "import random\n",
    "random.seed(0)"
   ]
  },
  {
   "cell_type": "code",
   "execution_count": 2,
   "id": "b8fa57e5-a2fb-4af9-8ef3-3624a71f3b1d",
   "metadata": {
    "pycharm": {
     "name": "#%%\n"
    }
   },
   "outputs": [],
   "source": [
    "path=r\"C:\\Users\\juano\\Documents\\pyomcamiones\\Carga de camiones\\Transporte_cubicaje.mdb\"\n",
    "conn = pyodbc.connect('Driver={Microsoft Access Driver (*.mdb, *.accdb)};DBQ='+path+';')\n",
    "cursor = conn.cursor()"
   ]
  },
  {
   "cell_type": "markdown",
   "id": "90368ebb-04b7-4902-9262-c9170e9c357a",
   "metadata": {
    "pycharm": {
     "name": "#%% md\n"
    }
   },
   "source": [
    "Familias Carga de datos"
   ]
  },
  {
   "cell_type": "code",
   "execution_count": 3,
   "id": "4cec6228-3dcb-4b33-82c2-6f7a31f7dee8",
   "metadata": {
    "pycharm": {
     "name": "#%%\n"
    }
   },
   "outputs": [],
   "source": [
    "cursor.execute('select IdProducto from Productos')\n",
    "productos=[]\n",
    "for row in cursor.fetchall():\n",
    "    productos.append(row[0])"
   ]
  },
  {
   "cell_type": "code",
   "execution_count": 4,
   "id": "1729c2ef-9b05-47de-8bb3-00b4c5f6eeaa",
   "metadata": {
    "pycharm": {
     "name": "#%%\n"
    }
   },
   "outputs": [],
   "source": [
    "cursor.execute('select IdFamilia from Familias')\n",
    "familias=[]\n",
    "for row in cursor.fetchall():\n",
    "    familias.append(row[0])"
   ]
  },
  {
   "cell_type": "code",
   "execution_count": 5,
   "id": "67d24c87-6a45-4b11-9a79-ca590c00db10",
   "metadata": {
    "pycharm": {
     "name": "#%%\n"
    }
   },
   "outputs": [],
   "source": [
    "cursor.execute('select IdCamion from Camiones WHERE IdCamion<4')\n",
    "camiones=[]\n",
    "for i in range(1,9):\n",
    "    camiones.append(i)"
   ]
  },
  {
   "cell_type": "code",
   "execution_count": 6,
   "id": "b146f205-9229-4c16-8c3b-b7c6fa6030c1",
   "metadata": {
    "pycharm": {
     "name": "#%%\n"
    }
   },
   "outputs": [],
   "source": [
    "cursor.execute('select IdDia from Dias WHERE \"IdDia\"<=19')\n",
    "dias=[]\n",
    "for row in cursor.fetchall():\n",
    "    dias.append(row[0])\n",
    "        "
   ]
  },
  {
   "cell_type": "code",
   "execution_count": 7,
   "id": "a819db32-4ace-44cc-8422-436a1943c34d",
   "metadata": {
    "pycharm": {
     "name": "#%%\n"
    }
   },
   "outputs": [],
   "source": [
    "cursor.execute('select IdDia from Dias')\n",
    "dias1=[]\n",
    "for row in cursor.fetchall():\n",
    "    dias1.append(row[0])\n",
    "\n"
   ]
  },
  {
   "cell_type": "code",
   "execution_count": 8,
   "id": "07399b98-4597-43ce-97d2-e4354d17b914",
   "metadata": {
    "pycharm": {
     "name": "#%%\n"
    }
   },
   "outputs": [],
   "source": [
    "columnas=[1,2]\n",
    "A1=[6,7]\n",
    "B1=[4,2]"
   ]
  },
  {
   "cell_type": "markdown",
   "id": "45f4435a-4da6-4a13-b895-945c4f2e2f48",
   "metadata": {
    "pycharm": {
     "name": "#%% md\n"
    }
   },
   "source": [
    "## Familias Pyomo"
   ]
  },
  {
   "cell_type": "code",
   "execution_count": 9,
   "id": "62d43fd4-f804-4e33-8960-4f0123a03598",
   "metadata": {
    "pycharm": {
     "name": "#%%\n"
    }
   },
   "outputs": [],
   "source": [
    "model.i = pe.Set(initialize=productos)\n",
    "model.f = pe.Set(initialize=familias)\n",
    "model.c = pe.Set(initialize=camiones)\n",
    "model.t = pe.Set(initialize=dias)\n",
    "model.t1 = pe.Set(initialize=dias1)\n",
    "model.col=pe.Set(initialize=columnas)\n",
    "model.A1=pe.Set(initialize=A1)\n",
    "model.B1=pe.Set(initialize=B1)"
   ]
  },
  {
   "cell_type": "markdown",
   "id": "56854c70-cd27-4926-ae52-ab188ae1680d",
   "metadata": {
    "pycharm": {
     "name": "#%% md\n"
    }
   },
   "source": [
    "## Carga de datos productos"
   ]
  },
  {
   "cell_type": "code",
   "execution_count": 10,
   "id": "0e9d47b7-50e0-4466-b192-b6585231c153",
   "metadata": {
    "pycharm": {
     "name": "#%%\n"
    }
   },
   "outputs": [],
   "source": [
    "cursor.execute('select IdFamilia, LotePedido from Familias')\n",
    "lotepedido={}\n",
    "for row in cursor.fetchall():\n",
    "    lotepedido.update({row[0]:row[1]})\n"
   ]
  },
  {
   "cell_type": "code",
   "execution_count": 11,
   "id": "59ea76c0-5bef-4623-9000-d204f65577f3",
   "metadata": {
    "pycharm": {
     "name": "#%%\n"
    }
   },
   "outputs": [
    {
     "data": {
      "text/plain": [
       "{1: 0.035,\n",
       " 2: 0.035,\n",
       " 3: 0.005,\n",
       " 4: 0.025,\n",
       " 5: 0.045,\n",
       " 6: 0.04,\n",
       " 7: 0.035,\n",
       " 8: 0.025,\n",
       " 9: 0.04,\n",
       " 10: 0.03,\n",
       " 11: 0.05,\n",
       " 12: 0.02,\n",
       " 13: 0.045,\n",
       " 14: 0.015,\n",
       " 15: 0.025}"
      ]
     },
     "execution_count": 11,
     "metadata": {},
     "output_type": "execute_result"
    }
   ],
   "source": [
    "cursor.execute('select IdFamilia, LotePedido from Familias')\n",
    "CosteStock={}\n",
    "for row in cursor.fetchall():\n",
    "    CosteStock.update({row[0]:random.randint(1, 10)*0.005})\n",
    "CosteStock"
   ]
  },
  {
   "cell_type": "code",
   "execution_count": 12,
   "id": "29c33ca3-f76a-428c-9a79-8c12eca08171",
   "metadata": {
    "pycharm": {
     "name": "#%%\n"
    }
   },
   "outputs": [],
   "source": [
    "cursor.execute('select IdProducto , PiezasCont from Productos')\n",
    "piezascont={}\n",
    "for row in cursor.fetchall():\n",
    "    piezascont.update({row[0]:row[1]})"
   ]
  },
  {
   "cell_type": "code",
   "execution_count": 13,
   "id": "995a888b-08b1-4a53-929e-e56697c2c0ee",
   "metadata": {
    "pycharm": {
     "name": "#%%\n"
    }
   },
   "outputs": [],
   "source": [
    "cursor.execute('select IdProducto , LargoContedor from Productos')\n",
    "piezas_largo_box={}\n",
    "for row in cursor.fetchall():\n",
    "    piezas_largo_box.update({row[0]:row[1]})"
   ]
  },
  {
   "cell_type": "code",
   "execution_count": 14,
   "id": "13962258-4bdf-4a63-9482-1bca7ab61528",
   "metadata": {
    "pycharm": {
     "name": "#%%\n"
    }
   },
   "outputs": [],
   "source": [
    "cursor.execute('select IdProducto , IdFamilia, beta from beta')\n",
    "b={}\n",
    "for row in cursor.fetchall():\n",
    "    b.update({(row[0],row[1]):row[2]})\n"
   ]
  },
  {
   "cell_type": "code",
   "execution_count": 15,
   "id": "099cc323-bcbb-4125-8d79-fee66ccdaae3",
   "metadata": {
    "pycharm": {
     "name": "#%%\n"
    }
   },
   "outputs": [],
   "source": [
    "cursor.execute('select  IdProducto , IdDia, Demanda from Demanda')\n",
    "demanda={}\n",
    "for row in cursor.fetchall():\n",
    "    demanda.update({(row[0],row[1]):row[2]})"
   ]
  },
  {
   "cell_type": "code",
   "execution_count": 16,
   "id": "e0eb904d-1c8a-4e15-a0dd-803f5cc4f972",
   "metadata": {
    "pycharm": {
     "name": "#%%\n"
    }
   },
   "outputs": [],
   "source": [
    "# cursor.execute('select IdProducto , StockInicial from Productos')\n",
    "stockInicial={}\n",
    "# for row in cursor.fetchall():\n",
    "#     stockInicial.update({row[0]:row[1]})\n",
    "cursor.execute('select  IdProducto , Demanda from Demanda where IdDia=1')\n",
    "\n",
    "for row in cursor.fetchall():\n",
    "    stockInicial.update({row[0]:row[1]*3})\n"
   ]
  },
  {
   "cell_type": "code",
   "execution_count": null,
   "id": "d1592a33-918c-4279-989e-67b75cc553da",
   "metadata": {
    "pycharm": {
     "name": "#%%\n"
    }
   },
   "outputs": [],
   "source": []
  },
  {
   "cell_type": "code",
   "execution_count": 17,
   "id": "8750c074-23b5-4b1e-94e1-7e7f9a9d0f77",
   "metadata": {
    "pycharm": {
     "name": "#%%\n"
    }
   },
   "outputs": [],
   "source": [
    "cursor.execute('select  IdProducto , Valor from Productos')\n",
    "valor={}\n",
    "for row in cursor.fetchall():\n",
    "    valor.update({row[0]:row[1]})"
   ]
  },
  {
   "cell_type": "code",
   "execution_count": 18,
   "id": "ae03f73d-8cda-4a9d-a6a2-9cf71c6441a6",
   "metadata": {
    "pycharm": {
     "name": "#%%\n"
    }
   },
   "outputs": [],
   "source": [
    "PC={}\n",
    "for camion in camiones:\n",
    "    PC.update({camion:1000})"
   ]
  },
  {
   "cell_type": "code",
   "execution_count": 19,
   "id": "5f7ec971-3d78-49a9-8518-1d2454643441",
   "metadata": {
    "pycharm": {
     "name": "#%%\n"
    }
   },
   "outputs": [],
   "source": [
    "L=78\n",
    "nu=26/30\n",
    "NT_lw=5\n",
    "NT_up=10"
   ]
  },
  {
   "cell_type": "code",
   "execution_count": 20,
   "id": "285975ba-3b0f-4e8a-ae1f-7656bd99d3cb",
   "metadata": {
    "pycharm": {
     "name": "#%%\n"
    }
   },
   "outputs": [
    {
     "name": "stdout",
     "output_type": "stream",
     "text": [
      "WARNING: DEPRECATED: The default domain for Param objects is 'Any'.  However,\n",
      "    we will be changing that default to 'Reals' in the future.  If you really\n",
      "    intend the domain of this Param (LargoCont) to be 'Any', you can suppress\n",
      "    this warning by explicitly specifying 'within=Any' to the Param\n",
      "    constructor.  (deprecated in 5.6.9, will be removed in 6.0) (called from\n",
      "    C:\\Users\\juano\\Anaconda3\\envs\\pyomo-tutorials\\lib\\site-\n",
      "    packages\\pyomo\\core\\base\\param.py:77)\n",
      "WARNING: DEPRECATED: The default domain for Param objects is 'Any'.  However,\n",
      "    we will be changing that default to 'Reals' in the future.  If you really\n",
      "    intend the domain of this Param (LargoCont) to be 'Any', you can suppress\n",
      "    this warning by explicitly specifying 'within=Any' to the Param\n",
      "    constructor.  (deprecated in 5.6.9, will be removed in 6.0) (called from\n",
      "    C:\\Users\\juano\\Anaconda3\\envs\\pyomo-tutorials\\lib\\site-\n",
      "    packages\\pyomo\\core\\base\\param.py:77)\n",
      "WARNING: DEPRECATED: The default domain for Param objects is 'Any'.  However,\n",
      "    we will be changing that default to 'Reals' in the future.  If you really\n",
      "    intend the domain of this Param (LargoCont) to be 'Any', you can suppress\n",
      "    this warning by explicitly specifying 'within=Any' to the Param\n",
      "    constructor.  (deprecated in 5.6.9, will be removed in 6.0) (called from\n",
      "    C:\\Users\\juano\\Anaconda3\\envs\\pyomo-tutorials\\lib\\site-\n",
      "    packages\\pyomo\\core\\base\\param.py:77)\n",
      "WARNING: DEPRECATED: The default domain for Param objects is 'Any'.  However,\n",
      "    we will be changing that default to 'Reals' in the future.  If you really\n",
      "    intend the domain of this Param (LargoCont) to be 'Any', you can suppress\n",
      "    this warning by explicitly specifying 'within=Any' to the Param\n",
      "    constructor.  (deprecated in 5.6.9, will be removed in 6.0) (called from\n",
      "    C:\\Users\\juano\\Anaconda3\\envs\\pyomo-tutorials\\lib\\site-\n",
      "    packages\\pyomo\\core\\base\\param.py:77)\n",
      "WARNING: DEPRECATED: The default domain for Param objects is 'Any'.  However,\n",
      "    we will be changing that default to 'Reals' in the future.  If you really\n",
      "    intend the domain of this Param (LargoCont) to be 'Any', you can suppress\n",
      "    this warning by explicitly specifying 'within=Any' to the Param\n",
      "    constructor.  (deprecated in 5.6.9, will be removed in 6.0) (called from\n",
      "    C:\\Users\\juano\\Anaconda3\\envs\\pyomo-tutorials\\lib\\site-\n",
      "    packages\\pyomo\\core\\base\\param.py:77)\n",
      "WARNING: DEPRECATED: The default domain for Param objects is 'Any'.  However,\n",
      "    we will be changing that default to 'Reals' in the future.  If you really\n",
      "    intend the domain of this Param (LargoCont) to be 'Any', you can suppress\n",
      "    this warning by explicitly specifying 'within=Any' to the Param\n",
      "    constructor.  (deprecated in 5.6.9, will be removed in 6.0) (called from\n",
      "    C:\\Users\\juano\\Anaconda3\\envs\\pyomo-tutorials\\lib\\site-\n",
      "    packages\\pyomo\\core\\base\\param.py:77)\n",
      "WARNING: DEPRECATED: The default domain for Param objects is 'Any'.  However,\n",
      "    we will be changing that default to 'Reals' in the future.  If you really\n",
      "    intend the domain of this Param (LargoCont) to be 'Any', you can suppress\n",
      "    this warning by explicitly specifying 'within=Any' to the Param\n",
      "    constructor.  (deprecated in 5.6.9, will be removed in 6.0) (called from\n",
      "    C:\\Users\\juano\\Anaconda3\\envs\\pyomo-tutorials\\lib\\site-\n",
      "    packages\\pyomo\\core\\base\\param.py:77)\n",
      "WARNING: DEPRECATED: The default domain for Param objects is 'Any'.  However,\n",
      "    we will be changing that default to 'Reals' in the future.  If you really\n",
      "    intend the domain of this Param (LargoCont) to be 'Any', you can suppress\n",
      "    this warning by explicitly specifying 'within=Any' to the Param\n",
      "    constructor.  (deprecated in 5.6.9, will be removed in 6.0) (called from\n",
      "    C:\\Users\\juano\\Anaconda3\\envs\\pyomo-tutorials\\lib\\site-\n",
      "    packages\\pyomo\\core\\base\\param.py:77)\n",
      "WARNING: DEPRECATED: The default domain for Param objects is 'Any'.  However,\n",
      "    we will be changing that default to 'Reals' in the future.  If you really\n",
      "    intend the domain of this Param (LargoCont) to be 'Any', you can suppress\n",
      "    this warning by explicitly specifying 'within=Any' to the Param\n",
      "    constructor.  (deprecated in 5.6.9, will be removed in 6.0) (called from\n",
      "    C:\\Users\\juano\\Anaconda3\\envs\\pyomo-tutorials\\lib\\site-\n",
      "    packages\\pyomo\\core\\base\\param.py:77)\n",
      "WARNING: DEPRECATED: The default domain for Param objects is 'Any'.  However,\n",
      "    we will be changing that default to 'Reals' in the future.  If you really\n",
      "    intend the domain of this Param (LargoCont) to be 'Any', you can suppress\n",
      "    this warning by explicitly specifying 'within=Any' to the Param\n",
      "    constructor.  (deprecated in 5.6.9, will be removed in 6.0) (called from\n",
      "    C:\\Users\\juano\\Anaconda3\\envs\\pyomo-tutorials\\lib\\site-\n",
      "    packages\\pyomo\\core\\base\\param.py:77)\n",
      "WARNING: DEPRECATED: The default domain for Param objects is 'Any'.  However,\n",
      "    we will be changing that default to 'Reals' in the future.  If you really\n",
      "    intend the domain of this Param (LargoCont) to be 'Any', you can suppress\n",
      "    this warning by explicitly specifying 'within=Any' to the Param\n",
      "    constructor.  (deprecated in 5.6.9, will be removed in 6.0) (called from\n",
      "    C:\\Users\\juano\\Anaconda3\\envs\\pyomo-tutorials\\lib\\site-\n",
      "    packages\\pyomo\\core\\base\\param.py:77)\n",
      "WARNING: DEPRECATED: The default domain for Param objects is 'Any'.  However,\n",
      "    we will be changing that default to 'Reals' in the future.  If you really\n",
      "    intend the domain of this Param (LargoCont) to be 'Any', you can suppress\n",
      "    this warning by explicitly specifying 'within=Any' to the Param\n",
      "    constructor.  (deprecated in 5.6.9, will be removed in 6.0) (called from\n",
      "    C:\\Users\\juano\\Anaconda3\\envs\\pyomo-tutorials\\lib\\site-\n",
      "    packages\\pyomo\\core\\base\\param.py:77)\n",
      "WARNING: DEPRECATED: The default domain for Param objects is 'Any'.  However,\n",
      "    we will be changing that default to 'Reals' in the future.  If you really\n",
      "    intend the domain of this Param (LargoCont) to be 'Any', you can suppress\n",
      "    this warning by explicitly specifying 'within=Any' to the Param\n",
      "    constructor.  (deprecated in 5.6.9, will be removed in 6.0) (called from\n",
      "    C:\\Users\\juano\\Anaconda3\\envs\\pyomo-tutorials\\lib\\site-\n",
      "    packages\\pyomo\\core\\base\\param.py:77)\n",
      "WARNING: DEPRECATED: The default domain for Param objects is 'Any'.  However,\n",
      "    we will be changing that default to 'Reals' in the future.  If you really\n",
      "    intend the domain of this Param (LargoCont) to be 'Any', you can suppress\n",
      "    this warning by explicitly specifying 'within=Any' to the Param\n",
      "    constructor.  (deprecated in 5.6.9, will be removed in 6.0) (called from\n",
      "    C:\\Users\\juano\\Anaconda3\\envs\\pyomo-tutorials\\lib\\site-\n",
      "    packages\\pyomo\\core\\base\\param.py:77)\n",
      "WARNING: DEPRECATED: The default domain for Param objects is 'Any'.  However,\n",
      "    we will be changing that default to 'Reals' in the future.  If you really\n",
      "    intend the domain of this Param (LargoCont) to be 'Any', you can suppress\n",
      "    this warning by explicitly specifying 'within=Any' to the Param\n",
      "    constructor.  (deprecated in 5.6.9, will be removed in 6.0) (called from\n",
      "    C:\\Users\\juano\\Anaconda3\\envs\\pyomo-tutorials\\lib\\site-\n",
      "    packages\\pyomo\\core\\base\\param.py:77)\n"
     ]
    }
   ],
   "source": [
    "model.LotePedido = pe.Param(model.f , initialize=lotepedido)\n",
    "model.PiezasCont= pe.Param(model.i ,initialize=piezascont)\n",
    "model.b= pe.Param(model.i, model.f ,initialize=b, default=0)\n",
    "model.StockInicial= pe.Param(model.i, initialize=stockInicial)\n",
    "model.demanda= pe.Param(model.i, model.t1,  initialize=demanda)\n",
    "model.valor=pe.Param(model.i, initialize=stockInicial)\n",
    "model.PC=pe.Param(model.c, initialize=PC)\n",
    "model.L=pe.Param(initialize=L)\n",
    "model.nu=pe.Param(initialize=nu)\n",
    "model.NT_lw=pe.Param(initialize=NT_lw)\n",
    "model.NT_up=pe.Param(initialize=NT_up)\n",
    "model.LargoCont=pe.Param(model.i,initialize=piezas_largo_box)\n",
    "model.CS=pe.Param(model.i, initialize=CosteStock)"
   ]
  },
  {
   "cell_type": "markdown",
   "id": "dfe06a96-676c-48f6-a963-bf71ffbabd5a",
   "metadata": {
    "pycharm": {
     "name": "#%% md\n"
    }
   },
   "source": [
    "# # Varibles"
   ]
  },
  {
   "cell_type": "code",
   "execution_count": 21,
   "id": "703e4d9f-a03e-4019-a8c1-a631475fc6b8",
   "metadata": {
    "pycharm": {
     "name": "#%%\n"
    }
   },
   "outputs": [],
   "source": [
    "model.CantidadPedir = pe.Var(model.i, model.c, model.t,model.col, domain=pe.Integers)"
   ]
  },
  {
   "cell_type": "code",
   "execution_count": 22,
   "id": "45e1db77-888c-451b-887b-6eb9855e3dbe",
   "metadata": {
    "pycharm": {
     "name": "#%%\n"
    }
   },
   "outputs": [],
   "source": [
    "model.CantidadPedir2 = pe.Var(model.i,model.f, model.c, model.t,model.col, domain=pe.Integers, bounds=(0,None) )\n",
    "model.ContenedoresCamion=pe.Var(model.c,model.t,model.col,model.i, domain=pe.Integers)"
   ]
  },
  {
   "cell_type": "code",
   "execution_count": 23,
   "id": "8aedd595-3e0e-455b-83eb-b29110277101",
   "metadata": {
    "pycharm": {
     "name": "#%%\n"
    }
   },
   "outputs": [],
   "source": [
    "model.Stock=pe.Var(model.i,model.t, bounds=(0,None))"
   ]
  },
  {
   "cell_type": "code",
   "execution_count": 24,
   "id": "78544ce4-f486-43f6-b950-4b2f91e332e0",
   "metadata": {
    "pycharm": {
     "name": "#%%\n"
    }
   },
   "outputs": [],
   "source": [
    "model.RetrasoDemanda=pe.Var(model.i,model.t, bounds=(0,None))"
   ]
  },
  {
   "cell_type": "code",
   "execution_count": 25,
   "id": "5d8daad9-835e-4f5e-9f06-8c33b3459648",
   "metadata": {
    "pycharm": {
     "name": "#%%\n"
    }
   },
   "outputs": [],
   "source": [
    "model.K=pe.Var(model.f,model.c,model.t,model.col ,domain=pe.Integers)"
   ]
  },
  {
   "cell_type": "code",
   "execution_count": 26,
   "id": "9a57ba50-b2eb-4f12-926d-29626c730758",
   "metadata": {
    "pycharm": {
     "name": "#%%\n"
    }
   },
   "outputs": [],
   "source": [
    "model.Y=pe.Var(model.c,model.t ,domain=pe.Binary, initialize=0)"
   ]
  },
  {
   "cell_type": "code",
   "execution_count": 27,
   "id": "a7e18df4-c807-425e-8357-7d834d601616",
   "metadata": {
    "pycharm": {
     "name": "#%%\n"
    }
   },
   "outputs": [],
   "source": [
    "# model.A=pe.Var(model.c,model.col,model.t, domain=pe.Integers, bounds=(5.5,7.5))\n",
    "# model.B=pe.Var(model.c,model.col, model.t, domain=pe.Integers, bounds=(1.5,4.5))\n",
    "model.A=pe.Var(model.c,model.col,model.t, domain=pe.Integers, bounds=(0,None))\n",
    "model.B=pe.Var(model.c,model.col, model.t, domain=pe.Integers, bounds=(0,None))\n"
   ]
  },
  {
   "cell_type": "markdown",
   "id": "4456c6c3-d50e-42ad-8287-5c26dfdf99af",
   "metadata": {
    "pycharm": {
     "name": "#%% md\n"
    }
   },
   "source": [
    "## Función Objetivo\n",
    "Minimizar el número de camiones usado\n",
    "$$\\sum_{c,t}PC(c)Y(c,t)+ \\sum CS(i)Stock(i,t)$$"
   ]
  },
  {
   "cell_type": "code",
   "execution_count": 28,
   "id": "21e0ac46-c8c0-4d10-921f-5d4fb694b2cd",
   "metadata": {
    "pycharm": {
     "name": "#%%\n"
    }
   },
   "outputs": [],
   "source": [
    "expr = sum(model.PC[c]*model.Y[c,t] +sum(model.CS[i]*model.Stock[i,t] for i in model.i) for c in model.c for t in model.t)"
   ]
  },
  {
   "cell_type": "code",
   "execution_count": 29,
   "id": "51e5e1fd-4e59-4dd4-89de-7c103381e841",
   "metadata": {
    "pycharm": {
     "name": "#%%\n"
    }
   },
   "outputs": [],
   "source": [
    " #Coste Transporte\n",
    "model.objective = pe.Objective(sense=pe.minimize, expr=expr)"
   ]
  },
  {
   "cell_type": "markdown",
   "id": "ceb7304e-b5e4-4fd0-b692-5224aaff29fb",
   "metadata": {
    "pycharm": {
     "name": "#%% md\n"
    }
   },
   "source": [
    "## Funciones auxiliares"
   ]
  },
  {
   "cell_type": "code",
   "execution_count": 30,
   "id": "5e708056-8ba4-400c-82a8-9a14cbc7f647",
   "metadata": {
    "pycharm": {
     "name": "#%%\n"
    }
   },
   "outputs": [],
   "source": [
    "def UsoCamion(model):\n",
    "    return sum(model.L*model.Y[c,t] for c in model.c for t in model.t)-\\\n",
    "        sum(model.ContenedoresCamion[c,t] for c in model.c for t in model.t)"
   ]
  },
  {
   "cell_type": "code",
   "execution_count": 31,
   "id": "2715fc7d-df48-4756-a01f-8f4ba07c26b2",
   "metadata": {
    "pycharm": {
     "name": "#%%\n"
    }
   },
   "outputs": [],
   "source": [
    "def CTransporte(model):\n",
    "    return sum(model.PC[c]*model.Y[c,t] for c in model.c for t in model.t)"
   ]
  },
  {
   "cell_type": "code",
   "execution_count": 32,
   "id": "165ba238-8b2c-42c3-91ae-5fb67d2187ea",
   "metadata": {
    "pycharm": {
     "name": "#%%\n"
    }
   },
   "outputs": [],
   "source": [
    "def NumeroCamiones(model):\n",
    "    return sum(model.Y[c,t] for c in model.c for t in model.t)"
   ]
  },
  {
   "cell_type": "markdown",
   "id": "2f88e217-bfde-44aa-807a-172241f861dd",
   "metadata": {
    "pycharm": {
     "name": "#%% md\n"
    }
   },
   "source": [
    "## Restricciones"
   ]
  },
  {
   "cell_type": "code",
   "execution_count": 33,
   "id": "f5a915f0-7814-45c9-b5c1-5dfb41a5f4c3",
   "metadata": {
    "pycharm": {
     "name": "#%%\n"
    }
   },
   "outputs": [],
   "source": [
    "model.stocks=pe.ConstraintList()"
   ]
  },
  {
   "cell_type": "markdown",
   "id": "4b89345a-c85f-4913-bd1e-5c67cc788f89",
   "metadata": {
    "pycharm": {
     "name": "#%% md\n"
    }
   },
   "source": [
    "$$Stock(i,t)=Stock(i,t-1)+\\sum_{c,col}CantidadPedir(i,c,t,col)-Demanda(i,t)$$"
   ]
  },
  {
   "cell_type": "code",
   "execution_count": 34,
   "id": "82962da3-51e5-41d5-a9f1-36918b46d14c",
   "metadata": {
    "pycharm": {
     "name": "#%%\n"
    }
   },
   "outputs": [],
   "source": [
    "for i in model.i:\n",
    "        lhs=model.Stock[i,1]\n",
    "        rhs=model.StockInicial[i]-model.demanda[i,1]+sum(model.CantidadPedir[i,c,1,col] for c in model.c for col in model.col )\n",
    "        model.stocks.add(lhs==rhs)"
   ]
  },
  {
   "cell_type": "code",
   "execution_count": 35,
   "id": "173d8196-22f7-4695-8c8a-1922b5c29a23",
   "metadata": {
    "pycharm": {
     "name": "#%%\n"
    }
   },
   "outputs": [],
   "source": [
    "for t in list(model.t)[1:]:\n",
    "    for i in model.i:\n",
    "            lhs=model.Stock[i,t]\n",
    "            rhs=model.Stock[i,t-1]-model.demanda[i,t-1]+sum(model.CantidadPedir[i,c,t-1,col] for c in model.c for col in model.col)\n",
    "            model.stocks.add(lhs==rhs)"
   ]
  },
  {
   "cell_type": "code",
   "execution_count": 36,
   "id": "05d94883-746b-4680-9115-cd65cd7b429f",
   "metadata": {
    "pycharm": {
     "name": "#%%\n"
    }
   },
   "outputs": [],
   "source": [
    "model.RcantidadPedir=pe.ConstraintList()"
   ]
  },
  {
   "cell_type": "markdown",
   "id": "76278bb1-b6f8-4c6f-9d8f-c983266b00b3",
   "metadata": {
    "pycharm": {
     "name": "#%% md\n"
    }
   },
   "source": [
    "$$CantidadPedir2_{i,f,c,t,col}=K(f,c,t,col)*LotePedido(f)*b(i,f)$$"
   ]
  },
  {
   "cell_type": "code",
   "execution_count": 37,
   "id": "01555077-48bd-4a11-ad7d-256c44725d76",
   "metadata": {
    "pycharm": {
     "name": "#%%\n"
    }
   },
   "outputs": [],
   "source": [
    "for i in model.i:\n",
    "    for f in model.f:\n",
    "        for c in model.c:\n",
    "            for t in model.t:\n",
    "                for col in model.col:\n",
    "                    lhs=model.CantidadPedir2[i,f,c,t,col]\n",
    "                    rhs=model.K[f,c,t,col]*model.LotePedido[f]*model.b[i,f]\n",
    "                    model.RcantidadPedir.add(lhs==rhs)"
   ]
  },
  {
   "cell_type": "code",
   "execution_count": 38,
   "id": "8e74beb7-51cf-44e2-b5c4-bd406b1526bf",
   "metadata": {
    "pycharm": {
     "name": "#%%\n"
    }
   },
   "outputs": [],
   "source": [
    "model.RcantidadPedir2=pe.ConstraintList()"
   ]
  },
  {
   "cell_type": "markdown",
   "id": "9542afb7-5195-41b8-a516-b659fd00a74d",
   "metadata": {
    "pycharm": {
     "name": "#%% md\n"
    }
   },
   "source": [
    "$$CantidadPedir_{i,c,t,col}= \\sum_f CanitdadPedir2(i,f,c,t,col)$$"
   ]
  },
  {
   "cell_type": "code",
   "execution_count": 39,
   "id": "90e660c5-19e9-4fb3-824c-6588d1ee577d",
   "metadata": {
    "pycharm": {
     "name": "#%%\n"
    }
   },
   "outputs": [],
   "source": [
    "for i in model.i:\n",
    "    for c in model.c:\n",
    "        for t in model.t:\n",
    "            for col in model.col:\n",
    "                lhs=model.CantidadPedir[i,c,t,col]\n",
    "                rhs=sum(model.CantidadPedir2[i,f,c,t,col] for f in model.f)\n",
    "                model.RcantidadPedir2.add(lhs==rhs)"
   ]
  },
  {
   "cell_type": "code",
   "execution_count": null,
   "id": "cfc9bfa9-ccf0-4430-adab-24bd891132d2",
   "metadata": {
    "pycharm": {
     "name": "#%%\n"
    }
   },
   "outputs": [],
   "source": []
  },
  {
   "cell_type": "code",
   "execution_count": 40,
   "id": "d6bf0da5-4f2f-4a52-8a2a-df1f172058ab",
   "metadata": {
    "pycharm": {
     "name": "#%%\n"
    }
   },
   "outputs": [],
   "source": [
    "# model.RContendores=pe.ConstraintList()"
   ]
  },
  {
   "cell_type": "code",
   "execution_count": 41,
   "id": "80eb9004-3a56-42fc-8c6a-20a5db275f08",
   "metadata": {
    "pycharm": {
     "name": "#%%\n"
    }
   },
   "outputs": [],
   "source": [
    "# for c in model.c:\n",
    "#     for t in model.t:\n",
    "#         for col in model.col:\n",
    "#             for i in model.i:\n",
    "#                 lhs=model.ContenedoresCamion[c,t,col,i]\n",
    "#                 rhs=model.CantidadPedir[i,c,t,col]/model.PiezasCont[i]\n",
    "#                 model.RContendores.add(lhs==rhs)"
   ]
  },
  {
   "cell_type": "code",
   "execution_count": 42,
   "id": "6bd9b17b-a8c1-496f-8932-beed91d88eb6",
   "metadata": {
    "pycharm": {
     "name": "#%%\n"
    }
   },
   "outputs": [],
   "source": [
    "model.RDimensionesCamion=pe.ConstraintList()"
   ]
  },
  {
   "cell_type": "markdown",
   "id": "49edeb77-d58e-43d5-a2c9-0b6cdf3fdd1d",
   "metadata": {
    "pycharm": {
     "name": "#%% md\n"
    }
   },
   "source": [
    "$$ 1600A_{c,col,t} +1000B_{c,col,t}   \\leq 13000$$"
   ]
  },
  {
   "cell_type": "code",
   "execution_count": 43,
   "id": "13920e0a-7f48-4177-a90a-c0e69e64648f",
   "metadata": {
    "pycharm": {
     "name": "#%%\n"
    }
   },
   "outputs": [],
   "source": [
    "for c in model.c:\n",
    "    for t in model.t:\n",
    "        for col in model.col:\n",
    "            lhs=13600\n",
    "            rhs=(model.A[c,col,t]*1600+model.B[c,col,t]*1000)*model.Y[c,t]\n",
    "            model.RDimensionesCamion.add(lhs>=rhs)"
   ]
  },
  {
   "cell_type": "code",
   "execution_count": 44,
   "id": "e327728c-f509-4340-b66c-19a743ee6d17",
   "metadata": {
    "pycharm": {
     "name": "#%%\n"
    }
   },
   "outputs": [],
   "source": [
    "model.RCajasTotales=pe.ConstraintList()"
   ]
  },
  {
   "cell_type": "markdown",
   "id": "15485314-f64b-4db9-841f-a3743ffd1afa",
   "metadata": {
    "pycharm": {
     "name": "#%% md\n"
    }
   },
   "source": [
    "$$ \\sum_i CantidadPedir(i,c,t,col)/PiezasCont(i) \\leq A_{c,col,t}*4+B_{c,col,t}*3 $$"
   ]
  },
  {
   "cell_type": "code",
   "execution_count": 45,
   "id": "c9cf7adb-6b4c-4f0f-8ecd-65e881651242",
   "metadata": {
    "pycharm": {
     "name": "#%%\n"
    }
   },
   "outputs": [],
   "source": [
    "for c in model.c:\n",
    "    for t in model.t:\n",
    "        for col in model.col:\n",
    "            lhs=sum(model.CantidadPedir[i,c,t,col]/model.PiezasCont[i] for i in model.i)\n",
    "            rhs=(model.A[c,col,t]*4+model.B[c,col,t]*3)*model.Y[c,t]\n",
    "            model.RCajasTotales.add(lhs<=rhs)"
   ]
  },
  {
   "cell_type": "code",
   "execution_count": 46,
   "id": "2c10fa4c-7e07-4358-83c4-07f0b542553a",
   "metadata": {
    "pycharm": {
     "name": "#%%\n"
    }
   },
   "outputs": [],
   "source": [
    "model.RCajasTipoA=pe.ConstraintList()"
   ]
  },
  {
   "cell_type": "markdown",
   "id": "07829fb9-7383-47e0-a0c5-21ab6d8775f0",
   "metadata": {
    "pycharm": {
     "name": "#%% md\n"
    }
   },
   "source": [
    "$$ \\sum_i CantidadPedir(i,c,t,col)/PiezasCont(i)[tipoA] \\leq A_{c,col,t}*4 $$"
   ]
  },
  {
   "cell_type": "code",
   "execution_count": 47,
   "id": "f45ddf77-3df3-4a21-9ddd-d19d0f80f87d",
   "metadata": {
    "pycharm": {
     "name": "#%%\n"
    }
   },
   "outputs": [],
   "source": [
    "for c in model.c:\n",
    "    for t in model.t:\n",
    "        for col in model.col:\n",
    "            lhs=sum(model.CantidadPedir[i,c,t,col]/model.PiezasCont[i]*float(int(model.LargoCont[i])==int(1600)) for i in model.i)\n",
    "            rhs=model.A[c,col,t]*4*model.Y[c,t]\n",
    "            model.RCajasTipoA.add(lhs<=rhs)"
   ]
  },
  {
   "cell_type": "code",
   "execution_count": 48,
   "id": "7074250a-752b-44e4-a9d3-efa4947a1d8b",
   "metadata": {
    "pycharm": {
     "name": "#%%\n"
    }
   },
   "outputs": [],
   "source": [
    "model.RCajasTipoB=pe.ConstraintList()"
   ]
  },
  {
   "cell_type": "code",
   "execution_count": 49,
   "id": "7a45175a-b1db-4ab3-a1bd-c7e61ba29d53",
   "metadata": {
    "pycharm": {
     "name": "#%%\n"
    }
   },
   "outputs": [],
   "source": [
    "for c in model.c:\n",
    "    for t in model.t:\n",
    "        for col in model.col:\n",
    "            lhs=sum(model.CantidadPedir[i,c,t,col]/model.PiezasCont[i]*float(int(model.LargoCont[i])==int(1000)) for i in model.i)\n",
    "            rhs=model.B[c,col,t]*3*model.Y[c,t]\n",
    "            model.RCajasTipoB.add(lhs<=rhs)"
   ]
  },
  {
   "cell_type": "code",
   "execution_count": 50,
   "id": "67223171-4297-46a8-b4ab-7fd0a3a6c557",
   "metadata": {
    "pycharm": {
     "name": "#%%\n"
    }
   },
   "outputs": [],
   "source": [
    "# model.RDimensionesCamion=pe.ConstraintList()"
   ]
  },
  {
   "cell_type": "code",
   "execution_count": 51,
   "id": "2da9c700-9c62-4829-8837-f1f58fb6a219",
   "metadata": {
    "pycharm": {
     "name": "#%%\n"
    }
   },
   "outputs": [],
   "source": [
    "# for c in model.c:\n",
    "#     for t in model.t:\n",
    "#         lhs=model.ContenedoresCamion[c,t]\n",
    "#         rhs=model.L*model.Y[c,t]\n",
    "#         model.RDimensionesCamion.add(lhs<=rhs)"
   ]
  },
  {
   "cell_type": "code",
   "execution_count": 52,
   "id": "2896c7d5-1505-4bb6-b8b0-a6b08933bd8e",
   "metadata": {
    "pycharm": {
     "name": "#%%\n"
    }
   },
   "outputs": [],
   "source": [
    "# model.RLlenado=pe.ConstraintList()\n",
    "# for c in model.c:\n",
    "#     for t in model.t:\n",
    "#         lhs=model.ContenedoresCamion[c,t]\n",
    "#         rhs=model.L*model.nu*model.Y[c,t]\n",
    "#         model.RLlenado.add(lhs>=rhs)"
   ]
  },
  {
   "cell_type": "code",
   "execution_count": null,
   "id": "e92fe4e8-1c87-498b-ac19-3e6b28179e3c",
   "metadata": {
    "pycharm": {
     "name": "#%%\n"
    }
   },
   "outputs": [],
   "source": []
  },
  {
   "cell_type": "code",
   "execution_count": 53,
   "id": "fdae8c93-f5a9-4aa4-b772-2974f089f8cd",
   "metadata": {
    "pycharm": {
     "name": "#%%\n"
    }
   },
   "outputs": [],
   "source": [
    "model.RCobertura=pe.ConstraintList()\n",
    "for i in model.i:\n",
    "    for t in range(1,16):\n",
    "        lhs=model.Stock[i,t]\n",
    "        rhs=(model.demanda[i,t+1]+model.demanda[i,t+2]+model.demanda[i,t+3]+model.demanda[i,t+4])\n",
    "        model.RCobertura.add(lhs>=rhs)\n",
    "for i in model.i:\n",
    "    for t in range(16,20):\n",
    "        lhs=model.Stock[i,t]\n",
    "        model.RCobertura.add(lhs>=rhs)"
   ]
  },
  {
   "cell_type": "code",
   "execution_count": 54,
   "id": "be1605c4-f93a-4920-96de-8c0db9aaddb6",
   "metadata": {
    "pycharm": {
     "name": "#%%\n"
    }
   },
   "outputs": [],
   "source": [
    "model.RCVolumenminimo=pe.ConstraintList()"
   ]
  },
  {
   "cell_type": "code",
   "execution_count": 55,
   "id": "d3f17974-c071-4227-8a9b-86f94d414ce4",
   "metadata": {
    "pycharm": {
     "name": "#%%\n"
    }
   },
   "outputs": [],
   "source": [
    "for t in model.t:\n",
    "    for c in model.c:\n",
    "        lhs=(sum(model.CantidadPedir[i,c,t,col]/model.PiezasCont[i] for i in model.i for col in model.col if int(model.LargoCont[i])==int(1600))*750*1200*1600+\n",
    "                                     +(sum(model.CantidadPedir[i,c,t,col]/model.PiezasCont[i] for i in model.i for col in model.col if int(model.LargoCont[i])==int(1000)))*1000*1000*1200)/(3000*2400*13600)\n",
    "        rhs=0.9*model.Y[c,t]\n",
    "        model.RCVolumenminimo.add(lhs >= rhs)"
   ]
  },
  {
   "cell_type": "code",
   "execution_count": 56,
   "id": "9355d322-e790-4a34-aeda-8c028dc594d1",
   "metadata": {
    "pycharm": {
     "name": "#%%\n"
    }
   },
   "outputs": [],
   "source": [
    "model.bounds=pe.ConstraintList()\n",
    "for i in model.i:\n",
    "    for t in model.t:\n",
    "        model.bounds.add(model.Stock[i,t]>=0)\n"
   ]
  },
  {
   "cell_type": "code",
   "execution_count": 57,
   "id": "e954eeff-bab1-4415-b601-7a7679b6bcc0",
   "metadata": {
    "tags": [],
    "pycharm": {
     "name": "#%%\n"
    }
   },
   "outputs": [
    {
     "name": "stdout",
     "output_type": "stream",
     "text": [
      "Set parameter Username\n",
      "Academic license - for non-commercial use only - expires 2022-08-06\n",
      "Read LP format model from file C:\\Users\\juano\\AppData\\Local\\Temp\\tmp55kximnu.pyomo.lp\n",
      "Reading time = 0.22 seconds\n",
      "x83411: 73968 rows, 79478 columns, 156318 nonzeros\n",
      "Set parameter MIPGap to value 0.00125\n",
      "Gurobi Optimizer version 9.5.1 build v9.5.1rc2 (win64)\n",
      "Thread count: 6 physical cores, 12 logical processors, using up to 12 threads\n",
      "Optimize a model with 73968 rows, 79478 columns and 156318 nonzeros\n",
      "Model fingerprint: 0x6f1d8380\n",
      "Model has 1216 quadratic constraints\n",
      "Variable types: 286 continuous, 79192 integer (152 binary)\n",
      "Coefficient statistics:\n",
      "  Matrix range     [3e-04, 1e+00]\n",
      "  QMatrix range    [3e+00, 2e+03]\n",
      "  QLMatrix range   [2e-02, 1e+00]\n",
      "  Objective range  [4e-02, 1e+03]\n",
      "  Bounds range     [1e+00, 1e+00]\n",
      "  RHS range        [1e+00, 3e+03]\n",
      "  QRHS range       [1e+04, 1e+04]\n",
      "Presolve removed 73539 rows and 73289 columns\n",
      "Presolve time: 0.05s\n",
      "Presolved: 2733 rows, 7917 columns, 22827 nonzeros\n",
      "Presolved model has 1152 SOS constraint(s)\n",
      "Variable types: 0 continuous, 7917 integer (720 binary)\n",
      "\n",
      "Root relaxation: objective 1.643793e+05, 5512 iterations, 0.05 seconds (0.04 work units)\n",
      "\n",
      "    Nodes    |    Current Node    |     Objective Bounds      |     Work\n",
      " Expl Unexpl |  Obj  Depth IntInf | Incumbent    BestBd   Gap | It/Node Time\n",
      "\n",
      "     0     0 164379.314    0  535          - 164379.314      -     -    0s\n",
      "     0     0 166433.864    0  739          - 166433.864      -     -    0s\n",
      "     0     0 166535.977    0  715          - 166535.977      -     -    0s\n",
      "     0     0 167570.381    0  767          - 167570.381      -     -    0s\n",
      "     0     0 167594.564    0  729          - 167594.564      -     -    0s\n",
      "     0     0 168903.805    0  708          - 168903.805      -     -    0s\n",
      "     0     0 169168.880    0  645          - 169168.880      -     -    0s\n",
      "     0     0 169199.296    0  641          - 169199.296      -     -    0s\n",
      "     0     0 171683.589    0  544          - 171683.589      -     -    0s\n",
      "     0     0 173019.244    0  544          - 173019.244      -     -    0s\n",
      "     0     0 173392.656    0  516          - 173392.656      -     -    0s\n",
      "     0     0 173437.432    0  575          - 173437.432      -     -    0s\n",
      "     0     0 174091.701    0  572          - 174091.701      -     -    0s\n",
      "     0     0 174091.701    0  361          - 174091.701      -     -    1s\n",
      "     0     2 174091.726    0  352          - 174091.726      -     -    1s\n",
      "  6485  6307 174973.642  177  719          - 174140.162      -  16.4    5s\n",
      "  6759  6493 182839.183   27  357          - 174285.205      -  27.6   10s\n",
      "H 7194  6474                    239571.04000 174285.205  27.3%  31.4   10s\n",
      "H 7226  6173                    231831.64000 174285.205  24.8%  31.5   12s\n",
      "H 7227  5886                    222796.16000 174285.205  21.8%  31.5   12s\n",
      "H 7230  5612                    219064.48000 174285.205  20.4%  31.5   12s\n",
      "H 7337  5428                    218513.56000 174285.205  20.2%  32.2   12s\n",
      "H 7338  5182                    213022.08000 174285.205  18.2%  32.2   12s\n",
      "H 8526  5693                    212995.64000 174285.205  18.2%  34.1   14s\n",
      "H 8527  5470                    211127.80000 174285.205  17.5%  34.1   14s\n",
      "  9319  6208 183347.035   81  247 211127.800 174285.205  17.5%  32.6   15s\n",
      "H 9828  5942                    206991.64000 174285.205  15.8%  31.8   16s\n",
      "H 9831  5735                    202979.04000 174285.205  14.1%  31.9   16s\n",
      "H 9839  3224                    176549.40000 174285.205  1.28%  31.9   16s\n",
      "H 9853  2958                    176489.36000 174285.251  1.25%  31.9   17s\n",
      "H 9886  2775                    176395.52000 174285.640  1.20%  32.0   17s\n",
      "H11131  2660                    176382.72000 174300.981  1.18%  32.8   19s\n",
      "H11132  2486                    176365.68000 174300.981  1.17%  32.9   19s\n",
      "H11164  2310                    176357.44000 174300.981  1.17%  32.9   19s\n",
      " 12161  2948 176319.266   56  423 176357.440 174477.098  1.07%  34.6   20s\n",
      "H14686  4204                    176354.16000 174477.098  1.06%  33.1   21s\n",
      "H16704  5242                    176254.60000 174490.201  1.00%  31.2   22s\n",
      "H19850  6940                    176178.92000 174490.201  0.96%  28.8   24s\n",
      " 21605  8164 175766.656   47  522 176178.920 174544.737  0.93%  29.6   25s\n",
      "H21822  8140                    176175.28000 174544.737  0.93%  29.6   25s\n",
      "H27753 13127                    176172.24000 174571.506  0.91%  27.7   28s\n",
      "H29197 14146                    176169.92000 174571.506  0.91%  27.6   29s\n",
      "H29462 14145                    176169.24000 174571.506  0.91%  27.3   29s\n",
      "H29490 14137                    176167.56000 174571.506  0.91%  27.3   29s\n",
      "H29659 13363                    176123.56000 174571.506  0.88%  27.4   29s\n",
      " 29704 13974 175989.497   82  373 176123.560 174575.412  0.88%  27.4   30s\n",
      "H31785 15227                    176110.00000 174582.361  0.87%  27.6   31s\n",
      "H31794 15123                    176098.72000 174582.361  0.86%  27.7   31s\n",
      "H32429 15059                    176092.32000 174582.361  0.86%  27.4   31s\n",
      "H35320 18744                    176090.72000 174590.966  0.85%  26.6   33s\n",
      "H36913 18701                    176085.60000 174590.966  0.85%  25.8   40s\n",
      "H36927 17775                    176085.20000 174590.966  0.85%  25.8   42s\n",
      "H36937 16891                    176074.52000 174590.966  0.84%  25.8   43s\n",
      " 36948 16899 176063.572   71  716 176074.520 174590.966  0.84%  25.8   45s\n",
      "H36964 16063                    176041.12000 174590.966  0.82%  25.7   48s\n",
      " 36978 16073 175863.240  416  737 176041.120 174590.966  0.82%  25.7   50s\n",
      "H36993 15277                    176041.00000 174590.966  0.82%  25.7   52s\n",
      "H36993 14512                    176027.92000 174590.966  0.82%  25.7   52s\n",
      "H37003 13791                    176019.96000 174590.966  0.81%  25.7   53s\n",
      "H37004 13101                    176019.48000 174590.966  0.81%  25.7   53s\n",
      "H37006 12445                    176019.00000 174590.966  0.81%  25.7   54s\n",
      "H37007 11822                    176013.32000 174590.966  0.81%  25.7   54s\n",
      "H37009 11230                    175997.48000 174590.966  0.80%  25.7   54s\n",
      " 37012 11232 174975.587   67  772 175997.480 174590.966  0.80%  25.7   55s\n",
      "H37012 10669                    175995.60000 174590.966  0.80%  25.7   55s\n",
      "H37019 10139                    175994.76000 174590.966  0.80%  25.7   56s\n",
      "H37022  9632                    175947.12000 174590.966  0.77%  25.7   56s\n",
      "H37024  9149                    175944.88000 174590.966  0.77%  25.7   57s\n",
      "H37026  8692                    175942.64000 174590.966  0.77%  25.7   57s\n",
      "H37028  8256                    175940.40000 174590.966  0.77%  25.7   57s\n",
      "H37030  7842                    175939.00000 174590.966  0.77%  25.7   57s\n",
      "H37032  7450                    175938.64000 174590.966  0.77%  25.7   58s\n",
      "H37034  7077                    175938.28000 174590.966  0.77%  25.7   58s\n",
      "H37036  6722                    175937.92000 174590.966  0.77%  25.7   58s\n",
      "H37038  6385                    175937.72000 174590.966  0.77%  25.7   58s\n",
      "H37040  6065                    175937.52000 174590.966  0.77%  25.7   59s\n",
      "H37042  5760                    175937.32000 174590.966  0.77%  25.7   60s\n",
      "H37046  5473                    175926.44000 174590.966  0.76%  25.7   63s\n",
      "H37047  5200                    175925.60000 174590.966  0.76%  27.1   63s\n",
      " 37054  5199 174590.966   31  573 175925.600 174590.966  0.76%  27.2   65s\n",
      "H37118  4934                    175923.84000 174590.966  0.76%  27.3   67s\n",
      "H37119  4685                    175905.60000 174590.966  0.75%  27.3   67s\n",
      " 37906  4899 175179.963   47  657 175905.600 174590.966  0.75%  27.8   70s\n",
      "H37962  4654                    175870.44000 174590.966  0.73%  27.8   72s\n",
      "H37966  4428                    175867.56000 174590.966  0.73%  27.8   72s\n",
      "H37973  4212                    175865.80000 174590.966  0.72%  27.8   72s\n",
      "H38186  4093                    175865.48000 174590.966  0.72%  27.9   72s\n",
      " 39359  4373     cutoff   61      175865.480 174590.966  0.72%  28.5   75s\n",
      "H40183  4398                    175862.32000 174590.966  0.72%  28.9   76s\n",
      "H40203  4209                    175861.44000 174590.966  0.72%  28.9   76s\n",
      "H40229  3971                    175842.20000 174590.966  0.71%  28.9   76s\n",
      "H41462  4250                    175838.04000 174590.966  0.71%  29.5   79s\n",
      " 42158  4676 175822.377  298  220 175838.040 174590.966  0.71%  29.5   80s\n",
      "H43077  4894                    175837.72000 174590.966  0.71%  29.3   81s\n",
      "H44090  5134                    175837.40000 174590.966  0.71%  29.4   83s\n",
      " 45141  5601 175419.714   91  398 175837.400 174590.966  0.71%  29.9   85s\n",
      " 48287  8316 175670.035   94  416 175837.400 174601.791  0.70%  30.0   90s\n",
      "H48988  8929                    175837.08000 174601.793  0.70%  29.8   91s\n",
      "H50365  9941                    175832.00000 174601.793  0.70%  29.3   93s\n",
      " 51716 11134 175772.182  133  232 175832.000 174601.793  0.70%  29.0   95s\n",
      "H51794 10889                    175822.72000 174601.793  0.69%  29.0   95s\n",
      " 54888 13825 175809.598  253  206 175822.720 174601.793  0.69%  28.2  100s\n",
      "H56783 15142                    175822.44000 174601.793  0.69%  27.7  102s\n",
      " 59241 17251     cutoff  455      175822.440 174601.793  0.69%  27.1  106s\n",
      "H60115 17453                    175822.28000 174601.793  0.69%  26.9  107s\n",
      "H60156 17426                    175821.12000 174601.793  0.69%  26.9  107s\n",
      "H60389 17425                    175821.04000 174601.793  0.69%  26.8  107s\n",
      "H60431 17205                    175818.56000 174601.793  0.69%  26.8  107s\n",
      "H61478 18503                    175818.44000 174601.793  0.69%  26.8  109s\n",
      " 62374 19291 175177.797  106  329 175818.440 174601.793  0.69%  26.7  111s\n",
      " 65712 21868 175569.770  197  214 175818.440 174601.793  0.69%  26.1  116s\n",
      " 69238 24660 175578.583  318  190 175818.440 174601.793  0.69%  26.0  121s\n",
      " 72705 27403 175581.696  453  177 175818.440 174601.793  0.69%  26.0  126s\n",
      "H75235 25475                    175802.00000 174601.793  0.68%  26.2  131s\n",
      " 76406 27118 175591.039  536  182 175802.000 174601.793  0.68%  26.5  135s\n",
      "H76654 27060                    175800.96000 174601.793  0.68%  26.5  135s\n",
      "H77456 27054                    175800.76000 174601.793  0.68%  26.5  135s\n",
      " 80044 30515 175626.821  637  171 175800.760 174601.793  0.68%  26.7  142s\n",
      " 82985 32413 175630.661  731  170 175800.760 174601.793  0.68%  26.5  146s\n",
      "H85490 33296                    175798.24000 174601.793  0.68%  26.6  150s\n",
      "H85576 33208                    175797.56000 174601.793  0.68%  26.6  150s\n",
      " 88203 36258 175633.420 1152  170 175797.560 174601.793  0.68%  26.7  156s\n",
      " 90752 38087 175633.826 1294  177 175797.560 174601.793  0.68%  26.9  160s\n",
      " 94281 40818 175637.217 1549  171 175797.560 174601.793  0.68%  27.3  166s\n",
      " 96857 42430 175705.646 1602  150 175797.560 174601.793  0.68%  27.5  171s\n",
      " 99330 44202 175715.061 1639  150 175797.560 174601.793  0.68%  27.7  175s\n",
      " 103113 47205 175745.424 1771  136 175797.560 174601.793  0.68%  28.0  181s\n",
      " 105750 49248 175746.982 1785  130 175797.560 174601.793  0.68%  28.1  186s\n",
      " 108423 51367 175748.949 1800  128 175797.560 174601.793  0.68%  28.1  190s\n",
      " 112232 54280 175752.224 1821  136 175797.560 174601.793  0.68%  28.1  196s\n",
      " 114833 56503 175753.477 1832  134 175797.560 174601.793  0.68%  28.0  200s\n",
      "H116194 56884                    175797.20000 174601.793  0.68%  27.9  203s\n",
      "H116417 55005                    175796.08000 174601.793  0.68%  27.9  203s\n",
      " 116727 56101 175754.857 1842  133 175796.080 174601.793  0.68%  27.8  205s\n",
      "H119293 56951                    175796.04000 174601.793  0.68%  27.5  207s\n",
      " 120808 58958 175757.345 1860  130 175796.040 174601.793  0.68%  27.6  211s\n",
      " 123372 60906 175759.029 1872  128 175796.040 174601.793  0.68%  27.4  215s\n",
      " 125798 62831 175760.709 1884  126 175796.040 174601.793  0.68%  27.4  220s\n",
      " 129726 66064 175763.482 1898  132 175796.040 174601.793  0.68%  27.2  226s\n",
      " 132237 68044 175764.902 1913  128 175796.040 174601.793  0.68%  27.1  230s\n",
      " 134634 70205 175766.533 1923  133 175796.040 174601.793  0.68%  27.0  235s\n",
      " 138426 73254 175768.829 1942  128 175796.040 174601.793  0.68%  26.8  241s\n",
      " 140872 75309 175770.495 1954  132 175796.040 174601.793  0.68%  26.7  245s\n",
      " 144667 78429 175772.895 1972  132 175796.040 174601.793  0.68%  26.5  251s\n",
      " 147470 80793 175774.521 1985  134 175796.040 174601.793  0.68%  26.3  256s\n",
      " 150060 83121 175776.034 1993  132 175796.040 174601.793  0.68%  26.0  260s\n",
      " 152628 85426 175777.601 2008  131 175796.040 174601.793  0.68%  25.7  265s\n",
      " 156415 88714 175779.773 2021  133 175796.040 174601.793  0.68%  25.3  271s\n",
      " 158795 90857 175781.173 2031  133 175796.040 174601.793  0.68%  25.1  275s\n",
      " 162438 93929 175783.784 2046  139 175796.040 174601.793  0.68%  24.9  281s\n",
      " 164757 96315 175784.813 2056  136 175796.040 174601.793  0.68%  24.7  285s\n",
      " 168570 99410 175787.175 2075  134 175796.040 174601.793  0.68%  24.5  291s\n",
      " 170911 101363 175792.321 2105  133 175796.040 174778.375  0.58%  24.3  296s\n",
      " 173377 103593     cutoff  114      175796.040 174779.575  0.58%  24.3  300s\n",
      " 176150 105927 175599.871  117  270 175796.040 174781.991  0.58%  24.3  305s\n",
      "H178858 104569                    175787.40000 174783.315  0.57%  24.3  311s\n",
      " 180260 106833 175720.794   91  313 175787.400 174783.337  0.57%  24.3  316s\n",
      " 182969 109097     cutoff  116      175787.400 174785.166  0.57%  24.3  322s\n",
      "H183293 108769                    175786.40000 174785.926  0.57%  24.3  323s\n",
      "H184377 108858                    175785.56000 174785.926  0.57%  24.3  326s\n",
      " 187055 111210 175619.429   95  419 175785.560 174786.836  0.57%  24.3  331s\n",
      " 188510 112297     cutoff  112      175785.560 174787.590  0.57%  24.3  335s\n",
      " 191316 113881     cutoff   98      175785.560 174789.264  0.57%  24.3  341s\n",
      "H191317 113699                    175785.00000 174789.264  0.57%  24.3  341s\n",
      "H191360 111048                    175779.80000 174789.264  0.56%  24.3  341s\n",
      " 193404 113499 175685.984   95  377 175779.800 174792.023  0.56%  24.3  348s\n",
      " 194897 114788 175735.203  141  202 175779.800 174792.491  0.56%  24.2  351s\n",
      "H196762 104960                    175760.80000 174794.023  0.55%  24.2  354s\n",
      " 197957 105718     cutoff   90      175760.800 174794.341  0.55%  24.2  357s\n",
      " 199413 106783     cutoff  115      175760.800 174794.721  0.55%  24.2  360s\n",
      " 202187 108807 infeasible  104      175760.800 174797.014  0.55%  24.2  366s\n",
      " 205010 110904 175753.420  192  169 175760.800 174797.014  0.55%  24.2  372s\n",
      " 206436 111843 175756.784  250  172 175760.800 174797.014  0.55%  24.2  375s\n",
      " 210411 114541 175212.033   94  433 175760.800 174803.529  0.54%  24.3  382s\n",
      " 213131 116673 175318.771   88  386 175760.800 174804.213  0.54%  24.3  387s\n",
      " 215920 118634 175418.229  100  350 175760.800 174804.583  0.54%  24.3  391s\n",
      " 218563 120620 175300.458  108  290 175760.800 174810.792  0.54%  24.3  397s\n",
      " 221302 122495 175521.338   99  381 175760.800 174814.653  0.54%  24.4  402s\n",
      " 222633 123457 175380.755  104  345 175760.800 174815.881  0.54%  24.4  405s\n",
      " 225329 125342 175614.770   78  557 175760.800 174819.650  0.54%  24.6  410s\n",
      " 228099 127459 175724.434  108  261 175760.800 174821.839  0.53%  24.9  417s\n",
      " 229590 128405 175308.284  101  268 175760.800 174822.726  0.53%  25.0  420s\n",
      " 232570 130457     cutoff  112      175760.800 174827.971  0.53%  25.2  427s\n",
      " 234126 131542 174884.676   87  452 175760.800 174828.841  0.53%  25.3  430s\n",
      " 237316 133436 175494.247   84  409 175760.800 174832.130  0.53%  25.5  437s\n",
      " 238562 134381 175463.061   80  490 175760.800 174832.154  0.53%  25.6  440s\n",
      " 240716 135033 175259.668  104  349 175760.800 174835.872  0.53%  25.8  445s\n",
      " 243131 136646 174842.056   81  512 175760.800 174838.304  0.52%  26.1  452s\n",
      " 244562 137510 175092.732   92  431 175760.800 174840.336  0.52%  26.3  456s\n",
      " 247708 139639     cutoff   99      175760.800 174842.291  0.52%  26.6  463s\n",
      " 249380 140922 175288.740  109  240 175760.800 174844.305  0.52%  26.7  468s\n",
      " 251121 142398 175601.126  124  224 175760.800 174845.662  0.52%  26.7  472s\n",
      " 253033 143912 175672.229  285  171 175760.800 174845.662  0.52%  26.8  476s\n",
      " 254994 145146 175677.733  426  176 175760.800 174845.662  0.52%  26.7  480s\n",
      "H258148 146177                    175760.08000 174845.662  0.52%  26.7  486s\n",
      "H258224 145924                    175759.72000 174845.662  0.52%  26.7  486s\n",
      "H258491 144719                    175758.40000 174845.662  0.52%  26.7  486s\n",
      "H258801 143677                    175757.44000 174845.662  0.52%  26.7  486s\n",
      "H258840 137175                    175752.56000 174845.662  0.52%  26.7  486s\n",
      " 260416 138848 175745.236  660  167 175752.560 174847.810  0.51%  26.8  492s\n",
      " 261693 139860     cutoff  109      175752.560 174852.386  0.51%  26.9  496s\n",
      "H263533 140748                    175752.32000 174854.691  0.51%  27.0  499s\n",
      "H264432 89914                    175691.80000 174854.691  0.48%  27.0  500s\n",
      " 266208 91048 175645.736  139  222 175691.800 174855.880  0.48%  27.2  507s\n",
      " 267710 92065 175667.280  225  209 175691.800 174855.880  0.48%  27.3  510s\n",
      " 270721 94076 175672.680  412  198 175691.800 174855.880  0.48%  27.5  517s\n",
      "H272114 89529                    175688.20000 174855.880  0.47%  27.6  521s\n",
      "H272115 79606                    175677.04000 174855.880  0.47%  27.6  521s\n",
      " 272174 80478     cutoff  479      175677.040 174863.283  0.46%  27.6  525s\n",
      "H273663 80660                    175676.40000 174863.930  0.46%  27.7  528s\n",
      "H273664 72507                    175664.44000 174863.930  0.46%  27.7  528s\n",
      " 274373 73943 175518.783   82  409 175664.440 174864.199  0.46%  27.7  534s\n",
      " 277311 75129 174871.369   56  637 175664.440 174865.859  0.45%  28.0  539s\n",
      " 279275 76353 175345.601   92  438 175664.440 174868.299  0.45%  28.1  543s\n",
      " 281150 77557 175430.523   93  366 175664.440 174869.974  0.45%  28.3  547s\n",
      " 282951 78682     cutoff  108      175664.440 174870.009  0.45%  28.4  551s\n",
      " 284699 79774 175117.316   93  471 175664.440 174872.598  0.45%  28.5  555s\n",
      " 287980 81733 175579.281  109  293 175664.440 174877.501  0.45%  28.7  562s\n",
      " 289606 82853     cutoff  108      175664.440 174878.199  0.45%  28.9  566s\n",
      " 291235 83878 175283.044   90  446 175664.440 174880.672  0.45%  29.0  570s\n",
      " 294231 85773 175023.402  103  239 175664.440 174883.026  0.44%  29.2  577s\n",
      " 295955 86739 175656.529  107  314 175664.440 174883.776  0.44%  29.4  581s\n",
      " 297649 87862 175066.709  100  301 175664.440 174884.481  0.44%  29.5  585s\n",
      " 301397 90308     cutoff  110      175664.440 174889.360  0.44%  29.7  594s\n",
      " 303162 91359 175552.201   91  375 175664.440 174890.397  0.44%  29.8  597s\n",
      " 304860 92657 175631.276  107  310 175664.440 174892.836  0.44%  29.9  602s\n",
      " 306748 93938 175457.235   95  408 175664.440 174893.919  0.44%  30.0  606s\n",
      " 308746 95248 175070.502   94  408 175664.440 174895.266  0.44%  30.1  610s\n",
      " 312312 97493     cutoff   99      175664.440 174898.124  0.44%  30.3  618s\n",
      " 314146 98608 175473.943   82  355 175664.440 174899.361  0.44%  30.3  622s\n",
      " 315902 99737 174968.944   79  507 175664.440 174900.195  0.44%  30.4  627s\n",
      " 317749 100757 175602.760  117  254 175664.440 174901.185  0.43%  30.5  631s\n",
      " 319574 101846 175536.778  111  294 175664.440 174903.041  0.43%  30.6  635s\n",
      " 323061 104088 175383.624  108  362 175664.440 174905.684  0.43%  30.7  643s\n",
      "H324840 104629                    175664.20000 174906.993  0.43%  30.8  648s\n",
      "H325071 104113                    175663.64000 174907.169  0.43%  30.8  648s\n",
      "H325359 101687                    175658.52000 174907.169  0.43%  30.8  648s\n",
      "H325824 87296                    175629.88000 174907.169  0.41%  30.8  648s\n",
      " 326422 87573     cutoff   98      175629.880 174908.734  0.41%  30.8  651s\n",
      "H326423 87343                    175629.24000 174908.734  0.41%  30.8  651s\n",
      "H326476 83393                    175623.32000 174908.734  0.41%  30.8  651s\n",
      " 327161 84356 175426.565   95  307 175623.320 174908.996  0.41%  30.8  656s\n",
      " 328944 85157 175608.059  106  234 175623.320 174910.550  0.41%  31.0  660s\n",
      " 330362 86183 175460.144   92  453 175623.320 174912.191  0.40%  31.1  665s\n",
      " 334167 88236     cutoff  117      175623.320 174916.189  0.40%  31.3  674s\n",
      " 336052 89252 175561.800  116  281 175623.320 174917.155  0.40%  31.4  679s\n",
      " 337894 90490 175450.805   92  397 175623.320 174919.136  0.40%  31.5  683s\n",
      " 339823 91717     cutoff  123      175623.320 174919.836  0.40%  31.6  688s\n",
      " 341756 92843 175544.518  101  333 175623.320 174920.628  0.40%  31.7  693s\n",
      " 343655 93932 175244.599   88  427 175623.320 174921.232  0.40%  31.8  698s\n",
      " 345469 94912     cutoff  103      175623.320 174922.843  0.40%  31.8  703s\n",
      " 347335 95778 175114.775   92  417 175623.320 174923.816  0.40%  31.9  707s\n",
      " 348824 96791     cutoff  114      175623.320 174925.311  0.40%  32.0  712s\n",
      " 350746 97809 175580.320   93  419 175623.320 174926.784  0.40%  32.1  716s\n",
      " 352573 98960     cutoff  120      175623.320 174927.876  0.40%  32.2  721s\n",
      " 354424 99960 175597.861  126  208 175623.320 174928.499  0.40%  32.3  726s\n",
      " 356334 100899 175267.627   76  584 175623.320 174929.923  0.39%  32.4  730s\n",
      " 358155 101827 175103.631  106  274 175623.320 174932.337  0.39%  32.5  735s\n",
      " 359997 102583 175567.722  115  271 175623.320 174933.303  0.39%  32.6  740s\n",
      " 363188 103559 175402.007  115  271 175623.320 174936.673  0.39%  32.9  749s\n",
      " 364748 104263 174990.580  107  291 175623.320 174938.151  0.39%  33.0  753s\n",
      " 366349 104798 174963.259   95  444 175623.320 174938.509  0.39%  33.2  757s\n",
      " 367706 105552 175591.423  107  294 175623.320 174940.413  0.39%  33.3  762s\n",
      " 369405 106382 175276.849  107  277 175623.320 174941.458  0.39%  33.5  767s\n",
      " 371251 106922 175054.432   99  383 175623.320 174942.408  0.39%  33.7  773s\n",
      "H371392 106721                    175622.80000 174942.477  0.39%  33.7  773s\n",
      "H372349 106577                    175622.52000 174942.776  0.39%  33.8  773s\n",
      " 372949 107270 175109.834  100  385 175622.520 174943.932  0.39%  33.9  777s\n",
      "H373095 107131                    175622.20000 174943.939  0.39%  33.9  777s\n",
      "H373162 106963                    175621.92000 174943.955  0.39%  33.9  777s\n",
      "H373503 105707                    175620.20000 174943.955  0.39%  33.9  777s\n",
      " 374158 107557     cutoff  101      175620.200 174944.421  0.38%  33.9  784s\n",
      " 377061 108844     cutoff  122      175620.200 174945.065  0.38%  33.8  789s\n",
      " 379162 110210 175043.476   96  392 175620.200 174945.578  0.38%  33.9  794s\n",
      " 379517 110210 175209.391  107  336 175620.200 174946.165  0.38%  33.9  795s\n",
      " 381252 111707 175505.049  293  171 175620.200 174946.304  0.38%  33.9  800s\n",
      " 383396 113096 175591.362  577  155 175620.200 174946.304  0.38%  34.0  805s\n",
      " 385520 113869 175604.397  866  156 175620.200 174948.684  0.38%  34.0  810s\n",
      " 388689 115384 175298.527   98  446 175620.200 174951.300  0.38%  34.2  819s\n",
      " 390386 116213 175553.061   97  335 175620.200 174952.652  0.38%  34.3  824s\n",
      " 392109 116873 175217.650  100  384 175620.200 174953.778  0.38%  34.4  828s\n",
      " 393815 117786     cutoff  121      175620.200 174954.436  0.38%  34.5  834s\n",
      " 395666 118741 175563.158  108  314 175620.200 174955.437  0.38%  34.7  840s\n",
      " 397558 119725 175130.003  103  346 175620.200 174956.752  0.38%  34.8  845s\n",
      " 399467 120304 175511.631  103  369 175620.200 174957.372  0.38%  34.8  850s\n",
      "H399468 120281                    175620.16000 174957.372  0.38%  34.8  850s\n",
      "H399571 120178                    175619.92000 174957.372  0.38%  34.8  850s\n",
      " 400369 121419 175313.527  103  261 175619.920 174957.508  0.38%  34.9  855s\n",
      " 402453 122630 175403.344  106  343 175619.920 174959.112  0.38%  34.9  861s\n",
      " 404436 123748 175587.674  106  253 175619.920 174959.779  0.38%  35.0  866s\n",
      " 406172 124921 175561.388  118  220 175619.920 174960.759  0.38%  35.0  870s\n",
      " 408005 126103     cutoff  119      175619.920 174961.542  0.37%  35.0  876s\n",
      " 409805 127142 175187.374   80  452 175619.920 174962.146  0.37%  35.0  880s\n",
      " 411532 128263 175552.485  107  303 175619.920 174963.104  0.37%  35.1  885s\n",
      " 413242 129297     cutoff  114      175619.920 174963.836  0.37%  35.1  890s\n",
      " 414979 130347     cutoff  120      175619.920 174964.443  0.37%  35.2  895s\n",
      " 416829 131606 174978.515  103  368 175619.920 174964.709  0.37%  35.2  900s\n",
      " 418767 132817 175575.243  115  292 175619.920 174965.085  0.37%  35.2  905s\n",
      " 420629 134032 175527.652  100  312 175619.920 174965.608  0.37%  35.2  910s\n",
      " 422495 135270 175565.950  115  284 175619.920 174966.399  0.37%  35.2  916s\n",
      " 424305 136424 175307.141  100  332 175619.920 174967.035  0.37%  35.2  921s\n",
      " 426127 137413 175424.455  102  317 175619.920 174967.521  0.37%  35.2  925s\n",
      " 427774 138512 175457.284  102  335 175619.920 174968.455  0.37%  35.3  931s\n",
      " 429583 139664     cutoff   84      175619.920 174968.932  0.37%  35.3  936s\n",
      " 431395 140955 175579.618  116  223 175619.920 174969.438  0.37%  35.3  941s\n",
      " 433315 142369 175586.663   89  466 175619.920 174970.397  0.37%  35.3  946s\n",
      " 435309 143619 175267.850   88  443 175619.920 174971.008  0.37%  35.2  952s\n",
      " 437207 144739 175560.521  104  266 175619.920 174971.666  0.37%  35.2  957s\n",
      " 439017 145999 175495.309  113  283 175619.920 174972.556  0.37%  35.2  962s\n",
      " 440872 147340 175539.847  123  226 175619.920 174972.928  0.37%  35.2  968s\n",
      " 442714 148490 175199.824  106  346 175619.920 174973.929  0.37%  35.2  973s\n",
      " 444419 149511 175388.621  116  242 175619.920 174974.379  0.37%  35.2  978s\n",
      " 446162 150527 174987.912   91  455 175619.920 174975.393  0.37%  35.2  984s\n",
      " 447916 151525 175457.943  117  243 175619.920 174976.316  0.37%  35.3  989s\n",
      " 449710 152642 175513.696   97  311 175619.920 174977.054  0.37%  35.3  995s\n",
      " 451536 153883 175266.219  100  347 175619.920 174977.083  0.37%  35.3 1000s\n",
      " 453417 154404 infeasible  113      175619.920 174977.700  0.37%  35.3 1005s\n",
      "H453621 154358                    175619.84000 174977.700  0.37%  35.3 1005s\n",
      "H453774 154228                    175619.64000 174977.700  0.37%  35.3 1005s\n",
      "H454068 154216                    175619.60000 174977.700  0.37%  35.3 1005s\n",
      " 454220 155540     cutoff  117      175619.600 174978.184  0.37%  35.3 1011s\n",
      " 456308 156773     cutoff  113      175619.600 174978.316  0.37%  35.3 1017s\n",
      " 458235 158054 175379.775   85  418 175619.600 174978.988  0.36%  35.3 1022s\n",
      " 460212 159088 175409.173  113  285 175619.600 174979.815  0.36%  35.3 1028s\n",
      " 461957 160082 174994.805  103  350 175619.600 174981.517  0.36%  35.3 1034s\n",
      " 463709 161138     cutoff  115      175619.600 174982.327  0.36%  35.3 1040s\n",
      " 465562 162189 175389.436  116  238 175619.600 174982.833  0.36%  35.3 1046s\n",
      " 467342 163258     cutoff  117      175619.600 174983.688  0.36%  35.4 1052s\n",
      " 469100 164427 175364.466  102  310 175619.600 174983.970  0.36%  35.4 1058s\n",
      " 470980 165727     cutoff  119      175619.600 174984.541  0.36%  35.4 1063s\n",
      " 472961 167032 175428.477  102  342 175619.600 174985.170  0.36%  35.4 1069s\n",
      " 474934 168186 175407.429  111  252 175619.600 174985.669  0.36%  35.4 1075s\n",
      " 476722 169284     cutoff  110      175619.600 174986.012  0.36%  35.4 1081s\n",
      " 478550 170114     cutoff  136      175619.600 174986.582  0.36%  35.4 1086s\n",
      " 480149 170882     cutoff  101      175619.600 174987.602  0.36%  35.5 1092s\n",
      " 481831 171805 175061.366  100  439 175619.600 174988.679  0.36%  35.5 1099s\n",
      " 483685 173112 175564.529  118  230 175619.600 174989.584  0.36%  35.6 1105s\n",
      "H485069 86276                    175498.44000 174990.245  0.29%  35.6 1106s\n",
      " 485696 85427     cutoff  100      175498.440 174990.353  0.29%  35.6 1111s\n",
      "H485705 79476                    175492.32000 174990.353  0.29%  35.6 1111s\n",
      "H485709 64502                    175466.76000 174990.353  0.27%  35.6 1111s\n",
      " 485784 65118     cutoff   84      175466.760 174990.366  0.27%  35.6 1116s\n",
      " 487452 65699 175092.347  110  265 175466.760 174991.879  0.27%  35.7 1122s\n",
      " 489103 66963 175097.606  111  297 175466.760 174992.792  0.27%  35.8 1129s\n",
      " 491290 67610 175423.451  220  186 175466.760 174992.792  0.27%  35.7 1134s\n",
      " 493268 68256     cutoff  248      175466.760 174993.452  0.27%  35.7 1140s\n",
      " 495018 69033 175442.942  127  276 175466.760 174993.824  0.27%  35.8 1146s\n",
      " 496817 69693 175033.505  150  188 175466.760 174994.812  0.27%  35.8 1151s\n",
      " 498458 70206 175404.707  249  191 175466.760 174995.995  0.27%  35.8 1156s\n",
      " 500208 70818     cutoff  108      175466.760 174996.989  0.27%  35.8 1161s\n",
      " 501840 72058     cutoff  114      175466.760 174998.127  0.27%  35.9 1167s\n",
      " 503755 73329 175044.320  174  206 175466.760 174999.139  0.27%  35.8 1173s\n",
      " 505750 74324 175062.324  217  183 175466.760 174999.139  0.27%  35.8 1179s\n",
      " 507737 75212 175064.763  258  191 175466.760 174999.139  0.27%  35.7 1185s\n",
      " 509809 76297 175122.517  289  196 175466.760 174999.464  0.27%  35.6 1191s\n",
      " 511921 77365 175195.055  188  204 175466.760 174999.464  0.27%  35.5 1197s\n",
      " 513945 78484 175294.865  267  213 175466.760 174999.464  0.27%  35.4 1202s\n",
      "H515755 76615                    175462.36000 174999.464  0.26%  35.4 1206s\n",
      "H515785 74851                    175456.88000 174999.464  0.26%  35.4 1206s\n",
      " 516414 77896 175009.023  134  273 175456.880 174999.464  0.26%  35.4 1223s\n",
      " 521116 79379 175066.087  161  206 175456.880 174999.464  0.26%  35.2 1229s\n",
      " 523155 80782 175086.086  217  194 175456.880 174999.464  0.26%  35.1 1235s\n",
      " 525123 82068 174999.464  133  279 175456.880 174999.464  0.26%  35.1 1241s\n",
      " 527089 83235 175208.787  168  193 175456.880 174999.464  0.26%  35.0 1246s\n",
      " 529042 84349 175278.109  185  193 175456.880 174999.464  0.26%  34.9 1252s\n",
      " 530951 85642     cutoff  209      175456.880 174999.531  0.26%  34.9 1257s\n",
      " 532913 86807 175358.126  166  205 175456.880 174999.531  0.26%  34.8 1263s\n",
      " 534935 87740 175319.979  190  194 175456.880 174999.531  0.26%  34.7 1268s\n",
      " 536487 88923 175009.090  137  220 175456.880 174999.531  0.26%  34.7 1274s\n",
      "H536493 88903                    175456.80000 174999.531  0.26%  34.7 1274s\n",
      " 538342 89627 175135.179  161  184 175456.800 174999.531  0.26%  34.7 1279s\n",
      "H538451 89607                    175456.72000 174999.531  0.26%  34.7 1279s\n",
      "H540030 90148                    175456.48000 174999.531  0.26%  34.7 1285s\n",
      "H541314 90129                    175456.40000 174999.531  0.26%  34.8 1285s\n",
      " 541744 91158 175259.108  144  247 175456.400 174999.531  0.26%  34.8 1290s\n",
      " 543593 92607     cutoff  145      175456.400 174999.531  0.26%  34.8 1295s\n",
      " 545465 93567 175111.784  167  227 175456.400 174999.531  0.26%  34.7 1301s\n",
      " 547309 94424     cutoff  193      175456.400 174999.531  0.26%  34.8 1307s\n",
      " 549139 95655 175248.110  144  227 175456.400 174999.531  0.26%  34.8 1313s\n",
      "H549220 95620                    175456.32000 174999.531  0.26%  34.8 1313s\n",
      " 551012 96453 175102.770  172  213 175456.320 174999.531  0.26%  34.8 1320s\n",
      "H551135 96128                    175454.72000 174999.531  0.26%  34.8 1320s\n",
      "H551280 95391                    175451.56000 174999.531  0.26%  34.8 1320s\n",
      "H552642 91733                    175438.84000 174999.531  0.25%  34.8 1320s\n",
      " 554189 93447 175106.275  153  232 175438.840 174999.531  0.25%  34.8 1330s\n",
      " 555980 94442     cutoff  129      175438.840 174999.785  0.25%  34.8 1335s\n",
      " 557802 95596 175231.552  149  244 175438.840 174999.934  0.25%  34.8 1341s\n",
      " 559745 96458 infeasible  144      175438.840 174999.934  0.25%  34.7 1347s\n",
      " 561596 97196     cutoff  149      175438.840 174999.934  0.25%  34.7 1352s\n",
      " 563414 98274 175377.802  148  234 175438.840 174999.934  0.25%  34.8 1357s\n",
      " 565239 99349 175063.210  174  224 175438.840 174999.934  0.25%  34.8 1362s\n",
      " 567076 100095 175280.174  201  213 175438.840 174999.934  0.25%  34.7 1368s\n",
      " 568923 100896 175024.806  140  212 175438.840 175000.004  0.25%  34.7 1373s\n",
      " 570773 101582     cutoff  149      175438.840 175000.004  0.25%  34.8 1378s\n",
      " 572351 102885 175135.348  174  212 175438.840 175000.208  0.25%  34.8 1384s\n",
      " 574346 103913 175108.327  164  249 175438.840 175000.208  0.25%  34.7 1389s\n",
      " 576190 104697 175143.211  170  216 175438.840 175000.208  0.25%  34.7 1394s\n",
      " 577874 105726 175013.361  139  197 175438.840 175000.603  0.25%  34.7 1400s\n",
      " 579580 107126 175015.264  134  218 175438.840 175000.747  0.25%  34.7 1405s\n",
      " 581311 108398 175119.490  185  223 175438.840 175000.747  0.25%  34.6 1410s\n",
      " 583079 108803 175340.923  236  240 175438.840 175000.747  0.25%  34.6 1415s\n",
      " 584684 109273 175012.834  139  228 175438.840 175000.814  0.25%  34.7 1420s\n",
      " 586314 109643 175012.586  137  197 175438.840 175000.814  0.25%  34.7 1425s\n",
      " 588000 110104 175024.613  142  211 175438.840 175001.217  0.25%  34.7 1430s\n",
      " 591003 111183 175179.082  139  212 175438.840 175001.286  0.25%  34.8 1440s\n",
      " 592840 111919     cutoff  111      175438.840 175001.397  0.25%  34.9 1446s\n",
      " 594821 112768     cutoff  114      175438.840 175002.413  0.25%  34.9 1452s\n",
      " 596670 113648 175010.568  143  223 175438.840 175002.758  0.25%  35.0 1459s\n",
      " 598489 114970 175006.564  145  203 175438.840 175003.355  0.25%  35.0 1464s\n",
      " 600324 115799 175038.823  142  205 175438.840 175003.791  0.25%  35.0 1470s\n",
      " 602129 116714 175044.867  150  235 175438.840 175003.817  0.25%  35.0 1476s\n",
      " 603989 117504 175209.970  146  248 175438.840 175003.817  0.25%  35.0 1482s\n",
      " 605832 118533 175366.942  142  222 175438.840 175003.817  0.25%  35.0 1488s\n",
      " 607682 119163 175015.647  141  190 175438.840 175003.922  0.25%  35.0 1492s\n",
      "H609129 119007                    175437.48000 175003.922  0.25%  35.0 1497s\n",
      " 610024 119248 175210.462  144  273 175437.480 175004.290  0.25%  35.1 1504s\n",
      " 612277 119387 175152.397  158  248 175437.480 175004.290  0.25%  35.1 1511s\n",
      " 614286 120184 175298.211  146  249 175437.480 175004.290  0.25%  35.2 1518s\n",
      " 616347 120744     cutoff  156      175437.480 175004.376  0.25%  35.3 1525s\n",
      " 618506 120820 175065.183  152  273 175437.480 175004.494  0.25%  35.3 1531s\n",
      " 620410 120809 175039.087  129  254 175437.480 175004.494  0.25%  35.4 1537s\n",
      " 622229 120972 175005.100  137  223 175437.480 175005.100  0.25%  35.5 1542s\n",
      " 623888 121021 175023.706  133  238 175437.480 175005.538  0.25%  35.5 1547s\n",
      " 625471 121012 175020.605  138  280 175437.480 175005.538  0.25%  35.6 1550s\n",
      " 626748 121000 175219.932  143  221 175437.480 175005.546  0.25%  35.7 1556s\n",
      " 628658 120968     cutoff  145      175437.480 175005.604  0.25%  35.8 1561s\n",
      " 630539 121011     cutoff  145      175437.480 175005.604  0.25%  35.9 1567s\n",
      " 632363 121105 175021.987  141  259 175437.480 175005.859  0.25%  36.0 1572s\n",
      " 634168 121098     cutoff  144      175437.480 175006.007  0.25%  36.1 1577s\n",
      " 635884 121098     cutoff   84      175437.480 175006.064  0.25%  36.2 1583s\n",
      " 637723 121221 175025.544  143  243 175437.480 175006.183  0.25%  36.3 1589s\n",
      "H637850 121203                    175437.40000 175006.183  0.25%  36.3 1589s\n",
      "H638106 121054                    175436.76000 175006.183  0.25%  36.3 1589s\n",
      " 639232 121057     cutoff  144      175436.760 175006.411  0.25%  36.4 1593s\n",
      "H639234 120779                    175435.80000 175006.411  0.24%  36.4 1593s\n",
      "H639382 120553                    175435.08000 175006.438  0.24%  36.4 1593s\n",
      "H639659 120395                    175434.72000 175006.465  0.24%  36.4 1593s\n",
      "H639715 119539                    175432.20000 175006.465  0.24%  36.4 1593s\n",
      " 640211 119513     cutoff  143      175432.200 175006.480  0.24%  36.4 1599s\n",
      " 642285 119457     cutoff  147      175432.200 175006.564  0.24%  36.5 1605s\n",
      " 644213 119538 175021.631  134  290 175432.200 175006.564  0.24%  36.6 1611s\n",
      " 646216 119530 175244.246  153  249 175432.200 175006.731  0.24%  36.7 1615s\n",
      " 647604 119525     cutoff  143      175432.200 175007.037  0.24%  36.8 1621s\n",
      " 649473 119586     cutoff  154      175432.200 175007.242  0.24%  36.9 1626s\n",
      " 651256 119728 175249.583  144  246 175432.200 175007.389  0.24%  36.9 1631s\n",
      " 653096 119773     cutoff  150      175432.200 175007.872  0.24%  37.0 1637s\n",
      " 654854 119904     cutoff  142      175432.200 175008.238  0.24%  37.1 1642s\n",
      " 656583 119915 175018.844  144  212 175432.200 175008.495  0.24%  37.2 1647s\n",
      " 658413 119967 175305.670  155  248 175432.200 175008.868  0.24%  37.2 1653s\n",
      " 660069 119959 infeasible  145      175432.200 175009.085  0.24%  37.3 1658s\n",
      " 661834 119958 infeasible  136      175432.200 175009.090  0.24%  37.4 1663s\n",
      " 663637 119946     cutoff  146      175432.200 175009.090  0.24%  37.5 1668s\n",
      " 665392 119921 infeasible  143      175432.200 175009.090  0.24%  37.6 1673s\n",
      " 667152 119896     cutoff  145      175432.200 175009.090  0.24%  37.6 1678s\n",
      " 668962 119894     cutoff  144      175432.200 175009.090  0.24%  37.7 1684s\n",
      " 670752 120114 175369.204  142  246 175432.200 175009.090  0.24%  37.8 1689s\n",
      " 672601 120265     cutoff  145      175432.200 175009.127  0.24%  37.9 1694s\n",
      " 674008 120526     cutoff  144      175432.200 175009.151  0.24%  37.9 1700s\n",
      " 675858 120745 175398.835  111  286 175432.200 175009.151  0.24%  38.0 1706s\n",
      " 677598 120988     cutoff  144      175432.200 175009.494  0.24%  38.0 1711s\n",
      " 679439 121226 175188.632  143  229 175432.200 175009.562  0.24%  38.1 1717s\n",
      " 681266 121533 175405.109  118  305 175432.200 175009.840  0.24%  38.1 1723s\n",
      " 683078 121711 175280.073  147  265 175432.200 175009.890  0.24%  38.2 1729s\n",
      " 684919 121913 175027.995  147  250 175432.200 175010.363  0.24%  38.3 1735s\n",
      " 686763 122083 175010.363  146  238 175432.200 175010.363  0.24%  38.3 1741s\n",
      " 688731 122227 175077.719   99  408 175432.200 175010.437  0.24%  38.4 1747s\n",
      " 690503 122295 175028.103  148  270 175432.200 175010.717  0.24%  38.4 1751s\n",
      " 691884 122366     cutoff  148      175432.200 175011.173  0.24%  38.5 1756s\n",
      " 693596 122385 175241.992  142  231 175432.200 175011.303  0.24%  38.6 1761s\n",
      " 695398 122408 175283.557  149  256 175432.200 175011.303  0.24%  38.6 1767s\n",
      " 697279 122411 175038.350  144  251 175432.200 175011.551  0.24%  38.7 1773s\n",
      " 699091 122427 175222.894  153  257 175432.200 175011.646  0.24%  38.8 1778s\n",
      " 700932 122502     cutoff  138      175432.200 175011.776  0.24%  38.9 1784s\n",
      "H702769 122452                    175432.00000 175011.954  0.24%  39.0 1788s\n",
      "H703137 122405                    175431.88000 175011.954  0.24%  39.0 1788s\n",
      " 703406 122446 175221.224  141  275 175431.880 175011.955  0.24%  39.0 1793s\n",
      " 705252 122596     cutoff  143      175431.880 175012.013  0.24%  39.1 1799s\n",
      " 707218 122854 175222.556  144  251 175431.880 175012.024  0.24%  39.1 1806s\n",
      " 709232 123022 175221.747  141  264 175431.880 175012.024  0.24%  39.2 1811s\n",
      " 710688 123236 175037.386  142  266 175431.880 175012.078  0.24%  39.2 1817s\n",
      " 712543 123526 175282.840  140  245 175431.880 175012.078  0.24%  39.3 1823s\n",
      " 714421 123755 175182.405  141  249 175431.880 175012.078  0.24%  39.3 1829s\n",
      " 716148 123999 175029.751  135  254 175431.880 175012.253  0.24%  39.4 1834s\n",
      " 717969 124148     cutoff  141      175431.880 175012.482  0.24%  39.4 1842s\n",
      "H717971 124091                    175431.76000 175012.482  0.24%  39.4 1842s\n",
      "H718056 124061                    175431.68000 175012.551  0.24%  39.4 1842s\n",
      "H718219 123933                    175431.40000 175012.551  0.24%  39.4 1842s\n",
      " 719046 124169     cutoff  144      175431.400 175012.551  0.24%  39.4 1848s\n",
      " 720980 124360 infeasible  142      175431.400 175012.551  0.24%  39.5 1854s\n",
      " 722859 124339 175221.751  145  282 175431.400 175012.551  0.24%  39.6 1859s\n",
      " 724653 124407 175311.840  151  231 175431.400 175012.586  0.24%  39.6 1864s\n",
      " 726479 124506 175052.774  148  241 175431.400 175012.756  0.24%  39.7 1870s\n",
      " 729947 124548 infeasible  136      175431.400 175012.756  0.24%  39.8 1879s\n",
      " 731681 124627 175209.201  138  233 175431.400 175012.834  0.24%  39.8 1884s\n",
      " 733376 124707     cutoff  143      175431.400 175012.895  0.24%  39.9 1890s\n",
      " 736949 124630 175373.230  149  223 175431.400 175013.306  0.24%  40.0 1900s\n",
      " 738743 124577 infeasible  140      175431.400 175013.349  0.24%  40.1 1905s\n",
      " 740543 124509     cutoff  142      175431.400 175013.361  0.24%  40.2 1910s\n",
      " 742285 124500 175029.751  143  263 175431.400 175013.361  0.24%  40.2 1915s\n",
      " 744070 124476     cutoff  147      175431.400 175013.376  0.24%  40.3 1920s\n",
      " 745846 124414     cutoff  147      175431.400 175013.376  0.24%  40.3 1925s\n",
      " 747606 124523     cutoff  146      175431.400 175013.376  0.24%  40.4 1931s\n",
      " 749481 124576 175404.669  329  178 175431.400 175013.376  0.24%  40.5 1936s\n",
      " 751218 124683 175296.618  145  267 175431.400 175013.411  0.24%  40.5 1941s\n",
      " 752610 124766     cutoff  136      175431.400 175013.555  0.24%  40.6 1946s\n",
      " 754531 124730     cutoff  140      175431.400 175013.834  0.24%  40.6 1951s\n",
      " 756097 124926 175373.737  143  211 175431.400 175013.848  0.24%  40.7 1957s\n",
      " 758028 124927 175242.301  145  263 175431.400 175013.848  0.24%  40.7 1963s\n",
      "H758029 124746                    175431.12000 175013.848  0.24%  40.7 1963s\n",
      "H758064 124669                    175430.92000 175013.848  0.24%  40.7 1963s\n",
      "H758076 124572                    175430.72000 175013.848  0.24%  40.7 1963s\n",
      " 758077 124755 infeasible  146      175430.720 175013.848  0.24%  40.7 1968s\n",
      "H758078 124469                    175430.12000 175013.848  0.24%  40.7 1968s\n",
      " 759183 124986     cutoff  147      175430.120 175013.848  0.24%  40.8 1974s\n",
      " 760326 124986 175023.602  141  207 175430.120 175013.848  0.24%  40.8 1975s\n",
      " 761284 125505     cutoff  147      175430.120 175013.848  0.24%  40.8 1981s\n",
      " 763427 125863 175035.727  144  214 175430.120 175013.848  0.24%  40.8 1987s\n",
      " 765449 125879 175300.027  149  263 175430.120 175013.910  0.24%  40.9 1993s\n",
      " 767275 125969 175239.034  146  276 175430.120 175013.910  0.24%  40.9 1998s\n",
      " 769098 125989 175230.356  144  275 175430.120 175013.974  0.24%  41.0 2002s\n",
      " 770526 125912     cutoff  145      175430.120 175013.992  0.24%  41.0 2008s\n",
      " 772421 125899 175251.637  146  265 175430.120 175014.053  0.24%  41.1 2013s\n",
      " 774338 125923 175323.385  148  224 175430.120 175014.166  0.24%  41.1 2019s\n",
      " 776143 126104     cutoff  104      175430.120 175014.382  0.24%  41.2 2024s\n",
      " 777794 126225     cutoff  150      175430.120 175014.549  0.24%  41.2 2029s\n",
      " 779595 126316 175043.717  131  265 175430.120 175014.754  0.24%  41.3 2034s\n",
      " 781313 126272 infeasible  142      175430.120 175015.052  0.24%  41.3 2039s\n",
      " 783088 126242     cutoff  140      175430.120 175015.264  0.24%  41.4 2044s\n",
      " 783917 126242 175015.264  140  191 175430.120 175015.264  0.24%  41.4 2045s\n",
      " 786493 126228     cutoff  141      175430.120 175015.264  0.24%  41.5 2050s\n",
      " 786641 126284 175025.531  141  203 175430.120 175015.375  0.24%  41.5 2055s\n",
      " 789887 126284     cutoff  152      175430.120 175015.852  0.24%  41.6 2065s\n",
      " 791689 126369 175016.757   86  474 175430.120 175015.963  0.24%  41.7 2070s\n",
      " 793361 126449 175246.673  158  251 175430.120 175016.242  0.24%  41.7 2077s\n",
      " 795158 126463 175375.100  135  242 175430.120 175016.346  0.24%  41.8 2082s\n",
      " 797029 126412 175289.214  146  230 175430.120 175016.436  0.24%  41.8 2089s\n",
      " 798875 126434     cutoff  148      175430.120 175016.531  0.24%  41.9 2094s\n",
      " 800694 126536     cutoff  152      175430.120 175016.779  0.24%  41.9 2099s\n",
      " 802514 126580 175270.802  102  376 175430.120 175017.031  0.24%  42.0 2105s\n",
      " 804299 126688 175022.170  148  195 175430.120 175017.372  0.24%  42.1 2110s\n",
      " 806001 126745     cutoff  160      175430.120 175017.552  0.24%  42.1 2115s\n",
      "H806456 126675                    175429.96000 175017.563  0.24%  42.1 2115s\n",
      " 808073 126683 175184.852  141  246 175429.960 175017.629  0.24%  42.2 2126s\n",
      " 809999 126742 175414.078  102  327 175429.960 175017.664  0.24%  42.2 2131s\n",
      " 811910 126770 175376.479  135  218 175429.960 175017.892  0.23%  42.3 2137s\n",
      " 813637 126784     cutoff  144      175429.960 175018.038  0.23%  42.3 2142s\n",
      " 815461 126771 175046.594  148  264 175429.960 175018.097  0.23%  42.4 2148s\n",
      " 817300 126687     cutoff  139      175429.960 175018.169  0.23%  42.4 2154s\n",
      " 819207 126596 175290.794  150  243 175429.960 175018.196  0.23%  42.5 2159s\n",
      " 820951 126766     cutoff  147      175429.960 175018.196  0.23%  42.6 2165s\n",
      " 822847 126838 175228.284  133  270 175429.960 175018.468  0.23%  42.6 2171s\n",
      " 824712 126833 175018.829  153  226 175429.960 175018.624  0.23%  42.7 2176s\n",
      " 826152 126757 175236.436  145  265 175429.960 175018.624  0.23%  42.7 2182s\n",
      " 828050 126714 infeasible  143      175429.960 175018.668  0.23%  42.7 2188s\n",
      " 829949 126637 175387.713  151  233 175429.960 175018.829  0.23%  42.8 2194s\n",
      " 831908 126684     cutoff  175      175429.960 175018.829  0.23%  42.8 2200s\n",
      " 833696 126697 175365.512  105  261 175429.960 175019.007  0.23%  42.9 2205s\n",
      " 835459 126690 175020.066  138  193 175429.960 175019.251  0.23%  42.9 2211s\n",
      " 837220 126788 175229.370  149  239 175429.960 175019.434  0.23%  43.0 2217s\n",
      " 839020 126839 infeasible  150      175429.960 175019.692  0.23%  43.0 2223s\n",
      " 840814 126934     cutoff  149      175429.960 175019.907  0.23%  43.1 2228s\n",
      " 842613 126979 175205.179  143  247 175429.960 175020.049  0.23%  43.1 2233s\n",
      "H842668 126942                    175429.88000 175020.049  0.23%  43.1 2233s\n",
      " 843156 127203 175109.383   90  350 175429.880 175020.143  0.23%  43.1 2254s\n",
      " 848189 127350 175256.155  132  300 175429.880 175020.827  0.23%  43.2 2261s\n",
      "H848466 127232                    175429.64000 175020.862  0.23%  43.3 2261s\n",
      " 849116 127334     cutoff  153      175429.640 175020.862  0.23%  43.3 2268s\n",
      " 851334 127341 175236.515  100  337 175429.640 175021.110  0.23%  43.3 2276s\n",
      " 853446 127370 175043.755  144  277 175429.640 175021.216  0.23%  43.4 2283s\n",
      " 855558 127419     cutoff  154      175429.640 175021.396  0.23%  43.4 2290s\n",
      " 857515 127371 175063.295  143  222 175429.640 175021.572  0.23%  43.5 2297s\n",
      " 859557 127483 infeasible  149      175429.640 175021.637  0.23%  43.5 2304s\n",
      " 861541 127522 infeasible  144      175429.640 175021.702  0.23%  43.6 2309s\n",
      " 863082 127487     cutoff  144      175429.640 175022.014  0.23%  43.6 2314s\n",
      " 863838 127487 175195.811  148  213 175429.640 175022.036  0.23%  43.7 2315s\n",
      " 864887 127489 175276.383  144  225 175429.640 175022.110  0.23%  43.7 2320s\n",
      " 866685 127526 175204.376  145  215 175429.640 175022.145  0.23%  43.7 2326s\n",
      " 868515 127488     cutoff  156      175429.640 175022.280  0.23%  43.8 2333s\n",
      " 870490 127769     cutoff  157      175429.640 175022.364  0.23%  43.8 2339s\n",
      " 872320 127876 175311.926  152  264 175429.640 175022.388  0.23%  43.8 2344s\n",
      " 873691 127876 175024.901  144  223 175429.640 175022.448  0.23%  43.8 2345s\n",
      " 874026 128124 175023.576  131  296 175429.640 175022.508  0.23%  43.8 2350s\n",
      " 875757 128180     cutoff  151      175429.640 175022.711  0.23%  43.9 2356s\n",
      " 877512 128186     cutoff  146      175429.640 175022.998  0.23%  43.9 2361s\n",
      " 879281 128274     cutoff  151      175429.640 175023.115  0.23%  44.0 2368s\n",
      " 880980 128313 infeasible  135      175429.640 175023.505  0.23%  44.0 2372s\n",
      " 882328 128374 175382.114  146  245 175429.640 175023.571  0.23%  44.1 2379s\n",
      " 884295 128326     cutoff  148      175429.640 175023.581  0.23%  44.1 2385s\n",
      " 886170 128374 175322.871  159  205 175429.640 175023.642  0.23%  44.2 2392s\n",
      " 888101 128467 infeasible  144      175429.640 175024.044  0.23%  44.2 2398s\n",
      " 889954 128551     cutoff  143      175429.640 175024.044  0.23%  44.2 2404s\n",
      " 891805 128629     cutoff   94      175429.640 175024.054  0.23%  44.3 2411s\n",
      " 893682 128613 infeasible  145      175429.640 175024.149  0.23%  44.3 2417s\n",
      " 895566 128702 175195.708  153  237 175429.640 175024.293  0.23%  44.4 2423s\n",
      " 897384 129073 175109.736  165  177 175429.640 175024.517  0.23%  44.4 2430s\n",
      " 899328 129215 175060.917  155  259 175429.640 175024.587  0.23%  44.4 2435s\n",
      " 900954 129163     cutoff  151      175429.640 175024.623  0.23%  44.4 2441s\n",
      " 902666 129293 175070.054  158  214 175429.640 175024.823  0.23%  44.5 2447s\n",
      " 904457 129309     cutoff  163      175429.640 175024.916  0.23%  44.5 2452s\n",
      " 906210 129404     cutoff  147      175429.640 175025.074  0.23%  44.5 2458s\n",
      " 907885 129423 175062.324  159  196 175429.640 175025.279  0.23%  44.6 2464s\n",
      " 909662 129406 175292.671  139  276 175429.640 175025.327  0.23%  44.6 2470s\n",
      " 911473 129330     cutoff  114      175429.640 175025.551  0.23%  44.7 2476s\n",
      " 912423 129361 175198.549  148  232 175429.640 175025.575  0.23%  44.7 2483s\n",
      " 914325 129336 175197.374  150  216 175429.640 175025.682  0.23%  44.7 2489s\n",
      " 916196 129377     cutoff  139      175429.640 175025.800  0.23%  44.8 2495s\n",
      " 917952 129620     cutoff  147      175429.640 175025.918  0.23%  44.8 2500s\n",
      " 919400 129814 175383.222  143  205 175429.640 175025.980  0.23%  44.8 2506s\n",
      " 921342 130027 175194.119  153  232 175429.640 175026.194  0.23%  44.9 2513s\n",
      " 923172 130094 175197.420  141  223 175429.640 175026.300  0.23%  44.9 2519s\n",
      " 925022 130283 175238.603  151  286 175429.640 175026.457  0.23%  44.9 2525s\n",
      " 926826 130444 175195.495  136  196 175429.640 175026.653  0.23%  45.0 2532s\n",
      " 928646 130778 175199.259  146  226 175429.640 175026.801  0.23%  45.0 2538s\n",
      " 930481 130829 175305.747  150  230 175429.640 175026.897  0.23%  45.0 2545s\n",
      " 932308 131526 175054.029  139  233 175429.640 175027.123  0.23%  45.0 2552s\n",
      " 934243 132079 175065.730  149  232 175429.640 175027.221  0.23%  45.0 2558s\n",
      " 936130 132214 175298.361  150  241 175429.640 175027.382  0.23%  45.0 2564s\n",
      " 937678 132564 175382.595  146  246 175429.640 175027.518  0.23%  45.1 2570s\n",
      " 939492 132757 175034.403  144  212 175429.640 175027.586  0.23%  45.1 2577s\n",
      " 941234 133079 175209.905  136  208 175429.640 175027.756  0.23%  45.1 2583s\n",
      " 943089 133410 175199.446  115  202 175429.640 175027.928  0.23%  45.1 2590s\n",
      " 944881 133599 175297.688  138  231 175429.640 175028.072  0.23%  45.2 2597s\n",
      " 946586 133564 175209.069  141  239 175429.640 175028.157  0.23%  45.2 2602s\n",
      " 948377 133653     cutoff  145      175429.640 175028.330  0.23%  45.2 2608s\n",
      " 950244 133949 175096.952  158  231 175429.640 175028.391  0.23%  45.3 2615s\n",
      " 952082 133975 175260.450  145  237 175429.640 175028.684  0.23%  45.3 2621s\n",
      " 953890 134204 175044.963  141  247 175429.640 175028.803  0.23%  45.3 2627s\n",
      " 955425 134696 175040.818  141  189 175429.640 175028.842  0.23%  45.3 2634s\n",
      " 957349 134870 175370.407  188  219 175429.640 175028.993  0.23%  45.4 2639s\n",
      "H957729 134792                    175429.40000 175029.002  0.23%  45.4 2639s\n",
      " 958239 135767     cutoff  115      175429.400 175029.002  0.23%  45.4 2647s\n",
      " 960405 136202 175146.295  168  185 175429.400 175029.254  0.23%  45.4 2654s\n",
      " 960563 136202     cutoff  179      175429.400 175029.266  0.23%  45.4 2655s\n",
      " 962336 136751 infeasible  149      175429.400 175029.370  0.23%  45.4 2662s\n",
      " 964293 137137 175393.887  142  239 175429.400 175029.442  0.23%  45.4 2669s\n",
      " 966187 137415 175304.569  154  240 175429.400 175029.613  0.23%  45.4 2676s\n",
      " 968046 137620 175301.320  132  289 175429.400 175029.683  0.23%  45.4 2682s\n",
      " 969895 137635 175303.937  144  244 175429.400 175029.880  0.23%  45.5 2689s\n",
      " 971687 138065     cutoff  147      175429.400 175029.915  0.23%  45.5 2696s\n",
      " 973501 138730 175311.325  142  251 175429.400 175030.054  0.23%  45.5 2702s\n",
      " 975150 138841     cutoff  171      175429.400 175030.117  0.23%  45.5 2708s\n",
      " 976848 139587 infeasible  157      175429.400 175030.117  0.23%  45.5 2716s\n",
      " 978765 140371 175122.161  165  204 175429.400 175030.183  0.23%  45.5 2723s\n",
      " 980687 141061 175160.966  188  216 175429.400 175030.233  0.23%  45.5 2730s\n",
      " 982543 141847 175070.812  157  217 175429.400 175030.353  0.23%  45.5 2737s\n",
      " 984461 142404 175300.303  140  268 175429.400 175030.395  0.23%  45.5 2744s\n",
      " 986311 143110     cutoff  139      175429.400 175030.585  0.23%  45.5 2751s\n",
      " 988112 143576 175408.498  115  278 175429.400 175030.649  0.23%  45.5 2757s\n",
      " 989736 143556 175303.487  148  250 175429.400 175030.896  0.23%  45.5 2762s\n",
      " 991403 143682 175291.228  107  300 175429.400 175031.198  0.23%  45.5 2768s\n",
      " 992867 143560 175236.315  147  246 175429.400 175031.554  0.23%  45.6 2775s\n",
      " 994748 143465 175278.658  173  223 175429.400 175031.683  0.23%  45.6 2781s\n",
      " 996603 143378 175274.471  155  239 175429.400 175031.932  0.23%  45.7 2788s\n",
      " 998474 143277     cutoff  142      175429.400 175032.231  0.23%  45.7 2794s\n",
      " 1000269 143226     cutoff  155      175429.400 175032.594  0.23%  45.8 2801s\n",
      " 1002041 143161     cutoff  153      175429.400 175032.792  0.23%  45.8 2807s\n",
      " 1003852 143104     cutoff  153      175429.400 175033.013  0.23%  45.9 2813s\n",
      " 1005556 143018 175240.525  152  242 175429.400 175033.250  0.23%  45.9 2820s\n",
      "H1007332 142965                    175429.32000 175033.511  0.23%  46.0 2826s\n",
      "H1007500 142876                    175429.08000 175033.537  0.23%  46.0 2826s\n",
      "H1007926 142765                    175428.88000 175033.537  0.23%  46.0 2826s\n",
      " 1008002 142758 175308.553  140  240 175428.880 175033.537  0.23%  46.0 2833s\n",
      " 1009955 142694 175073.593  149  254 175428.880 175033.789  0.23%  46.0 2841s\n",
      " 1011886 142685 175052.860  138  278 175428.880 175033.954  0.23%  46.1 2846s\n",
      " 1013238 142597     cutoff  151      175428.880 175034.086  0.23%  46.1 2854s\n",
      " 1015320 142600     cutoff  145      175428.880 175034.237  0.22%  46.1 2861s\n",
      " 1017231 142569     cutoff  148      175428.880 175034.479  0.22%  46.2 2868s\n",
      " 1019088 142505     cutoff  148      175428.880 175034.806  0.22%  46.2 2875s\n",
      " 1020908 142465 175140.407  100  416 175428.880 175034.992  0.22%  46.3 2882s\n",
      " 1022752 142429 175242.907  151  231 175428.880 175035.173  0.22%  46.3 2889s\n",
      " 1024504 142376     cutoff  152      175428.880 175035.414  0.22%  46.4 2896s\n",
      " 1026282 142265     cutoff  144      175428.880 175035.601  0.22%  46.4 2903s\n",
      " 1028151 142165 175265.372  147  243 175428.880 175035.887  0.22%  46.4 2910s\n",
      " 1029948 142122     cutoff  140      175428.880 175036.045  0.22%  46.5 2916s\n",
      " 1031723 142063 175388.563  149  219 175428.880 175036.237  0.22%  46.5 2922s\n",
      " 1033208 141980 175244.601  142  233 175428.880 175036.432  0.22%  46.6 2929s\n",
      " 1035135 141903 175278.003  141  284 175428.880 175036.530  0.22%  46.6 2936s\n",
      " 1036943 141867 175208.880  142  208 175428.880 175036.742  0.22%  46.6 2943s\n",
      "H1038381 141839                    175428.80000 175036.850  0.22%  46.7 2943s\n",
      " 1038657 141724 175062.417  107  335 175428.800 175037.003  0.22%  46.7 2950s\n",
      " 1040485 141652     cutoff  149      175428.800 175037.245  0.22%  46.7 2957s\n",
      " 1042293 141550 175263.142  157  229 175428.800 175037.502  0.22%  46.8 2963s\n",
      " 1043905 141534     cutoff  156      175428.800 175037.628  0.22%  46.8 2970s\n",
      " 1045732 141494     cutoff  141      175428.800 175037.792  0.22%  46.8 2977s\n",
      " 1047559 141487     cutoff  154      175428.800 175037.950  0.22%  46.9 2986s\n",
      "H1047563 141178                    175428.08000 175037.950  0.22%  46.9 2986s\n",
      " 1047642 141132     cutoff  156      175428.080 175037.950  0.22%  46.9 2994s\n",
      " 1049493 141059 175059.310  144  276 175428.080 175038.176  0.22%  46.9 3001s\n",
      " 1051334 141032     cutoff  157      175428.080 175038.381  0.22%  47.0 3008s\n",
      " 1053262 140946 175396.340  148  221 175428.080 175038.530  0.22%  47.0 3015s\n",
      " 1055186 140937     cutoff  152      175428.080 175038.740  0.22%  47.1 3021s\n",
      " 1056124 140914     cutoff  107      175428.080 175038.787  0.22%  47.1 3028s\n",
      " 1058119 140906     cutoff  137      175428.080 175039.043  0.22%  47.1 3034s\n",
      " 1059643 140858     cutoff  163      175428.080 175039.241  0.22%  47.2 3041s\n",
      " 1061505 140809     cutoff  147      175428.080 175039.610  0.22%  47.2 3048s\n",
      " 1063332 140834     cutoff  147      175428.080 175039.818  0.22%  47.2 3055s\n",
      "H1063380 140818                    175428.04000 175039.818  0.22%  47.2 3055s\n",
      " 1063470 140832     cutoff  148      175428.040 175039.882  0.22%  47.2 3062s\n",
      " 1065386 140837 175280.288  183  219 175428.040 175040.250  0.22%  47.3 3069s\n",
      " 1067279 140822     cutoff  147      175428.040 175040.379  0.22%  47.3 3076s\n",
      " 1069116 140834 175134.756  104  329 175428.040 175040.608  0.22%  47.4 3084s\n",
      " 1070971 140809     cutoff  130      175428.040 175040.842  0.22%  47.4 3091s\n",
      " 1072690 140708 175280.115  185  238 175428.040 175041.078  0.22%  47.4 3098s\n",
      " 1074633 140625 175254.823  138  247 175428.040 175041.362  0.22%  47.5 3105s\n",
      " 1076485 140584     cutoff   95      175428.040 175041.545  0.22%  47.5 3113s\n",
      " 1078294 140530 175280.945  143  241 175428.040 175041.911  0.22%  47.5 3120s\n",
      " 1080155 140422     cutoff  106      175428.040 175042.096  0.22%  47.6 3127s\n",
      " 1082031 140305     cutoff  147      175428.040 175042.226  0.22%  47.6 3134s\n",
      " 1083877 140270     cutoff  112      175428.040 175042.440  0.22%  47.7 3141s\n",
      " 1085766 140109     cutoff  190      175428.040 175042.698  0.22%  47.7 3149s\n",
      " 1087729 140094 175273.608  137  254 175428.040 175042.854  0.22%  47.7 3156s\n",
      " 1089390 140099     cutoff  109      175428.040 175043.138  0.22%  47.8 3163s\n",
      " 1091191 140031     cutoff  103      175428.040 175043.211  0.22%  47.8 3170s\n",
      " 1093087 139980 infeasible  144      175428.040 175043.570  0.22%  47.8 3178s\n",
      " 1094932 139993     cutoff  155      175428.040 175043.825  0.22%  47.9 3184s\n",
      " 1096706 140022 175294.647  167  221 175428.040 175044.137  0.22%  47.9 3191s\n",
      " 1098160 139949     cutoff  145      175428.040 175044.331  0.22%  47.9 3199s\n",
      " 1100108 139884     cutoff  146      175428.040 175044.696  0.22%  48.0 3206s\n",
      " 1102034 139884 175169.928  105  351 175428.040 175044.981  0.22%  48.0 3213s\n",
      " 1103833 139837 175068.341  145  244 175428.040 175045.140  0.22%  48.0 3220s\n",
      " 1105598 139761 175158.347  191  249 175428.040 175045.190  0.22%  48.1 3227s\n",
      " 1107495 139753     cutoff  112      175428.040 175045.351  0.22%  48.1 3234s\n",
      " 1109249 139728     cutoff  140      175428.040 175045.647  0.22%  48.1 3242s\n",
      " 1111025 139723 175302.763   99  381 175428.040 175045.794  0.22%  48.2 3249s\n",
      " 1112846 139766 175092.007  100  345 175428.040 175046.158  0.22%  48.2 3256s\n",
      " 1114640 139714     cutoff  146      175428.040 175046.426  0.22%  48.2 3262s\n",
      " 1116106 139717 infeasible  143      175428.040 175046.715  0.22%  48.3 3270s\n",
      " 1118007 139676 175326.041  158  254 175428.040 175046.920  0.22%  48.3 3276s\n",
      " 1118773 139713 infeasible  146      175428.040 175046.964  0.22%  48.3 3285s\n",
      " 1121010 139696 175268.375  143  243 175428.040 175047.295  0.22%  48.4 3293s\n",
      " 1122985 139676 infeasible  151      175428.040 175047.526  0.22%  48.4 3301s\n",
      " 1124975 139636 175341.879  109  257 175428.040 175047.679  0.22%  48.5 3310s\n",
      " 1126983 139617 175227.913  144  216 175428.040 175048.094  0.22%  48.5 3318s\n",
      " 1128805 139560 175418.382  114  292 175428.040 175048.309  0.22%  48.5 3326s\n",
      " 1130750 139498     cutoff  152      175428.040 175048.594  0.22%  48.6 3333s\n",
      " 1132635 139465     cutoff  156      175428.040 175048.897  0.22%  48.6 3342s\n",
      " 1134608 139451 175338.051  151  245 175428.040 175049.235  0.22%  48.6 3349s\n",
      " 1136495 139433 175264.623  151  260 175428.040 175049.426  0.22%  48.7 3357s\n",
      " 1138343 139388     cutoff  139      175428.040 175049.650  0.22%  48.7 3363s\n",
      " 1139752 139359 175226.111  147  230 175428.040 175049.898  0.22%  48.7 3372s\n",
      " 1141807 139339 175400.251  143  251 175428.040 175050.135  0.22%  48.8 3379s\n",
      " 1143685 139265 175329.147  149  260 175428.040 175050.399  0.22%  48.8 3387s\n",
      " 1145545 139251     cutoff  109      175428.040 175050.606  0.22%  48.8 3394s\n",
      " 1147412 139191 175309.318  120  234 175428.040 175050.948  0.21%  48.9 3402s\n",
      " 1149263 139155 175073.706  148  236 175428.040 175051.114  0.21%  48.9 3411s\n",
      " 1151111 139102 175107.984  156  227 175428.040 175051.356  0.21%  48.9 3419s\n",
      " 1152862 139085 175079.486  142  247 175428.040 175051.649  0.21%  49.0 3426s\n",
      " 1154698 138991 175142.752  154  224 175428.040 175051.928  0.21%  49.0 3434s\n",
      " 1156539 139052 175330.082  148  215 175428.040 175052.233  0.21%  49.0 3441s\n",
      " 1158325 139081     cutoff   91      175428.040 175052.471  0.21%  49.1 3448s\n",
      " 1159912 139080 175304.039  166  210 175428.040 175052.724  0.21%  49.1 3455s\n",
      " 1161709 139019 175330.024  148  264 175428.040 175052.955  0.21%  49.1 3463s\n",
      " 1163415 139021 175396.323   91  396 175428.040 175053.217  0.21%  49.2 3471s\n",
      " 1165304 138980 175294.998  105  276 175428.040 175053.515  0.21%  49.2 3479s\n",
      " 1167126 138982     cutoff  150      175428.040 175053.794  0.21%  49.2 3487s\n",
      " 1168921 139023 175078.797  137  276 175428.040 175054.068  0.21%  49.2 3495s\n",
      " 1170760 138985     cutoff  154      175428.040 175054.425  0.21%  49.3 3503s\n",
      " 1172582 138904     cutoff  149      175428.040 175054.623  0.21%  49.3 3510s\n",
      " 1174363 138880 175055.370  156  221 175428.040 175054.733  0.21%  49.3 3518s\n",
      " 1176173 138847 175055.560  160  221 175428.040 175054.955  0.21%  49.4 3526s\n",
      " 1177997 138782     cutoff  144      175428.040 175055.146  0.21%  49.4 3533s\n",
      " 1178983 138712     cutoff  151      175428.040 175055.290  0.21%  49.4 3541s\n",
      " 1180858 138705     cutoff  156      175428.040 175055.435  0.21%  49.4 3549s\n",
      " 1182675 138666     cutoff  144      175428.040 175055.712  0.21%  49.5 3557s\n",
      " 1184599 138669     cutoff  143      175428.040 175056.034  0.21%  49.5 3565s\n",
      " 1186476 138668 175339.882  147  260 175428.040 175056.325  0.21%  49.5 3572s\n",
      " 1188075 138569 175090.820  154  272 175428.040 175056.651  0.21%  49.6 3580s\n",
      " 1189884 138587 175102.883  153  263 175428.040 175056.859  0.21%  49.6 3588s\n",
      " 1191645 138541 175282.820  146  253 175428.040 175056.987  0.21%  49.6 3595s\n",
      " 1193364 138439 175222.840  153  247 175428.040 175057.190  0.21%  49.7 3603s\n",
      " 1195223 138316 175278.100  167  227 175428.040 175057.313  0.21%  49.7 3611s\n",
      " 1197154 138326     cutoff  165      175428.040 175057.498  0.21%  49.7 3619s\n",
      " 1198811 138334 175286.792  107  262 175428.040 175057.666  0.21%  49.7 3627s\n",
      " 1200638 138285 infeasible  149      175428.040 175058.094  0.21%  49.8 3634s\n",
      " 1201102 138285 175093.427  146  246 175428.040 175058.113  0.21%  49.8 3635s\n",
      " 1202485 138298     cutoff  148      175428.040 175058.269  0.21%  49.8 3643s\n",
      " 1204326 138319 175268.431  113  313 175428.040 175058.511  0.21%  49.8 3651s\n",
      " 1206064 138294 175354.197  161  252 175428.040 175058.863  0.21%  49.9 3659s\n",
      " 1207893 138195     cutoff  173      175428.040 175059.168  0.21%  49.9 3667s\n",
      " 1209746 138150 175216.618  110  324 175428.040 175059.321  0.21%  49.9 3674s\n",
      " 1210638 138150 175084.671  137  205 175428.040 175059.362  0.21%  49.9 3675s\n",
      " 1211518 138092 175278.395  151  246 175428.040 175059.622  0.21%  49.9 3682s\n",
      " 1213327 138116 175277.162  162  206 175428.040 175059.843  0.21%  50.0 3690s\n",
      " 1215156 138133     cutoff  141      175428.040 175060.185  0.21%  50.0 3697s\n",
      " 1216633 138008 175416.241  115  247 175428.040 175060.400  0.21%  50.0 3705s\n",
      " 1218594 138015 175185.751   99  375 175428.040 175060.669  0.21%  50.1 3713s\n",
      " 1220438 138037 175252.344   89  488 175428.040 175061.016  0.21%  50.1 3721s\n",
      " 1222285 138007 175256.427  106  320 175428.040 175061.340  0.21%  50.1 3728s\n",
      "H1222545 137947                    175427.84000 175061.342  0.21%  50.1 3728s\n",
      " 1223060 137939     cutoff  154      175427.840 175061.342  0.21%  50.1 3737s\n",
      " 1225048 137885 infeasible  153      175427.840 175061.625  0.21%  50.2 3745s\n",
      " 1226990 137828     cutoff  107      175427.840 175061.775  0.21%  50.2 3754s\n",
      " 1228877 137784 175349.288  149  253 175427.840 175062.111  0.21%  50.2 3762s\n",
      " 1230831 137723     cutoff  144      175427.840 175062.368  0.21%  50.3 3770s\n",
      " 1232630 137725     cutoff   90      175427.840 175062.722  0.21%  50.3 3779s\n",
      " 1234515 137774 175289.922  153  275 175427.840 175063.016  0.21%  50.3 3786s\n",
      " 1236073 137704     cutoff  156      175427.840 175063.241  0.21%  50.3 3794s\n",
      " 1237962 137712 175351.349  146  242 175427.840 175063.611  0.21%  50.4 3802s\n",
      " 1239774 137667     cutoff  150      175427.840 175063.810  0.21%  50.4 3810s\n",
      " 1241670 137623 175286.097  141  220 175427.840 175063.918  0.21%  50.4 3818s\n",
      " 1243445 137634 175381.516  159  251 175427.840 175064.104  0.21%  50.4 3826s\n",
      " 1245250 137594 175289.994  150  222 175427.840 175064.329  0.21%  50.5 3835s\n",
      " 1247066 137602 175344.090  146  263 175427.840 175064.480  0.21%  50.5 3843s\n",
      " 1248873 137495     cutoff  152      175427.840 175064.732  0.21%  50.5 3850s\n",
      " 1250625 137536 175389.103  263  246 175427.840 175064.913  0.21%  50.5 3858s\n",
      " 1252424 137518 175280.150  151  248 175427.840 175065.185  0.21%  50.6 3866s\n",
      " 1254063 137490     cutoff  156      175427.840 175065.370  0.21%  50.6 3874s\n",
      " 1255836 137457 175123.955  181  226 175427.840 175065.663  0.21%  50.6 3882s\n",
      " 1257649 137582     cutoff  153      175427.840 175065.884  0.21%  50.6 3890s\n",
      " 1259443 137516     cutoff  109      175427.840 175066.150  0.21%  50.7 3899s\n",
      " 1261282 137522     cutoff  155      175427.840 175066.479  0.21%  50.7 3906s\n",
      " 1263046 137606     cutoff  145      175427.840 175066.736  0.21%  50.7 3913s\n",
      " 1264618 137513 175378.965  181  217 175427.840 175066.987  0.21%  50.8 3922s\n",
      " 1266590 137469     cutoff  107      175427.840 175067.218  0.21%  50.8 3930s\n",
      " 1268449 137431 175095.513  157  273 175427.840 175067.558  0.21%  50.8 3939s\n",
      " 1270319 137402     cutoff  139      175427.840 175067.839  0.21%  50.8 3946s\n",
      " 1272136 137412 175358.773  154  225 175427.840 175068.258  0.20%  50.9 3955s\n",
      " 1273908 137349 175352.256  159  241 175427.840 175068.432  0.20%  50.9 3962s\n",
      " 1275566 137352 175280.686  156  257 175427.840 175068.811  0.20%  50.9 3970s\n",
      " 1277358 137316 175302.389  153  244 175427.840 175069.020  0.20%  50.9 3977s\n",
      " 1278183 137367 175247.085   89  479 175427.840 175069.096  0.20%  50.9 3987s\n",
      " 1280198 137324 175404.725  110  261 175427.840 175069.573  0.20%  51.0 3996s\n",
      " 1282297 137221     cutoff  147      175427.840 175069.896  0.20%  51.0 4005s\n",
      " 1284300 137178 175259.718  104  356 175427.840 175070.160  0.20%  51.0 4013s\n",
      " 1286162 137143 175283.902  152  236 175427.840 175070.496  0.20%  51.0 4021s\n",
      " 1287804 137104     cutoff  168      175427.840 175070.774  0.20%  51.1 4029s\n",
      " 1289731 136996     cutoff  154      175427.840 175071.037  0.20%  51.1 4038s\n",
      " 1291731 136876     cutoff  122      175427.840 175071.155  0.20%  51.1 4046s\n",
      " 1293631 136870 175339.391  152  236 175427.840 175071.429  0.20%  51.2 4055s\n",
      " 1295515 136923     cutoff  106      175427.840 175071.610  0.20%  51.2 4063s\n",
      " 1297349 136905 175216.679   98  415 175427.840 175071.975  0.20%  51.2 4071s\n",
      " 1298966 136903     cutoff  158      175427.840 175072.261  0.20%  51.2 4079s\n",
      " 1300733 136876 175237.215  151  258 175427.840 175072.523  0.20%  51.3 4087s\n",
      " 1302567 136964 175394.229  158  235 175427.840 175072.734  0.20%  51.3 4095s\n",
      " 1304395 136914     cutoff  185      175427.840 175073.232  0.20%  51.3 4104s\n",
      " 1306227 136819     cutoff  155      175427.840 175073.562  0.20%  51.3 4112s\n",
      " 1308044 136826     cutoff  172      175427.840 175073.784  0.20%  51.4 4120s\n",
      " 1309821 136759 175364.287  153  232 175427.840 175074.046  0.20%  51.4 4128s\n",
      " 1311528 136685 175291.677  157  225 175427.840 175074.240  0.20%  51.4 4137s\n",
      " 1313471 136753 infeasible  151      175427.840 175074.379  0.20%  51.4 4145s\n",
      " 1315320 136720 175240.543  146  190 175427.840 175074.584  0.20%  51.4 4153s\n",
      " 1316930 136789     cutoff  102      175427.840 175074.851  0.20%  51.5 4161s\n",
      " 1318742 136753 175337.544  162  205 175427.840 175075.023  0.20%  51.5 4170s\n",
      " 1320614 136730 175363.031  111  248 175427.840 175075.266  0.20%  51.5 4178s\n",
      " 1322409 136668 175076.173  159  220 175427.840 175075.496  0.20%  51.5 4186s\n",
      " 1324220 136643 175102.224  155  240 175427.840 175075.774  0.20%  51.6 4195s\n",
      " 1326099 136649 175178.509   71  616 175427.840 175076.019  0.20%  51.6 4203s\n",
      " 1327911 136613     cutoff  112      175427.840 175076.214  0.20%  51.6 4212s\n",
      " 1329716 136578 175239.512  101  335 175427.840 175076.535  0.20%  51.6 4220s\n",
      " 1331490 136524     cutoff  157      175427.840 175076.831  0.20%  51.7 4228s\n",
      " 1333149 136554     cutoff  155      175427.840 175077.017  0.20%  51.7 4237s\n",
      " 1335089 136503 175133.679   85  456 175427.840 175077.278  0.20%  51.7 4245s\n",
      " 1335882 136431 175245.960   86  431 175427.840 175077.278  0.20%  51.7 4266s\n",
      " 1340107 136342     cutoff  155      175427.840 175077.903  0.20%  51.8 4276s\n",
      " 1342254 136227     cutoff  172      175427.840 175078.122  0.20%  51.8 4285s\n",
      " 1344308 136255 175315.305  152  246 175427.840 175078.434  0.20%  51.8 4293s\n",
      " 1346192 136235 175400.280   99  346 175427.840 175078.658  0.20%  51.9 4302s\n",
      " 1347979 136201     cutoff  169      175427.840 175079.003  0.20%  51.9 4310s\n",
      " 1349843 136158 175288.614  162  235 175427.840 175079.257  0.20%  51.9 4318s\n",
      " 1351713 136146 175246.577  151  218 175427.840 175079.617  0.20%  51.9 4326s\n",
      " 1353592 136161 infeasible  147      175427.840 175079.866  0.20%  52.0 4334s\n",
      " 1355228 136060 175333.217  108  324 175427.840 175080.100  0.20%  52.0 4342s\n",
      " 1357083 136012     cutoff  151      175427.840 175080.355  0.20%  52.0 4350s\n",
      " 1358913 135882 175383.912  112  322 175427.840 175080.691  0.20%  52.0 4358s\n",
      " 1360707 135843 175381.343  157  224 175427.840 175080.867  0.20%  52.1 4366s\n",
      " 1362485 135798 175363.686  153  251 175427.840 175081.040  0.20%  52.1 4373s\n",
      " 1364099 135794     cutoff  158      175427.840 175081.304  0.20%  52.1 4382s\n",
      " 1366012 135759     cutoff  168      175427.840 175081.661  0.20%  52.1 4389s\n",
      " 1367873 135702 175108.468  103  320 175427.840 175081.891  0.20%  52.2 4398s\n",
      " 1369727 135650     cutoff  158      175427.840 175082.213  0.20%  52.2 4406s\n",
      " 1371526 135652 175110.366  131  286 175427.840 175082.422  0.20%  52.2 4413s\n",
      " 1373382 135645     cutoff  162      175427.840 175082.724  0.20%  52.2 4421s\n",
      " 1375051 135590 175248.037  101  249 175427.840 175082.937  0.20%  52.2 4429s\n",
      " 1376883 135613     cutoff  168      175427.840 175083.327  0.20%  52.3 4436s\n",
      " 1378603 135653     cutoff  153      175427.840 175083.604  0.20%  52.3 4444s\n",
      " 1380415 135573     cutoff  164      175427.840 175083.867  0.20%  52.3 4452s\n",
      " 1382234 135567 175141.077  106  319 175427.840 175084.204  0.20%  52.3 4460s\n",
      "H1382341 135550                    175427.80000 175084.204  0.20%  52.3 4460s\n",
      " 1382532 135517 175141.077  107  304 175427.800 175084.219  0.20%  52.3 4467s\n",
      "H1383135 135307                    175427.08000 175084.285  0.20%  52.3 4467s\n",
      " 1383520 135170     cutoff   87      175427.080 175084.348  0.20%  52.3 4475s\n",
      " 1385485 135082 175112.821  147  289 175427.080 175084.625  0.20%  52.4 4483s\n",
      " 1387331 135107 175407.965  101  384 175427.080 175084.904  0.20%  52.4 4491s\n",
      " 1389281 135142     cutoff  150      175427.080 175085.148  0.19%  52.4 4500s\n",
      " 1391319 135125 175147.304  106  272 175427.080 175085.503  0.19%  52.5 4509s\n",
      " 1392890 135125 175411.657  163  225 175427.080 175085.573  0.19%  52.5 4510s\n",
      " 1393215 135092 infeasible  161      175427.080 175085.824  0.19%  52.5 4517s\n",
      " 1395097 135030 infeasible  151      175427.080 175086.023  0.19%  52.5 4526s\n",
      " 1397082 134882 175401.962  111  239 175427.080 175086.329  0.19%  52.5 4533s\n",
      " 1398996 134835 175299.371  167  226 175427.080 175086.562  0.19%  52.6 4546s\n",
      "H1399002 134771                    175426.88000 175086.562  0.19%  52.6 4546s\n",
      "H1399742 134720                    175426.72000 175086.607  0.19%  52.6 4546s\n",
      " 1400236 134656 175308.279  109  310 175426.720 175086.698  0.19%  52.6 4553s\n",
      " 1401946 134583 175166.280  164  236 175426.720 175086.946  0.19%  52.6 4561s\n",
      " 1403674 134497 175269.419  148  210 175426.720 175087.091  0.19%  52.6 4568s\n",
      " 1405470 134418 175254.848   97  482 175426.720 175087.273  0.19%  52.7 4575s\n",
      " 1407268 134420 175317.159  101  285 175426.720 175087.623  0.19%  52.7 4583s\n",
      " 1409060 134360 175334.200  107  252 175426.720 175087.973  0.19%  52.7 4590s\n",
      " 1410951 134304 175254.389   87  423 175426.720 175088.301  0.19%  52.7 4597s\n",
      " 1412626 134273     cutoff  167      175426.720 175088.434  0.19%  52.7 4605s\n",
      " 1414381 134214 175249.927  161  244 175426.720 175088.751  0.19%  52.8 4612s\n",
      " 1416233 134231 175302.739  142  264 175426.720 175088.991  0.19%  52.8 4620s\n",
      " 1418078 134230 infeasible  156      175426.720 175089.297  0.19%  52.8 4627s\n",
      " 1419802 134237 175312.809  164  231 175426.720 175089.456  0.19%  52.8 4634s\n",
      " 1420521 134237     cutoff  158      175426.720 175089.544  0.19%  52.8 4635s\n",
      " 1421520 134177     cutoff  108      175426.720 175089.639  0.19%  52.9 4642s\n",
      " 1423349 134097     cutoff  150      175426.720 175089.857  0.19%  52.9 4650s\n",
      " 1425274 134084 175263.711  101  348 175426.720 175090.132  0.19%  52.9 4657s\n",
      " 1427045 134030     cutoff  154      175426.720 175090.381  0.19%  52.9 4664s\n",
      " 1428822 133914     cutoff  150      175426.720 175090.653  0.19%  52.9 4671s\n",
      " 1430508 133877     cutoff  141      175426.720 175090.979  0.19%  53.0 4678s\n",
      " 1432299 133837     cutoff  109      175426.720 175091.235  0.19%  53.0 4685s\n",
      " 1434098 133773 175328.464  149  232 175426.720 175091.483  0.19%  53.0 4692s\n",
      " 1435921 133736 175385.617  114  229 175426.720 175091.658  0.19%  53.0 4699s\n",
      " 1437603 133712     cutoff  165      175426.720 175091.931  0.19%  53.1 4707s\n",
      " 1439402 133622 175377.680  113  224 175426.720 175092.045  0.19%  53.1 4714s\n",
      " 1441278 133585 175256.016  175  235 175426.720 175092.372  0.19%  53.1 4720s\n",
      " 1441904 133510 175387.937  176  228 175426.720 175092.416  0.19%  53.1 4728s\n",
      " 1443914 133491     cutoff  158      175426.720 175092.696  0.19%  53.1 4737s\n",
      " 1445907 133367 175381.875  105  350 175426.720 175093.018  0.19%  53.1 4745s\n",
      " 1447750 133269     cutoff  155      175426.720 175093.268  0.19%  53.2 4753s\n",
      " 1449578 133133     cutoff  171      175426.720 175093.496  0.19%  53.2 4761s\n",
      " 1451474 133120     cutoff  140      175426.720 175093.730  0.19%  53.2 4769s\n",
      " 1453390 132994 175179.171  176  215 175426.720 175094.030  0.19%  53.2 4777s\n",
      " 1455295 132893 175314.765  104  350 175426.720 175094.394  0.19%  53.3 4784s\n",
      " 1455589 132893 175101.790  161  197 175426.720 175094.411  0.19%  53.3 4785s\n",
      " 1457146 132872     cutoff  224      175426.720 175094.532  0.19%  53.3 4792s\n",
      " 1459030 132815     cutoff  157      175426.720 175094.958  0.19%  53.3 4800s\n",
      " 1460881 132854     cutoff  150      175426.720 175095.198  0.19%  53.3 4807s\n",
      " 1462700 132883 175287.043  121  254 175426.720 175095.501  0.19%  53.3 4815s\n",
      " 1464583 132782     cutoff  181      175426.720 175095.874  0.19%  53.4 4822s\n",
      " 1466106 132722     cutoff  108      175426.720 175096.147  0.19%  53.4 4830s\n",
      " 1468105 132637 175425.395  175  238 175426.720 175096.361  0.19%  53.4 4838s\n",
      " 1469980 132520     cutoff  147      175426.720 175096.687  0.19%  53.4 4845s\n",
      " 1471849 132492     cutoff  158      175426.720 175097.107  0.19%  53.5 4853s\n",
      " 1473715 132404 175425.049  160  237 175426.720 175097.280  0.19%  53.5 4860s\n",
      " 1475580 132344 175269.238   95  301 175426.720 175097.637  0.19%  53.5 4868s\n",
      " 1477428 132246 175163.141   91  446 175426.720 175097.991  0.19%  53.5 4875s\n",
      " 1479340 132279 175312.176  162  219 175426.720 175098.358  0.19%  53.5 4883s\n",
      " 1481169 132284     cutoff  154      175426.720 175098.556  0.19%  53.6 4890s\n",
      " 1482935 132198     cutoff  101      175426.720 175098.855  0.19%  53.6 4897s\n",
      " 1484624 132176     cutoff   96      175426.720 175099.164  0.19%  53.6 4904s\n",
      " 1486415 132210 175381.382  139  260 175426.720 175099.389  0.19%  53.6 4912s\n",
      " 1488154 132115 175306.197  166  226 175426.720 175099.668  0.19%  53.6 4919s\n",
      " 1489757 132006     cutoff  149      175426.720 175099.902  0.19%  53.7 4927s\n",
      " 1491676 132026 175225.488   92  394 175426.720 175100.169  0.19%  53.7 4935s\n",
      " 1493615 132051     cutoff  154      175426.720 175100.452  0.19%  53.7 4942s\n",
      " 1495500 131940 175299.875  115  322 175426.720 175100.740  0.19%  53.7 4950s\n",
      " 1497404 131902     cutoff  167      175426.720 175101.058  0.19%  53.7 4957s\n",
      " 1499258 131778 175397.337  114  266 175426.720 175101.432  0.19%  53.8 4965s\n",
      " 1501152 131680     cutoff  108      175426.720 175101.690  0.19%  53.8 4972s\n",
      " 1503020 131566 infeasible  162      175426.720 175101.967  0.19%  53.8 4979s\n",
      " 1504890 131460 175386.598  150  235 175426.720 175102.185  0.18%  53.8 4986s\n",
      " 1506713 131296 175328.620   98  392 175426.720 175102.453  0.18%  53.8 4993s\n",
      " 1508540 131268 175343.144  155  250 175426.720 175102.696  0.18%  53.9 4999s\n",
      " 1509431 131149 175356.921   97  363 175426.720 175102.815  0.18%  53.9 5006s\n",
      " 1511194 131059 175426.053  174  229 175426.720 175103.000  0.18%  53.9 5014s\n",
      " 1513228 130972 175308.686  159  238 175426.720 175103.229  0.18%  53.9 5021s\n",
      " 1515126 130957 175343.013  112  286 175426.720 175103.551  0.18%  53.9 5029s\n",
      " 1516919 130893 175266.051  142  198 175426.720 175103.848  0.18%  54.0 5035s\n",
      " 1518597 130751     cutoff  148      175426.720 175104.091  0.18%  54.0 5043s\n",
      " 1520453 130731     cutoff  163      175426.720 175104.378  0.18%  54.0 5052s\n",
      " 1522405 130713     cutoff  165      175426.720 175104.654  0.18%  54.0 5060s\n",
      " 1524245 130729     cutoff  163      175426.720 175104.915  0.18%  54.0 5066s\n",
      " 1525026 130737 175378.985  164  236 175426.720 175104.995  0.18%  54.1 5073s\n",
      " 1526648 130802 175265.382  168  193 175426.720 175105.268  0.18%  54.1 5082s\n",
      " 1528576 130755     cutoff  172      175426.720 175105.499  0.18%  54.1 5089s\n",
      " 1529493 130755 175315.995  169  223 175426.720 175105.542  0.18%  54.1 5090s\n",
      " 1530445 130696 175273.675  161  199 175426.720 175105.849  0.18%  54.1 5097s\n",
      " 1532194 130630 175157.196  171  234 175426.720 175106.081  0.18%  54.1 5105s\n",
      " 1534003 130538     cutoff  177      175426.720 175106.375  0.18%  54.2 5113s\n",
      " 1535904 130380 175309.061  101  289 175426.720 175106.601  0.18%  54.2 5121s\n",
      " 1537838 130291     cutoff  182      175426.720 175106.946  0.18%  54.2 5129s\n",
      " 1539606 130234     cutoff  111      175426.720 175107.141  0.18%  54.2 5137s\n",
      " 1541515 130179     cutoff  103      175426.720 175107.298  0.18%  54.2 5144s\n",
      " 1543373 130056     cutoff  163      175426.720 175107.553  0.18%  54.3 5152s\n",
      " 1545282 129901     cutoff  158      175426.720 175107.836  0.18%  54.3 5160s\n",
      " 1547116 129918     cutoff  167      175426.720 175108.161  0.18%  54.3 5167s\n",
      " 1548789 129912 175250.565  102  343 175426.720 175108.433  0.18%  54.3 5174s\n",
      " 1550502 129851     cutoff  164      175426.720 175108.633  0.18%  54.3 5183s\n",
      " 1552359 129763     cutoff  183      175426.720 175108.909  0.18%  54.4 5190s\n",
      " 1554156 129790 175314.717  157  210 175426.720 175109.127  0.18%  54.4 5196s\n",
      " 1554971 129859     cutoff  102      175426.720 175109.245  0.18%  54.4 5205s\n",
      " 1556989 129875 175409.093  159  246 175426.720 175109.487  0.18%  54.4 5213s\n",
      " 1558984 129808 175348.219  102  249 175426.720 175109.776  0.18%  54.4 5221s\n",
      " 1560948 129757 175317.899   92  317 175426.720 175110.014  0.18%  54.4 5228s\n",
      " 1562670 129697     cutoff  169      175426.720 175110.348  0.18%  54.5 5235s\n",
      " 1564533 129665 175248.227  106  287 175426.720 175110.631  0.18%  54.5 5243s\n",
      " 1566465 129571 175242.388  172  246 175426.720 175110.918  0.18%  54.5 5252s\n",
      " 1568305 129526 175282.819  158  216 175426.720 175111.144  0.18%  54.5 5259s\n",
      " 1570231 129548     cutoff  167      175426.720 175111.482  0.18%  54.5 5267s\n",
      " 1572054 129504 175288.884   86  442 175426.720 175111.724  0.18%  54.6 5274s\n",
      " 1573775 129448 175271.198  172  228 175426.720 175112.013  0.18%  54.6 5281s\n",
      " 1575579 129362     cutoff  164      175426.720 175112.259  0.18%  54.6 5288s\n",
      " 1577420 129311 175296.085  192  219 175426.720 175112.636  0.18%  54.6 5296s\n",
      " 1579264 129259     cutoff  101      175426.720 175112.930  0.18%  54.6 5303s\n",
      " 1581087 129193 infeasible  171      175426.720 175113.167  0.18%  54.7 5309s\n",
      " 1582625 129238     cutoff   94      175426.720 175113.457  0.18%  54.7 5316s\n",
      " 1584474 129229     cutoff  172      175426.720 175113.699  0.18%  54.7 5324s\n",
      " 1586351 129178 175342.421  109  296 175426.720 175114.007  0.18%  54.7 5331s\n",
      " 1588187 129123 175275.093  169  214 175426.720 175114.234  0.18%  54.7 5339s\n",
      " 1589986 129097     cutoff  113      175426.720 175114.571  0.18%  54.7 5346s\n",
      " 1591763 129095 175233.649  111  300 175426.720 175114.797  0.18%  54.8 5353s\n",
      " 1593589 129042 175315.390   78  392 175426.720 175115.266  0.18%  54.8 5360s\n",
      " 1595391 128987 175326.405  166  206 175426.720 175115.461  0.18%  54.8 5367s\n",
      " 1597248 128947 175191.537  171  227 175426.720 175115.799  0.18%  54.8 5374s\n",
      " 1598941 128988     cutoff  158      175426.720 175116.093  0.18%  54.8 5381s\n",
      " 1600794 129032 175279.605  105  238 175426.720 175116.415  0.18%  54.9 5389s\n",
      " 1602439 129066 175161.101  105  384 175426.720 175116.725  0.18%  54.9 5396s\n",
      "H1602596 128844                    175426.16000 175116.749  0.18%  54.9 5396s\n",
      " 1603395 128806 175278.689   93  467 175426.160 175116.797  0.18%  54.9 5404s\n",
      " 1604698 128783 175304.709   94  472 175426.160 175116.797  0.18%  54.9 5415s\n",
      " 1607345 128789 175325.227   91  388 175426.160 175117.725  0.18%  54.9 5425s\n",
      " 1609630 128747 175354.196  116  309 175426.160 175118.102  0.18%  54.9 5434s\n",
      " 1611818 128716 175290.759  183  212 175426.160 175118.491  0.18%  55.0 5442s\n",
      " 1613921 128631     cutoff  180      175426.160 175118.936  0.18%  55.0 5450s\n",
      " 1615861 128611 175151.074  112  307 175426.160 175119.371  0.17%  55.0 5458s\n",
      " 1617903 128555     cutoff  187      175426.160 175119.879  0.17%  55.0 5466s\n",
      " 1619873 128601 175120.899  175  230 175426.160 175120.189  0.17%  55.0 5474s\n",
      " 1621805 128635 175211.412   89  429 175426.160 175120.692  0.17%  55.1 5481s\n",
      " 1623357 128582     cutoff  100      175426.160 175120.894  0.17%  55.1 5489s\n",
      " 1625392 128586     cutoff  112      175426.160 175121.219  0.17%  55.1 5497s\n",
      " 1627282 128580 175167.764  155  255 175426.160 175121.599  0.17%  55.1 5504s\n",
      " 1629127 128518     cutoff  106      175426.160 175121.998  0.17%  55.1 5511s\n",
      " 1630978 128492 175129.463  175  235 175426.160 175122.276  0.17%  55.2 5518s\n",
      " 1632728 128506     cutoff  191      175426.160 175122.631  0.17%  55.2 5525s\n",
      " 1634652 128472     cutoff  181      175426.160 175122.946  0.17%  55.2 5533s\n",
      " 1636462 128372     cutoff  162      175426.160 175123.345  0.17%  55.2 5540s\n",
      " 1638340 128371 175316.118  108  292 175426.160 175123.644  0.17%  55.2 5547s\n",
      " 1640059 128436 175401.503  167  246 175426.160 175123.937  0.17%  55.2 5554s\n",
      " 1641897 128376 175257.867   69  621 175426.160 175124.222  0.17%  55.2 5561s\n",
      " 1643606 128348 175285.071  195  241 175426.160 175124.502  0.17%  55.3 5568s\n",
      " 1645528 128296 175147.926  112  255 175426.160 175124.794  0.17%  55.3 5575s\n",
      " 1647308 128285 175174.807  139  235 175426.160 175125.133  0.17%  55.3 5581s\n",
      " 1649136 128300     cutoff  187      175426.160 175125.450  0.17%  55.3 5589s\n",
      " 1650945 128345     cutoff  115      175426.160 175125.905  0.17%  55.3 5595s\n",
      " 1652691 128374     cutoff  171      175426.160 175126.107  0.17%  55.3 5602s\n",
      " 1654476 128316 175241.278  107  339 175426.160 175126.457  0.17%  55.4 5609s\n",
      " 1655296 128316 175126.672  217  213 175426.160 175126.521  0.17%  55.4 5610s\n",
      " 1656329 128224     cutoff  195      175426.160 175126.778  0.17%  55.4 5616s\n",
      " 1658026 128180     cutoff  174      175426.160 175127.159  0.17%  55.4 5623s\n",
      " 1659890 128172 175302.077   91  428 175426.160 175127.544  0.17%  55.4 5628s\n",
      " 1660478 127974 175302.077   92  410 175426.160 175127.605  0.17%  55.4 5651s\n",
      " 1665766 127997 175307.096  103  328 175426.160 175128.766  0.17%  55.4 5660s\n",
      " 1667800 128062 175141.052  101  386 175426.160 175129.120  0.17%  55.5 5668s\n",
      " 1669800 128123 175193.889  107  249 175426.160 175129.431  0.17%  55.5 5676s\n",
      " 1671742 128157 175399.920  115  288 175426.160 175129.870  0.17%  55.5 5683s\n",
      " 1673651 128104     cutoff  105      175426.160 175130.296  0.17%  55.5 5691s\n",
      " 1675719 128073     cutoff  161      175426.160 175130.599  0.17%  55.5 5698s\n",
      " 1677659 127947     cutoff  118      175426.160 175131.012  0.17%  55.5 5705s\n",
      " 1679532 128011 175402.173   90  345 175426.160 175131.470  0.17%  55.6 5712s\n",
      " 1681217 128004 175348.124  103  284 175426.160 175131.796  0.17%  55.6 5719s\n",
      " 1683111 128011 175133.369  156  191 175426.160 175132.204  0.17%  55.6 5726s\n",
      " 1685029 127942 175421.943   95  434 175426.160 175132.600  0.17%  55.6 5733s\n",
      " 1686953 127877     cutoff  159      175426.160 175133.001  0.17%  55.6 5740s\n",
      " 1688851 127864 175291.666  167  244 175426.160 175133.530  0.17%  55.6 5746s\n",
      " 1690665 127913     cutoff  186      175426.160 175133.800  0.17%  55.6 5753s\n",
      " 1692501 127835 175329.186   97  346 175426.160 175134.162  0.17%  55.6 5760s\n",
      " 1694349 127764 175251.572   95  435 175426.160 175134.803  0.17%  55.7 5768s\n",
      " 1696141 127787 175409.899  151  236 175426.160 175135.182  0.17%  55.7 5775s\n",
      " 1698029 127768 175281.932  164  206 175426.160 175135.567  0.17%  55.7 5782s\n",
      " 1699822 127817 175215.889  174  223 175426.160 175136.006  0.17%  55.7 5789s\n",
      " 1701701 127785 175222.864   98  366 175426.160 175136.338  0.17%  55.7 5796s\n",
      " 1703571 127750     cutoff  174      175426.160 175136.701  0.17%  55.7 5802s\n",
      " 1705231 127748 175247.089   87  471 175426.160 175137.085  0.16%  55.7 5809s\n",
      " 1707130 127715 175307.995  112  274 175426.160 175137.472  0.16%  55.8 5817s\n",
      " 1709019 127651     cutoff  100      175426.160 175137.981  0.16%  55.8 5823s\n",
      " 1710875 127628     cutoff  152      175426.160 175138.519  0.16%  55.8 5830s\n",
      " 1712728 127605     cutoff  108      175426.160 175138.853  0.16%  55.8 5838s\n",
      " 1714566 127613     cutoff  146      175426.160 175139.334  0.16%  55.8 5845s\n",
      " 1716465 127688 175294.470  158  224 175426.160 175139.770  0.16%  55.8 5852s\n",
      "H1717345 127594                    175425.96000 175139.826  0.16%  55.8 5852s\n",
      " 1717718 127609     cutoff  112      175425.960 175139.940  0.16%  55.8 5860s\n",
      "H1717820 127485                    175425.64000 175139.940  0.16%  55.8 5860s\n",
      "H1718233 127453                    175425.56000 175140.008  0.16%  55.8 5860s\n",
      " 1719053 127570 175159.087   94  439 175425.560 175140.008  0.16%  55.8 5872s\n",
      " 1722050 127756 175392.473  109  287 175425.560 175141.183  0.16%  55.9 5881s\n",
      " 1724339 127754 175352.601   96  389 175425.560 175141.698  0.16%  55.9 5890s\n",
      " 1726360 127720     cutoff  110      175425.560 175142.168  0.16%  55.9 5898s\n",
      " 1728528 127699     cutoff  194      175425.560 175142.729  0.16%  55.9 5906s\n",
      " 1730667 127682 175144.038  108  288 175425.560 175143.324  0.16%  55.9 5914s\n",
      " 1732737 127711 175281.942  105  343 175425.560 175143.817  0.16%  55.9 5921s\n",
      " 1734695 127714     cutoff  116      175425.560 175144.358  0.16%  55.9 5928s\n",
      " 1736390 127779 175305.781  189  236 175425.560 175144.961  0.16%  56.0 5935s\n",
      " 1738288 127881 175389.237  111  269 175425.560 175145.232  0.16%  56.0 5942s\n",
      " 1740200 127941 175424.534  111  314 175425.560 175145.822  0.16%  56.0 5949s\n",
      " 1741990 128029 175230.748  176  246 175425.560 175146.424  0.16%  56.0 5956s\n",
      " 1743760 128075 175412.939  118  224 175425.560 175146.963  0.16%  56.0 5963s\n",
      " 1745627 128119 175313.462  102  345 175425.560 175147.413  0.16%  56.0 5969s\n",
      " 1747328 128195 175408.566  106  261 175425.560 175147.881  0.16%  56.0 5976s\n",
      " 1749094 128332 175378.050  100  364 175425.560 175148.559  0.16%  56.0 5984s\n",
      " 1750979 128441 175304.606  108  374 175425.560 175149.078  0.16%  56.0 5990s\n",
      " 1752784 128550 175421.666  112  263 175425.560 175149.539  0.16%  56.0 5997s\n",
      " 1754486 128604     cutoff  101      175425.560 175149.930  0.16%  56.1 6004s\n",
      " 1756382 128660     cutoff  111      175425.560 175150.351  0.16%  56.1 6011s\n",
      " 1758185 128780 175281.827  108  320 175425.560 175150.952  0.16%  56.1 6017s\n",
      " 1759944 128903 175303.178  104  323 175425.560 175151.207  0.16%  56.1 6024s\n",
      " 1761671 128957 175313.409   98  329 175425.560 175151.741  0.16%  56.1 6031s\n",
      " 1763519 128917 175304.836  184  204 175425.560 175152.220  0.16%  56.1 6037s\n",
      " 1765158 128919 175344.768   89  419 175425.560 175152.775  0.16%  56.1 6045s\n",
      " 1766507 128878 175286.872  105  267 175425.560 175152.919  0.16%  56.1 6052s\n",
      " 1768392 128870 175154.923  106  339 175425.560 175153.556  0.16%  56.1 6059s\n",
      " 1770267 128921 175238.197   90  495 175425.560 175154.009  0.15%  56.2 6066s\n",
      " 1772271 128895 175310.970   97  380 175425.560 175154.511  0.15%  56.2 6073s\n",
      " 1773994 129029 175309.917  179  209 175425.560 175155.079  0.15%  56.2 6080s\n",
      " 1775780 129090     cutoff  103      175425.560 175155.577  0.15%  56.2 6086s\n",
      " 1777585 129159 175294.810  106  326 175425.560 175156.123  0.15%  56.2 6093s\n",
      " 1779440 129175     cutoff  110      175425.560 175156.610  0.15%  56.2 6100s\n",
      " 1781244 129262     cutoff   76      175425.560 175157.256  0.15%  56.2 6106s\n",
      " 1782997 129250     cutoff  112      175425.560 175157.672  0.15%  56.2 6111s\n",
      " 1783661 129255     cutoff  106      175425.560 175157.797  0.15%  56.2 6117s\n",
      " 1784052 129319 175230.214   89  413 175425.560 175157.937  0.15%  56.2 6125s\n",
      " 1786032 129406 175312.241  175  201 175425.560 175158.681  0.15%  56.3 6132s\n",
      " 1787897 129522 175404.499  111  259 175425.560 175159.198  0.15%  56.3 6140s\n",
      " 1789889 129549     cutoff  116      175425.560 175159.986  0.15%  56.3 6147s\n",
      " 1791953 129638     cutoff  100      175425.560 175160.679  0.15%  56.3 6153s\n",
      " 1793644 129805     cutoff  104      175425.560 175161.293  0.15%  56.3 6160s\n",
      " 1795535 129902 175409.484  111  306 175425.560 175161.794  0.15%  56.3 6167s\n",
      " 1797292 130053     cutoff  149      175425.560 175162.214  0.15%  56.3 6174s\n",
      " 1799083 130094     cutoff   89      175425.560 175162.683  0.15%  56.3 6181s\n",
      " 1800880 130257     cutoff  183      175425.560 175163.141  0.15%  56.3 6188s\n",
      " 1802797 130363     cutoff  114      175425.560 175163.607  0.15%  56.3 6195s\n",
      " 1804620 130428     cutoff  106      175425.560 175164.311  0.15%  56.4 6202s\n",
      " 1806368 130468     cutoff  174      175425.560 175164.860  0.15%  56.4 6208s\n",
      " 1808152 130552     cutoff  197      175425.560 175165.409  0.15%  56.4 6215s\n",
      " 1810021 130567     cutoff  110      175425.560 175165.823  0.15%  56.4 6222s\n",
      " 1811737 130668 infeasible  114      175425.560 175166.212  0.15%  56.4 6228s\n",
      " 1813380 130750 175326.351  104  303 175425.560 175166.870  0.15%  56.4 6235s\n",
      " 1815242 130825 175354.670  103  271 175425.560 175167.389  0.15%  56.4 6243s\n",
      " 1816860 130858 175293.585   99  344 175425.560 175167.848  0.15%  56.4 6250s\n",
      " 1818853 131039     cutoff   95      175425.560 175168.360  0.15%  56.4 6257s\n",
      " 1820686 131130 175233.562  100  388 175425.560 175168.858  0.15%  56.4 6264s\n",
      " 1822482 131198 175378.122  171  200 175425.560 175169.318  0.15%  56.5 6271s\n",
      " 1824337 131281 175179.993   93  312 175425.560 175170.003  0.15%  56.5 6278s\n",
      " 1826183 131404     cutoff  108      175425.560 175170.603  0.15%  56.5 6285s\n",
      " 1828099 131459     cutoff   95      175425.560 175171.325  0.14%  56.5 6292s\n",
      " 1829820 131474     cutoff  105      175425.560 175171.660  0.14%  56.5 6298s\n",
      " 1831616 131593 175404.604  113  314 175425.560 175172.168  0.14%  56.5 6305s\n",
      " 1833359 131713     cutoff  104      175425.560 175172.604  0.14%  56.5 6312s\n",
      " 1835180 131823 175414.741   91  351 175425.560 175173.424  0.14%  56.5 6318s\n",
      " 1836910 131768 175212.789  143  312 175425.560 175173.953  0.14%  56.5 6324s\n",
      " 1838464 131909     cutoff  104      175425.560 175174.276  0.14%  56.5 6331s\n",
      " 1840118 132081     cutoff  114      175425.560 175174.588  0.14%  56.5 6338s\n",
      " 1841981 132132 175226.164  168  223 175425.560 175175.302  0.14%  56.6 6347s\n",
      " 1843359 132213 175346.180  101  309 175425.560 175175.558  0.14%  56.6 6354s\n",
      " 1845226 132215     cutoff  101      175425.560 175176.199  0.14%  56.6 6361s\n",
      " 1847102 132293 175345.091  112  212 175425.560 175177.104  0.14%  56.6 6367s\n",
      " 1848795 132355     cutoff  173      175425.560 175177.608  0.14%  56.6 6374s\n",
      " 1850526 132363 175397.600   91  399 175425.560 175178.078  0.14%  56.6 6380s\n",
      " 1852137 132380     cutoff  173      175425.560 175178.594  0.14%  56.6 6387s\n",
      " 1854121 132432     cutoff  116      175425.560 175179.152  0.14%  56.6 6395s\n",
      " 1855905 132433     cutoff  116      175425.560 175179.586  0.14%  56.6 6401s\n",
      " 1857649 132451     cutoff  107      175425.560 175180.083  0.14%  56.6 6408s\n",
      " 1859386 132579 175391.166  156  242 175425.560 175180.496  0.14%  56.7 6415s\n",
      " 1861151 132575 175224.466   94  380 175425.560 175180.895  0.14%  56.7 6422s\n",
      " 1863006 132647     cutoff   99      175425.560 175181.284  0.14%  56.7 6429s\n",
      " 1864898 132787     cutoff   98      175425.560 175182.030  0.14%  56.7 6436s\n",
      " 1866574 132899 175324.976  100  325 175425.560 175182.628  0.14%  56.7 6443s\n",
      " 1868429 133009     cutoff  107      175425.560 175183.189  0.14%  56.7 6450s\n",
      " 1870237 133014 175292.794   87  357 175425.560 175183.684  0.14%  56.7 6456s\n",
      " 1871950 133157     cutoff  115      175425.560 175184.079  0.14%  56.7 6463s\n",
      " 1873695 133146 175293.200  141  257 175425.560 175184.776  0.14%  56.7 6469s\n",
      " 1875383 133206 175369.285  108  282 175425.560 175185.109  0.14%  56.7 6475s\n",
      " 1877153 133243     cutoff   81      175425.560 175185.649  0.14%  56.7 6482s\n",
      " 1878998 133305 175396.577  103  389 175425.560 175186.079  0.14%  56.7 6490s\n",
      " 1880814 133336     cutoff   98      175425.560 175186.700  0.14%  56.8 6497s\n",
      " 1882673 133304 175343.422   91  414 175425.560 175187.397  0.14%  56.8 6503s\n",
      " 1883314 133177     cutoff  141      175425.560 175187.478  0.14%  56.8 6521s\n",
      " 1887805 133278 175350.255   99  350 175425.560 175188.692  0.14%  56.8 6530s\n",
      " 1889855 133257 175393.638  113  226 175425.560 175189.124  0.13%  56.8 6537s\n",
      " 1891819 133192 175230.672   98  332 175425.560 175189.796  0.13%  56.8 6544s\n",
      " 1893787 133170     cutoff  109      175425.560 175190.280  0.13%  56.8 6552s\n",
      " 1895890 133110     cutoff   88      175425.560 175191.026  0.13%  56.8 6560s\n",
      " 1897916 133105 175242.397  108  354 175425.560 175191.735  0.13%  56.8 6567s\n",
      " 1899745 133083 175362.849  103  322 175425.560 175192.364  0.13%  56.8 6574s\n",
      " 1901748 133164 175394.210   96  302 175425.560 175192.854  0.13%  56.8 6581s\n",
      " 1903327 133197 175281.303   82  517 175425.560 175193.403  0.13%  56.9 6589s\n",
      " 1905441 133238     cutoff  119      175425.560 175194.037  0.13%  56.9 6595s\n",
      " 1907338 133353     cutoff  105      175425.560 175194.563  0.13%  56.9 6603s\n",
      " 1909274 133325 175425.553  109  245 175425.560 175195.023  0.13%  56.9 6609s\n",
      " 1911030 133324 175393.642   94  364 175425.560 175195.714  0.13%  56.9 6616s\n",
      " 1912845 133374 175262.173   89  362 175425.560 175196.099  0.13%  56.9 6623s\n",
      " 1914761 133438 175232.949  102  352 175425.560 175196.526  0.13%  56.9 6630s\n",
      " 1916662 133603 175213.982  173  247 175425.560 175197.117  0.13%  56.9 6637s\n",
      " 1918655 133577 175240.187   88  360 175425.560 175197.708  0.13%  56.9 6644s\n",
      " 1920554 133636     cutoff  117      175425.560 175198.311  0.13%  56.9 6651s\n",
      " 1922373 133697 175377.576   92  318 175425.560 175198.905  0.13%  56.9 6658s\n",
      " 1923766 133759 175211.601  108  315 175425.560 175199.309  0.13%  56.9 6667s\n",
      " 1925990 133825     cutoff  100      175425.560 175199.822  0.13%  56.9 6675s\n",
      " 1928080 133865 175415.142   98  299 175425.560 175200.591  0.13%  56.9 6683s\n",
      " 1929998 133862 175327.900  105  282 175425.560 175201.093  0.13%  57.0 6690s\n",
      " 1931977 133898 175396.441  108  293 175425.560 175201.724  0.13%  57.0 6698s\n",
      " 1933966 133804     cutoff  109      175425.560 175202.245  0.13%  57.0 6705s\n",
      " 1935885 133867 175361.039  113  299 175425.560 175202.831  0.13%  57.0 6712s\n",
      " 1937784 133832 175214.318  112  315 175425.560 175203.381  0.13%  57.0 6719s\n",
      " 1939717 133838 175351.521  108  244 175425.560 175203.769  0.13%  57.0 6727s\n",
      " 1941596 133838     cutoff   91      175425.560 175204.774  0.13%  57.0 6733s\n",
      " 1943382 133968 175269.973  101  303 175425.560 175205.379  0.13%  57.0 6739s\n",
      " 1944910 134054     cutoff  105      175425.560 175205.840  0.13%  57.0 6747s\n",
      "\n",
      "Cutting planes:\n",
      "  Gomory: 228\n",
      "  Implied bound: 46\n",
      "  Projected implied bound: 988\n",
      "  MIR: 1251\n",
      "  StrongCG: 92\n",
      "  Flow cover: 464\n",
      "  Inf proof: 1\n",
      "  Zero half: 58\n",
      "  Mod-K: 11\n",
      "  Relax-and-lift: 215\n",
      "\n",
      "Explored 1947063 nodes (111025421 simplex iterations) in 6748.51 seconds (2526.90 work units)\n",
      "Thread count was 12 (of 12 available processors)\n",
      "\n",
      "Solution count 10: 175426 175426 175426 ... 175428\n",
      "\n",
      "Optimal solution found (tolerance 1.25e-03)\n",
      "Best objective 1.754255600000e+05, best bound 1.752062869034e+05, gap 0.1250%\n"
     ]
    }
   ],
   "source": [
    "solver = po.SolverFactory('gurobi')\n",
    "solver.options[\"MIPFocus\"] = 0\n",
    "solver.options[\"MIPGap\"] = 0.00125\n",
    "results = solver.solve(model, tee=True)"
   ]
  },
  {
   "cell_type": "code",
   "execution_count": 58,
   "id": "5edb9921-3a44-43e9-8b31-f2571b116986",
   "metadata": {
    "pycharm": {
     "name": "#%%\n"
    }
   },
   "outputs": [],
   "source": [
    "def mean(x):\n",
    "    return sum(x)/len(x)"
   ]
  },
  {
   "cell_type": "markdown",
   "id": "79a5f27e-9579-4a2a-b535-99e490b21bb4",
   "metadata": {
    "pycharm": {
     "name": "#%% md\n"
    }
   },
   "source": [
    "Best objective 1.772093200000e+05, best bound 1.754607360233e+05, gap 0.9867%\n",
    "0.9507181523246101\n",
    "69"
   ]
  },
  {
   "cell_type": "code",
   "execution_count": 59,
   "id": "49e6734a-b1a9-4f51-bbb6-be21a51c9354",
   "metadata": {
    "pycharm": {
     "name": "#%%\n"
    }
   },
   "outputs": [
    {
     "name": "stdout",
     "output_type": "stream",
     "text": [
      "0.9664851095295508\n",
      "68\n"
     ]
    }
   ],
   "source": [
    "utilizacion=0\n",
    "volumen_por_camion=[]\n",
    "for t in model.t:\n",
    "    for c in model.c:\n",
    "        if model.Y[c,t].value==1:\n",
    "            volumen_por_camion.append(((sum(model.CantidadPedir[i,c,t,col].value/model.PiezasCont[i] for i in model.i for col in model.col if int(model.LargoCont[i])==int(1600))*750*1200*1600+\n",
    "                                     +(sum(model.CantidadPedir[i,c,t,col].value/model.PiezasCont[i] for i in model.i for col in model.col if int(model.LargoCont[i])==int(1000)))*1000*1000*1200)/\n",
    "                                     (3000*2400*13600)))\n",
    "volumen_por_camion\n",
    "print(mean(volumen_por_camion))\n",
    "print(len(volumen_por_camion))"
   ]
  },
  {
   "cell_type": "code",
   "execution_count": 60,
   "id": "63f19f4c-ef02-4479-ac90-1172ab745460",
   "metadata": {
    "pycharm": {
     "name": "#%%\n"
    }
   },
   "outputs": [
    {
     "name": "stdout",
     "output_type": "stream",
     "text": [
      "1 6.0 4.0 0.90017082590612\n",
      "1 8.0 0.0 0.9004010695187165\n",
      "1 8.0 0.0 0.9001736111111112\n",
      "1 6.0 4.0 0.9357843137254903\n",
      "1 8.0 0.0 0.9606729055258467\n",
      "1 8.0 0.0 0.9339795008912656\n",
      "1 5.0 5.0 0.9002181743909685\n",
      "1 6.0 4.0 0.935650623885918\n",
      "3 6.0 4.0 0.9998143196672608\n",
      "3 6.0 4.0 0.9849116161616162\n",
      "4 6.0 4.0 0.9985377673796791\n",
      "4 8.0 0.0 0.9696078431372548\n",
      "4 8.0 0.0 0.9704257650029707\n",
      "5 6.0 4.0 0.966726084373143\n",
      "5 6.0 4.0 0.9995682932263814\n",
      "6 6.0 4.0 1.0\n",
      "6 6.0 4.0 0.999814319667261\n",
      "7 8.0 0.0 0.9696524064171124\n",
      "7 6.0 4.0 0.9975573752228163\n",
      "7 7.0 2.0 0.9534313725490197\n",
      "8 6.0 4.0 0.9997957516339869\n",
      "8 6.0 4.0 0.9997549019607843\n",
      "9 6.0 4.0 0.9978386809269162\n",
      "9 7.0 2.0 0.9824346405228758\n",
      "10 7.0 2.0 0.9818404634581105\n",
      "10 6.0 4.0 0.9828078579916816\n",
      "10 8.0 0.0 0.9557040998217469\n",
      "11 6.0 4.0 0.9852941176470589\n",
      "11 6.0 4.0 0.9997493315508021\n",
      "12 8.0 0.0 0.9502673796791444\n",
      "12 8.0 0.0 0.9411764705882353\n",
      "12 8.0 0.0 0.9411764705882355\n",
      "12 8.0 0.0 0.9409313725490196\n",
      "12 8.0 0.0 0.9697712418300654\n",
      "12 6.0 4.0 0.9998579545454546\n",
      "12 8.0 0.0 0.9408199643493763\n",
      "13 7.0 2.0 0.9558823529411765\n",
      "13 6.0 4.0 0.9705882352941176\n",
      "13 8.0 0.0 0.9411764705882353\n",
      "13 8.0 0.0 0.9411764705882352\n",
      "13 8.0 0.0 0.9411764705882353\n",
      "13 6.0 4.0 0.9705882352941175\n",
      "13 8.0 0.0 0.9354370915032679\n",
      "13 6.0 4.0 0.9705418152109329\n",
      "14 6.0 4.0 0.9967738042186571\n",
      "14 6.0 4.0 1.0\n",
      "14 6.0 4.0 0.9852941176470589\n",
      "14 7.0 2.0 0.9852941176470589\n",
      "14 6.0 4.0 0.970343137254902\n",
      "14 6.0 4.0 0.9852941176470589\n",
      "14 7.0 2.0 0.9700980392156863\n",
      "14 6.0 4.0 1.0\n",
      "15 8.0 0.0 0.9411764705882353\n",
      "15 8.0 0.0 0.9701008244206775\n",
      "15 8.0 0.0 0.9411764705882353\n",
      "15 8.0 0.0 0.9411764705882353\n",
      "15 7.0 2.0 0.9558823529411765\n",
      "15 8.0 0.0 0.9705882352941176\n",
      "15 8.0 0.0 0.9411764705882353\n",
      "15 6.0 4.0 0.9705650252525252\n",
      "16 8.0 0.0 0.9551795528817589\n",
      "16 6.0 4.0 0.9968360071301249\n",
      "16 8.0 0.0 0.9705882352941178\n",
      "17 7.0 2.0 0.9552696078431373\n",
      "17 7.0 2.0 0.985247697563874\n",
      "17 6.0 4.0 0.9791982323232326\n",
      "18 6.0 4.0 0.9955483140225789\n",
      "18 7.0 2.0 0.9852941176470589\n"
     ]
    }
   ],
   "source": [
    "for t in model.t:\n",
    "    for c in model.c:\n",
    "\n",
    "            if model.Y[c,t].value==1:\n",
    "                print(t,model.A[c,col,t].value,model.B[c,col,t].value,((sum(model.CantidadPedir[i,c,t,col].value/model.PiezasCont[i] for i in model.i for col in model.col if int(model.LargoCont[i])==int(1600))*750*1200*1600+\n",
    "            +(sum(model.CantidadPedir[i,c,t,col].value/model.PiezasCont[i] for i in model.i for col in model.col if int(model.LargoCont[i])==int(1000)))*1000*1000*1200)/\n",
    "                                     (3000*2400*13600)))"
   ]
  },
  {
   "cell_type": "code",
   "execution_count": null,
   "id": "7d7a6cbf-bb23-4cca-946a-69ac53a8dd08",
   "metadata": {
    "pycharm": {
     "name": "#%%\n"
    }
   },
   "outputs": [],
   "source": []
  },
  {
   "cell_type": "code",
   "execution_count": 61,
   "id": "c9519392-2e9f-46e5-bb00-e7ff8a7f2c8a",
   "metadata": {
    "pycharm": {
     "name": "#%%\n"
    }
   },
   "outputs": [
    {
     "data": {
      "text/plain": [
       "79"
      ]
     },
     "execution_count": 61,
     "metadata": {},
     "output_type": "execute_result"
    }
   ],
   "source": [
    "0.8628883539414994\n",
    "79"
   ]
  },
  {
   "cell_type": "code",
   "execution_count": null,
   "id": "5f05379e-ae03-4fac-ad83-22893ff1a1f3",
   "metadata": {
    "pycharm": {
     "name": "#%%\n"
    }
   },
   "outputs": [],
   "source": []
  },
  {
   "cell_type": "code",
   "execution_count": 62,
   "id": "d16a462d-a2a9-47a5-b1ff-062d41c209d9",
   "metadata": {
    "pycharm": {
     "name": "#%%\n"
    }
   },
   "outputs": [
    {
     "data": {
      "text/plain": [
       "1000"
      ]
     },
     "execution_count": 62,
     "metadata": {},
     "output_type": "execute_result"
    }
   ],
   "source": [
    "int(model.LargoCont[14])"
   ]
  },
  {
   "cell_type": "code",
   "execution_count": null,
   "id": "bc0dd6ad-4f70-4e3a-b9ce-53fd974e6287",
   "metadata": {
    "pycharm": {
     "name": "#%%\n"
    }
   },
   "outputs": [],
   "source": []
  },
  {
   "cell_type": "code",
   "execution_count": 63,
   "id": "acfcd42b-9220-4232-a412-d56ff37467e5",
   "metadata": {
    "pycharm": {
     "name": "#%%\n"
    }
   },
   "outputs": [
    {
     "ename": "TypeError",
     "evalue": "cannot unpack non-iterable int object",
     "output_type": "error",
     "traceback": [
      "\u001B[1;31m---------------------------------------------------------------------------\u001B[0m",
      "\u001B[1;31mTypeError\u001B[0m                                 Traceback (most recent call last)",
      "Input \u001B[1;32mIn [63]\u001B[0m, in \u001B[0;36m<cell line: 1>\u001B[1;34m()\u001B[0m\n\u001B[1;32m----> 1\u001B[0m \u001B[38;5;28;01mfor\u001B[39;00m i,v \u001B[38;5;129;01min\u001B[39;00m model\u001B[38;5;241m.\u001B[39mLargoCont:\n\u001B[0;32m      2\u001B[0m     \u001B[38;5;28mprint\u001B[39m(i)\n",
      "\u001B[1;31mTypeError\u001B[0m: cannot unpack non-iterable int object"
     ]
    }
   ],
   "source": [
    "for i,v in model.LargoCont:\n",
    "    print(i)"
   ]
  },
  {
   "cell_type": "code",
   "execution_count": null,
   "id": "e2c9b24a-b02c-48ed-a521-c6e3c6149bee",
   "metadata": {
    "pycharm": {
     "name": "#%%\n"
    }
   },
   "outputs": [],
   "source": []
  },
  {
   "cell_type": "code",
   "execution_count": null,
   "id": "8f8c464d-433a-4da3-8846-c517cbec5988",
   "metadata": {
    "pycharm": {
     "name": "#%%\n"
    }
   },
   "outputs": [],
   "source": []
  },
  {
   "cell_type": "code",
   "execution_count": null,
   "id": "8b53b8fa-7b4d-4629-b361-b1c66e9264ee",
   "metadata": {
    "pycharm": {
     "name": "#%%\n"
    }
   },
   "outputs": [],
   "source": []
  },
  {
   "cell_type": "code",
   "execution_count": null,
   "id": "fb35ef05-0c26-47cc-80a8-7f5479e998db",
   "metadata": {
    "pycharm": {
     "name": "#%%\n"
    }
   },
   "outputs": [],
   "source": []
  }
 ],
 "metadata": {
  "kernelspec": {
   "display_name": "Python 3 (ipykernel)",
   "language": "python",
   "name": "python3"
  },
  "language_info": {
   "codemirror_mode": {
    "name": "ipython",
    "version": 3
   },
   "file_extension": ".py",
   "mimetype": "text/x-python",
   "name": "python",
   "nbconvert_exporter": "python",
   "pygments_lexer": "ipython3",
   "version": "3.8.13"
  }
 },
 "nbformat": 4,
 "nbformat_minor": 5
}