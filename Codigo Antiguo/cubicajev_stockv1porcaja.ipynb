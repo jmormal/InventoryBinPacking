{
 "cells": [
  {
   "cell_type": "code",
   "execution_count": null,
   "id": "e42650f7-d9b6-45a8-b68c-76ae8f92e009",
   "metadata": {
    "pycharm": {
     "is_executing": true,
     "name": "#%%\n"
    }
   },
   "outputs": [],
   "source": [
    "import pyodbc\n",
    "import pandas as pd\n",
    "import pyomo.environ as pe\n",
    "import pyomo.opt as po\n",
    "model = pe.ConcreteModel(\"Cargacamiones\")\n",
    "import random\n",
    "random.seed(0)"
   ]
  },
  {
   "cell_type": "code",
   "execution_count": 2,
   "id": "b8fa57e5-a2fb-4af9-8ef3-3624a71f3b1d",
   "metadata": {
    "pycharm": {
     "name": "#%%\n"
    }
   },
   "outputs": [],
   "source": [
    "path=r\"C:\\Users\\juano\\Documents\\pyomcamiones\\Carga de camiones\\Transporte_cubicaje.mdb\"\n",
    "conn = pyodbc.connect('Driver={Microsoft Access Driver (*.mdb, *.accdb)};DBQ='+path+';')\n",
    "cursor = conn.cursor()"
   ]
  },
  {
   "cell_type": "markdown",
   "id": "90368ebb-04b7-4902-9262-c9170e9c357a",
   "metadata": {
    "pycharm": {
     "name": "#%% md\n"
    }
   },
   "source": [
    "Familias Carga de datos"
   ]
  },
  {
   "cell_type": "code",
   "execution_count": 3,
   "id": "4cec6228-3dcb-4b33-82c2-6f7a31f7dee8",
   "metadata": {
    "pycharm": {
     "name": "#%%\n"
    }
   },
   "outputs": [],
   "source": [
    "cursor.execute('select IdProducto from Productos')\n",
    "productos=[]\n",
    "for row in cursor.fetchall():\n",
    "    productos.append(row[0])"
   ]
  },
  {
   "cell_type": "code",
   "execution_count": 4,
   "id": "1729c2ef-9b05-47de-8bb3-00b4c5f6eeaa",
   "metadata": {
    "pycharm": {
     "name": "#%%\n"
    }
   },
   "outputs": [],
   "source": [
    "cursor.execute('select IdFamilia from Familias')\n",
    "familias=[]\n",
    "for row in cursor.fetchall():\n",
    "    familias.append(row[0])"
   ]
  },
  {
   "cell_type": "code",
   "execution_count": 5,
   "id": "67d24c87-6a45-4b11-9a79-ca590c00db10",
   "metadata": {
    "pycharm": {
     "name": "#%%\n"
    }
   },
   "outputs": [],
   "source": [
    "cursor.execute('select IdCamion from Camiones WHERE IdCamion<4')\n",
    "camiones=[]\n",
    "for i in range(1,20):\n",
    "    camiones.append(i)"
   ]
  },
  {
   "cell_type": "code",
   "execution_count": 6,
   "id": "b146f205-9229-4c16-8c3b-b7c6fa6030c1",
   "metadata": {
    "pycharm": {
     "name": "#%%\n"
    }
   },
   "outputs": [],
   "source": [
    "cursor.execute('select IdDia from Dias WHERE \"IdDia\"<=19')\n",
    "dias=[]\n",
    "for row in cursor.fetchall():\n",
    "    dias.append(row[0])\n",
    "        "
   ]
  },
  {
   "cell_type": "code",
   "execution_count": 7,
   "id": "a819db32-4ace-44cc-8422-436a1943c34d",
   "metadata": {
    "pycharm": {
     "name": "#%%\n"
    }
   },
   "outputs": [],
   "source": [
    "cursor.execute('select IdDia from Dias')\n",
    "dias1=[]\n",
    "for row in cursor.fetchall():\n",
    "    dias1.append(row[0])\n",
    "\n"
   ]
  },
  {
   "cell_type": "code",
   "execution_count": 8,
   "id": "07399b98-4597-43ce-97d2-e4354d17b914",
   "metadata": {
    "pycharm": {
     "name": "#%%\n"
    }
   },
   "outputs": [],
   "source": [
    "columnas=[1,2]\n",
    "A1=[6,7]\n",
    "B1=[4,2]"
   ]
  },
  {
   "cell_type": "markdown",
   "id": "45f4435a-4da6-4a13-b895-945c4f2e2f48",
   "metadata": {
    "pycharm": {
     "name": "#%% md\n"
    }
   },
   "source": [
    "## Familias Pyomo"
   ]
  },
  {
   "cell_type": "code",
   "execution_count": 9,
   "id": "62d43fd4-f804-4e33-8960-4f0123a03598",
   "metadata": {
    "pycharm": {
     "name": "#%%\n"
    }
   },
   "outputs": [],
   "source": [
    "model.i = pe.Set(initialize=productos)\n",
    "model.f = pe.Set(initialize=familias)\n",
    "model.c = pe.Set(initialize=camiones)\n",
    "model.t = pe.Set(initialize=dias)\n",
    "model.t1 = pe.Set(initialize=dias1)\n",
    "model.col=pe.Set(initialize=columnas)\n",
    "model.A1=pe.Set(initialize=A1)\n",
    "model.B1=pe.Set(initialize=B1)"
   ]
  },
  {
   "cell_type": "markdown",
   "id": "56854c70-cd27-4926-ae52-ab188ae1680d",
   "metadata": {
    "pycharm": {
     "name": "#%% md\n"
    }
   },
   "source": [
    "## Carga de datos productos"
   ]
  },
  {
   "cell_type": "code",
   "execution_count": 10,
   "id": "0e9d47b7-50e0-4466-b192-b6585231c153",
   "metadata": {
    "pycharm": {
     "name": "#%%\n"
    }
   },
   "outputs": [],
   "source": [
    "cursor.execute('select IdFamilia, LotePedido from Familias')\n",
    "lotepedido={}\n",
    "for row in cursor.fetchall():\n",
    "    lotepedido.update({row[0]:row[1]})\n"
   ]
  },
  {
   "cell_type": "code",
   "execution_count": 11,
   "id": "59ea76c0-5bef-4623-9000-d204f65577f3",
   "metadata": {
    "pycharm": {
     "name": "#%%\n"
    }
   },
   "outputs": [
    {
     "data": {
      "text/plain": [
       "{1: 0.0007,\n",
       " 2: 0.0007,\n",
       " 3: 0.0001,\n",
       " 4: 0.0005,\n",
       " 5: 0.0009000000000000001,\n",
       " 6: 0.0008,\n",
       " 7: 0.0007,\n",
       " 8: 0.0005,\n",
       " 9: 0.0008,\n",
       " 10: 0.0006000000000000001,\n",
       " 11: 0.001,\n",
       " 12: 0.0004,\n",
       " 13: 0.0009000000000000001,\n",
       " 14: 0.00030000000000000003,\n",
       " 15: 0.0005}"
      ]
     },
     "execution_count": 11,
     "metadata": {},
     "output_type": "execute_result"
    }
   ],
   "source": [
    "cursor.execute('select IdFamilia, LotePedido from Familias')\n",
    "CosteStock={}\n",
    "for row in cursor.fetchall():\n",
    "    CosteStock.update({row[0]:random.randint(1, 10)*0.0001})\n",
    "CosteStock"
   ]
  },
  {
   "cell_type": "code",
   "execution_count": 12,
   "id": "29c33ca3-f76a-428c-9a79-8c12eca08171",
   "metadata": {
    "pycharm": {
     "name": "#%%\n"
    }
   },
   "outputs": [],
   "source": [
    "cursor.execute('select IdProducto , PiezasCont from Productos')\n",
    "piezascont={}\n",
    "for row in cursor.fetchall():\n",
    "    piezascont.update({row[0]:row[1]})"
   ]
  },
  {
   "cell_type": "code",
   "execution_count": 13,
   "id": "995a888b-08b1-4a53-929e-e56697c2c0ee",
   "metadata": {
    "pycharm": {
     "name": "#%%\n"
    }
   },
   "outputs": [],
   "source": [
    "cursor.execute('select IdProducto , LargoContedor from Productos')\n",
    "piezas_largo_box={}\n",
    "for row in cursor.fetchall():\n",
    "    piezas_largo_box.update({row[0]:row[1]})"
   ]
  },
  {
   "cell_type": "code",
   "execution_count": 14,
   "id": "13962258-4bdf-4a63-9482-1bca7ab61528",
   "metadata": {
    "pycharm": {
     "name": "#%%\n"
    }
   },
   "outputs": [],
   "source": [
    "cursor.execute('select IdProducto , IdFamilia, beta from beta')\n",
    "b={}\n",
    "for row in cursor.fetchall():\n",
    "    b.update({(row[0],row[1]):row[2]})\n"
   ]
  },
  {
   "cell_type": "code",
   "execution_count": 15,
   "id": "099cc323-bcbb-4125-8d79-fee66ccdaae3",
   "metadata": {
    "pycharm": {
     "name": "#%%\n"
    }
   },
   "outputs": [],
   "source": [
    "cursor.execute('select  IdProducto , IdDia, Demanda from Demanda')\n",
    "demanda={}\n",
    "for row in cursor.fetchall():\n",
    "    demanda.update({(row[0],row[1]):row[2]})"
   ]
  },
  {
   "cell_type": "code",
   "execution_count": 16,
   "id": "e0eb904d-1c8a-4e15-a0dd-803f5cc4f972",
   "metadata": {
    "pycharm": {
     "name": "#%%\n"
    }
   },
   "outputs": [],
   "source": [
    "# cursor.execute('select IdProducto , StockInicial from Productos')\n",
    "stockInicial={}\n",
    "# for row in cursor.fetchall():\n",
    "#     stockInicial.update({row[0]:row[1]})\n",
    "cursor.execute('select  IdProducto , Demanda from Demanda where IdDia=1')\n",
    "\n",
    "for row in cursor.fetchall():\n",
    "    stockInicial.update({row[0]:row[1]*3})\n"
   ]
  },
  {
   "cell_type": "code",
   "execution_count": null,
   "id": "d1592a33-918c-4279-989e-67b75cc553da",
   "metadata": {
    "pycharm": {
     "name": "#%%\n"
    }
   },
   "outputs": [],
   "source": []
  },
  {
   "cell_type": "code",
   "execution_count": 17,
   "id": "8750c074-23b5-4b1e-94e1-7e7f9a9d0f77",
   "metadata": {
    "pycharm": {
     "name": "#%%\n"
    }
   },
   "outputs": [],
   "source": [
    "cursor.execute('select  IdProducto , Valor from Productos')\n",
    "valor={}\n",
    "for row in cursor.fetchall():\n",
    "    valor.update({row[0]:row[1]})"
   ]
  },
  {
   "cell_type": "code",
   "execution_count": 18,
   "id": "ae03f73d-8cda-4a9d-a6a2-9cf71c6441a6",
   "metadata": {
    "pycharm": {
     "name": "#%%\n"
    }
   },
   "outputs": [],
   "source": [
    "PC={}\n",
    "for camion in camiones:\n",
    "    PC.update({camion:1000})"
   ]
  },
  {
   "cell_type": "code",
   "execution_count": 19,
   "id": "5f7ec971-3d78-49a9-8518-1d2454643441",
   "metadata": {
    "pycharm": {
     "name": "#%%\n"
    }
   },
   "outputs": [],
   "source": [
    "L=78\n",
    "nu=26/30\n",
    "NT_lw=5\n",
    "NT_up=10"
   ]
  },
  {
   "cell_type": "code",
   "execution_count": 20,
   "id": "285975ba-3b0f-4e8a-ae1f-7656bd99d3cb",
   "metadata": {
    "pycharm": {
     "name": "#%%\n"
    }
   },
   "outputs": [
    {
     "name": "stdout",
     "output_type": "stream",
     "text": [
      "WARNING: DEPRECATED: The default domain for Param objects is 'Any'.  However,\n",
      "    we will be changing that default to 'Reals' in the future.  If you really\n",
      "    intend the domain of this Param (LargoCont) to be 'Any', you can suppress\n",
      "    this warning by explicitly specifying 'within=Any' to the Param\n",
      "    constructor.  (deprecated in 5.6.9, will be removed in 6.0) (called from\n",
      "    C:\\Users\\juano\\Anaconda3\\envs\\pyomo-tutorials\\lib\\site-\n",
      "    packages\\pyomo\\core\\base\\param.py:77)\n",
      "WARNING: DEPRECATED: The default domain for Param objects is 'Any'.  However,\n",
      "    we will be changing that default to 'Reals' in the future.  If you really\n",
      "    intend the domain of this Param (LargoCont) to be 'Any', you can suppress\n",
      "    this warning by explicitly specifying 'within=Any' to the Param\n",
      "    constructor.  (deprecated in 5.6.9, will be removed in 6.0) (called from\n",
      "    C:\\Users\\juano\\Anaconda3\\envs\\pyomo-tutorials\\lib\\site-\n",
      "    packages\\pyomo\\core\\base\\param.py:77)\n",
      "WARNING: DEPRECATED: The default domain for Param objects is 'Any'.  However,\n",
      "    we will be changing that default to 'Reals' in the future.  If you really\n",
      "    intend the domain of this Param (LargoCont) to be 'Any', you can suppress\n",
      "    this warning by explicitly specifying 'within=Any' to the Param\n",
      "    constructor.  (deprecated in 5.6.9, will be removed in 6.0) (called from\n",
      "    C:\\Users\\juano\\Anaconda3\\envs\\pyomo-tutorials\\lib\\site-\n",
      "    packages\\pyomo\\core\\base\\param.py:77)\n",
      "WARNING: DEPRECATED: The default domain for Param objects is 'Any'.  However,\n",
      "    we will be changing that default to 'Reals' in the future.  If you really\n",
      "    intend the domain of this Param (LargoCont) to be 'Any', you can suppress\n",
      "    this warning by explicitly specifying 'within=Any' to the Param\n",
      "    constructor.  (deprecated in 5.6.9, will be removed in 6.0) (called from\n",
      "    C:\\Users\\juano\\Anaconda3\\envs\\pyomo-tutorials\\lib\\site-\n",
      "    packages\\pyomo\\core\\base\\param.py:77)\n",
      "WARNING: DEPRECATED: The default domain for Param objects is 'Any'.  However,\n",
      "    we will be changing that default to 'Reals' in the future.  If you really\n",
      "    intend the domain of this Param (LargoCont) to be 'Any', you can suppress\n",
      "    this warning by explicitly specifying 'within=Any' to the Param\n",
      "    constructor.  (deprecated in 5.6.9, will be removed in 6.0) (called from\n",
      "    C:\\Users\\juano\\Anaconda3\\envs\\pyomo-tutorials\\lib\\site-\n",
      "    packages\\pyomo\\core\\base\\param.py:77)\n",
      "WARNING: DEPRECATED: The default domain for Param objects is 'Any'.  However,\n",
      "    we will be changing that default to 'Reals' in the future.  If you really\n",
      "    intend the domain of this Param (LargoCont) to be 'Any', you can suppress\n",
      "    this warning by explicitly specifying 'within=Any' to the Param\n",
      "    constructor.  (deprecated in 5.6.9, will be removed in 6.0) (called from\n",
      "    C:\\Users\\juano\\Anaconda3\\envs\\pyomo-tutorials\\lib\\site-\n",
      "    packages\\pyomo\\core\\base\\param.py:77)\n",
      "WARNING: DEPRECATED: The default domain for Param objects is 'Any'.  However,\n",
      "    we will be changing that default to 'Reals' in the future.  If you really\n",
      "    intend the domain of this Param (LargoCont) to be 'Any', you can suppress\n",
      "    this warning by explicitly specifying 'within=Any' to the Param\n",
      "    constructor.  (deprecated in 5.6.9, will be removed in 6.0) (called from\n",
      "    C:\\Users\\juano\\Anaconda3\\envs\\pyomo-tutorials\\lib\\site-\n",
      "    packages\\pyomo\\core\\base\\param.py:77)\n",
      "WARNING: DEPRECATED: The default domain for Param objects is 'Any'.  However,\n",
      "    we will be changing that default to 'Reals' in the future.  If you really\n",
      "    intend the domain of this Param (LargoCont) to be 'Any', you can suppress\n",
      "    this warning by explicitly specifying 'within=Any' to the Param\n",
      "    constructor.  (deprecated in 5.6.9, will be removed in 6.0) (called from\n",
      "    C:\\Users\\juano\\Anaconda3\\envs\\pyomo-tutorials\\lib\\site-\n",
      "    packages\\pyomo\\core\\base\\param.py:77)\n",
      "WARNING: DEPRECATED: The default domain for Param objects is 'Any'.  However,\n",
      "    we will be changing that default to 'Reals' in the future.  If you really\n",
      "    intend the domain of this Param (LargoCont) to be 'Any', you can suppress\n",
      "    this warning by explicitly specifying 'within=Any' to the Param\n",
      "    constructor.  (deprecated in 5.6.9, will be removed in 6.0) (called from\n",
      "    C:\\Users\\juano\\Anaconda3\\envs\\pyomo-tutorials\\lib\\site-\n",
      "    packages\\pyomo\\core\\base\\param.py:77)\n",
      "WARNING: DEPRECATED: The default domain for Param objects is 'Any'.  However,\n",
      "    we will be changing that default to 'Reals' in the future.  If you really\n",
      "    intend the domain of this Param (LargoCont) to be 'Any', you can suppress\n",
      "    this warning by explicitly specifying 'within=Any' to the Param\n",
      "    constructor.  (deprecated in 5.6.9, will be removed in 6.0) (called from\n",
      "    C:\\Users\\juano\\Anaconda3\\envs\\pyomo-tutorials\\lib\\site-\n",
      "    packages\\pyomo\\core\\base\\param.py:77)\n",
      "WARNING: DEPRECATED: The default domain for Param objects is 'Any'.  However,\n",
      "    we will be changing that default to 'Reals' in the future.  If you really\n",
      "    intend the domain of this Param (LargoCont) to be 'Any', you can suppress\n",
      "    this warning by explicitly specifying 'within=Any' to the Param\n",
      "    constructor.  (deprecated in 5.6.9, will be removed in 6.0) (called from\n",
      "    C:\\Users\\juano\\Anaconda3\\envs\\pyomo-tutorials\\lib\\site-\n",
      "    packages\\pyomo\\core\\base\\param.py:77)\n",
      "WARNING: DEPRECATED: The default domain for Param objects is 'Any'.  However,\n",
      "    we will be changing that default to 'Reals' in the future.  If you really\n",
      "    intend the domain of this Param (LargoCont) to be 'Any', you can suppress\n",
      "    this warning by explicitly specifying 'within=Any' to the Param\n",
      "    constructor.  (deprecated in 5.6.9, will be removed in 6.0) (called from\n",
      "    C:\\Users\\juano\\Anaconda3\\envs\\pyomo-tutorials\\lib\\site-\n",
      "    packages\\pyomo\\core\\base\\param.py:77)\n",
      "WARNING: DEPRECATED: The default domain for Param objects is 'Any'.  However,\n",
      "    we will be changing that default to 'Reals' in the future.  If you really\n",
      "    intend the domain of this Param (LargoCont) to be 'Any', you can suppress\n",
      "    this warning by explicitly specifying 'within=Any' to the Param\n",
      "    constructor.  (deprecated in 5.6.9, will be removed in 6.0) (called from\n",
      "    C:\\Users\\juano\\Anaconda3\\envs\\pyomo-tutorials\\lib\\site-\n",
      "    packages\\pyomo\\core\\base\\param.py:77)\n",
      "WARNING: DEPRECATED: The default domain for Param objects is 'Any'.  However,\n",
      "    we will be changing that default to 'Reals' in the future.  If you really\n",
      "    intend the domain of this Param (LargoCont) to be 'Any', you can suppress\n",
      "    this warning by explicitly specifying 'within=Any' to the Param\n",
      "    constructor.  (deprecated in 5.6.9, will be removed in 6.0) (called from\n",
      "    C:\\Users\\juano\\Anaconda3\\envs\\pyomo-tutorials\\lib\\site-\n",
      "    packages\\pyomo\\core\\base\\param.py:77)\n",
      "WARNING: DEPRECATED: The default domain for Param objects is 'Any'.  However,\n",
      "    we will be changing that default to 'Reals' in the future.  If you really\n",
      "    intend the domain of this Param (LargoCont) to be 'Any', you can suppress\n",
      "    this warning by explicitly specifying 'within=Any' to the Param\n",
      "    constructor.  (deprecated in 5.6.9, will be removed in 6.0) (called from\n",
      "    C:\\Users\\juano\\Anaconda3\\envs\\pyomo-tutorials\\lib\\site-\n",
      "    packages\\pyomo\\core\\base\\param.py:77)\n"
     ]
    }
   ],
   "source": [
    "model.LotePedido = pe.Param(model.f , initialize=lotepedido)\n",
    "model.PiezasCont= pe.Param(model.i ,initialize=piezascont)\n",
    "model.b= pe.Param(model.i, model.f ,initialize=b, default=0)\n",
    "model.StockInicial= pe.Param(model.i, initialize=stockInicial)\n",
    "model.demanda= pe.Param(model.i, model.t1,  initialize=demanda)\n",
    "model.valor=pe.Param(model.i, initialize=stockInicial)\n",
    "model.PC=pe.Param(model.c, initialize=PC)\n",
    "model.L=pe.Param(initialize=L)\n",
    "model.nu=pe.Param(initialize=nu)\n",
    "model.NT_lw=pe.Param(initialize=NT_lw)\n",
    "model.NT_up=pe.Param(initialize=NT_up)\n",
    "model.LargoCont=pe.Param(model.i,initialize=piezas_largo_box)\n",
    "model.CS=pe.Param(model.i, initialize=CosteStock)"
   ]
  },
  {
   "cell_type": "markdown",
   "id": "dfe06a96-676c-48f6-a963-bf71ffbabd5a",
   "metadata": {
    "pycharm": {
     "name": "#%% md\n"
    }
   },
   "source": [
    "# # Varibles"
   ]
  },
  {
   "cell_type": "code",
   "execution_count": 21,
   "id": "703e4d9f-a03e-4019-a8c1-a631475fc6b8",
   "metadata": {
    "pycharm": {
     "name": "#%%\n"
    }
   },
   "outputs": [],
   "source": [
    "model.CantidadPedir = pe.Var(model.i, model.c, model.t,model.col, domain=pe.Integers)"
   ]
  },
  {
   "cell_type": "code",
   "execution_count": 22,
   "id": "45e1db77-888c-451b-887b-6eb9855e3dbe",
   "metadata": {
    "pycharm": {
     "name": "#%%\n"
    }
   },
   "outputs": [],
   "source": [
    "model.CantidadPedir2 = pe.Var(model.i,model.f, model.c, model.t,model.col, domain=pe.Integers, bounds=(0,None) )\n",
    "model.ContenedoresCamion=pe.Var(model.c,model.t,model.col,model.i, domain=pe.Integers)"
   ]
  },
  {
   "cell_type": "code",
   "execution_count": 23,
   "id": "8aedd595-3e0e-455b-83eb-b29110277101",
   "metadata": {
    "pycharm": {
     "name": "#%%\n"
    }
   },
   "outputs": [],
   "source": [
    "model.Stock=pe.Var(model.i,model.t, bounds=(0,None))"
   ]
  },
  {
   "cell_type": "code",
   "execution_count": 24,
   "id": "78544ce4-f486-43f6-b950-4b2f91e332e0",
   "metadata": {
    "pycharm": {
     "name": "#%%\n"
    }
   },
   "outputs": [],
   "source": [
    "model.RetrasoDemanda=pe.Var(model.i,model.t, bounds=(0,None))"
   ]
  },
  {
   "cell_type": "code",
   "execution_count": 25,
   "id": "5d8daad9-835e-4f5e-9f06-8c33b3459648",
   "metadata": {
    "pycharm": {
     "name": "#%%\n"
    }
   },
   "outputs": [],
   "source": [
    "model.K=pe.Var(model.f,model.c,model.t,model.col ,domain=pe.Integers)"
   ]
  },
  {
   "cell_type": "code",
   "execution_count": 26,
   "id": "9a57ba50-b2eb-4f12-926d-29626c730758",
   "metadata": {
    "pycharm": {
     "name": "#%%\n"
    }
   },
   "outputs": [],
   "source": [
    "model.Y=pe.Var(model.c,model.t ,domain=pe.Binary, initialize=0)"
   ]
  },
  {
   "cell_type": "code",
   "execution_count": 27,
   "id": "a7e18df4-c807-425e-8357-7d834d601616",
   "metadata": {
    "pycharm": {
     "name": "#%%\n"
    }
   },
   "outputs": [],
   "source": [
    "# model.A=pe.Var(model.c,model.col,model.t, domain=pe.Integers, bounds=(5.5,7.5))\n",
    "# model.B=pe.Var(model.c,model.col, model.t, domain=pe.Integers, bounds=(1.5,4.5))\n",
    "model.A=pe.Var(model.c,model.col,model.t, domain=pe.Integers, bounds=(0,None))\n",
    "model.B=pe.Var(model.c,model.col, model.t, domain=pe.Integers, bounds=(0,None))\n"
   ]
  },
  {
   "cell_type": "markdown",
   "id": "4456c6c3-d50e-42ad-8287-5c26dfdf99af",
   "metadata": {
    "pycharm": {
     "name": "#%% md\n"
    }
   },
   "source": [
    "## Función Objetivo\n",
    "Minimizar el número de camiones usado\n",
    "$$\\sum_{c,t}PC(c)Y(c,t)+ \\sum CS(i)Stock(i,t)$$"
   ]
  },
  {
   "cell_type": "code",
   "execution_count": 28,
   "id": "21e0ac46-c8c0-4d10-921f-5d4fb694b2cd",
   "metadata": {
    "pycharm": {
     "name": "#%%\n"
    }
   },
   "outputs": [],
   "source": [
    "expr = sum(model.PC[c]*model.Y[c,t] +sum(model.CS[i]*model.Stock[i,t] for i in model.i) for c in model.c for t in model.t)"
   ]
  },
  {
   "cell_type": "code",
   "execution_count": 29,
   "id": "51e5e1fd-4e59-4dd4-89de-7c103381e841",
   "metadata": {
    "pycharm": {
     "name": "#%%\n"
    }
   },
   "outputs": [],
   "source": [
    " #Coste Transporte\n",
    "model.objective = pe.Objective(sense=pe.minimize, expr=expr)"
   ]
  },
  {
   "cell_type": "markdown",
   "id": "ceb7304e-b5e4-4fd0-b692-5224aaff29fb",
   "metadata": {
    "pycharm": {
     "name": "#%% md\n"
    }
   },
   "source": [
    "## Funciones auxiliares"
   ]
  },
  {
   "cell_type": "code",
   "execution_count": 30,
   "id": "5e708056-8ba4-400c-82a8-9a14cbc7f647",
   "metadata": {
    "pycharm": {
     "name": "#%%\n"
    }
   },
   "outputs": [],
   "source": [
    "def UsoCamion(model):\n",
    "    return sum(model.L*model.Y[c,t] for c in model.c for t in model.t)-\\\n",
    "        sum(model.ContenedoresCamion[c,t] for c in model.c for t in model.t)"
   ]
  },
  {
   "cell_type": "code",
   "execution_count": 31,
   "id": "2715fc7d-df48-4756-a01f-8f4ba07c26b2",
   "metadata": {
    "pycharm": {
     "name": "#%%\n"
    }
   },
   "outputs": [],
   "source": [
    "def CTransporte(model):\n",
    "    return sum(model.PC[c]*model.Y[c,t] for c in model.c for t in model.t)"
   ]
  },
  {
   "cell_type": "code",
   "execution_count": 32,
   "id": "165ba238-8b2c-42c3-91ae-5fb67d2187ea",
   "metadata": {
    "pycharm": {
     "name": "#%%\n"
    }
   },
   "outputs": [],
   "source": [
    "def NumeroCamiones(model):\n",
    "    return sum(model.Y[c,t] for c in model.c for t in model.t)"
   ]
  },
  {
   "cell_type": "markdown",
   "id": "2f88e217-bfde-44aa-807a-172241f861dd",
   "metadata": {
    "pycharm": {
     "name": "#%% md\n"
    }
   },
   "source": [
    "## Restricciones"
   ]
  },
  {
   "cell_type": "code",
   "execution_count": 33,
   "id": "f5a915f0-7814-45c9-b5c1-5dfb41a5f4c3",
   "metadata": {
    "pycharm": {
     "name": "#%%\n"
    }
   },
   "outputs": [],
   "source": [
    "model.stocks=pe.ConstraintList()"
   ]
  },
  {
   "cell_type": "markdown",
   "id": "4b89345a-c85f-4913-bd1e-5c67cc788f89",
   "metadata": {
    "pycharm": {
     "name": "#%% md\n"
    }
   },
   "source": [
    "$$Stock(i,t)=Stock(i,t-1)+\\sum_{c,col}CantidadPedir(i,c,t,col)-Demanda(i,t)$$"
   ]
  },
  {
   "cell_type": "code",
   "execution_count": 34,
   "id": "82962da3-51e5-41d5-a9f1-36918b46d14c",
   "metadata": {
    "pycharm": {
     "name": "#%%\n"
    }
   },
   "outputs": [],
   "source": [
    "for i in model.i:\n",
    "        lhs=model.Stock[i,1]\n",
    "        rhs=model.StockInicial[i]-model.demanda[i,1]+sum(model.CantidadPedir[i,c,1,col] for c in model.c for col in model.col )\n",
    "        model.stocks.add(lhs==rhs)"
   ]
  },
  {
   "cell_type": "code",
   "execution_count": 35,
   "id": "173d8196-22f7-4695-8c8a-1922b5c29a23",
   "metadata": {
    "pycharm": {
     "name": "#%%\n"
    }
   },
   "outputs": [],
   "source": [
    "for t in list(model.t)[1:]:\n",
    "    for i in model.i:\n",
    "            lhs=model.Stock[i,t]\n",
    "            rhs=model.Stock[i,t-1]-model.demanda[i,t-1]+sum(model.K[f,c,t,col]*model.LotePedido[f]*model.b[i,f] for f in model.f for c in model.c for col in model.col)\n",
    "            model.stocks.add(lhs==rhs)"
   ]
  },
  {
   "cell_type": "code",
   "execution_count": 36,
   "id": "05d94883-746b-4680-9115-cd65cd7b429f",
   "metadata": {
    "pycharm": {
     "name": "#%%\n"
    }
   },
   "outputs": [],
   "source": [
    "model.RcantidadPedir=pe.ConstraintList()"
   ]
  },
  {
   "cell_type": "markdown",
   "id": "76278bb1-b6f8-4c6f-9d8f-c983266b00b3",
   "metadata": {
    "pycharm": {
     "name": "#%% md\n"
    }
   },
   "source": [
    "$$CantidadPedir2_{i,f,c,t,col}=K(f,c,t,col)$$"
   ]
  },
  {
   "cell_type": "code",
   "execution_count": 37,
   "id": "01555077-48bd-4a11-ad7d-256c44725d76",
   "metadata": {
    "pycharm": {
     "name": "#%%\n"
    }
   },
   "outputs": [],
   "source": [
    "for i in model.i:\n",
    "    for f in model.f:\n",
    "        for c in model.c:\n",
    "            for t in model.t:\n",
    "                for col in model.col:\n",
    "                    lhs=model.CantidadPedir2[i,f,c,t,col]\n",
    "                    rhs=model.K[f,c,t,col]\n",
    "                    model.RcantidadPedir.add(lhs==rhs)"
   ]
  },
  {
   "cell_type": "code",
   "execution_count": 38,
   "id": "8e74beb7-51cf-44e2-b5c4-bd406b1526bf",
   "metadata": {
    "pycharm": {
     "name": "#%%\n"
    }
   },
   "outputs": [],
   "source": [
    "model.RcantidadPedir2=pe.ConstraintList()"
   ]
  },
  {
   "cell_type": "markdown",
   "id": "9542afb7-5195-41b8-a516-b659fd00a74d",
   "metadata": {
    "pycharm": {
     "name": "#%% md\n"
    }
   },
   "source": [
    "$$CantidadPedir_{i,c,t,col}= \\sum_f CanitdadPedir2(i,f,c,t,col)$$"
   ]
  },
  {
   "cell_type": "code",
   "execution_count": 39,
   "id": "90e660c5-19e9-4fb3-824c-6588d1ee577d",
   "metadata": {
    "pycharm": {
     "name": "#%%\n"
    }
   },
   "outputs": [],
   "source": [
    "for i in model.i:\n",
    "    for c in model.c:\n",
    "        for t in model.t:\n",
    "            for col in model.col:\n",
    "                lhs=model.CantidadPedir[i,c,t,col]\n",
    "                rhs=sum(model.CantidadPedir2[i,f,c,t,col] for f in model.f)\n",
    "                model.RcantidadPedir2.add(lhs==rhs)"
   ]
  },
  {
   "cell_type": "code",
   "execution_count": null,
   "id": "cfc9bfa9-ccf0-4430-adab-24bd891132d2",
   "metadata": {
    "pycharm": {
     "name": "#%%\n"
    }
   },
   "outputs": [],
   "source": []
  },
  {
   "cell_type": "code",
   "execution_count": 40,
   "id": "d6bf0da5-4f2f-4a52-8a2a-df1f172058ab",
   "metadata": {
    "pycharm": {
     "name": "#%%\n"
    }
   },
   "outputs": [],
   "source": [
    "# model.RContendores=pe.ConstraintList()"
   ]
  },
  {
   "cell_type": "code",
   "execution_count": 41,
   "id": "80eb9004-3a56-42fc-8c6a-20a5db275f08",
   "metadata": {
    "pycharm": {
     "name": "#%%\n"
    }
   },
   "outputs": [],
   "source": [
    "# for c in model.c:\n",
    "#     for t in model.t:\n",
    "#         for col in model.col:\n",
    "#             for i in model.i:\n",
    "#                 lhs=model.ContenedoresCamion[c,t,col,i]\n",
    "#                 rhs=model.CantidadPedir[i,c,t,col]/model.PiezasCont[i]\n",
    "#                 model.RContendores.add(lhs==rhs)"
   ]
  },
  {
   "cell_type": "code",
   "execution_count": 42,
   "id": "6bd9b17b-a8c1-496f-8932-beed91d88eb6",
   "metadata": {
    "pycharm": {
     "name": "#%%\n"
    }
   },
   "outputs": [],
   "source": [
    "model.RDimensionesCamion=pe.ConstraintList()"
   ]
  },
  {
   "cell_type": "markdown",
   "id": "49edeb77-d58e-43d5-a2c9-0b6cdf3fdd1d",
   "metadata": {
    "pycharm": {
     "name": "#%% md\n"
    }
   },
   "source": [
    "$$ 1600A_{c,col,t} +1000B_{c,col,t}   \\leq 13000$$"
   ]
  },
  {
   "cell_type": "code",
   "execution_count": 43,
   "id": "13920e0a-7f48-4177-a90a-c0e69e64648f",
   "metadata": {
    "pycharm": {
     "name": "#%%\n"
    }
   },
   "outputs": [],
   "source": [
    "for c in model.c:\n",
    "    for t in model.t:\n",
    "        for col in model.col:\n",
    "            lhs=13600\n",
    "            rhs=(model.A[c,col,t]*1600+model.B[c,col,t]*1000)*model.Y[c,t]\n",
    "            model.RDimensionesCamion.add(lhs>=rhs)"
   ]
  },
  {
   "cell_type": "code",
   "execution_count": 44,
   "id": "e327728c-f509-4340-b66c-19a743ee6d17",
   "metadata": {
    "pycharm": {
     "name": "#%%\n"
    }
   },
   "outputs": [],
   "source": [
    "model.RCajasTotales=pe.ConstraintList()"
   ]
  },
  {
   "cell_type": "markdown",
   "id": "15485314-f64b-4db9-841f-a3743ffd1afa",
   "metadata": {
    "pycharm": {
     "name": "#%% md\n"
    }
   },
   "source": [
    "$$ \\sum_i CantidadPedir(i,c,t,col)/PiezasCont(i) \\leq A_{c,col,t}*4+B_{c,col,t}*3 $$"
   ]
  },
  {
   "cell_type": "code",
   "execution_count": 45,
   "id": "c9cf7adb-6b4c-4f0f-8ecd-65e881651242",
   "metadata": {
    "pycharm": {
     "name": "#%%\n"
    }
   },
   "outputs": [],
   "source": [
    "for c in model.c:\n",
    "    for t in model.t:\n",
    "        for col in model.col:\n",
    "            lhs=sum(model.CantidadPedir[i,c,t,col]/model.PiezasCont[i] for i in model.i)\n",
    "            rhs=(model.A[c,col,t]*4+model.B[c,col,t]*3)*model.Y[c,t]\n",
    "            model.RCajasTotales.add(lhs<=rhs)"
   ]
  },
  {
   "cell_type": "code",
   "execution_count": 46,
   "id": "2c10fa4c-7e07-4358-83c4-07f0b542553a",
   "metadata": {
    "pycharm": {
     "name": "#%%\n"
    }
   },
   "outputs": [],
   "source": [
    "model.RCajasTipoA=pe.ConstraintList()"
   ]
  },
  {
   "cell_type": "markdown",
   "id": "07829fb9-7383-47e0-a0c5-21ab6d8775f0",
   "metadata": {
    "pycharm": {
     "name": "#%% md\n"
    }
   },
   "source": [
    "$$ \\sum_i CantidadPedir(i,c,t,col)/PiezasCont(i)[tipoA] \\leq A_{c,col,t}*4 $$"
   ]
  },
  {
   "cell_type": "code",
   "execution_count": 47,
   "id": "f45ddf77-3df3-4a21-9ddd-d19d0f80f87d",
   "metadata": {
    "pycharm": {
     "name": "#%%\n"
    }
   },
   "outputs": [],
   "source": [
    "for c in model.c:\n",
    "    for t in model.t:\n",
    "        for col in model.col:\n",
    "            lhs=sum(model.CantidadPedir[i,c,t,col]/model.PiezasCont[i]*float(int(model.LargoCont[i])==int(1600)) for i in model.i)\n",
    "            rhs=model.A[c,col,t]*4*model.Y[c,t]\n",
    "            model.RCajasTipoA.add(lhs<=rhs)"
   ]
  },
  {
   "cell_type": "code",
   "execution_count": 48,
   "id": "7074250a-752b-44e4-a9d3-efa4947a1d8b",
   "metadata": {
    "pycharm": {
     "name": "#%%\n"
    }
   },
   "outputs": [],
   "source": [
    "model.RCajasTipoB=pe.ConstraintList()"
   ]
  },
  {
   "cell_type": "code",
   "execution_count": 49,
   "id": "7a45175a-b1db-4ab3-a1bd-c7e61ba29d53",
   "metadata": {
    "pycharm": {
     "name": "#%%\n"
    }
   },
   "outputs": [],
   "source": [
    "for c in model.c:\n",
    "    for t in model.t:\n",
    "        for col in model.col:\n",
    "            lhs=sum(model.ContenedoresCamion[c,t,col,i]*float(int(model.LargoCont[i])==int(1000)) for i in model.i)\n",
    "            rhs=model.B[c,col,t]*3*model.Y[c,t]\n",
    "            model.RCajasTipoB.add(lhs<=rhs)"
   ]
  },
  {
   "cell_type": "code",
   "execution_count": 50,
   "id": "67223171-4297-46a8-b4ab-7fd0a3a6c557",
   "metadata": {
    "pycharm": {
     "name": "#%%\n"
    }
   },
   "outputs": [],
   "source": [
    "# model.RDimensionesCamion=pe.ConstraintList()"
   ]
  },
  {
   "cell_type": "code",
   "execution_count": 51,
   "id": "2da9c700-9c62-4829-8837-f1f58fb6a219",
   "metadata": {
    "pycharm": {
     "name": "#%%\n"
    }
   },
   "outputs": [],
   "source": [
    "# for c in model.c:\n",
    "#     for t in model.t:\n",
    "#         lhs=model.ContenedoresCamion[c,t]\n",
    "#         rhs=model.L*model.Y[c,t]\n",
    "#         model.RDimensionesCamion.add(lhs<=rhs)"
   ]
  },
  {
   "cell_type": "code",
   "execution_count": 52,
   "id": "2896c7d5-1505-4bb6-b8b0-a6b08933bd8e",
   "metadata": {
    "pycharm": {
     "name": "#%%\n"
    }
   },
   "outputs": [],
   "source": [
    "# model.RLlenado=pe.ConstraintList()\n",
    "# for c in model.c:\n",
    "#     for t in model.t:\n",
    "#         lhs=model.ContenedoresCamion[c,t]\n",
    "#         rhs=model.L*model.nu*model.Y[c,t]\n",
    "#         model.RLlenado.add(lhs>=rhs)"
   ]
  },
  {
   "cell_type": "code",
   "execution_count": null,
   "id": "e92fe4e8-1c87-498b-ac19-3e6b28179e3c",
   "metadata": {
    "pycharm": {
     "name": "#%%\n"
    }
   },
   "outputs": [],
   "source": []
  },
  {
   "cell_type": "code",
   "execution_count": 53,
   "id": "fdae8c93-f5a9-4aa4-b772-2974f089f8cd",
   "metadata": {
    "pycharm": {
     "name": "#%%\n"
    }
   },
   "outputs": [],
   "source": [
    "model.RCobertura=pe.ConstraintList()\n",
    "for i in model.i:\n",
    "    for t in range(1,16):\n",
    "        lhs=model.Stock[i,t]\n",
    "        rhs=(model.demanda[i,t+1]+model.demanda[i,t+2]+model.demanda[i,t+3]+model.demanda[i,t+4])\n",
    "        model.RCobertura.add(lhs>=rhs)\n",
    "for i in model.i:\n",
    "    for t in range(16,20):\n",
    "        lhs=model.Stock[i,t]\n",
    "        model.RCobertura.add(lhs>=rhs)"
   ]
  },
  {
   "cell_type": "code",
   "execution_count": 54,
   "id": "be1605c4-f93a-4920-96de-8c0db9aaddb6",
   "metadata": {
    "pycharm": {
     "name": "#%%\n"
    }
   },
   "outputs": [],
   "source": [
    "model.RCVolumenminimo=pe.ConstraintList()"
   ]
  },
  {
   "cell_type": "code",
   "execution_count": 55,
   "id": "d3f17974-c071-4227-8a9b-86f94d414ce4",
   "metadata": {
    "pycharm": {
     "name": "#%%\n"
    }
   },
   "outputs": [],
   "source": [
    "for t in model.t:\n",
    "    for c in model.c:\n",
    "        lhs=(sum(model.CantidadPedir2[i,f,c,t,col] for i in model.i for col in model.col if int(model.LargoCont[i])==int(1600))*750*1200*1600+\n",
    "                                     +(sum(model.CantidadPedir2[i,f,c,t,col] for i in model.i for col in model.col if int(model.LargoCont[i])==int(1000)))*1000*1000*1200)/(3000*2400*13600)\n",
    "        rhs=0.94*model.Y[c,t]\n",
    "        model.RCVolumenminimo.add(lhs >= rhs)"
   ]
  },
  {
   "cell_type": "code",
   "execution_count": 56,
   "id": "9355d322-e790-4a34-aeda-8c028dc594d1",
   "metadata": {
    "pycharm": {
     "name": "#%%\n"
    }
   },
   "outputs": [],
   "source": [
    "model.bounds=pe.ConstraintList()\n",
    "for i in model.i:\n",
    "    for t in model.t:\n",
    "        model.bounds.add(model.Stock[i,t]>=0)\n"
   ]
  },
  {
   "cell_type": "code",
   "execution_count": 57,
   "id": "e954eeff-bab1-4415-b601-7a7679b6bcc0",
   "metadata": {
    "pycharm": {
     "name": "#%%\n"
    },
    "tags": []
   },
   "outputs": [
    {
     "name": "stdout",
     "output_type": "stream",
     "text": [
      "Set parameter Username\n",
      "Academic license - for non-commercial use only - expires 2022-08-06\n",
      "Read LP format model from file C:\\Users\\juano\\AppData\\Local\\Temp\\tmp9kejgi6s.pyomo.lp\n",
      "Reading time = 0.45 seconds\n",
      "x197316: 174497 rows, 188367 columns, 521327 nonzeros\n",
      "Set parameter MIPGap to value 0.005\n",
      "Gurobi Optimizer version 9.5.1 build v9.5.1rc2 (win64)\n",
      "Thread count: 6 physical cores, 12 logical processors, using up to 12 threads\n",
      "Optimize a model with 174497 rows, 188367 columns and 521327 nonzeros\n",
      "Model fingerprint: 0x6c5a0ac6\n",
      "Model has 2888 quadratic constraints\n",
      "Variable types: 286 continuous, 188081 integer (361 binary)\n",
      "Coefficient statistics:\n",
      "  Matrix range     [1e-02, 1e+00]\n",
      "  QMatrix range    [3e+00, 2e+03]\n",
      "  QLMatrix range   [2e-02, 1e+00]\n",
      "  Objective range  [2e-03, 1e+03]\n",
      "  Bounds range     [1e+00, 1e+00]\n",
      "  RHS range        [1e+00, 3e+03]\n",
      "  QRHS range       [1e+04, 1e+04]\n",
      "Presolve removed 173285 rows and 173247 columns\n",
      "Presolve time: 0.21s\n",
      "Presolved: 6988 rows, 19452 columns, 37820 nonzeros\n",
      "Presolved model has 2888 SOS constraint(s)\n",
      "Variable types: 0 continuous, 19452 integer (1805 binary)\n",
      "\n",
      "Root relaxation: infeasible, 1584 iterations, 0.03 seconds (0.02 work units)\n",
      "\n",
      "    Nodes    |    Current Node    |     Objective Bounds      |     Work\n",
      " Expl Unexpl |  Obj  Depth IntInf | Incumbent    BestBd   Gap | It/Node Time\n",
      "\n",
      "     0     0 infeasible    0               - infeasible      -     -    0s\n",
      "\n",
      "Explored 1 nodes (1584 simplex iterations) in 0.34 seconds (0.58 work units)\n",
      "Thread count was 12 (of 12 available processors)\n",
      "\n",
      "Solution count 0\n",
      "\n",
      "Model is infeasible\n",
      "Best objective -, best bound -, gap -\n",
      "WARNING: Loading a SolverResults object with a warning status into\n",
      "    model.name=\"Cargacamiones\";\n",
      "      - termination condition: infeasible\n",
      "      - message from solver: Model was proven to be infeasible.\n"
     ]
    }
   ],
   "source": [
    "solver = po.SolverFactory('gurobi')\n",
    "solver.options[\"MIPFocus\"] = 0\n",
    "solver.options[\"MIPGap\"] = 0.005\n",
    "results = solver.solve(model, tee=True)"
   ]
  },
  {
   "cell_type": "code",
   "execution_count": 58,
   "id": "5edb9921-3a44-43e9-8b31-f2571b116986",
   "metadata": {
    "pycharm": {
     "name": "#%%\n"
    }
   },
   "outputs": [],
   "source": [
    "def mean(x):\n",
    "    return sum(x)/len(x)"
   ]
  },
  {
   "cell_type": "code",
   "execution_count": 59,
   "id": "49e6734a-b1a9-4f51-bbb6-be21a51c9354",
   "metadata": {
    "pycharm": {
     "name": "#%%\n"
    }
   },
   "outputs": [
    {
     "ename": "ZeroDivisionError",
     "evalue": "division by zero",
     "output_type": "error",
     "traceback": [
      "\u001B[1;31m---------------------------------------------------------------------------\u001B[0m",
      "\u001B[1;31mZeroDivisionError\u001B[0m                         Traceback (most recent call last)",
      "Input \u001B[1;32mIn [59]\u001B[0m, in \u001B[0;36m<cell line: 10>\u001B[1;34m()\u001B[0m\n\u001B[0;32m      6\u001B[0m             volumen_por_camion\u001B[38;5;241m.\u001B[39mappend(((\u001B[38;5;28msum\u001B[39m(model\u001B[38;5;241m.\u001B[39mCantidadPedir[i,c,t,col]\u001B[38;5;241m.\u001B[39mvalue\u001B[38;5;241m/\u001B[39mmodel\u001B[38;5;241m.\u001B[39mPiezasCont[i] \u001B[38;5;28;01mfor\u001B[39;00m i \u001B[38;5;129;01min\u001B[39;00m model\u001B[38;5;241m.\u001B[39mi \u001B[38;5;28;01mfor\u001B[39;00m col \u001B[38;5;129;01min\u001B[39;00m model\u001B[38;5;241m.\u001B[39mcol \u001B[38;5;28;01mif\u001B[39;00m \u001B[38;5;28mint\u001B[39m(model\u001B[38;5;241m.\u001B[39mLargoCont[i])\u001B[38;5;241m==\u001B[39m\u001B[38;5;28mint\u001B[39m(\u001B[38;5;241m1600\u001B[39m))\u001B[38;5;241m*\u001B[39m\u001B[38;5;241m750\u001B[39m\u001B[38;5;241m*\u001B[39m\u001B[38;5;241m1200\u001B[39m\u001B[38;5;241m*\u001B[39m\u001B[38;5;241m1600\u001B[39m\u001B[38;5;241m+\u001B[39m\n\u001B[0;32m      7\u001B[0m                                      \u001B[38;5;241m+\u001B[39m(\u001B[38;5;28msum\u001B[39m(model\u001B[38;5;241m.\u001B[39mCantidadPedir[i,c,t,col]\u001B[38;5;241m.\u001B[39mvalue\u001B[38;5;241m/\u001B[39mmodel\u001B[38;5;241m.\u001B[39mPiezasCont[i] \u001B[38;5;28;01mfor\u001B[39;00m i \u001B[38;5;129;01min\u001B[39;00m model\u001B[38;5;241m.\u001B[39mi \u001B[38;5;28;01mfor\u001B[39;00m col \u001B[38;5;129;01min\u001B[39;00m model\u001B[38;5;241m.\u001B[39mcol \u001B[38;5;28;01mif\u001B[39;00m \u001B[38;5;28mint\u001B[39m(model\u001B[38;5;241m.\u001B[39mLargoCont[i])\u001B[38;5;241m==\u001B[39m\u001B[38;5;28mint\u001B[39m(\u001B[38;5;241m1000\u001B[39m)))\u001B[38;5;241m*\u001B[39m\u001B[38;5;241m1000\u001B[39m\u001B[38;5;241m*\u001B[39m\u001B[38;5;241m1000\u001B[39m\u001B[38;5;241m*\u001B[39m\u001B[38;5;241m1200\u001B[39m)\u001B[38;5;241m/\u001B[39m\n\u001B[0;32m      8\u001B[0m                                      (\u001B[38;5;241m3000\u001B[39m\u001B[38;5;241m*\u001B[39m\u001B[38;5;241m2400\u001B[39m\u001B[38;5;241m*\u001B[39m\u001B[38;5;241m13600\u001B[39m)))\n\u001B[0;32m      9\u001B[0m volumen_por_camion\n\u001B[1;32m---> 10\u001B[0m \u001B[38;5;28mprint\u001B[39m(\u001B[43mmean\u001B[49m\u001B[43m(\u001B[49m\u001B[43mvolumen_por_camion\u001B[49m\u001B[43m)\u001B[49m)\n\u001B[0;32m     11\u001B[0m \u001B[38;5;28mprint\u001B[39m(\u001B[38;5;28mlen\u001B[39m(volumen_por_camion))\n",
      "Input \u001B[1;32mIn [58]\u001B[0m, in \u001B[0;36mmean\u001B[1;34m(x)\u001B[0m\n\u001B[0;32m      1\u001B[0m \u001B[38;5;28;01mdef\u001B[39;00m \u001B[38;5;21mmean\u001B[39m(x):\n\u001B[1;32m----> 2\u001B[0m     \u001B[38;5;28;01mreturn\u001B[39;00m \u001B[38;5;28;43msum\u001B[39;49m\u001B[43m(\u001B[49m\u001B[43mx\u001B[49m\u001B[43m)\u001B[49m\u001B[38;5;241;43m/\u001B[39;49m\u001B[38;5;28;43mlen\u001B[39;49m\u001B[43m(\u001B[49m\u001B[43mx\u001B[49m\u001B[43m)\u001B[49m\n",
      "\u001B[1;31mZeroDivisionError\u001B[0m: division by zero"
     ]
    }
   ],
   "source": [
    "utilizacion=0\n",
    "volumen_por_camion=[]\n",
    "for t in model.t:\n",
    "    for c in model.c:\n",
    "        if model.Y[c,t].value==1:\n",
    "            volumen_por_camion.append(((sum(model.CantidadPedir[i,c,t,col].value/model.PiezasCont[i] for i in model.i for col in model.col if int(model.LargoCont[i])==int(1600))*750*1200*1600+\n",
    "                                     +(sum(model.CantidadPedir[i,c,t,col].value/model.PiezasCont[i] for i in model.i for col in model.col if int(model.LargoCont[i])==int(1000)))*1000*1000*1200)/\n",
    "                                     (3000*2400*13600)))\n",
    "volumen_por_camion\n",
    "print(mean(volumen_por_camion))\n",
    "print(len(volumen_por_camion))"
   ]
  },
  {
   "cell_type": "code",
   "execution_count": null,
   "id": "63f19f4c-ef02-4479-ac90-1172ab745460",
   "metadata": {
    "pycharm": {
     "name": "#%%\n"
    }
   },
   "outputs": [],
   "source": [
    "for t in model.t:\n",
    "    for c in model.c:\n",
    "        for col in model.col:\n",
    "            if model.Y[c,t].value==1:\n",
    "                print(c,t,model.A[c,col,t].value,model.B[c,col,t].value,((sum(model.CantidadPedir[i,c,t,col].value/model.PiezasCont[i] for i in model.i for col in model.col if int(model.LargoCont[i])==int(1600))*750*1200*1600+\n",
    "                                     +(sum(model.CantidadPedir[i,c,t,col].value/model.PiezasCont[i] for i in model.i for col in model.col if int(model.LargoCont[i])==int(1000)))*1000*1000*1200)/\n",
    "                                     (3000*2400*13600)))"
   ]
  },
  {
   "cell_type": "code",
   "execution_count": null,
   "id": "7d7a6cbf-bb23-4cca-946a-69ac53a8dd08",
   "metadata": {
    "pycharm": {
     "name": "#%%\n"
    }
   },
   "outputs": [],
   "source": []
  },
  {
   "cell_type": "code",
   "execution_count": null,
   "id": "c9519392-2e9f-46e5-bb00-e7ff8a7f2c8a",
   "metadata": {
    "pycharm": {
     "name": "#%%\n"
    }
   },
   "outputs": [],
   "source": [
    "0.8628883539414994\n",
    "79"
   ]
  },
  {
   "cell_type": "code",
   "execution_count": null,
   "id": "5f05379e-ae03-4fac-ad83-22893ff1a1f3",
   "metadata": {
    "pycharm": {
     "name": "#%%\n"
    }
   },
   "outputs": [],
   "source": []
  },
  {
   "cell_type": "code",
   "execution_count": null,
   "id": "d16a462d-a2a9-47a5-b1ff-062d41c209d9",
   "metadata": {
    "pycharm": {
     "name": "#%%\n"
    }
   },
   "outputs": [],
   "source": [
    "int(model.LargoCont[14])"
   ]
  },
  {
   "cell_type": "code",
   "execution_count": null,
   "id": "bc0dd6ad-4f70-4e3a-b9ce-53fd974e6287",
   "metadata": {
    "pycharm": {
     "name": "#%%\n"
    }
   },
   "outputs": [],
   "source": []
  },
  {
   "cell_type": "code",
   "execution_count": null,
   "id": "acfcd42b-9220-4232-a412-d56ff37467e5",
   "metadata": {
    "pycharm": {
     "name": "#%%\n"
    }
   },
   "outputs": [],
   "source": [
    "for i,v in model.LargoCont:\n",
    "    print(i)"
   ]
  },
  {
   "cell_type": "code",
   "execution_count": null,
   "id": "e2c9b24a-b02c-48ed-a521-c6e3c6149bee",
   "metadata": {
    "pycharm": {
     "name": "#%%\n"
    }
   },
   "outputs": [],
   "source": []
  },
  {
   "cell_type": "code",
   "execution_count": null,
   "id": "8f8c464d-433a-4da3-8846-c517cbec5988",
   "metadata": {
    "pycharm": {
     "name": "#%%\n"
    }
   },
   "outputs": [],
   "source": []
  },
  {
   "cell_type": "code",
   "execution_count": null,
   "id": "8b53b8fa-7b4d-4629-b361-b1c66e9264ee",
   "metadata": {
    "pycharm": {
     "name": "#%%\n"
    }
   },
   "outputs": [],
   "source": []
  },
  {
   "cell_type": "code",
   "execution_count": null,
   "id": "fb35ef05-0c26-47cc-80a8-7f5479e998db",
   "metadata": {
    "pycharm": {
     "name": "#%%\n"
    }
   },
   "outputs": [],
   "source": []
  }
 ],
 "metadata": {
  "kernelspec": {
   "display_name": "Python 3 (ipykernel)",
   "language": "python",
   "name": "python3"
  },
  "language_info": {
   "codemirror_mode": {
    "name": "ipython",
    "version": 3
   },
   "file_extension": ".py",
   "mimetype": "text/x-python",
   "name": "python",
   "nbconvert_exporter": "python",
   "pygments_lexer": "ipython3",
   "version": "3.8.13"
  }
 },
 "nbformat": 4,
 "nbformat_minor": 5
}