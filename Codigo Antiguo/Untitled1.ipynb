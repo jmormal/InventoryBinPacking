{
 "cells": [
  {
   "cell_type": "markdown",
   "id": "9dc02212-76ac-4b94-91eb-f5a0a06f66a2",
   "metadata": {},
   "source": [
    "# Problem Statement\n",
    "## Exercise 2.12 from Operations Research: Models and Methods by Jensen & Bard\n",
    "\n",
    "Ten jobs are to be completed by three workers during the next week. Each worker has a 40-hour work week. The times for the workers to complete the jobs are shown in the table. The values in the cells assume that each job is completed by a single worker; however, jobs can be shared, with completion times being determined proportionally If no entry exists in a particular cell, it means that the corresponding job cannot be performed by the corresponding worker. Set up and solve an LP model that will determine the optimal assignment of workers to jobs. The goal is to minimize the total time required to complete all the jobs.\n",
    "\n",
    "\n"
   ]
  },
  {
   "cell_type": "code",
   "execution_count": 1,
   "id": "5075268d-32ae-4b4d-8a78-a9dbc80750e8",
   "metadata": {},
   "outputs": [],
   "source": [
    "import pandas as pd\n",
    "import pyomo.environ as pe\n",
    "import pyomo.opt as po\n",
    "\n",
    "\n",
    "workers = {'A', 'B', 'C'}\n",
    "\n",
    "tasks = set(range(1, 11))\n",
    "\n",
    "c = {\n",
    "    ('A',  2):  7,\n",
    "    ('A',  3):  3,\n",
    "    ('A',  6): 18,\n",
    "    ('A',  7): 13,\n",
    "    ('A',  8):  6,\n",
    "    ('A', 10):  9,\n",
    "    ('B',  1): 12,\n",
    "    ('B',  2):  5,\n",
    "    ('B',  4): 12,\n",
    "    ('B',  5):  4,\n",
    "    ('B',  6): 22,\n",
    "    ('B',  8): 17,\n",
    "    ('B',  9): 13,\n",
    "    ('C',  1): 18,\n",
    "    ('C',  3):  6,\n",
    "    ('C',  4):  8,\n",
    "    ('C',  5): 10,\n",
    "    ('C',  7): 19,\n",
    "    ('C',  9):  8,\n",
    "    ('C', 10): 15,\n",
    "}\n",
    "\n",
    "max_hours = 40\n"
   ]
  },
  {
   "cell_type": "code",
   "execution_count": null,
   "id": "8db5a1a7-fb6b-4cd6-8bdb-dc40528dc779",
   "metadata": {},
   "outputs": [],
   "source": []
  },
  {
   "cell_type": "markdown",
   "id": "f36fd290-1eaf-4bfb-9508-7e8b531a59d9",
   "metadata": {},
   "source": [
    "Define $W$ as the set of workers and $T$ as the sets of tasks. Also, define $c_{w t}$ as the number of hours worker $w$ requires to complete task $t$. (Note that we do not explicitly prohibit a worker from completiting as task; rather, we make the cost arbitrarily large if worker $w$ is unable to perform task $t$.) Let $x_{w t}$ be the proportion of task $t$ that is completed by worker $j$. Let $H$ be the max number of hours that any single worker may log in a week. We formulate as follows.\n",
    "$$\n",
    "\\begin{array}{lll}\n",
    "\\operatorname{minimize} & \\sum_{w \\in W} \\sum_{t \\in T} c_{w t} x_{w t} & \\\\\n",
    "\\text { subject to } & \\sum_{t \\in T} c_{w t} x_{w t} \\leq H, \\quad \\forall w \\in W \\\\\n",
    "& \\sum_{w \\in W} x_{w t}=1 & \\forall t \\in T \\\\\n",
    "& 0 \\leq x_{w t} \\leq 1, & \\forall w \\in W, \\forall t \\in T\n",
    "\\end{array}\n",
    "$$"
   ]
  },
  {
   "cell_type": "markdown",
   "id": "91c90673-1a45-48a8-9867-34326fe1229c",
   "metadata": {},
   "source": [
    "# Implementacion\n",
    "## Modelo"
   ]
  },
  {
   "cell_type": "code",
   "execution_count": 2,
   "id": "409d5ce6-1f95-43cc-82e2-8617c3194d6b",
   "metadata": {},
   "outputs": [],
   "source": [
    "model = pe.ConcreteModel()"
   ]
  },
  {
   "cell_type": "markdown",
   "id": "4a11ed8e-3366-453e-843e-11ac88f05a76",
   "metadata": {},
   "source": [
    "## Conjuntos"
   ]
  },
  {
   "cell_type": "code",
   "execution_count": 3,
   "id": "142029bb-109e-401a-a792-3c390e4d4b62",
   "metadata": {},
   "outputs": [
    {
     "name": "stdout",
     "output_type": "stream",
     "text": [
      "WARNING: Initializing ordered Set workers with a fundamentally unordered data\n",
      "    source (type: set).  This WILL potentially lead to nondeterministic\n",
      "    behavior in Pyomo\n",
      "WARNING: Initializing ordered Set tasks with a fundamentally unordered data\n",
      "    source (type: set).  This WILL potentially lead to nondeterministic\n",
      "    behavior in Pyomo\n"
     ]
    }
   ],
   "source": [
    "model.workers = pe.Set(initialize=workers)\n",
    "model.tasks = pe.Set(initialize=tasks)"
   ]
  },
  {
   "cell_type": "markdown",
   "id": "394bbca8-2cce-4e60-9741-84e134bd3e04",
   "metadata": {},
   "source": [
    "## Parametros"
   ]
  },
  {
   "cell_type": "code",
   "execution_count": 4,
   "id": "cef86c27-fa5d-4c22-a108-a27a63c0c6f7",
   "metadata": {},
   "outputs": [],
   "source": [
    "model.c = pe.Param(model.workers, model.tasks, initialize=c, default=1000)\n",
    "model.max_hours = pe.Param(initialize=max_hours)"
   ]
  },
  {
   "cell_type": "code",
   "execution_count": 5,
   "id": "3d074647-d6c8-4cf8-9db5-65183a57de82",
   "metadata": {},
   "outputs": [],
   "source": [
    "## Variables\n",
    "model.x = pe.Var(model.workers, model.tasks, domain=pe.Reals, bounds=(0, 1))\n"
   ]
  },
  {
   "cell_type": "code",
   "execution_count": 6,
   "id": "820ee3a8-3357-40fa-87ae-83fc597896ba",
   "metadata": {},
   "outputs": [],
   "source": [
    "## Funcion Objetivo\n",
    "expr = sum(model.c[w, t] * model.x[w, t]           for w in model.workers for t in model.tasks)\n",
    "model.objective = pe.Objective(sense=pe.minimize, expr=expr)"
   ]
  },
  {
   "cell_type": "code",
   "execution_count": 7,
   "id": "e3914323-4ad2-466f-bdef-1e5f7deb00bb",
   "metadata": {},
   "outputs": [],
   "source": [
    "## Restricciones\n",
    "### Que se cumplent todas las tareas\n",
    "model.tasks_done = pe.ConstraintList()\n",
    "for t in model.tasks:\n",
    "    lhs = sum(model.x[w, t] for w in model.workers)\n",
    "    rhs = 1\n",
    "    model.tasks_done.add(lhs == rhs)\n",
    "### Que se cumple el maximo de horas por trabajdor\n",
    "model.hour_limit = pe.ConstraintList()\n",
    "for w in model.workers:\n",
    "    lhs = sum(model.c[w, t] * model.x[w, t] for t in model.tasks)\n",
    "    rhs = model.max_hours\n",
    "    model.hour_limit.add(lhs <= rhs)"
   ]
  },
  {
   "cell_type": "code",
   "execution_count": 8,
   "id": "cf2e324d-9a4b-442e-b863-f6ce8a3031d9",
   "metadata": {},
   "outputs": [
    {
     "name": "stdout",
     "output_type": "stream",
     "text": [
      "Set parameter Username\n",
      "Academic license - for non-commercial use only - expires 2022-08-06\n",
      "Read LP format model from file C:\\Users\\juano\\AppData\\Local\\Temp\\tmpvvn5ou1t.pyomo.lp\n",
      "Reading time = 0.00 seconds\n",
      "x31: 14 rows, 31 columns, 61 nonzeros\n",
      "Gurobi Optimizer version 9.5.1 build v9.5.1rc2 (win64)\n",
      "Thread count: 6 physical cores, 12 logical processors, using up to 12 threads\n",
      "Optimize a model with 14 rows, 31 columns and 61 nonzeros\n",
      "Model fingerprint: 0xb4795d12\n",
      "Coefficient statistics:\n",
      "  Matrix range     [1e+00, 1e+03]\n",
      "  Objective range  [3e+00, 1e+03]\n",
      "  Bounds range     [1e+00, 1e+00]\n",
      "  RHS range        [1e+00, 4e+01]\n",
      "Presolve removed 1 rows and 1 columns\n",
      "Presolve time: 0.02s\n",
      "Presolved: 13 rows, 30 columns, 60 nonzeros\n",
      "\n",
      "Iteration    Objective       Primal Inf.    Dual Inf.      Time\n",
      "       0    1.8000000e+01   1.200000e+01   0.000000e+00      0s\n",
      "      10    8.8000000e+01   0.000000e+00   0.000000e+00      0s\n",
      "\n",
      "Solved in 10 iterations and 0.03 seconds (0.00 work units)\n",
      "Optimal objective  8.800000000e+01\n"
     ]
    }
   ],
   "source": [
    "solver = po.SolverFactory('gurobi')\n",
    "results = solver.solve(model, tee=True)"
   ]
  },
  {
   "cell_type": "code",
   "execution_count": 8,
   "id": "676206f9-d72e-4ab4-8f84-916820720e67",
   "metadata": {},
   "outputs": [
    {
     "data": {
      "text/plain": [
       "<pyomo.core.expr.numeric_expr.SumExpression at 0x23beb355500>"
      ]
     },
     "execution_count": 8,
     "metadata": {},
     "output_type": "execute_result"
    }
   ],
   "source": [
    "sum(model.c[w, t] * model.x[w, t]           for w in model.workers for t in model.tasks)"
   ]
  },
  {
   "cell_type": "code",
   "execution_count": 11,
   "id": "bf777190-5c97-4a71-bbe7-139fde1bd1d9",
   "metadata": {},
   "outputs": [
    {
     "data": {
      "text/plain": [
       "<pyomo.core.base.var.IndexedVar at 0x23be888b8b0>"
      ]
     },
     "execution_count": 11,
     "metadata": {},
     "output_type": "execute_result"
    }
   ],
   "source": [
    "model.x"
   ]
  },
  {
   "cell_type": "code",
   "execution_count": null,
   "id": "23d4e96b-14cf-4c0b-9d5a-96b14c267949",
   "metadata": {},
   "outputs": [],
   "source": []
  },
  {
   "cell_type": "code",
   "execution_count": null,
   "id": "b3b04ec3-9985-4660-b20b-cc3b9fa83a7c",
   "metadata": {},
   "outputs": [],
   "source": []
  },
  {
   "cell_type": "code",
   "execution_count": null,
   "id": "31d76bb7-0634-4fc2-ae26-b7538b7fa8a2",
   "metadata": {},
   "outputs": [],
   "source": []
  },
  {
   "cell_type": "code",
   "execution_count": null,
   "id": "c2ceb743-aa3f-493b-98c9-e0146287d342",
   "metadata": {},
   "outputs": [],
   "source": []
  }
 ],
 "metadata": {
  "kernelspec": {
   "display_name": "Python 3 (ipykernel)",
   "language": "python",
   "name": "python3"
  },
  "language_info": {
   "codemirror_mode": {
    "name": "ipython",
    "version": 3
   },
   "file_extension": ".py",
   "mimetype": "text/x-python",
   "name": "python",
   "nbconvert_exporter": "python",
   "pygments_lexer": "ipython3",
   "version": "3.8.10"
  }
 },
 "nbformat": 4,
 "nbformat_minor": 5
}
