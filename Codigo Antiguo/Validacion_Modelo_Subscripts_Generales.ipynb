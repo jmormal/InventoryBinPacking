{
 "cells": [
  {
   "cell_type": "code",
   "execution_count": 2,
   "id": "e42650f7-d9b6-45a8-b68c-76ae8f92e009",
   "metadata": {
    "pycharm": {
     "name": "#%%\n"
    }
   },
   "outputs": [],
   "source": [
    "import pyodbc\n",
    "import pandas as pd\n",
    "import pyomo.environ as pe\n",
    "import pyomo.opt as po\n",
    "model = pe.ConcreteModel(\"Cargacamiones\")\n",
    "import random\n",
    "random.seed(0)"
   ]
  },
  {
   "cell_type": "markdown",
   "id": "bfb4b11a-c6f2-4138-b962-23a8ee66db9f",
   "metadata": {
    "pycharm": {
     "name": "#%% md\n"
    }
   },
   "source": [
    "## Preprocesado de los datos"
   ]
  },
  {
   "cell_type": "code",
   "execution_count": 3,
   "id": "7a834a30-f10e-4a62-8088-6a6a4a5a0ca0",
   "metadata": {
    "pycharm": {
     "name": "#%%\n"
    }
   },
   "outputs": [],
   "source": [
    "path_demanda=r\"C:\\Users\\jmormal\\PycharmProjects\\pythonProject3\\Demanda_validacion.xlsx\""
   ]
  },
  {
   "cell_type": "code",
   "execution_count": 4,
   "id": "4cd8ee83-9e61-46dc-ae24-08a8d337ea5e",
   "metadata": {
    "pycharm": {
     "name": "#%%\n"
    }
   },
   "outputs": [],
   "source": [
    "df_demanda=pd.read_excel(path_demanda)"
   ]
  },
  {
   "cell_type": "code",
   "execution_count": 5,
   "id": "76004c24-93db-4670-803a-73fec04e519c",
   "metadata": {
    "pycharm": {
     "name": "#%%\n"
    }
   },
   "outputs": [
    {
     "data": {
      "text/html": [
       "<div>\n",
       "<style scoped>\n",
       "    .dataframe tbody tr th:only-of-type {\n",
       "        vertical-align: middle;\n",
       "    }\n",
       "\n",
       "    .dataframe tbody tr th {\n",
       "        vertical-align: top;\n",
       "    }\n",
       "\n",
       "    .dataframe thead th {\n",
       "        text-align: right;\n",
       "    }\n",
       "</style>\n",
       "<table border=\"1\" class=\"dataframe\">\n",
       "  <thead>\n",
       "    <tr style=\"text-align: right;\">\n",
       "      <th></th>\n",
       "      <th>Magnum</th>\n",
       "      <th>A-cont</th>\n",
       "    </tr>\n",
       "    <tr>\n",
       "      <th>Collection in supplier</th>\n",
       "      <th></th>\n",
       "      <th></th>\n",
       "    </tr>\n",
       "  </thead>\n",
       "  <tbody>\n",
       "    <tr>\n",
       "      <th>day 1</th>\n",
       "      <td>138</td>\n",
       "      <td>16</td>\n",
       "    </tr>\n",
       "    <tr>\n",
       "      <th>day 2</th>\n",
       "      <td>171</td>\n",
       "      <td>48</td>\n",
       "    </tr>\n",
       "    <tr>\n",
       "      <th>day 3</th>\n",
       "      <td>204</td>\n",
       "      <td>20</td>\n",
       "    </tr>\n",
       "    <tr>\n",
       "      <th>day 4</th>\n",
       "      <td>123</td>\n",
       "      <td>24</td>\n",
       "    </tr>\n",
       "    <tr>\n",
       "      <th>day 5</th>\n",
       "      <td>198</td>\n",
       "      <td>28</td>\n",
       "    </tr>\n",
       "    <tr>\n",
       "      <th>day 6</th>\n",
       "      <td>123</td>\n",
       "      <td>24</td>\n",
       "    </tr>\n",
       "    <tr>\n",
       "      <th>day 7</th>\n",
       "      <td>123</td>\n",
       "      <td>24</td>\n",
       "    </tr>\n",
       "    <tr>\n",
       "      <th>day 8</th>\n",
       "      <td>198</td>\n",
       "      <td>32</td>\n",
       "    </tr>\n",
       "    <tr>\n",
       "      <th>day 9</th>\n",
       "      <td>126</td>\n",
       "      <td>20</td>\n",
       "    </tr>\n",
       "  </tbody>\n",
       "</table>\n",
       "</div>"
      ],
      "text/plain": [
       "                        Magnum  A-cont\n",
       "Collection in supplier                \n",
       "day 1                      138      16\n",
       "day 2                      171      48\n",
       "day 3                      204      20\n",
       "day 4                      123      24\n",
       "day 5                      198      28\n",
       "day 6                      123      24\n",
       "day 7                      123      24\n",
       "day 8                      198      32\n",
       "day 9                      126      20"
      ]
     },
     "execution_count": 5,
     "metadata": {},
     "output_type": "execute_result"
    }
   ],
   "source": [
    "df_demanda=df_demanda.groupby(\"Collection in supplier\").sum().iloc[: , :2]\n",
    "df_demanda\n",
    "df_demanda"
   ]
  },
  {
   "cell_type": "code",
   "execution_count": 6,
   "id": "ede9982a-2811-4590-9b09-b0b316de38e1",
   "metadata": {
    "pycharm": {
     "name": "#%%\n"
    }
   },
   "outputs": [],
   "source": [
    "l=[]\n",
    "for t in range(1,10):\n",
    "    l1=[1,t,df_demanda.iloc[t-1 , 0 ]]\n",
    "    l2=[2,t,df_demanda.iloc[t-1 , 1 ]]\n",
    "    l.append(l1)\n",
    "    l.append(l2)\n",
    "df=pd.DataFrame(l,columns=[\"Producto\",\"t\",\"Demanda\"])"
   ]
  },
  {
   "cell_type": "code",
   "execution_count": 6,
   "id": "c4158fde-e1b0-4817-b6e2-79c24ac7e164",
   "metadata": {
    "pycharm": {
     "name": "#%%\n"
    }
   },
   "outputs": [],
   "source": []
  },
  {
   "cell_type": "code",
   "execution_count": 6,
   "id": "d32fa948-5837-4627-89f7-0d0c3f425c33",
   "metadata": {
    "pycharm": {
     "name": "#%%\n"
    }
   },
   "outputs": [],
   "source": []
  },
  {
   "cell_type": "code",
   "execution_count": 7,
   "id": "b8fa57e5-a2fb-4af9-8ef3-3624a71f3b1d",
   "metadata": {
    "pycharm": {
     "name": "#%%\n"
    }
   },
   "outputs": [],
   "source": [
    "path=r\"C:\\Users\\jmormal\\PycharmProjects\\pythonProject3\\Transporte_cubicaje_validacion.accdb\"\n",
    "conn = pyodbc.connect('Driver={Microsoft Access Driver (*.mdb, *.accdb)};DBQ='+path+';')\n",
    "cursor = conn.cursor()"
   ]
  },
  {
   "cell_type": "markdown",
   "id": "90368ebb-04b7-4902-9262-c9170e9c357a",
   "metadata": {
    "pycharm": {
     "name": "#%% md\n"
    }
   },
   "source": [
    "Familias Carga de datos"
   ]
  },
  {
   "cell_type": "code",
   "execution_count": 8,
   "id": "4cec6228-3dcb-4b33-82c2-6f7a31f7dee8",
   "metadata": {
    "pycharm": {
     "name": "#%%\n"
    }
   },
   "outputs": [],
   "source": [
    "cursor.execute('select IdProducto from Productos')\n",
    "productos=[]\n",
    "for row in cursor.fetchall():\n",
    "    productos.append(row[0])"
   ]
  },
  {
   "cell_type": "code",
   "execution_count": 9,
   "id": "1729c2ef-9b05-47de-8bb3-00b4c5f6eeaa",
   "metadata": {
    "pycharm": {
     "name": "#%%\n"
    }
   },
   "outputs": [],
   "source": [
    "cursor.execute('select IdFamilia from Familias')\n",
    "familias=[]\n",
    "for row in cursor.fetchall():\n",
    "    familias.append(row[0])"
   ]
  },
  {
   "cell_type": "code",
   "execution_count": 10,
   "id": "67d24c87-6a45-4b11-9a79-ca590c00db10",
   "metadata": {
    "pycharm": {
     "name": "#%%\n"
    }
   },
   "outputs": [],
   "source": [
    "cursor.execute('select IdCamion from Camiones WHERE IdCamion<4')\n",
    "camiones=[]\n",
    "for i in range(1,7):\n",
    "    camiones.append(i)"
   ]
  },
  {
   "cell_type": "code",
   "execution_count": 11,
   "id": "b146f205-9229-4c16-8c3b-b7c6fa6030c1",
   "metadata": {
    "pycharm": {
     "name": "#%%\n"
    }
   },
   "outputs": [],
   "source": [
    "cursor.execute('select IdDia from Dias WHERE \"IdDia\"<=19')\n",
    "dias=[]\n",
    "for row in cursor.fetchall():\n",
    "    dias.append(row[0])\n",
    "        "
   ]
  },
  {
   "cell_type": "code",
   "execution_count": 12,
   "id": "a819db32-4ace-44cc-8422-436a1943c34d",
   "metadata": {
    "pycharm": {
     "name": "#%%\n"
    }
   },
   "outputs": [],
   "source": [
    "cursor.execute('select IdDia from Dias')\n",
    "dias1=[]\n",
    "for row in cursor.fetchall():\n",
    "    dias1.append(row[0])\n",
    "\n"
   ]
  },
  {
   "cell_type": "code",
   "execution_count": 13,
   "id": "07399b98-4597-43ce-97d2-e4354d17b914",
   "metadata": {
    "pycharm": {
     "name": "#%%\n"
    }
   },
   "outputs": [
    {
     "data": {
      "text/plain": [
       "[2, 1]"
      ]
     },
     "execution_count": 13,
     "metadata": {},
     "output_type": "execute_result"
    }
   ],
   "source": [
    "columnas=[1,2]\n",
    "productos"
   ]
  },
  {
   "cell_type": "markdown",
   "id": "45f4435a-4da6-4a13-b895-945c4f2e2f48",
   "metadata": {
    "pycharm": {
     "name": "#%% md\n"
    }
   },
   "source": [
    "## Familias Pyomo"
   ]
  },
  {
   "cell_type": "code",
   "execution_count": 14,
   "id": "62d43fd4-f804-4e33-8960-4f0123a03598",
   "metadata": {
    "pycharm": {
     "name": "#%%\n"
    }
   },
   "outputs": [],
   "source": [
    "model.i = pe.Set(initialize=productos)\n",
    "model.f = pe.Set(initialize=familias)\n",
    "model.c = pe.Set(initialize=camiones)\n",
    "model.t = pe.Set(initialize=dias)\n",
    "model.t1 = pe.Set(initialize=dias1)\n",
    "model.col=pe.Set(initialize=columnas)\n"
   ]
  },
  {
   "cell_type": "markdown",
   "id": "56854c70-cd27-4926-ae52-ab188ae1680d",
   "metadata": {
    "pycharm": {
     "name": "#%% md\n"
    }
   },
   "source": [
    "## Carga de datos productos"
   ]
  },
  {
   "cell_type": "code",
   "execution_count": 15,
   "id": "0e9d47b7-50e0-4466-b192-b6585231c153",
   "metadata": {
    "pycharm": {
     "name": "#%%\n"
    }
   },
   "outputs": [],
   "source": [
    "cursor.execute('select IdFamilia, LotePedido from Familias')\n",
    "lotepedido={}\n",
    "for row in cursor.fetchall():\n",
    "    lotepedido.update({row[0]:row[1]})\n"
   ]
  },
  {
   "cell_type": "code",
   "execution_count": 16,
   "id": "59ea76c0-5bef-4623-9000-d204f65577f3",
   "metadata": {
    "pycharm": {
     "name": "#%%\n"
    }
   },
   "outputs": [],
   "source": [
    "cursor.execute('select IdFamilia, LotePedido from Familias')\n",
    "CosteStock={}\n",
    "for row in cursor.fetchall():\n",
    "    CosteStock.update({row[0]:random.randint(7, 10)*0.001})\n"
   ]
  },
  {
   "cell_type": "code",
   "execution_count": 17,
   "id": "29c33ca3-f76a-428c-9a79-8c12eca08171",
   "metadata": {
    "pycharm": {
     "name": "#%%\n"
    }
   },
   "outputs": [],
   "source": [
    "cursor.execute('select IdProducto , PiezasCont from Productos')\n",
    "piezascont={}\n",
    "for row in cursor.fetchall():\n",
    "    piezascont.update({row[0]:row[1]})"
   ]
  },
  {
   "cell_type": "code",
   "execution_count": 18,
   "id": "995a888b-08b1-4a53-929e-e56697c2c0ee",
   "metadata": {
    "pycharm": {
     "name": "#%%\n"
    }
   },
   "outputs": [],
   "source": [
    "cursor.execute('select IdProducto , LargoContedor from Productos')\n",
    "piezas_largo_box={}\n",
    "for row in cursor.fetchall():\n",
    "    piezas_largo_box.update({row[0]:row[1]})"
   ]
  },
  {
   "cell_type": "code",
   "execution_count": 19,
   "id": "13962258-4bdf-4a63-9482-1bca7ab61528",
   "metadata": {
    "pycharm": {
     "name": "#%%\n"
    }
   },
   "outputs": [],
   "source": [
    "cursor.execute('select IdProducto , IdFamilia, beta from beta')\n",
    "b={}\n",
    "for row in cursor.fetchall():\n",
    "    b.update({(row[0],row[1]):row[2]})\n"
   ]
  },
  {
   "cell_type": "code",
   "execution_count": 20,
   "id": "099cc323-bcbb-4125-8d79-fee66ccdaae3",
   "metadata": {
    "pycharm": {
     "name": "#%%\n"
    }
   },
   "outputs": [],
   "source": [
    "cursor.execute('select  IdProducto , IdDia, Demanda from Demanda')\n",
    "demanda={}\n",
    "for row in cursor.fetchall():\n",
    "    # if row[0]>=13:\n",
    "    #     demanda.update({(row[0],row[1]):row[2]})\n",
    "    # else:\n",
    "        demanda.update({(row[0],row[1]):row[2]})    "
   ]
  },
  {
   "cell_type": "code",
   "execution_count": 21,
   "id": "e0eb904d-1c8a-4e15-a0dd-803f5cc4f972",
   "metadata": {
    "pycharm": {
     "name": "#%%\n"
    }
   },
   "outputs": [],
   "source": [
    "# cursor.execute('select IdProducto , StockInicial from Productos')\n",
    "stockInicial={}\n",
    "# for row in cursor.fetchall():\n",
    "#     stockInicial.update({row[0]:row[1]})\n",
    "cursor.execute('select  IdProducto , Demanda from Demanda where IdDia=1')\n",
    "\n",
    "for row in cursor.fetchall():\n",
    "    stockInicial.update({row[0]:row[1]*0})\n"
   ]
  },
  {
   "cell_type": "code",
   "execution_count": 22,
   "id": "d1592a33-918c-4279-989e-67b75cc553da",
   "metadata": {
    "pycharm": {
     "name": "#%%\n"
    }
   },
   "outputs": [
    {
     "data": {
      "text/plain": [
       "<pyomo.core.base.set.TuplizeValuesInitializer at 0x1fe01809040>"
      ]
     },
     "execution_count": 22,
     "metadata": {},
     "output_type": "execute_result"
    }
   ],
   "source": [
    "model.i.__dict__[\"_init_values\"]"
   ]
  },
  {
   "cell_type": "code",
   "execution_count": 23,
   "id": "8750c074-23b5-4b1e-94e1-7e7f9a9d0f77",
   "metadata": {
    "pycharm": {
     "name": "#%%\n"
    }
   },
   "outputs": [],
   "source": [
    "cursor.execute('select  IdProducto , Valor from Productos')\n",
    "valor={}\n",
    "for row in cursor.fetchall():\n",
    "    valor.update({row[0]:row[1]})"
   ]
  },
  {
   "cell_type": "code",
   "execution_count": 24,
   "id": "ae03f73d-8cda-4a9d-a6a2-9cf71c6441a6",
   "metadata": {
    "pycharm": {
     "name": "#%%\n"
    }
   },
   "outputs": [],
   "source": [
    "PC={}\n",
    "for camion in camiones:\n",
    "    PC.update({camion:1000})"
   ]
  },
  {
   "cell_type": "code",
   "execution_count": 25,
   "id": "5f7ec971-3d78-49a9-8518-1d2454643441",
   "metadata": {
    "pycharm": {
     "name": "#%%\n"
    }
   },
   "outputs": [],
   "source": [
    "L=78\n",
    "nu=26/30\n",
    "NT_lw=5\n",
    "NT_up=10"
   ]
  },
  {
   "cell_type": "code",
   "execution_count": 26,
   "id": "285975ba-3b0f-4e8a-ae1f-7656bd99d3cb",
   "metadata": {
    "pycharm": {
     "name": "#%%\n"
    }
   },
   "outputs": [],
   "source": [
    "model.LotePedido = pe.Param(model.f , initialize=lotepedido)\n",
    "model.PiezasCont= pe.Param(model.i ,initialize=piezascont)\n",
    "model.b= pe.Param(model.i, model.f ,initialize=b, default=0)\n",
    "model.StockInicial= pe.Param(model.i, initialize=stockInicial)\n",
    "model.demanda= pe.Param(model.i, model.t1,  initialize=demanda)\n",
    "model.valor=pe.Param(model.i, initialize=stockInicial)\n",
    "model.PC=pe.Param(model.c, initialize=PC)\n",
    "model.L=pe.Param(initialize=L)\n",
    "model.nu=pe.Param(initialize=nu)\n",
    "model.NT_lw=pe.Param(initialize=NT_lw)\n",
    "model.NT_up=pe.Param(initialize=NT_up)\n",
    "model.LargoCont=pe.Param(model.i,initialize=piezas_largo_box)\n",
    "model.CS=pe.Param(model.i, initialize=CosteStock)"
   ]
  },
  {
   "cell_type": "markdown",
   "id": "dfe06a96-676c-48f6-a963-bf71ffbabd5a",
   "metadata": {
    "pycharm": {
     "name": "#%% md\n"
    }
   },
   "source": [
    "# # Varibles"
   ]
  },
  {
   "cell_type": "code",
   "execution_count": 27,
   "id": "703e4d9f-a03e-4019-a8c1-a631475fc6b8",
   "metadata": {
    "pycharm": {
     "name": "#%%\n"
    }
   },
   "outputs": [],
   "source": [
    "model.CantidadPedir = pe.Var(model.i, model.c, model.t,model.col, domain=pe.Integers)"
   ]
  },
  {
   "cell_type": "code",
   "execution_count": 28,
   "id": "45e1db77-888c-451b-887b-6eb9855e3dbe",
   "metadata": {
    "pycharm": {
     "name": "#%%\n"
    }
   },
   "outputs": [],
   "source": [
    "model.CantidadPedir2 = pe.Var(model.i,model.f, model.c, model.t,model.col, domain=pe.Integers, bounds=(0,None) )\n",
    "model.ContenedoresCamion=pe.Var(model.c,model.t,model.col,model.i, domain=pe.Integers)"
   ]
  },
  {
   "cell_type": "code",
   "execution_count": 29,
   "id": "8aedd595-3e0e-455b-83eb-b29110277101",
   "metadata": {
    "pycharm": {
     "name": "#%%\n"
    }
   },
   "outputs": [],
   "source": [
    "model.Stock=pe.Var(model.i,model.t, bounds=(0,None))"
   ]
  },
  {
   "cell_type": "code",
   "execution_count": 30,
   "id": "78544ce4-f486-43f6-b950-4b2f91e332e0",
   "metadata": {
    "pycharm": {
     "name": "#%%\n"
    }
   },
   "outputs": [],
   "source": [
    "model.RetrasoDemanda=pe.Var(model.i,model.t, bounds=(0,None))"
   ]
  },
  {
   "cell_type": "code",
   "execution_count": 31,
   "id": "5d8daad9-835e-4f5e-9f06-8c33b3459648",
   "metadata": {
    "pycharm": {
     "name": "#%%\n"
    }
   },
   "outputs": [],
   "source": [
    "model.K=pe.Var(model.f,model.c,model.t,model.col ,domain=pe.Integers)"
   ]
  },
  {
   "cell_type": "code",
   "execution_count": 32,
   "id": "9a57ba50-b2eb-4f12-926d-29626c730758",
   "metadata": {
    "pycharm": {
     "name": "#%%\n"
    }
   },
   "outputs": [],
   "source": [
    "model.Y=pe.Var(model.c,model.t ,domain=pe.Binary, initialize=0)"
   ]
  },
  {
   "cell_type": "code",
   "execution_count": 33,
   "id": "a7e18df4-c807-425e-8357-7d834d601616",
   "metadata": {
    "pycharm": {
     "name": "#%%\n"
    }
   },
   "outputs": [],
   "source": [
    "model.A=pe.Var(model.c,model.col,model.t, domain=pe.Integers, bounds=(0,4.5))\n",
    "model.B=pe.Var(model.c,model.col, model.t, domain=pe.Integers, bounds=(0,12.5))\n",
    "# model.A=pe.Var(model.c,model.col,model.t, domain=pe.Integers, bounds=(0,13))\n",
    "# model.B=pe.Var(model.c,model.col, model.t, domain=pe.Integers, bounds=(0,13))\n"
   ]
  },
  {
   "cell_type": "markdown",
   "id": "4456c6c3-d50e-42ad-8287-5c26dfdf99af",
   "metadata": {
    "pycharm": {
     "name": "#%% md\n"
    }
   },
   "source": [
    "## Función Objetivo\n",
    "Minimizar el número de camiones usado\n",
    "$$\\sum_{c,t}PC(c)Y(c,t)+ \\sum CS(i)Stock(i,t)$$"
   ]
  },
  {
   "cell_type": "code",
   "execution_count": 34,
   "id": "21e0ac46-c8c0-4d10-921f-5d4fb694b2cd",
   "metadata": {
    "pycharm": {
     "name": "#%%\n"
    }
   },
   "outputs": [],
   "source": [
    "expr = sum(model.PC[c]*model.Y[c,t] +sum(model.CS[i]*model.Stock[i,t] for i in model.i) for c in model.c for t in model.t)"
   ]
  },
  {
   "cell_type": "code",
   "execution_count": 35,
   "id": "51e5e1fd-4e59-4dd4-89de-7c103381e841",
   "metadata": {
    "pycharm": {
     "name": "#%%\n"
    }
   },
   "outputs": [],
   "source": [
    " #Coste Transporte\n",
    "model.objective = pe.Objective(sense=pe.minimize, expr=expr)"
   ]
  },
  {
   "cell_type": "markdown",
   "id": "ceb7304e-b5e4-4fd0-b692-5224aaff29fb",
   "metadata": {
    "pycharm": {
     "name": "#%% md\n"
    }
   },
   "source": [
    "## Funciones auxiliares"
   ]
  },
  {
   "cell_type": "code",
   "execution_count": 36,
   "id": "5e708056-8ba4-400c-82a8-9a14cbc7f647",
   "metadata": {
    "pycharm": {
     "name": "#%%\n"
    }
   },
   "outputs": [],
   "source": [
    "def UsoCamion(model):\n",
    "    return sum(model.L*model.Y[c,t] for c in model.c for t in model.t)-\\\n",
    "        sum(model.ContenedoresCamion[c,t] for c in model.c for t in model.t)"
   ]
  },
  {
   "cell_type": "code",
   "execution_count": 37,
   "id": "2715fc7d-df48-4756-a01f-8f4ba07c26b2",
   "metadata": {
    "pycharm": {
     "name": "#%%\n"
    }
   },
   "outputs": [],
   "source": [
    "def CTransporte(model):\n",
    "    return sum(model.PC[c]*model.Y[c,t] for c in model.c for t in model.t)"
   ]
  },
  {
   "cell_type": "code",
   "execution_count": 38,
   "id": "165ba238-8b2c-42c3-91ae-5fb67d2187ea",
   "metadata": {
    "pycharm": {
     "name": "#%%\n"
    }
   },
   "outputs": [],
   "source": [
    "def NumeroCamiones(model):\n",
    "    return sum(model.Y[c,t] for c in model.c for t in model.t)"
   ]
  },
  {
   "cell_type": "markdown",
   "id": "2f88e217-bfde-44aa-807a-172241f861dd",
   "metadata": {
    "pycharm": {
     "name": "#%% md\n"
    }
   },
   "source": [
    "## Restricciones"
   ]
  },
  {
   "cell_type": "code",
   "execution_count": 39,
   "id": "f5a915f0-7814-45c9-b5c1-5dfb41a5f4c3",
   "metadata": {
    "pycharm": {
     "name": "#%%\n"
    }
   },
   "outputs": [],
   "source": [
    "model.stocks=pe.ConstraintList()"
   ]
  },
  {
   "cell_type": "markdown",
   "id": "4b89345a-c85f-4913-bd1e-5c67cc788f89",
   "metadata": {
    "pycharm": {
     "name": "#%% md\n"
    }
   },
   "source": [
    "$$Stock(i,t)=Stock(i,t-1)+\\sum_{c,col}CantidadPedir(i,c,t,col)PiezasCont[i] -Demanda(i,t)$$"
   ]
  },
  {
   "cell_type": "code",
   "execution_count": 40,
   "id": "82962da3-51e5-41d5-a9f1-36918b46d14c",
   "metadata": {
    "pycharm": {
     "name": "#%%\n"
    }
   },
   "outputs": [],
   "source": [
    "for i in model.i:\n",
    "        lhs=model.Stock[i,1]\n",
    "        rhs=model.StockInicial[i]-model.demanda[i,1]+sum(model.CantidadPedir[i,c,1,col]*model.PiezasCont[i] for c in model.c for col in model.col )\n",
    "        model.stocks.add(lhs==rhs)"
   ]
  },
  {
   "cell_type": "code",
   "execution_count": 41,
   "id": "173d8196-22f7-4695-8c8a-1922b5c29a23",
   "metadata": {
    "pycharm": {
     "name": "#%%\n"
    }
   },
   "outputs": [],
   "source": [
    "for t in list(model.t)[1:]:\n",
    "    for i in model.i:\n",
    "            lhs=model.Stock[i,t]\n",
    "            rhs=model.Stock[i,t-1]-model.demanda[i,t]+sum(model.CantidadPedir[i,c,t,col]*model.PiezasCont[i] for c in model.c for col in model.col)\n",
    "            model.stocks.add(lhs==rhs)"
   ]
  },
  {
   "cell_type": "code",
   "execution_count": 42,
   "id": "05d94883-746b-4680-9115-cd65cd7b429f",
   "metadata": {
    "pycharm": {
     "name": "#%%\n"
    }
   },
   "outputs": [],
   "source": [
    "model.RcantidadPedir=pe.ConstraintList()"
   ]
  },
  {
   "cell_type": "markdown",
   "id": "76278bb1-b6f8-4c6f-9d8f-c983266b00b3",
   "metadata": {
    "pycharm": {
     "name": "#%% md\n"
    }
   },
   "source": [
    "$$CantidadPedir2_{i,f,c,t,col}=K(f,c,t,col)*LotePedido(f)*b(i,f)$$"
   ]
  },
  {
   "cell_type": "code",
   "execution_count": 43,
   "id": "01555077-48bd-4a11-ad7d-256c44725d76",
   "metadata": {
    "pycharm": {
     "name": "#%%\n"
    }
   },
   "outputs": [],
   "source": [
    "for i in model.i:\n",
    "    for f in model.f:\n",
    "        for c in model.c:\n",
    "            for t in model.t:\n",
    "                for col in model.col:\n",
    "                    lhs=model.CantidadPedir2[i,f,c,t,col]\n",
    "                    rhs=model.K[f,c,t,col]*model.LotePedido[f]*model.b[i,f]\n",
    "                    model.RcantidadPedir.add(lhs==rhs)"
   ]
  },
  {
   "cell_type": "code",
   "execution_count": 44,
   "id": "8e74beb7-51cf-44e2-b5c4-bd406b1526bf",
   "metadata": {
    "pycharm": {
     "name": "#%%\n"
    }
   },
   "outputs": [],
   "source": [
    "model.RcantidadPedir2=pe.ConstraintList()"
   ]
  },
  {
   "cell_type": "markdown",
   "id": "9542afb7-5195-41b8-a516-b659fd00a74d",
   "metadata": {
    "pycharm": {
     "name": "#%% md\n"
    }
   },
   "source": [
    "$$CantidadPedir_{i,c,t,col}= \\sum_f CanitdadPedir2(i,f,c,t,col)$$"
   ]
  },
  {
   "cell_type": "code",
   "execution_count": 45,
   "id": "90e660c5-19e9-4fb3-824c-6588d1ee577d",
   "metadata": {
    "pycharm": {
     "name": "#%%\n"
    }
   },
   "outputs": [],
   "source": [
    "for i in model.i:\n",
    "    for c in model.c:\n",
    "        for t in model.t:\n",
    "            for col in model.col:\n",
    "                lhs=model.CantidadPedir[i,c,t,col]\n",
    "                rhs=sum(model.CantidadPedir2[i,f,c,t,col] for f in model.f)\n",
    "                model.RcantidadPedir2.add(lhs==rhs)"
   ]
  },
  {
   "cell_type": "code",
   "execution_count": 46,
   "id": "6bd9b17b-a8c1-496f-8932-beed91d88eb6",
   "metadata": {
    "pycharm": {
     "name": "#%%\n"
    }
   },
   "outputs": [],
   "source": [
    "model.RDimensionesCamion=pe.ConstraintList()"
   ]
  },
  {
   "cell_type": "markdown",
   "id": "49edeb77-d58e-43d5-a2c9-0b6cdf3fdd1d",
   "metadata": {
    "pycharm": {
     "name": "#%% md\n"
    }
   },
   "source": [
    "$$ 1600A_{c,col,t} +1000B_{c,col,t}   \\leq 13600* Y[c,t]$$"
   ]
  },
  {
   "cell_type": "code",
   "execution_count": 47,
   "id": "13920e0a-7f48-4177-a90a-c0e69e64648f",
   "metadata": {
    "pycharm": {
     "name": "#%%\n"
    }
   },
   "outputs": [],
   "source": [
    "for c in model.c:\n",
    "    for t in model.t:\n",
    "        for col in model.col:\n",
    "            lhs=13600*model.Y[c,t]\n",
    "            rhs=(model.A[c,col,t]*1600+model.B[c,col,t]*1000)\n",
    "            model.RDimensionesCamion.add(lhs>=rhs)"
   ]
  },
  {
   "cell_type": "code",
   "execution_count": 48,
   "id": "e327728c-f509-4340-b66c-19a743ee6d17",
   "metadata": {
    "pycharm": {
     "name": "#%%\n"
    }
   },
   "outputs": [],
   "source": [
    "model.RCajasTotales=pe.ConstraintList()"
   ]
  },
  {
   "cell_type": "markdown",
   "id": "15485314-f64b-4db9-841f-a3743ffd1afa",
   "metadata": {
    "pycharm": {
     "name": "#%% md\n"
    }
   },
   "source": [
    "$$ \\forall c \\in C \\quad \\forall t \\in T \\quad \\sum_i CantidadPedir(i,c,t,col) \\leq A_{c,col,t}*4+B_{c,col,t}*3 $$"
   ]
  },
  {
   "cell_type": "code",
   "execution_count": 49,
   "id": "c9cf7adb-6b4c-4f0f-8ecd-65e881651242",
   "metadata": {
    "pycharm": {
     "name": "#%%\n"
    }
   },
   "outputs": [],
   "source": [
    "for c in model.c:\n",
    "    for t in model.t:\n",
    "        for col in model.col:\n",
    "            lhs=sum(model.CantidadPedir[i,c,t,col] for i in model.i)\n",
    "            rhs=(model.A[c,col,t]*4+model.B[c,col,t]*3)\n",
    "            model.RCajasTotales.add(lhs<=rhs)"
   ]
  },
  {
   "cell_type": "code",
   "execution_count": 50,
   "id": "2c10fa4c-7e07-4358-83c4-07f0b542553a",
   "metadata": {
    "pycharm": {
     "name": "#%%\n"
    }
   },
   "outputs": [],
   "source": [
    "model.RCajasTipoA=pe.ConstraintList()"
   ]
  },
  {
   "cell_type": "markdown",
   "id": "07829fb9-7383-47e0-a0c5-21ab6d8775f0",
   "metadata": {
    "pycharm": {
     "name": "#%% md\n"
    }
   },
   "source": [
    "$$ \\sum_i CantidadPedir(i,c,t,col)_{tipo a}\\leq A_{c,col,t}*4 $$"
   ]
  },
  {
   "cell_type": "code",
   "execution_count": 51,
   "id": "f45ddf77-3df3-4a21-9ddd-d19d0f80f87d",
   "metadata": {
    "pycharm": {
     "name": "#%%\n"
    }
   },
   "outputs": [],
   "source": [
    "for c in model.c:\n",
    "    for t in model.t:\n",
    "        for col in model.col:\n",
    "            lhs=sum(model.CantidadPedir[i,c,t,col]*float(int(model.LargoCont[i])==int(1600)) for i in model.i)\n",
    "            rhs=model.A[c,col,t]*4\n",
    "            model.RCajasTipoA.add(lhs<=rhs)"
   ]
  },
  {
   "cell_type": "markdown",
   "id": "91a229c8-6626-4e2f-bd4b-cad3ae48064a",
   "metadata": {
    "pycharm": {
     "name": "#%% md\n"
    }
   },
   "source": [
    "$$ \\sum_i CantidadPedir(i,c,t,col)_{tipo b}\\leq B_{c,col,t}*3 $$"
   ]
  },
  {
   "cell_type": "code",
   "execution_count": 52,
   "id": "7074250a-752b-44e4-a9d3-efa4947a1d8b",
   "metadata": {
    "pycharm": {
     "name": "#%%\n"
    }
   },
   "outputs": [],
   "source": [
    "model.RCajasTipoB=pe.ConstraintList()"
   ]
  },
  {
   "cell_type": "code",
   "execution_count": 53,
   "id": "7a45175a-b1db-4ab3-a1bd-c7e61ba29d53",
   "metadata": {
    "pycharm": {
     "name": "#%%\n"
    }
   },
   "outputs": [],
   "source": [
    "for c in model.c:\n",
    "    for t in model.t:\n",
    "        for col in model.col:\n",
    "            lhs=sum(model.CantidadPedir[i,c,t,col]*float(int(model.LargoCont[i])==int(1000)) for i in model.i)\n",
    "            rhs=model.B[c,col,t]*3\n",
    "            model.RCajasTipoB.add(lhs<=rhs)"
   ]
  },
  {
   "cell_type": "code",
   "execution_count": 54,
   "id": "3ce80f52-a70f-44f1-9450-8b107da3d016",
   "metadata": {
    "pycharm": {
     "name": "#%%\n"
    }
   },
   "outputs": [],
   "source": [
    "model.RColumnasCamion=pe.ConstraintList()\n",
    "for c in model.c:\n",
    "    for t in model.t:\n",
    "         model.RColumnasCamion.add(model.A[c,2,t]== model.A[c,1,t])\n",
    "         model.RColumnasCamion.add(model.B[c,2,t]== model.B[c,1,t])\n"
   ]
  },
  {
   "cell_type": "markdown",
   "id": "eccb5776-ffeb-4f3c-99ba-1cdc92305b41",
   "metadata": {
    "pycharm": {
     "name": "#%% md\n"
    }
   },
   "source": [
    "$$\\forall i,t  \\quad Stock[i,t]\\geq \\sum_{j \\in [1,2,3,4]} Demanda[i,t+j]$$"
   ]
  },
  {
   "cell_type": "code",
   "execution_count": 55,
   "id": "fdae8c93-f5a9-4aa4-b772-2974f089f8cd",
   "metadata": {
    "pycharm": {
     "name": "#%%\n"
    }
   },
   "outputs": [],
   "source": [
    "model.RCobertura=pe.ConstraintList()\n",
    "l=list(range(25))\n",
    "for i in model.i:\n",
    "    for t in range(1,7):\n",
    "        lhs=model.Stock[i,t]\n",
    "        #rhs=(model.demanda[i,t+1]+model.demanda[i,t+2]+model.demanda[i,t+3])\n",
    "        rhs=0\n",
    "\n",
    "        model.RCobertura.add(lhs>=rhs)\n",
    "        l[i]=rhs\n",
    "for i in model.i:\n",
    "    for t in range(7,10):\n",
    "        lhs=model.Stock[i,t]\n",
    "        \n",
    "        #rhs=l[i]\n",
    "        rhs=0\n",
    "\n",
    "        model.RCobertura.add(lhs>=rhs)\n"
   ]
  },
  {
   "cell_type": "code",
   "execution_count": 56,
   "id": "be1605c4-f93a-4920-96de-8c0db9aaddb6",
   "metadata": {
    "pycharm": {
     "name": "#%%\n"
    }
   },
   "outputs": [],
   "source": [
    "model.RCVolumenminimo=pe.ConstraintList()"
   ]
  },
  {
   "cell_type": "code",
   "execution_count": 57,
   "id": "d3f17974-c071-4227-8a9b-86f94d414ce4",
   "metadata": {
    "pycharm": {
     "name": "#%%\n"
    }
   },
   "outputs": [],
   "source": [
    "for t in model.t:\n",
    "    for c in model.c:\n",
    "        lhs=(sum(model.CantidadPedir[i,c,t,col] for i in model.i for col in model.col if int(model.LargoCont[i])==int(1600))*750*1200*1600+\n",
    "                                     +(sum(model.CantidadPedir[i,c,t,col] for i in model.i for col in model.col if int(model.LargoCont[i])==int(1000)))*1000*1000*1200)/(3000*2400*13600)\n",
    "        rhs=0.985*model.Y[c,t]\n",
    "        model.RCVolumenminimo.add(lhs >= rhs)"
   ]
  },
  {
   "cell_type": "code",
   "execution_count": 58,
   "id": "9355d322-e790-4a34-aeda-8c028dc594d1",
   "metadata": {
    "pycharm": {
     "name": "#%%\n"
    }
   },
   "outputs": [],
   "source": [
    "model.bounds=pe.ConstraintList()\n",
    "for i in model.i:\n",
    "    for t in model.t:\n",
    "        model.bounds.add(model.Stock[i,t]>=0)\n"
   ]
  },
  {
   "cell_type": "code",
   "execution_count": 59,
   "id": "e954eeff-bab1-4415-b601-7a7679b6bcc0",
   "metadata": {
    "pycharm": {
     "name": "#%%\n"
    },
    "tags": []
   },
   "outputs": [
    {
     "name": "stdout",
     "output_type": "stream",
     "text": [
      "Set parameter Username\n",
      "Academic license - for non-commercial use only - expires 2023-06-30\n",
      "Read LP format model from file C:\\Users\\jmormal\\AppData\\Local\\Temp\\5\\tmp1yf3hlnb.pyomo.lp\n",
      "Reading time = 0.02 seconds\n",
      "x1387: 1297 rows, 1153 columns, 3257 nonzeros\n",
      "Set parameter TimeLimit to value 60\n",
      "Set parameter MIPGap to value 0.01\n",
      "Gurobi Optimizer version 9.5.2 build v9.5.2rc0 (win64)\n",
      "Thread count: 48 physical cores, 96 logical processors, using up to 32 threads\n",
      "Optimize a model with 1297 rows, 1153 columns and 3257 nonzeros\n",
      "Model fingerprint: 0xd1cfcac5\n",
      "Variable types: 19 continuous, 1134 integer (54 binary)\n",
      "Coefficient statistics:\n",
      "  Matrix range     [1e-02, 1e+04]\n",
      "  Objective range  [6e-02, 1e+03]\n",
      "  Bounds range     [1e+00, 1e+01]\n",
      "  RHS range        [1e+00, 2e+02]\n",
      "Presolve removed 955 rows and 757 columns\n",
      "Presolve time: 0.02s\n",
      "Presolved: 342 rows, 396 columns, 1114 nonzeros\n",
      "Variable types: 0 continuous, 396 integer (54 binary)\n",
      "Found heuristic solution: objective 54778.620000\n",
      "\n",
      "Root relaxation: objective 2.067647e+04, 401 iterations, 0.00 seconds (0.00 work units)\n",
      "\n",
      "    Nodes    |    Current Node    |     Objective Bounds      |     Work\n",
      " Expl Unexpl |  Obj  Depth IntInf | Incumbent    BestBd   Gap | It/Node Time\n",
      "\n",
      "     0     0 20676.4706    0   37 54778.6200 20676.4706  62.3%     -    0s\n",
      "H    0     0                    24102.240000 20676.4706  14.2%     -    0s\n",
      "     0     0 20677.4906    0   84 24102.2400 20677.4906  14.2%     -    0s\n",
      "H    0     0                    24101.820000 20677.4906  14.2%     -    0s\n",
      "H    0     0                    23062.580000 20677.4906  10.3%     -    0s\n",
      "     0     0 20677.7906    0   82 23062.5800 20677.7906  10.3%     -    0s\n",
      "     0     0 20677.7906    0   86 23062.5800 20677.7906  10.3%     -    0s\n",
      "     0     0 20677.7906    0   94 23062.5800 20677.7906  10.3%     -    0s\n",
      "H    0     0                    23061.980000 20677.7906  10.3%     -    0s\n",
      "H    0     0                    23061.020000 20677.7906  10.3%     -    0s\n",
      "     0     0 20678.0982    0  106 23061.0200 20678.0982  10.3%     -    0s\n",
      "     0     0 20678.0982    0  121 23061.0200 20678.0982  10.3%     -    0s\n",
      "H    0     0                    22042.840000 20679.2020  6.19%     -    0s\n",
      "     0     0 20679.2020    0  116 22042.8400 20679.2020  6.19%     -    0s\n",
      "H    0     0                    22042.300000 20679.2020  6.18%     -    0s\n",
      "     0     0 20679.5873    0  118 22042.3000 20679.5873  6.18%     -    0s\n",
      "     0     0 20680.3291    0  125 22042.3000 20680.3291  6.18%     -    0s\n",
      "     0     0 20680.7742    0  121 22042.3000 20680.7742  6.18%     -    0s\n",
      "     0     0 20681.0710    0  134 22042.3000 20681.0710  6.18%     -    0s\n",
      "     0     0 20681.0710    0  134 22042.3000 20681.0710  6.18%     -    0s\n",
      "     0     0 20681.0875    0  151 22042.3000 20681.0875  6.18%     -    0s\n",
      "H    0     0                    22041.880000 20681.0875  6.17%     -    0s\n",
      "     0     0 20681.1051    0  164 22041.8800 20681.1051  6.17%     -    0s\n",
      "     0     0 20681.1054    0  177 22041.8800 20681.1054  6.17%     -    0s\n",
      "     0     0 20684.0148    0  139 22041.8800 20684.0148  6.16%     -    0s\n",
      "H    0     0                    22041.400000 20684.0148  6.16%     -    0s\n",
      "     0     0 20684.0339    0  150 22041.4000 20684.0339  6.16%     -    0s\n",
      "     0     0 20684.0339    0  176 22041.4000 20684.0339  6.16%     -    0s\n",
      "     0     0 20684.8100    0  159 22041.4000 20684.8100  6.15%     -    0s\n",
      "H    0     0                    22040.980000 20684.8100  6.15%     -    0s\n",
      "     0     0 20685.7167    0  165 22040.9800 20685.7167  6.15%     -    0s\n",
      "     0     0 20685.7375    0  180 22040.9800 20685.7375  6.15%     -    0s\n",
      "     0     0 20685.9514    0  185 22040.9800 20685.9514  6.15%     -    0s\n",
      "     0     0 20686.1307    0  188 22040.9800 20686.1307  6.15%     -    0s\n",
      "H    0     0                    22040.440000 20686.1307  6.14%     -    0s\n",
      "     0     0 20686.1307    0  188 22040.4400 20686.1307  6.14%     -    0s\n",
      "     0     0 20689.2092    0  140 22040.4400 20689.2092  6.13%     -    0s\n",
      "H    0     0                    22040.260000 20689.2092  6.13%     -    0s\n",
      "     0     0 20689.2092    0  152 22040.2600 20689.2092  6.13%     -    0s\n",
      "     0     0 20690.2217    0  154 22040.2600 20690.2217  6.13%     -    0s\n",
      "     0     0 20690.9225    0  126 22040.2600 20690.9225  6.12%     -    0s\n",
      "     0     0 20690.9225    0  126 22040.2600 20690.9225  6.12%     -    0s\n",
      "     0     0 20691.3252    0  127 22040.2600 20691.3252  6.12%     -    0s\n",
      "H    0     0                    21061.560000 20691.3252  1.76%     -    0s\n",
      "     0     0 20691.3252    0  137 21061.5600 20691.3252  1.76%     -    0s\n",
      "     0     0 20691.4212    0  169 21061.5600 20691.4212  1.76%     -    0s\n",
      "     0     0 20691.4212    0  120 21061.5600 20691.4212  1.76%     -    0s\n",
      "H    0     0                    21060.960000 20691.4212  1.75%     -    0s\n",
      "H    0     2                    21060.420000 20691.4212  1.75%     -    0s\n",
      "     0     2 20691.4212    0  116 21060.4200 20691.4212  1.75%     -    0s\n",
      "H   35    48                    21055.200000 20692.4451  1.72%  17.5    0s\n",
      "H   43    48                    21050.820000 20692.7534  1.70%  16.8    0s\n",
      "H   91   104                    21029.340000 20692.8648  1.60%  12.0    1s\n",
      "H  123   134                    21024.120000 20692.8648  1.58%  11.0    1s\n",
      "H  125   134                    21024.000000 20692.8648  1.58%  10.8    1s\n",
      "H  138   134                    21019.860000 20692.8648  1.56%  10.4    1s\n",
      "H  143   134                    21019.380000 20692.8648  1.55%  10.2    1s\n",
      "H  187   216                    21019.260000 20692.8648  1.55%   9.5    1s\n",
      "H12995   275                    21018.060000 20773.0406  1.17%   7.0    2s\n",
      "*12996   275              45    21017.940000 20773.0406  1.17%   7.0    2s\n",
      "\n",
      "Cutting planes:\n",
      "  Gomory: 13\n",
      "  Cover: 22\n",
      "  Implied bound: 239\n",
      "  MIR: 144\n",
      "  StrongCG: 6\n",
      "  Flow cover: 16\n",
      "  Inf proof: 15\n",
      "  Zero half: 1\n",
      "  RLT: 29\n",
      "  Relax-and-lift: 2\n",
      "  PSD: 4\n",
      "\n",
      "Explored 14626 nodes (103079 simplex iterations) in 3.38 seconds (0.65 work units)\n",
      "Thread count was 32 (of 96 available processors)\n",
      "\n",
      "Solution count 10: 21017.9 21018.1 21019.3 ... 21055.2\n",
      "\n",
      "Optimal solution found (tolerance 1.00e-02)\n",
      "Best objective 2.101794000000e+04, best bound 2.081564058824e+04, gap 0.9625%\n"
     ]
    }
   ],
   "source": [
    "solver = po.SolverFactory(\"gurobi\")\n",
    "solver.options[\"TimeLimit\"]=60\n",
    "# solver.options[\"MIPFocus\"] = 0\n",
    "solver.options[\"MIPGap\"] = 0.01\n",
    "results = solver.solve(model, tee=True)"
   ]
  },
  {
   "cell_type": "code",
   "execution_count": 60,
   "id": "7038cfd1-830d-4491-a6a7-39e6c182b200",
   "metadata": {
    "pycharm": {
     "name": "#%%\n"
    }
   },
   "outputs": [
    {
     "name": "stdout",
     "output_type": "stream",
     "text": [
      "1 6.0 -498 -492.0\n",
      "2 21.0 -525 -504.0\n",
      "3 3.0 -444 -441.0\n",
      "4 24.0 -444 -420.0\n",
      "5 12.0 -444 -432.0\n",
      "6 33.0 -570 -537.0\n",
      "7 54.0 -570 -516.0\n",
      "8 0.0 -570 -570.0\n",
      "9 16.0 -570 -554.0\n"
     ]
    }
   ],
   "source": [
    "for t in range(1,6):\n",
    "    print(t,model.Stock[i,t].value,-model.demanda[i,t+1]-model.demanda[i,t+2]-model.demanda[i,t+3] ,\n",
    "          model.Stock[i,t].value-model.demanda[i,t+1]-model.demanda[i,t+2]-model.demanda[i,t+3])\n",
    "    a=-model.demanda[i,t+1]-model.demanda[i,t+2]-model.demanda[i,t+3]-model.demanda[i,t+4]\n",
    "for t in range(6,10):\n",
    "    print(t,model.Stock[i,t].value,a ,model.Stock[i,t].value+a)\n",
    "def mean(x):\n",
    "    return sum(x)/len(x)"
   ]
  },
  {
   "cell_type": "code",
   "execution_count": 61,
   "id": "49e6734a-b1a9-4f51-bbb6-be21a51c9354",
   "metadata": {
    "pycharm": {
     "name": "#%%\n"
    }
   },
   "outputs": [
    {
     "name": "stdout",
     "output_type": "stream",
     "text": [
      "[1.0, 1.0, 1.0, 0.9852941176470589, 1.0, 0.9852941176470589, 0.9852941176470589, 0.9852941176470589, 0.9852941176470589, 0.9852941176470589, 0.9852941176470589, 1.0, 1.0, 1.0, 1.0, 1.0, 1.0, 1.0, 1.0, 0.9877450980392157, 0.9877450980392157]\n",
      "0.9939309056956115\n",
      "21\n"
     ]
    }
   ],
   "source": [
    "utilizacion=0\n",
    "volumen_por_camion=[]\n",
    "for t in model.t:\n",
    "    for c in model.c:\n",
    "        if model.Y[c,t].value==1:\n",
    "            volumen_por_camion.append(((sum(model.CantidadPedir[i,c,t,col].value for i in model.i for col in model.col if int(model.LargoCont[i])==int(1600))*750*1200*1600+\n",
    "                                     +(sum(model.CantidadPedir[i,c,t,col].value for i in model.i for col in model.col if int(model.LargoCont[i])==int(1000)))*1000*1000*1200)/\n",
    "                                     (3000*2400*13600)))\n",
    "print(volumen_por_camion)\n",
    "print(mean(volumen_por_camion))\n",
    "print(len(volumen_por_camion))"
   ]
  },
  {
   "cell_type": "code",
   "execution_count": 62,
   "id": "6ed53c7a-1519-4c04-849e-b6b8283879c5",
   "metadata": {
    "pycharm": {
     "name": "#%%\n"
    }
   },
   "outputs": [
    {
     "name": "stdout",
     "output_type": "stream",
     "text": [
      "2.0\n",
      "3.0\n",
      "3.0\n",
      "2.0\n",
      "3.0\n",
      "2.0\n",
      "2.0\n",
      "2.0\n",
      "2.0\n"
     ]
    }
   ],
   "source": [
    "for t in model.t:\n",
    "    print(sum(model.Y[c,t].value for c in model.c))"
   ]
  },
  {
   "cell_type": "code",
   "execution_count": 63,
   "id": "63f19f4c-ef02-4479-ac90-1172ab745460",
   "metadata": {
    "pycharm": {
     "name": "#%%\n"
    }
   },
   "outputs": [],
   "source": [
    "l=[]\n",
    "for t in model.t:\n",
    "    for i in model.i:\n",
    "        1\n",
    "        # print(t,i,model.Stock[i,t].value, sum(model.Y[c,t].value  for c in model.c if model.CantidadPedir[i,c,t,col].value>0))\n",
    "\n",
    "            # if model.Y[c,t].value==1:\n",
    "            #     print(t,model.A[c,col,t].value,model.B[c,col,t].value,((sum(model.CantidadPedir[i,c,t,col].value/model.PiezasCont[i] for i in model.i for col in model.col if int(model.LargoCont[i])==int(1600))*750*1200*1600+\n",
    "            #                          +(sum(model.CantidadPedir[i,c,t,col].value/model.PiezasCont[i] for i in model.i for col in model.col if int(model.LargoCont[i])==int(1000)))*1000*1000*1200)/\n",
    "            #                          (3000*2400*13600)))"
   ]
  },
  {
   "cell_type": "code",
   "execution_count": 64,
   "id": "17f9995b-9eb7-49a3-b9cc-e1bda6de84ec",
   "metadata": {
    "pycharm": {
     "name": "#%%\n"
    }
   },
   "outputs": [],
   "source": [
    "l=[]\n",
    "for t in model.t:\n",
    "    for c in model.c:\n",
    "        for col in model.col:\n",
    "\n",
    "            if model.Y[c,t].value==1:\n",
    "                l.append([c,col,t,model.A[c,col,t].value,model.B[c,col,t].value,((sum(model.CantidadPedir[i,c,t,col].value for i in model.i for col in model.col if int(model.LargoCont[i])==int(1600))*750*1200*1600+\n",
    "                                     +(sum(model.CantidadPedir[i,c,t,col].value for i in model.i for col in model.col if int(model.LargoCont[i])==int(1000)))*1000*1000*1200)/\n",
    "                                     (3000*2400*13600),[model.CantidadPedir[i,c,t,col].value for i in model.i])])\n",
    "                # print([model.CantidadPedir[i,c,t,col].value for i in model.i])\n",
    "                # print(t,model.A[c,col,t].value,model.B[c,col,t].value,((sum(model.CantidadPedir[i,c,t,col].value for i in model.i for col in model.col if int(model.LargoCont[i])==int(1600))*750*1200*1600+\n",
    "                #                      +(sum(model.CantidadPedir[i,c,t,col].value for i in model.i for col in model.col if int(model.LargoCont[i])==int(1000)))*1000*1000*1200)/\n",
    "                #                      (3000*2400*13600)),\n",
    "                #     sum(model.CantidadPedir[i,c,t,col].value for i in model.i for col in model.col if int(model.LargoCont[i])==int(1600))\n",
    "                #       ,sum(model.CantidadPedir[i,c,t,col].value for i in model.i for col in model.col if int(model.LargoCont[i])==int(1000)))"
   ]
  },
  {
   "cell_type": "code",
   "execution_count": 65,
   "id": "3935cc94-e874-48d3-8fb1-1473d45f5ff7",
   "metadata": {
    "pycharm": {
     "name": "#%%\n"
    }
   },
   "outputs": [
    {
     "data": {
      "text/html": [
       "<div>\n",
       "<style scoped>\n",
       "    .dataframe tbody tr th:only-of-type {\n",
       "        vertical-align: middle;\n",
       "    }\n",
       "\n",
       "    .dataframe tbody tr th {\n",
       "        vertical-align: top;\n",
       "    }\n",
       "\n",
       "    .dataframe thead th {\n",
       "        text-align: right;\n",
       "    }\n",
       "</style>\n",
       "<table border=\"1\" class=\"dataframe\">\n",
       "  <thead>\n",
       "    <tr style=\"text-align: right;\">\n",
       "      <th></th>\n",
       "      <th>c</th>\n",
       "      <th>col</th>\n",
       "      <th>t</th>\n",
       "      <th>A</th>\n",
       "      <th>B</th>\n",
       "      <th>Volumen</th>\n",
       "    </tr>\n",
       "  </thead>\n",
       "  <tbody>\n",
       "    <tr>\n",
       "      <th>0</th>\n",
       "      <td>1</td>\n",
       "      <td>1</td>\n",
       "      <td>1</td>\n",
       "      <td>1.0</td>\n",
       "      <td>12.0</td>\n",
       "      <td>(1.0, [4.0, 36.0])</td>\n",
       "    </tr>\n",
       "    <tr>\n",
       "      <th>1</th>\n",
       "      <td>1</td>\n",
       "      <td>2</td>\n",
       "      <td>1</td>\n",
       "      <td>1.0</td>\n",
       "      <td>12.0</td>\n",
       "      <td>(1.0, [4.0, 36.0])</td>\n",
       "    </tr>\n",
       "    <tr>\n",
       "      <th>2</th>\n",
       "      <td>2</td>\n",
       "      <td>1</td>\n",
       "      <td>1</td>\n",
       "      <td>1.0</td>\n",
       "      <td>12.0</td>\n",
       "      <td>(1.0, [4.0, 36.0])</td>\n",
       "    </tr>\n",
       "    <tr>\n",
       "      <th>3</th>\n",
       "      <td>2</td>\n",
       "      <td>2</td>\n",
       "      <td>1</td>\n",
       "      <td>1.0</td>\n",
       "      <td>12.0</td>\n",
       "      <td>(1.0, [4.0, 36.0])</td>\n",
       "    </tr>\n",
       "    <tr>\n",
       "      <th>4</th>\n",
       "      <td>2</td>\n",
       "      <td>1</td>\n",
       "      <td>2</td>\n",
       "      <td>1.0</td>\n",
       "      <td>12.0</td>\n",
       "      <td>(1.0, [4.0, 36.0])</td>\n",
       "    </tr>\n",
       "    <tr>\n",
       "      <th>5</th>\n",
       "      <td>2</td>\n",
       "      <td>2</td>\n",
       "      <td>2</td>\n",
       "      <td>1.0</td>\n",
       "      <td>12.0</td>\n",
       "      <td>(1.0, [4.0, 36.0])</td>\n",
       "    </tr>\n",
       "    <tr>\n",
       "      <th>6</th>\n",
       "      <td>4</td>\n",
       "      <td>1</td>\n",
       "      <td>2</td>\n",
       "      <td>4.0</td>\n",
       "      <td>7.0</td>\n",
       "      <td>(0.9852941176470589, [16.0, 21.0])</td>\n",
       "    </tr>\n",
       "    <tr>\n",
       "      <th>7</th>\n",
       "      <td>4</td>\n",
       "      <td>2</td>\n",
       "      <td>2</td>\n",
       "      <td>4.0</td>\n",
       "      <td>7.0</td>\n",
       "      <td>(0.9852941176470589, [16.0, 21.0])</td>\n",
       "    </tr>\n",
       "    <tr>\n",
       "      <th>8</th>\n",
       "      <td>5</td>\n",
       "      <td>1</td>\n",
       "      <td>2</td>\n",
       "      <td>1.0</td>\n",
       "      <td>12.0</td>\n",
       "      <td>(1.0, [4.0, 36.0])</td>\n",
       "    </tr>\n",
       "    <tr>\n",
       "      <th>9</th>\n",
       "      <td>5</td>\n",
       "      <td>2</td>\n",
       "      <td>2</td>\n",
       "      <td>1.0</td>\n",
       "      <td>12.0</td>\n",
       "      <td>(1.0, [4.0, 36.0])</td>\n",
       "    </tr>\n",
       "    <tr>\n",
       "      <th>10</th>\n",
       "      <td>1</td>\n",
       "      <td>1</td>\n",
       "      <td>3</td>\n",
       "      <td>1.0</td>\n",
       "      <td>12.0</td>\n",
       "      <td>(0.9852941176470589, [4.0, 36.0])</td>\n",
       "    </tr>\n",
       "    <tr>\n",
       "      <th>11</th>\n",
       "      <td>1</td>\n",
       "      <td>2</td>\n",
       "      <td>3</td>\n",
       "      <td>1.0</td>\n",
       "      <td>12.0</td>\n",
       "      <td>(0.9852941176470589, [3.0, 36.0])</td>\n",
       "    </tr>\n",
       "    <tr>\n",
       "      <th>12</th>\n",
       "      <td>2</td>\n",
       "      <td>1</td>\n",
       "      <td>3</td>\n",
       "      <td>4.0</td>\n",
       "      <td>7.0</td>\n",
       "      <td>(0.9852941176470589, [16.0, 21.0])</td>\n",
       "    </tr>\n",
       "    <tr>\n",
       "      <th>13</th>\n",
       "      <td>2</td>\n",
       "      <td>2</td>\n",
       "      <td>3</td>\n",
       "      <td>4.0</td>\n",
       "      <td>7.0</td>\n",
       "      <td>(0.9852941176470589, [16.0, 21.0])</td>\n",
       "    </tr>\n",
       "    <tr>\n",
       "      <th>14</th>\n",
       "      <td>4</td>\n",
       "      <td>1</td>\n",
       "      <td>3</td>\n",
       "      <td>1.0</td>\n",
       "      <td>12.0</td>\n",
       "      <td>(0.9852941176470589, [4.0, 36.0])</td>\n",
       "    </tr>\n",
       "    <tr>\n",
       "      <th>15</th>\n",
       "      <td>4</td>\n",
       "      <td>2</td>\n",
       "      <td>3</td>\n",
       "      <td>1.0</td>\n",
       "      <td>12.0</td>\n",
       "      <td>(0.9852941176470589, [3.0, 36.0])</td>\n",
       "    </tr>\n",
       "    <tr>\n",
       "      <th>16</th>\n",
       "      <td>2</td>\n",
       "      <td>1</td>\n",
       "      <td>4</td>\n",
       "      <td>1.0</td>\n",
       "      <td>12.0</td>\n",
       "      <td>(0.9852941176470589, [3.0, 36.0])</td>\n",
       "    </tr>\n",
       "    <tr>\n",
       "      <th>17</th>\n",
       "      <td>2</td>\n",
       "      <td>2</td>\n",
       "      <td>4</td>\n",
       "      <td>1.0</td>\n",
       "      <td>12.0</td>\n",
       "      <td>(0.9852941176470589, [4.0, 36.0])</td>\n",
       "    </tr>\n",
       "    <tr>\n",
       "      <th>18</th>\n",
       "      <td>4</td>\n",
       "      <td>1</td>\n",
       "      <td>4</td>\n",
       "      <td>1.0</td>\n",
       "      <td>12.0</td>\n",
       "      <td>(0.9852941176470589, [4.0, 36.0])</td>\n",
       "    </tr>\n",
       "    <tr>\n",
       "      <th>19</th>\n",
       "      <td>4</td>\n",
       "      <td>2</td>\n",
       "      <td>4</td>\n",
       "      <td>1.0</td>\n",
       "      <td>12.0</td>\n",
       "      <td>(0.9852941176470589, [3.0, 36.0])</td>\n",
       "    </tr>\n",
       "    <tr>\n",
       "      <th>20</th>\n",
       "      <td>3</td>\n",
       "      <td>1</td>\n",
       "      <td>5</td>\n",
       "      <td>4.0</td>\n",
       "      <td>7.0</td>\n",
       "      <td>(0.9852941176470589, [16.0, 21.0])</td>\n",
       "    </tr>\n",
       "    <tr>\n",
       "      <th>21</th>\n",
       "      <td>3</td>\n",
       "      <td>2</td>\n",
       "      <td>5</td>\n",
       "      <td>4.0</td>\n",
       "      <td>7.0</td>\n",
       "      <td>(0.9852941176470589, [16.0, 21.0])</td>\n",
       "    </tr>\n",
       "    <tr>\n",
       "      <th>22</th>\n",
       "      <td>5</td>\n",
       "      <td>1</td>\n",
       "      <td>5</td>\n",
       "      <td>1.0</td>\n",
       "      <td>12.0</td>\n",
       "      <td>(1.0, [4.0, 36.0])</td>\n",
       "    </tr>\n",
       "    <tr>\n",
       "      <th>23</th>\n",
       "      <td>5</td>\n",
       "      <td>2</td>\n",
       "      <td>5</td>\n",
       "      <td>1.0</td>\n",
       "      <td>12.0</td>\n",
       "      <td>(1.0, [4.0, 36.0])</td>\n",
       "    </tr>\n",
       "    <tr>\n",
       "      <th>24</th>\n",
       "      <td>6</td>\n",
       "      <td>1</td>\n",
       "      <td>5</td>\n",
       "      <td>1.0</td>\n",
       "      <td>12.0</td>\n",
       "      <td>(1.0, [4.0, 36.0])</td>\n",
       "    </tr>\n",
       "    <tr>\n",
       "      <th>25</th>\n",
       "      <td>6</td>\n",
       "      <td>2</td>\n",
       "      <td>5</td>\n",
       "      <td>1.0</td>\n",
       "      <td>12.0</td>\n",
       "      <td>(1.0, [4.0, 36.0])</td>\n",
       "    </tr>\n",
       "    <tr>\n",
       "      <th>26</th>\n",
       "      <td>4</td>\n",
       "      <td>1</td>\n",
       "      <td>6</td>\n",
       "      <td>1.0</td>\n",
       "      <td>12.0</td>\n",
       "      <td>(1.0, [4.0, 36.0])</td>\n",
       "    </tr>\n",
       "    <tr>\n",
       "      <th>27</th>\n",
       "      <td>4</td>\n",
       "      <td>2</td>\n",
       "      <td>6</td>\n",
       "      <td>1.0</td>\n",
       "      <td>12.0</td>\n",
       "      <td>(1.0, [4.0, 36.0])</td>\n",
       "    </tr>\n",
       "    <tr>\n",
       "      <th>28</th>\n",
       "      <td>6</td>\n",
       "      <td>1</td>\n",
       "      <td>6</td>\n",
       "      <td>1.0</td>\n",
       "      <td>12.0</td>\n",
       "      <td>(1.0, [4.0, 36.0])</td>\n",
       "    </tr>\n",
       "    <tr>\n",
       "      <th>29</th>\n",
       "      <td>6</td>\n",
       "      <td>2</td>\n",
       "      <td>6</td>\n",
       "      <td>1.0</td>\n",
       "      <td>12.0</td>\n",
       "      <td>(1.0, [4.0, 36.0])</td>\n",
       "    </tr>\n",
       "    <tr>\n",
       "      <th>30</th>\n",
       "      <td>1</td>\n",
       "      <td>1</td>\n",
       "      <td>7</td>\n",
       "      <td>1.0</td>\n",
       "      <td>12.0</td>\n",
       "      <td>(1.0, [4.0, 36.0])</td>\n",
       "    </tr>\n",
       "    <tr>\n",
       "      <th>31</th>\n",
       "      <td>1</td>\n",
       "      <td>2</td>\n",
       "      <td>7</td>\n",
       "      <td>1.0</td>\n",
       "      <td>12.0</td>\n",
       "      <td>(1.0, [4.0, 36.0])</td>\n",
       "    </tr>\n",
       "    <tr>\n",
       "      <th>32</th>\n",
       "      <td>2</td>\n",
       "      <td>1</td>\n",
       "      <td>7</td>\n",
       "      <td>1.0</td>\n",
       "      <td>12.0</td>\n",
       "      <td>(1.0, [4.0, 36.0])</td>\n",
       "    </tr>\n",
       "    <tr>\n",
       "      <th>33</th>\n",
       "      <td>2</td>\n",
       "      <td>2</td>\n",
       "      <td>7</td>\n",
       "      <td>1.0</td>\n",
       "      <td>12.0</td>\n",
       "      <td>(1.0, [4.0, 36.0])</td>\n",
       "    </tr>\n",
       "    <tr>\n",
       "      <th>34</th>\n",
       "      <td>4</td>\n",
       "      <td>1</td>\n",
       "      <td>8</td>\n",
       "      <td>1.0</td>\n",
       "      <td>12.0</td>\n",
       "      <td>(1.0, [4.0, 36.0])</td>\n",
       "    </tr>\n",
       "    <tr>\n",
       "      <th>35</th>\n",
       "      <td>4</td>\n",
       "      <td>2</td>\n",
       "      <td>8</td>\n",
       "      <td>1.0</td>\n",
       "      <td>12.0</td>\n",
       "      <td>(1.0, [4.0, 36.0])</td>\n",
       "    </tr>\n",
       "    <tr>\n",
       "      <th>36</th>\n",
       "      <td>5</td>\n",
       "      <td>1</td>\n",
       "      <td>8</td>\n",
       "      <td>1.0</td>\n",
       "      <td>12.0</td>\n",
       "      <td>(1.0, [4.0, 36.0])</td>\n",
       "    </tr>\n",
       "    <tr>\n",
       "      <th>37</th>\n",
       "      <td>5</td>\n",
       "      <td>2</td>\n",
       "      <td>8</td>\n",
       "      <td>1.0</td>\n",
       "      <td>12.0</td>\n",
       "      <td>(1.0, [4.0, 36.0])</td>\n",
       "    </tr>\n",
       "    <tr>\n",
       "      <th>38</th>\n",
       "      <td>1</td>\n",
       "      <td>1</td>\n",
       "      <td>9</td>\n",
       "      <td>1.0</td>\n",
       "      <td>12.0</td>\n",
       "      <td>(0.9877450980392157, [4.0, 35.0])</td>\n",
       "    </tr>\n",
       "    <tr>\n",
       "      <th>39</th>\n",
       "      <td>1</td>\n",
       "      <td>2</td>\n",
       "      <td>9</td>\n",
       "      <td>1.0</td>\n",
       "      <td>12.0</td>\n",
       "      <td>(0.9877450980392157, [4.0, 36.0])</td>\n",
       "    </tr>\n",
       "    <tr>\n",
       "      <th>40</th>\n",
       "      <td>3</td>\n",
       "      <td>1</td>\n",
       "      <td>9</td>\n",
       "      <td>1.0</td>\n",
       "      <td>12.0</td>\n",
       "      <td>(0.9877450980392157, [4.0, 36.0])</td>\n",
       "    </tr>\n",
       "    <tr>\n",
       "      <th>41</th>\n",
       "      <td>3</td>\n",
       "      <td>2</td>\n",
       "      <td>9</td>\n",
       "      <td>1.0</td>\n",
       "      <td>12.0</td>\n",
       "      <td>(0.9877450980392157, [4.0, 35.0])</td>\n",
       "    </tr>\n",
       "  </tbody>\n",
       "</table>\n",
       "</div>"
      ],
      "text/plain": [
       "    c  col  t    A     B                             Volumen\n",
       "0   1    1  1  1.0  12.0                  (1.0, [4.0, 36.0])\n",
       "1   1    2  1  1.0  12.0                  (1.0, [4.0, 36.0])\n",
       "2   2    1  1  1.0  12.0                  (1.0, [4.0, 36.0])\n",
       "3   2    2  1  1.0  12.0                  (1.0, [4.0, 36.0])\n",
       "4   2    1  2  1.0  12.0                  (1.0, [4.0, 36.0])\n",
       "5   2    2  2  1.0  12.0                  (1.0, [4.0, 36.0])\n",
       "6   4    1  2  4.0   7.0  (0.9852941176470589, [16.0, 21.0])\n",
       "7   4    2  2  4.0   7.0  (0.9852941176470589, [16.0, 21.0])\n",
       "8   5    1  2  1.0  12.0                  (1.0, [4.0, 36.0])\n",
       "9   5    2  2  1.0  12.0                  (1.0, [4.0, 36.0])\n",
       "10  1    1  3  1.0  12.0   (0.9852941176470589, [4.0, 36.0])\n",
       "11  1    2  3  1.0  12.0   (0.9852941176470589, [3.0, 36.0])\n",
       "12  2    1  3  4.0   7.0  (0.9852941176470589, [16.0, 21.0])\n",
       "13  2    2  3  4.0   7.0  (0.9852941176470589, [16.0, 21.0])\n",
       "14  4    1  3  1.0  12.0   (0.9852941176470589, [4.0, 36.0])\n",
       "15  4    2  3  1.0  12.0   (0.9852941176470589, [3.0, 36.0])\n",
       "16  2    1  4  1.0  12.0   (0.9852941176470589, [3.0, 36.0])\n",
       "17  2    2  4  1.0  12.0   (0.9852941176470589, [4.0, 36.0])\n",
       "18  4    1  4  1.0  12.0   (0.9852941176470589, [4.0, 36.0])\n",
       "19  4    2  4  1.0  12.0   (0.9852941176470589, [3.0, 36.0])\n",
       "20  3    1  5  4.0   7.0  (0.9852941176470589, [16.0, 21.0])\n",
       "21  3    2  5  4.0   7.0  (0.9852941176470589, [16.0, 21.0])\n",
       "22  5    1  5  1.0  12.0                  (1.0, [4.0, 36.0])\n",
       "23  5    2  5  1.0  12.0                  (1.0, [4.0, 36.0])\n",
       "24  6    1  5  1.0  12.0                  (1.0, [4.0, 36.0])\n",
       "25  6    2  5  1.0  12.0                  (1.0, [4.0, 36.0])\n",
       "26  4    1  6  1.0  12.0                  (1.0, [4.0, 36.0])\n",
       "27  4    2  6  1.0  12.0                  (1.0, [4.0, 36.0])\n",
       "28  6    1  6  1.0  12.0                  (1.0, [4.0, 36.0])\n",
       "29  6    2  6  1.0  12.0                  (1.0, [4.0, 36.0])\n",
       "30  1    1  7  1.0  12.0                  (1.0, [4.0, 36.0])\n",
       "31  1    2  7  1.0  12.0                  (1.0, [4.0, 36.0])\n",
       "32  2    1  7  1.0  12.0                  (1.0, [4.0, 36.0])\n",
       "33  2    2  7  1.0  12.0                  (1.0, [4.0, 36.0])\n",
       "34  4    1  8  1.0  12.0                  (1.0, [4.0, 36.0])\n",
       "35  4    2  8  1.0  12.0                  (1.0, [4.0, 36.0])\n",
       "36  5    1  8  1.0  12.0                  (1.0, [4.0, 36.0])\n",
       "37  5    2  8  1.0  12.0                  (1.0, [4.0, 36.0])\n",
       "38  1    1  9  1.0  12.0   (0.9877450980392157, [4.0, 35.0])\n",
       "39  1    2  9  1.0  12.0   (0.9877450980392157, [4.0, 36.0])\n",
       "40  3    1  9  1.0  12.0   (0.9877450980392157, [4.0, 36.0])\n",
       "41  3    2  9  1.0  12.0   (0.9877450980392157, [4.0, 35.0])"
      ]
     },
     "execution_count": 65,
     "metadata": {},
     "output_type": "execute_result"
    }
   ],
   "source": [
    "df1=pd.DataFrame(l,columns=[\"c\", \"col\", \"t\", \"A\", \"B\", \"Volumen\",])\n",
    "df1"
   ]
  },
  {
   "cell_type": "code",
   "execution_count": 66,
   "id": "f6955590-b59f-4b97-8d4e-ac97ddf1d6b2",
   "metadata": {
    "pycharm": {
     "name": "#%%\n"
    }
   },
   "outputs": [
    {
     "ename": "TypeError",
     "evalue": "unsupported operand type(s) for *: 'NoneType' and 'float'",
     "output_type": "error",
     "traceback": [
      "\u001B[1;31m---------------------------------------------------------------------------\u001B[0m",
      "\u001B[1;31mTypeError\u001B[0m                                 Traceback (most recent call last)",
      "Input \u001B[1;32mIn [66]\u001B[0m, in \u001B[0;36m<cell line: 1>\u001B[1;34m()\u001B[0m\n\u001B[1;32m----> 1\u001B[0m \u001B[38;5;28msum\u001B[39m([model\u001B[38;5;241m.\u001B[39mContenedoresCamion[c,t,col,i]\u001B[38;5;241m.\u001B[39mvalue\u001B[38;5;241m*\u001B[39m\u001B[38;5;28mfloat\u001B[39m(\u001B[38;5;28mint\u001B[39m(model\u001B[38;5;241m.\u001B[39mLargoCont[i])\u001B[38;5;241m==\u001B[39m\u001B[38;5;28mint\u001B[39m(\u001B[38;5;241m1000\u001B[39m)) \u001B[38;5;28;01mfor\u001B[39;00m i \u001B[38;5;129;01min\u001B[39;00m model\u001B[38;5;241m.\u001B[39mi])\u001B[38;5;241m<\u001B[39m\u001B[38;5;241m=\u001B[39mmodel\u001B[38;5;241m.\u001B[39mB[c,col,t]\u001B[38;5;241m.\u001B[39mvalue\u001B[38;5;241m*\u001B[39m\u001B[38;5;241m3\u001B[39m\n",
      "Input \u001B[1;32mIn [66]\u001B[0m, in \u001B[0;36m<listcomp>\u001B[1;34m(.0)\u001B[0m\n\u001B[1;32m----> 1\u001B[0m \u001B[38;5;28msum\u001B[39m([\u001B[43mmodel\u001B[49m\u001B[38;5;241;43m.\u001B[39;49m\u001B[43mContenedoresCamion\u001B[49m\u001B[43m[\u001B[49m\u001B[43mc\u001B[49m\u001B[43m,\u001B[49m\u001B[43mt\u001B[49m\u001B[43m,\u001B[49m\u001B[43mcol\u001B[49m\u001B[43m,\u001B[49m\u001B[43mi\u001B[49m\u001B[43m]\u001B[49m\u001B[38;5;241;43m.\u001B[39;49m\u001B[43mvalue\u001B[49m\u001B[38;5;241;43m*\u001B[39;49m\u001B[38;5;28;43mfloat\u001B[39;49m\u001B[43m(\u001B[49m\u001B[38;5;28;43mint\u001B[39;49m\u001B[43m(\u001B[49m\u001B[43mmodel\u001B[49m\u001B[38;5;241;43m.\u001B[39;49m\u001B[43mLargoCont\u001B[49m\u001B[43m[\u001B[49m\u001B[43mi\u001B[49m\u001B[43m]\u001B[49m\u001B[43m)\u001B[49m\u001B[38;5;241;43m==\u001B[39;49m\u001B[38;5;28;43mint\u001B[39;49m\u001B[43m(\u001B[49m\u001B[38;5;241;43m1000\u001B[39;49m\u001B[43m)\u001B[49m\u001B[43m)\u001B[49m \u001B[38;5;28;01mfor\u001B[39;00m i \u001B[38;5;129;01min\u001B[39;00m model\u001B[38;5;241m.\u001B[39mi])\u001B[38;5;241m<\u001B[39m\u001B[38;5;241m=\u001B[39mmodel\u001B[38;5;241m.\u001B[39mB[c,col,t]\u001B[38;5;241m.\u001B[39mvalue\u001B[38;5;241m*\u001B[39m\u001B[38;5;241m3\u001B[39m\n",
      "\u001B[1;31mTypeError\u001B[0m: unsupported operand type(s) for *: 'NoneType' and 'float'"
     ]
    }
   ],
   "source": [
    "sum([model.ContenedoresCamion[c,t,col,i].value*float(int(model.LargoCont[i])==int(1000)) for i in model.i])<=model.B[c,col,t].value*3"
   ]
  },
  {
   "cell_type": "code",
   "execution_count": null,
   "id": "0471c296-c262-4d16-a0f7-0a1bb139d01f",
   "metadata": {
    "pycharm": {
     "name": "#%%\n"
    }
   },
   "outputs": [],
   "source": [
    "for t in model.t:\n",
    "    for c in model.c:\n",
    "        for i in model.i:\n",
    "            print(model.CantidadPedir[i,c,t,col].value)#*float(int(model.LargoCont[i])==int(1000)))"
   ]
  },
  {
   "cell_type": "code",
   "execution_count": null,
   "id": "8ba8747f-29b1-440c-96b2-b63c1b2b6d66",
   "metadata": {
    "pycharm": {
     "name": "#%%\n"
    }
   },
   "outputs": [],
   "source": [
    "l1=[]\n",
    "a=list(range(25))\n",
    "for t in range(1,7):\n",
    "    for i in model.i:\n",
    "            l1.append([t,i,model.Stock[i,t].value,-model.demanda[i,t+1]-model.demanda[i,t+2]-model.demanda[i,t+3] ,\n",
    "          model.Stock[i,t].value-model.demanda[i,t+1]-model.demanda[i,t+2]-model.demanda[i,t+3]])\n",
    "            a[i]=-model.demanda[i,t+1]-model.demanda[i,t+2]-model.demanda[i,t+3]\n",
    "for t in range(7,9):\n",
    "    for i in model.i:\n",
    "            l1.append([t,i,model.Stock[i,t].value,a[i] ,\n",
    "          model.Stock[i,t].value+a[i]])\n",
    "a"
   ]
  },
  {
   "cell_type": "code",
   "execution_count": null,
   "id": "7d7a6cbf-bb23-4cca-946a-69ac53a8dd08",
   "metadata": {
    "pycharm": {
     "name": "#%%\n"
    }
   },
   "outputs": [],
   "source": [
    "df2=pd.DataFrame(l1,columns=[\"t\",\"id\",\"Stock\",\"Demanda Proximos Dias\",\"Diferencia Demanda\"])\n",
    "pd.set_option('display.max_rows', None)\n",
    "df2"
   ]
  },
  {
   "cell_type": "code",
   "execution_count": null,
   "id": "5f05379e-ae03-4fac-ad83-22893ff1a1f3",
   "metadata": {
    "pycharm": {
     "name": "#%%\n"
    }
   },
   "outputs": [],
   "source": [
    "# for t in model.t:\n",
    "#     print(t,sum(model.CantidadPedir[i,c,t,col].value for c in model.c for i in model.i for col in model.col if int(model.LargoCont[i])==int(1000)))\n",
    "print(sum(model.CantidadPedir[i,c,t,col].value for t in model.t for c in model.c for i in model.i for col in model.col if int(model.LargoCont[i])==int(1600)))\n",
    "print(sum(model.CantidadPedir[i,c,t,col].value for t in model.t for c in model.c for i in model.i for col in model.col if int(model.LargoCont[i])==int(1000)))"
   ]
  },
  {
   "cell_type": "code",
   "execution_count": null,
   "id": "bc0dd6ad-4f70-4e3a-b9ce-53fd974e6287",
   "metadata": {
    "pycharm": {
     "name": "#%%\n"
    }
   },
   "outputs": [],
   "source": [
    "df_demanda"
   ]
  },
  {
   "cell_type": "code",
   "execution_count": null,
   "id": "acfcd42b-9220-4232-a412-d56ff37467e5",
   "metadata": {
    "pycharm": {
     "name": "#%%\n"
    }
   },
   "outputs": [],
   "source": [
    "for i,v in model.LargoCont:\n",
    "    print(i)"
   ]
  },
  {
   "cell_type": "code",
   "execution_count": null,
   "id": "e2c9b24a-b02c-48ed-a521-c6e3c6149bee",
   "metadata": {
    "pycharm": {
     "name": "#%%\n"
    }
   },
   "outputs": [],
   "source": [
    "sum(model.demanda[i,t]/ for )"
   ]
  },
  {
   "cell_type": "code",
   "execution_count": null,
   "id": "8f8c464d-433a-4da3-8846-c517cbec5988",
   "metadata": {
    "pycharm": {
     "name": "#%%\n"
    }
   },
   "outputs": [],
   "source": []
  },
  {
   "cell_type": "code",
   "execution_count": null,
   "id": "8b53b8fa-7b4d-4629-b361-b1c66e9264ee",
   "metadata": {
    "pycharm": {
     "name": "#%%\n"
    }
   },
   "outputs": [],
   "source": [
    "import scip"
   ]
  },
  {
   "cell_type": "code",
   "execution_count": null,
   "id": "fb35ef05-0c26-47cc-80a8-7f5479e998db",
   "metadata": {
    "pycharm": {
     "name": "#%%\n"
    }
   },
   "outputs": [],
   "source": []
  }
 ],
 "metadata": {
  "kernelspec": {
   "display_name": "Python 3 (ipykernel)",
   "language": "python",
   "name": "python3"
  },
  "language_info": {
   "codemirror_mode": {
    "name": "ipython",
    "version": 3
   },
   "file_extension": ".py",
   "mimetype": "text/x-python",
   "name": "python",
   "nbconvert_exporter": "python",
   "pygments_lexer": "ipython3",
   "version": "3.8.13"
  }
 },
 "nbformat": 4,
 "nbformat_minor": 5
}