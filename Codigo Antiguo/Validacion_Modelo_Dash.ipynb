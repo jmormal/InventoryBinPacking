{
 "cells": [
  {
   "cell_type": "code",
   "execution_count": 1,
   "id": "e42650f7-d9b6-45a8-b68c-76ae8f92e009",
   "metadata": {
    "pycharm": {
     "is_executing": true,
     "name": "#%%\n"
    }
   },
   "outputs": [],
   "source": [
    "import pyodbc\n",
    "import pandas as pd\n",
    "import pyomo.environ as pe\n",
    "import pyomo.opt as po\n",
    "model = pe.ConcreteModel(\"Cargacamiones\")\n",
    "import random\n",
    "import sys\n",
    "random.seed(0)"
   ]
  },
  {
   "cell_type": "markdown",
   "id": "bfb4b11a-c6f2-4138-b962-23a8ee66db9f",
   "metadata": {
    "pycharm": {
     "name": "#%% md\n"
    }
   },
   "source": [
    "## Preprocesado de los datos"
   ]
  },
  {
   "cell_type": "code",
   "execution_count": 2,
   "id": "7a834a30-f10e-4a62-8088-6a6a4a5a0ca0",
   "metadata": {
    "pycharm": {
     "is_executing": true,
     "name": "#%%\n"
    }
   },
   "outputs": [],
   "source": [
    "path_demanda=r\"C:\\Users\\jmormal\\PycharmProjects\\pythonProject3\\Demanda_validacion.xlsx\""
   ]
  },
  {
   "cell_type": "code",
   "execution_count": 3,
   "id": "4cd8ee83-9e61-46dc-ae24-08a8d337ea5e",
   "metadata": {
    "pycharm": {
     "is_executing": true,
     "name": "#%%\n"
    }
   },
   "outputs": [],
   "source": [
    "df_demanda=pd.read_excel(path_demanda)"
   ]
  },
  {
   "cell_type": "code",
   "execution_count": 4,
   "id": "76004c24-93db-4670-803a-73fec04e519c",
   "metadata": {
    "pycharm": {
     "is_executing": true,
     "name": "#%%\n"
    }
   },
   "outputs": [
    {
     "data": {
      "text/html": [
       "<div>\n",
       "<style scoped>\n",
       "    .dataframe tbody tr th:only-of-type {\n",
       "        vertical-align: middle;\n",
       "    }\n",
       "\n",
       "    .dataframe tbody tr th {\n",
       "        vertical-align: top;\n",
       "    }\n",
       "\n",
       "    .dataframe thead th {\n",
       "        text-align: right;\n",
       "    }\n",
       "</style>\n",
       "<table border=\"1\" class=\"dataframe\">\n",
       "  <thead>\n",
       "    <tr style=\"text-align: right;\">\n",
       "      <th></th>\n",
       "      <th>Magnum</th>\n",
       "      <th>A-cont</th>\n",
       "    </tr>\n",
       "    <tr>\n",
       "      <th>Collection in supplier</th>\n",
       "      <th></th>\n",
       "      <th></th>\n",
       "    </tr>\n",
       "  </thead>\n",
       "  <tbody>\n",
       "    <tr>\n",
       "      <th>day 1</th>\n",
       "      <td>138</td>\n",
       "      <td>16</td>\n",
       "    </tr>\n",
       "    <tr>\n",
       "      <th>day 2</th>\n",
       "      <td>171</td>\n",
       "      <td>48</td>\n",
       "    </tr>\n",
       "    <tr>\n",
       "      <th>day 3</th>\n",
       "      <td>204</td>\n",
       "      <td>20</td>\n",
       "    </tr>\n",
       "    <tr>\n",
       "      <th>day 4</th>\n",
       "      <td>123</td>\n",
       "      <td>24</td>\n",
       "    </tr>\n",
       "    <tr>\n",
       "      <th>day 5</th>\n",
       "      <td>198</td>\n",
       "      <td>28</td>\n",
       "    </tr>\n",
       "    <tr>\n",
       "      <th>day 6</th>\n",
       "      <td>123</td>\n",
       "      <td>24</td>\n",
       "    </tr>\n",
       "    <tr>\n",
       "      <th>day 7</th>\n",
       "      <td>123</td>\n",
       "      <td>24</td>\n",
       "    </tr>\n",
       "    <tr>\n",
       "      <th>day 8</th>\n",
       "      <td>198</td>\n",
       "      <td>32</td>\n",
       "    </tr>\n",
       "    <tr>\n",
       "      <th>day 9</th>\n",
       "      <td>126</td>\n",
       "      <td>20</td>\n",
       "    </tr>\n",
       "  </tbody>\n",
       "</table>\n",
       "</div>"
      ],
      "text/plain": [
       "                        Magnum  A-cont\n",
       "Collection in supplier                \n",
       "day 1                      138      16\n",
       "day 2                      171      48\n",
       "day 3                      204      20\n",
       "day 4                      123      24\n",
       "day 5                      198      28\n",
       "day 6                      123      24\n",
       "day 7                      123      24\n",
       "day 8                      198      32\n",
       "day 9                      126      20"
      ]
     },
     "execution_count": 4,
     "metadata": {},
     "output_type": "execute_result"
    }
   ],
   "source": [
    "df_demanda=df_demanda.groupby(\"Collection in supplier\").sum().iloc[: , :2]\n",
    "df_demanda\n",
    "df_demanda"
   ]
  },
  {
   "cell_type": "code",
   "execution_count": 5,
   "id": "ede9982a-2811-4590-9b09-b0b316de38e1",
   "metadata": {
    "pycharm": {
     "is_executing": true,
     "name": "#%%\n"
    }
   },
   "outputs": [],
   "source": [
    "l=[]\n",
    "for t in range(1,10):\n",
    "    l1=[1,t,df_demanda.iloc[t-1 , 0 ]]\n",
    "    l2=[2,t,df_demanda.iloc[t-1 , 1 ]]\n",
    "    l.append(l1)\n",
    "    l.append(l2)\n",
    "df=pd.DataFrame(l,columns=[\"Producto\",\"t\",\"Demanda\"])"
   ]
  },
  {
   "cell_type": "code",
   "execution_count": null,
   "id": "c4158fde-e1b0-4817-b6e2-79c24ac7e164",
   "metadata": {
    "pycharm": {
     "is_executing": true,
     "name": "#%%\n"
    }
   },
   "outputs": [],
   "source": []
  },
  {
   "cell_type": "code",
   "execution_count": null,
   "id": "d32fa948-5837-4627-89f7-0d0c3f425c33",
   "metadata": {
    "pycharm": {
     "is_executing": true,
     "name": "#%%\n"
    }
   },
   "outputs": [],
   "source": []
  },
  {
   "cell_type": "code",
   "execution_count": 6,
   "id": "b8fa57e5-a2fb-4af9-8ef3-3624a71f3b1d",
   "metadata": {
    "pycharm": {
     "is_executing": true,
     "name": "#%%\n"
    }
   },
   "outputs": [],
   "source": [
    "path=r\"C:\\Users\\jmormal\\PycharmProjects\\pythonProject3\\Transporte_cubicaje_validacion.accdb\"\n",
    "conn = pyodbc.connect('Driver={Microsoft Access Driver (*.mdb, *.accdb)};DBQ='+path+';')\n",
    "cursor = conn.cursor()"
   ]
  },
  {
   "cell_type": "markdown",
   "id": "90368ebb-04b7-4902-9262-c9170e9c357a",
   "metadata": {
    "pycharm": {
     "name": "#%% md\n"
    }
   },
   "source": [
    "Familias Carga de datos"
   ]
  },
  {
   "cell_type": "code",
   "execution_count": 7,
   "id": "4cec6228-3dcb-4b33-82c2-6f7a31f7dee8",
   "metadata": {
    "pycharm": {
     "is_executing": true,
     "name": "#%%\n"
    }
   },
   "outputs": [],
   "source": [
    "cursor.execute('select IdProducto from Productos')\n",
    "productos=[]\n",
    "for row in cursor.fetchall():\n",
    "    productos.append(row[0])"
   ]
  },
  {
   "cell_type": "code",
   "execution_count": 8,
   "id": "1729c2ef-9b05-47de-8bb3-00b4c5f6eeaa",
   "metadata": {
    "pycharm": {
     "is_executing": true,
     "name": "#%%\n"
    }
   },
   "outputs": [],
   "source": [
    "cursor.execute('select IdFamilia from Familias')\n",
    "familias=[]\n",
    "for row in cursor.fetchall():\n",
    "    familias.append(row[0])"
   ]
  },
  {
   "cell_type": "code",
   "execution_count": 9,
   "id": "67d24c87-6a45-4b11-9a79-ca590c00db10",
   "metadata": {
    "pycharm": {
     "is_executing": true,
     "name": "#%%\n"
    }
   },
   "outputs": [],
   "source": [
    "cursor.execute('select IdCamion from Camiones WHERE IdCamion<4')\n",
    "camiones=[]\n",
    "for i in range(1,7):\n",
    "    camiones.append(i)"
   ]
  },
  {
   "cell_type": "code",
   "execution_count": 10,
   "id": "b146f205-9229-4c16-8c3b-b7c6fa6030c1",
   "metadata": {
    "pycharm": {
     "is_executing": true,
     "name": "#%%\n"
    }
   },
   "outputs": [],
   "source": [
    "cursor.execute('select IdDia from Dias WHERE \"IdDia\"<=19')\n",
    "dias=[]\n",
    "for row in cursor.fetchall():\n",
    "    dias.append(row[0])\n",
    "        "
   ]
  },
  {
   "cell_type": "code",
   "execution_count": 11,
   "id": "a819db32-4ace-44cc-8422-436a1943c34d",
   "metadata": {
    "pycharm": {
     "is_executing": true,
     "name": "#%%\n"
    }
   },
   "outputs": [],
   "source": [
    "cursor.execute('select IdDia from Dias')\n",
    "dias1=[]\n",
    "for row in cursor.fetchall():\n",
    "    dias1.append(row[0])\n",
    "\n"
   ]
  },
  {
   "cell_type": "code",
   "execution_count": 12,
   "id": "07399b98-4597-43ce-97d2-e4354d17b914",
   "metadata": {
    "pycharm": {
     "is_executing": true,
     "name": "#%%\n"
    }
   },
   "outputs": [
    {
     "data": {
      "text/plain": [
       "[2, 1]"
      ]
     },
     "execution_count": 12,
     "metadata": {},
     "output_type": "execute_result"
    }
   ],
   "source": [
    "columnas=[1,2]\n",
    "A1=[6,7]\n",
    "B1=[4,2]\n",
    "productos"
   ]
  },
  {
   "cell_type": "markdown",
   "id": "45f4435a-4da6-4a13-b895-945c4f2e2f48",
   "metadata": {
    "pycharm": {
     "name": "#%% md\n"
    }
   },
   "source": [
    "## Familias Pyomo"
   ]
  },
  {
   "cell_type": "code",
   "execution_count": 13,
   "id": "62d43fd4-f804-4e33-8960-4f0123a03598",
   "metadata": {
    "pycharm": {
     "is_executing": true,
     "name": "#%%\n"
    }
   },
   "outputs": [],
   "source": [
    "model.i = pe.Set(initialize=productos)\n",
    "model.f = pe.Set(initialize=familias)\n",
    "model.c = pe.Set(initialize=camiones)\n",
    "model.t = pe.Set(initialize=dias)\n",
    "model.t1 = pe.Set(initialize=dias1)\n",
    "model.col=pe.Set(initialize=columnas)\n",
    "model.A1=pe.Set(initialize=A1)\n",
    "model.B1=pe.Set(initialize=B1)"
   ]
  },
  {
   "cell_type": "markdown",
   "id": "56854c70-cd27-4926-ae52-ab188ae1680d",
   "metadata": {
    "pycharm": {
     "name": "#%% md\n"
    }
   },
   "source": [
    "## Carga de datos productos"
   ]
  },
  {
   "cell_type": "code",
   "execution_count": 14,
   "id": "0e9d47b7-50e0-4466-b192-b6585231c153",
   "metadata": {
    "pycharm": {
     "is_executing": true,
     "name": "#%%\n"
    }
   },
   "outputs": [],
   "source": [
    "cursor.execute('select IdFamilia, LotePedido from Familias')\n",
    "lotepedido={}\n",
    "for row in cursor.fetchall():\n",
    "    lotepedido.update({row[0]:row[1]})\n"
   ]
  },
  {
   "cell_type": "code",
   "execution_count": 15,
   "id": "59ea76c0-5bef-4623-9000-d204f65577f3",
   "metadata": {
    "pycharm": {
     "is_executing": true,
     "name": "#%%\n"
    }
   },
   "outputs": [],
   "source": [
    "cursor.execute('select IdFamilia, LotePedido from Familias')\n",
    "CosteStock={}\n",
    "for row in cursor.fetchall():\n",
    "    CosteStock.update({row[0]:random.randint(7, 10)*0.001})\n"
   ]
  },
  {
   "cell_type": "code",
   "execution_count": 16,
   "id": "29c33ca3-f76a-428c-9a79-8c12eca08171",
   "metadata": {
    "pycharm": {
     "is_executing": true,
     "name": "#%%\n"
    }
   },
   "outputs": [],
   "source": [
    "cursor.execute('select IdProducto , PiezasCont from Productos')\n",
    "piezascont={}\n",
    "for row in cursor.fetchall():\n",
    "    piezascont.update({row[0]:row[1]})"
   ]
  },
  {
   "cell_type": "code",
   "execution_count": 17,
   "id": "995a888b-08b1-4a53-929e-e56697c2c0ee",
   "metadata": {
    "pycharm": {
     "is_executing": true,
     "name": "#%%\n"
    }
   },
   "outputs": [],
   "source": [
    "cursor.execute('select IdProducto , LargoContedor from Productos')\n",
    "piezas_largo_box={}\n",
    "for row in cursor.fetchall():\n",
    "    piezas_largo_box.update({row[0]:row[1]})"
   ]
  },
  {
   "cell_type": "code",
   "execution_count": 18,
   "id": "13962258-4bdf-4a63-9482-1bca7ab61528",
   "metadata": {
    "pycharm": {
     "is_executing": true,
     "name": "#%%\n"
    }
   },
   "outputs": [],
   "source": [
    "cursor.execute('select IdProducto , IdFamilia, beta from beta')\n",
    "b={}\n",
    "for row in cursor.fetchall():\n",
    "    b.update({(row[0],row[1]):row[2]})\n"
   ]
  },
  {
   "cell_type": "code",
   "execution_count": 19,
   "id": "099cc323-bcbb-4125-8d79-fee66ccdaae3",
   "metadata": {
    "pycharm": {
     "is_executing": true,
     "name": "#%%\n"
    }
   },
   "outputs": [],
   "source": [
    "cursor.execute('select  IdProducto , IdDia, Demanda from Demanda')\n",
    "demanda={}\n",
    "for row in cursor.fetchall():\n",
    "    # if row[0]>=13:\n",
    "    #     demanda.update({(row[0],row[1]):row[2]})\n",
    "    # else:\n",
    "        demanda.update({(row[0],row[1]):row[2]})    "
   ]
  },
  {
   "cell_type": "code",
   "execution_count": 20,
   "id": "e0eb904d-1c8a-4e15-a0dd-803f5cc4f972",
   "metadata": {
    "pycharm": {
     "is_executing": true,
     "name": "#%%\n"
    }
   },
   "outputs": [],
   "source": [
    "# cursor.execute('select IdProducto , StockInicial from Productos')\n",
    "stockInicial={}\n",
    "# for row in cursor.fetchall():\n",
    "#     stockInicial.update({row[0]:row[1]})\n",
    "cursor.execute('select  IdProducto , Demanda from Demanda where IdDia=1')\n",
    "\n",
    "for row in cursor.fetchall():\n",
    "    stockInicial.update({row[0]:row[1]*0})\n"
   ]
  },
  {
   "cell_type": "code",
   "execution_count": 21,
   "id": "d1592a33-918c-4279-989e-67b75cc553da",
   "metadata": {
    "pycharm": {
     "is_executing": true,
     "name": "#%%\n"
    }
   },
   "outputs": [
    {
     "data": {
      "text/plain": [
       "<pyomo.core.base.set.TuplizeValuesInitializer at 0x247c9d9e730>"
      ]
     },
     "execution_count": 21,
     "metadata": {},
     "output_type": "execute_result"
    }
   ],
   "source": [
    "model.i.__dict__[\"_init_values\"]"
   ]
  },
  {
   "cell_type": "code",
   "execution_count": 22,
   "id": "8750c074-23b5-4b1e-94e1-7e7f9a9d0f77",
   "metadata": {
    "pycharm": {
     "is_executing": true,
     "name": "#%%\n"
    }
   },
   "outputs": [],
   "source": [
    "cursor.execute('select  IdProducto , Valor from Productos')\n",
    "valor={}\n",
    "for row in cursor.fetchall():\n",
    "    valor.update({row[0]:row[1]})"
   ]
  },
  {
   "cell_type": "code",
   "execution_count": 23,
   "id": "ae03f73d-8cda-4a9d-a6a2-9cf71c6441a6",
   "metadata": {
    "pycharm": {
     "is_executing": true,
     "name": "#%%\n"
    }
   },
   "outputs": [],
   "source": [
    "PC={}\n",
    "for camion in camiones:\n",
    "    PC.update({camion:1000})"
   ]
  },
  {
   "cell_type": "code",
   "execution_count": 24,
   "id": "5f7ec971-3d78-49a9-8518-1d2454643441",
   "metadata": {
    "pycharm": {
     "is_executing": true,
     "name": "#%%\n"
    }
   },
   "outputs": [],
   "source": [
    "L=78\n",
    "nu=26/30\n",
    "NT_lw=5\n",
    "NT_up=10"
   ]
  },
  {
   "cell_type": "code",
   "execution_count": 25,
   "id": "285975ba-3b0f-4e8a-ae1f-7656bd99d3cb",
   "metadata": {
    "pycharm": {
     "is_executing": true,
     "name": "#%%\n"
    }
   },
   "outputs": [],
   "source": [
    "model.LotePedido = pe.Param(model.f , initialize=lotepedido)\n",
    "model.PiezasCont= pe.Param(model.i ,initialize=piezascont)\n",
    "model.b= pe.Param(model.i, model.f ,initialize=b, default=0)\n",
    "model.StockInicial= pe.Param(model.i, initialize=stockInicial)\n",
    "model.demanda= pe.Param(model.i, model.t1,  initialize=demanda)\n",
    "model.valor=pe.Param(model.i, initialize=stockInicial)\n",
    "model.PC=pe.Param(model.c, initialize=PC)\n",
    "model.L=pe.Param(initialize=L)\n",
    "model.nu=pe.Param(initialize=nu)\n",
    "model.NT_lw=pe.Param(initialize=NT_lw)\n",
    "model.NT_up=pe.Param(initialize=NT_up)\n",
    "model.LargoCont=pe.Param(model.i,initialize=piezas_largo_box)\n",
    "model.CS=pe.Param(model.i, initialize=CosteStock)"
   ]
  },
  {
   "cell_type": "markdown",
   "id": "dfe06a96-676c-48f6-a963-bf71ffbabd5a",
   "metadata": {
    "pycharm": {
     "name": "#%% md\n"
    }
   },
   "source": [
    "# # Varibles"
   ]
  },
  {
   "cell_type": "code",
   "execution_count": 26,
   "id": "703e4d9f-a03e-4019-a8c1-a631475fc6b8",
   "metadata": {
    "pycharm": {
     "is_executing": true,
     "name": "#%%\n"
    }
   },
   "outputs": [],
   "source": [
    "model.CantidadPedir = pe.Var(model.i, model.c, model.t,model.col, domain=pe.Integers)"
   ]
  },
  {
   "cell_type": "code",
   "execution_count": 27,
   "id": "45e1db77-888c-451b-887b-6eb9855e3dbe",
   "metadata": {
    "pycharm": {
     "is_executing": true,
     "name": "#%%\n"
    }
   },
   "outputs": [],
   "source": [
    "model.CantidadPedir2 = pe.Var(model.i,model.f, model.c, model.t,model.col, domain=pe.Integers, bounds=(0,None) )\n",
    "model.ContenedoresCamion=pe.Var(model.c,model.t,model.col,model.i, domain=pe.Integers)"
   ]
  },
  {
   "cell_type": "code",
   "execution_count": 28,
   "id": "8aedd595-3e0e-455b-83eb-b29110277101",
   "metadata": {
    "pycharm": {
     "is_executing": true,
     "name": "#%%\n"
    }
   },
   "outputs": [],
   "source": [
    "model.Stock=pe.Var(model.i,model.t, bounds=(0,None))"
   ]
  },
  {
   "cell_type": "code",
   "execution_count": 29,
   "id": "78544ce4-f486-43f6-b950-4b2f91e332e0",
   "metadata": {
    "pycharm": {
     "is_executing": true,
     "name": "#%%\n"
    }
   },
   "outputs": [],
   "source": [
    "model.RetrasoDemanda=pe.Var(model.i,model.t, bounds=(0,None))"
   ]
  },
  {
   "cell_type": "code",
   "execution_count": 30,
   "id": "5d8daad9-835e-4f5e-9f06-8c33b3459648",
   "metadata": {
    "pycharm": {
     "is_executing": true,
     "name": "#%%\n"
    }
   },
   "outputs": [],
   "source": [
    "model.K=pe.Var(model.f,model.c,model.t,model.col ,domain=pe.Integers)"
   ]
  },
  {
   "cell_type": "code",
   "execution_count": 31,
   "id": "9a57ba50-b2eb-4f12-926d-29626c730758",
   "metadata": {
    "pycharm": {
     "is_executing": true,
     "name": "#%%\n"
    }
   },
   "outputs": [],
   "source": [
    "model.Y=pe.Var(model.c,model.t ,domain=pe.Binary, initialize=0)"
   ]
  },
  {
   "cell_type": "code",
   "execution_count": 32,
   "id": "a7e18df4-c807-425e-8357-7d834d601616",
   "metadata": {
    "pycharm": {
     "is_executing": true,
     "name": "#%%\n"
    }
   },
   "outputs": [],
   "source": [
    "model.A=pe.Var(model.c,model.col,model.t, domain=pe.Integers, bounds=(0,4.5))\n",
    "model.B=pe.Var(model.c,model.col, model.t, domain=pe.Integers, bounds=(0,12.5))\n",
    "# model.A=pe.Var(model.c,model.col,model.t, domain=pe.Integers, bounds=(0,13))\n",
    "# model.B=pe.Var(model.c,model.col, model.t, domain=pe.Integers, bounds=(0,13))\n"
   ]
  },
  {
   "cell_type": "markdown",
   "id": "4456c6c3-d50e-42ad-8287-5c26dfdf99af",
   "metadata": {
    "pycharm": {
     "name": "#%% md\n"
    }
   },
   "source": [
    "## Función Objetivo\n",
    "Minimizar el número de camiones usado\n",
    "$$\\sum_{c,t}PC(c)Y(c,t)+ \\sum CS(i)Stock(i,t)$$"
   ]
  },
  {
   "cell_type": "code",
   "execution_count": 33,
   "id": "21e0ac46-c8c0-4d10-921f-5d4fb694b2cd",
   "metadata": {
    "pycharm": {
     "is_executing": true,
     "name": "#%%\n"
    }
   },
   "outputs": [],
   "source": [
    "expr = sum(model.PC[c]*model.Y[c,t] +sum(model.CS[i]*model.Stock[i,t] for i in model.i) for c in model.c for t in model.t)"
   ]
  },
  {
   "cell_type": "code",
   "execution_count": 34,
   "id": "51e5e1fd-4e59-4dd4-89de-7c103381e841",
   "metadata": {
    "pycharm": {
     "is_executing": true,
     "name": "#%%\n"
    }
   },
   "outputs": [],
   "source": [
    " #Coste Transporte\n",
    "model.objective = pe.Objective(sense=pe.minimize, expr=expr)"
   ]
  },
  {
   "cell_type": "markdown",
   "id": "ceb7304e-b5e4-4fd0-b692-5224aaff29fb",
   "metadata": {
    "pycharm": {
     "name": "#%% md\n"
    }
   },
   "source": [
    "## Funciones auxiliares"
   ]
  },
  {
   "cell_type": "code",
   "execution_count": 35,
   "id": "5e708056-8ba4-400c-82a8-9a14cbc7f647",
   "metadata": {
    "pycharm": {
     "is_executing": true,
     "name": "#%%\n"
    }
   },
   "outputs": [],
   "source": [
    "def UsoCamion(model):\n",
    "    return sum(model.L*model.Y[c,t] for c in model.c for t in model.t)-\\\n",
    "        sum(model.ContenedoresCamion[c,t] for c in model.c for t in model.t)"
   ]
  },
  {
   "cell_type": "code",
   "execution_count": 36,
   "id": "2715fc7d-df48-4756-a01f-8f4ba07c26b2",
   "metadata": {
    "pycharm": {
     "is_executing": true,
     "name": "#%%\n"
    }
   },
   "outputs": [],
   "source": [
    "def CTransporte(model):\n",
    "    return sum(model.PC[c]*model.Y[c,t] for c in model.c for t in model.t)"
   ]
  },
  {
   "cell_type": "code",
   "execution_count": 37,
   "id": "165ba238-8b2c-42c3-91ae-5fb67d2187ea",
   "metadata": {
    "pycharm": {
     "is_executing": true,
     "name": "#%%\n"
    }
   },
   "outputs": [],
   "source": [
    "def NumeroCamiones(model):\n",
    "    return sum(model.Y[c,t] for c in model.c for t in model.t)"
   ]
  },
  {
   "cell_type": "markdown",
   "id": "2f88e217-bfde-44aa-807a-172241f861dd",
   "metadata": {
    "pycharm": {
     "name": "#%% md\n"
    }
   },
   "source": [
    "## Restricciones"
   ]
  },
  {
   "cell_type": "code",
   "execution_count": 38,
   "id": "f5a915f0-7814-45c9-b5c1-5dfb41a5f4c3",
   "metadata": {
    "pycharm": {
     "is_executing": true,
     "name": "#%%\n"
    }
   },
   "outputs": [],
   "source": [
    "model.stocks=pe.ConstraintList()"
   ]
  },
  {
   "cell_type": "markdown",
   "id": "4b89345a-c85f-4913-bd1e-5c67cc788f89",
   "metadata": {
    "pycharm": {
     "name": "#%% md\n"
    }
   },
   "source": [
    "$$Stock(i,t)=Stock(i,t-1)+\\sum_{c,col}CantidadPedir(i,c,t,col)PiezasCont[i] -Demanda(i,t)$$"
   ]
  },
  {
   "cell_type": "code",
   "execution_count": 39,
   "id": "82962da3-51e5-41d5-a9f1-36918b46d14c",
   "metadata": {
    "pycharm": {
     "is_executing": true,
     "name": "#%%\n"
    }
   },
   "outputs": [],
   "source": [
    "for i in model.i:\n",
    "        lhs=model.Stock[i,1]\n",
    "        rhs=model.StockInicial[i]-model.demanda[i,1]+sum(model.CantidadPedir[i,c,1,col]*model.PiezasCont[i] for c in model.c for col in model.col )\n",
    "        model.stocks.add(lhs==rhs)"
   ]
  },
  {
   "cell_type": "code",
   "execution_count": 40,
   "id": "173d8196-22f7-4695-8c8a-1922b5c29a23",
   "metadata": {
    "pycharm": {
     "is_executing": true,
     "name": "#%%\n"
    }
   },
   "outputs": [],
   "source": [
    "for t in list(model.t)[1:]:\n",
    "    for i in model.i:\n",
    "            lhs=model.Stock[i,t]\n",
    "            rhs=model.Stock[i,t-1]-model.demanda[i,t]+sum(model.CantidadPedir[i,c,t,col]*model.PiezasCont[i] for c in model.c for col in model.col)\n",
    "            model.stocks.add(lhs==rhs)"
   ]
  },
  {
   "cell_type": "code",
   "execution_count": 41,
   "id": "05d94883-746b-4680-9115-cd65cd7b429f",
   "metadata": {
    "pycharm": {
     "is_executing": true,
     "name": "#%%\n"
    }
   },
   "outputs": [],
   "source": [
    "model.RcantidadPedir=pe.ConstraintList()"
   ]
  },
  {
   "cell_type": "markdown",
   "id": "76278bb1-b6f8-4c6f-9d8f-c983266b00b3",
   "metadata": {
    "pycharm": {
     "name": "#%% md\n"
    }
   },
   "source": [
    "$$CantidadPedir2_{i,f,c,t,col}=K(f,c,t,col)*LotePedido(f)*b(i,f)$$"
   ]
  },
  {
   "cell_type": "code",
   "execution_count": 42,
   "id": "01555077-48bd-4a11-ad7d-256c44725d76",
   "metadata": {
    "pycharm": {
     "is_executing": true,
     "name": "#%%\n"
    }
   },
   "outputs": [],
   "source": [
    "for i in model.i:\n",
    "    for f in model.f:\n",
    "        for c in model.c:\n",
    "            for t in model.t:\n",
    "                for col in model.col:\n",
    "                    lhs=model.CantidadPedir2[i,f,c,t,col]\n",
    "                    rhs=model.K[f,c,t,col]*model.LotePedido[f]*model.b[i,f]\n",
    "                    model.RcantidadPedir.add(lhs==rhs)"
   ]
  },
  {
   "cell_type": "code",
   "execution_count": 43,
   "id": "8e74beb7-51cf-44e2-b5c4-bd406b1526bf",
   "metadata": {
    "pycharm": {
     "is_executing": true,
     "name": "#%%\n"
    }
   },
   "outputs": [],
   "source": [
    "model.RcantidadPedir2=pe.ConstraintList()"
   ]
  },
  {
   "cell_type": "markdown",
   "id": "9542afb7-5195-41b8-a516-b659fd00a74d",
   "metadata": {
    "pycharm": {
     "name": "#%% md\n"
    }
   },
   "source": [
    "$$CantidadPedir_{i,c,t,col}= \\sum_f CanitdadPedir2(i,f,c,t,col)$$"
   ]
  },
  {
   "cell_type": "code",
   "execution_count": 44,
   "id": "90e660c5-19e9-4fb3-824c-6588d1ee577d",
   "metadata": {
    "pycharm": {
     "is_executing": true,
     "name": "#%%\n"
    }
   },
   "outputs": [],
   "source": [
    "for i in model.i:\n",
    "    for c in model.c:\n",
    "        for t in model.t:\n",
    "            for col in model.col:\n",
    "                lhs=model.CantidadPedir[i,c,t,col]\n",
    "                rhs=sum(model.CantidadPedir2[i,f,c,t,col] for f in model.f)\n",
    "                model.RcantidadPedir2.add(lhs==rhs)"
   ]
  },
  {
   "cell_type": "code",
   "execution_count": 45,
   "id": "6bd9b17b-a8c1-496f-8932-beed91d88eb6",
   "metadata": {
    "pycharm": {
     "is_executing": true,
     "name": "#%%\n"
    }
   },
   "outputs": [],
   "source": [
    "model.RDimensionesCamion=pe.ConstraintList()"
   ]
  },
  {
   "cell_type": "markdown",
   "id": "49edeb77-d58e-43d5-a2c9-0b6cdf3fdd1d",
   "metadata": {
    "pycharm": {
     "name": "#%% md\n"
    }
   },
   "source": [
    "$$ 1600A_{c,col,t} +1000B_{c,col,t}   \\leq 13600* Y[c,t]$$"
   ]
  },
  {
   "cell_type": "code",
   "execution_count": 46,
   "id": "13920e0a-7f48-4177-a90a-c0e69e64648f",
   "metadata": {
    "pycharm": {
     "is_executing": true,
     "name": "#%%\n"
    }
   },
   "outputs": [],
   "source": [
    "for c in model.c:\n",
    "    for t in model.t:\n",
    "        for col in model.col:\n",
    "            lhs=13600*model.Y[c,t]\n",
    "            rhs=(model.A[c,col,t]*1600+model.B[c,col,t]*1000)\n",
    "            model.RDimensionesCamion.add(lhs>=rhs)"
   ]
  },
  {
   "cell_type": "code",
   "execution_count": 47,
   "id": "e327728c-f509-4340-b66c-19a743ee6d17",
   "metadata": {
    "pycharm": {
     "is_executing": true,
     "name": "#%%\n"
    }
   },
   "outputs": [],
   "source": [
    "model.RCajasTotales=pe.ConstraintList()"
   ]
  },
  {
   "cell_type": "markdown",
   "id": "15485314-f64b-4db9-841f-a3743ffd1afa",
   "metadata": {
    "pycharm": {
     "name": "#%% md\n"
    }
   },
   "source": [
    "$$ \\forall c \\in C \\quad \\forall t \\in T \\quad \\sum_i CantidadPedir(i,c,t,col) \\leq A_{c,col,t}*4+B_{c,col,t}*3 $$"
   ]
  },
  {
   "cell_type": "code",
   "execution_count": 48,
   "id": "c9cf7adb-6b4c-4f0f-8ecd-65e881651242",
   "metadata": {
    "pycharm": {
     "is_executing": true,
     "name": "#%%\n"
    }
   },
   "outputs": [],
   "source": [
    "for c in model.c:\n",
    "    for t in model.t:\n",
    "        for col in model.col:\n",
    "            lhs=sum(model.CantidadPedir[i,c,t,col] for i in model.i)\n",
    "            rhs=(model.A[c,col,t]*4+model.B[c,col,t]*3)\n",
    "            model.RCajasTotales.add(lhs<=rhs)"
   ]
  },
  {
   "cell_type": "code",
   "execution_count": 49,
   "id": "2c10fa4c-7e07-4358-83c4-07f0b542553a",
   "metadata": {
    "pycharm": {
     "is_executing": true,
     "name": "#%%\n"
    }
   },
   "outputs": [],
   "source": [
    "model.RCajasTipoA=pe.ConstraintList()"
   ]
  },
  {
   "cell_type": "markdown",
   "id": "07829fb9-7383-47e0-a0c5-21ab6d8775f0",
   "metadata": {
    "pycharm": {
     "name": "#%% md\n"
    }
   },
   "source": [
    "$$ \\sum_i CantidadPedir(i,c,t,col)_{tipo a}\\leq A_{c,col,t}*4 $$"
   ]
  },
  {
   "cell_type": "code",
   "execution_count": 50,
   "id": "f45ddf77-3df3-4a21-9ddd-d19d0f80f87d",
   "metadata": {
    "pycharm": {
     "is_executing": true,
     "name": "#%%\n"
    }
   },
   "outputs": [],
   "source": [
    "for c in model.c:\n",
    "    for t in model.t:\n",
    "        for col in model.col:\n",
    "            lhs=sum(model.CantidadPedir[i,c,t,col]*float(int(model.LargoCont[i])==int(1600)) for i in model.i)\n",
    "            rhs=model.A[c,col,t]*4\n",
    "            model.RCajasTipoA.add(lhs<=rhs)"
   ]
  },
  {
   "cell_type": "markdown",
   "id": "91a229c8-6626-4e2f-bd4b-cad3ae48064a",
   "metadata": {
    "pycharm": {
     "name": "#%% md\n"
    }
   },
   "source": [
    "$$ \\sum_i CantidadPedir(i,c,t,col)_{tipo b}\\leq B_{c,col,t}*3 $$"
   ]
  },
  {
   "cell_type": "code",
   "execution_count": 51,
   "id": "7074250a-752b-44e4-a9d3-efa4947a1d8b",
   "metadata": {
    "pycharm": {
     "is_executing": true,
     "name": "#%%\n"
    }
   },
   "outputs": [],
   "source": [
    "model.RCajasTipoB=pe.ConstraintList()"
   ]
  },
  {
   "cell_type": "code",
   "execution_count": 52,
   "id": "7a45175a-b1db-4ab3-a1bd-c7e61ba29d53",
   "metadata": {
    "pycharm": {
     "is_executing": true,
     "name": "#%%\n"
    }
   },
   "outputs": [],
   "source": [
    "for c in model.c:\n",
    "    for t in model.t:\n",
    "        for col in model.col:\n",
    "            lhs=sum(model.CantidadPedir[i,c,t,col]*float(int(model.LargoCont[i])==int(1000)) for i in model.i)\n",
    "            rhs=model.B[c,col,t]*3\n",
    "            model.RCajasTipoB.add(lhs<=rhs)"
   ]
  },
  {
   "cell_type": "code",
   "execution_count": 53,
   "id": "3ce80f52-a70f-44f1-9450-8b107da3d016",
   "metadata": {
    "pycharm": {
     "is_executing": true,
     "name": "#%%\n"
    }
   },
   "outputs": [],
   "source": [
    "model.RColumnasCamion=pe.ConstraintList()\n",
    "for c in model.c:\n",
    "    for t in model.t:\n",
    "         model.RColumnasCamion.add(model.A[c,2,t]== model.A[c,1,t])\n",
    "         model.RColumnasCamion.add(model.B[c,2,t]== model.B[c,1,t])\n"
   ]
  },
  {
   "cell_type": "markdown",
   "id": "eccb5776-ffeb-4f3c-99ba-1cdc92305b41",
   "metadata": {
    "pycharm": {
     "name": "#%% md\n"
    }
   },
   "source": [
    "$$\\forall i,t  \\quad Stock[i,t]\\geq \\sum_{j \\in [1,2,3,4]} Demanda[i,t+j]$$"
   ]
  },
  {
   "cell_type": "code",
   "execution_count": 54,
   "id": "fdae8c93-f5a9-4aa4-b772-2974f089f8cd",
   "metadata": {
    "pycharm": {
     "is_executing": true,
     "name": "#%%\n"
    }
   },
   "outputs": [],
   "source": [
    "model.RCobertura=pe.ConstraintList()\n",
    "l=list(range(25))\n",
    "for i in model.i:\n",
    "    for t in range(1,7):\n",
    "        lhs=model.Stock[i,t]\n",
    "        #rhs=(model.demanda[i,t+1]+model.demanda[i,t+2]+model.demanda[i,t+3])\n",
    "        rhs=0\n",
    "\n",
    "        model.RCobertura.add(lhs>=rhs)\n",
    "        l[i]=rhs\n",
    "for i in model.i:\n",
    "    for t in range(7,10):\n",
    "        lhs=model.Stock[i,t]\n",
    "        \n",
    "        #rhs=l[i]\n",
    "        rhs=0\n",
    "\n",
    "        model.RCobertura.add(lhs>=rhs)\n"
   ]
  },
  {
   "cell_type": "code",
   "execution_count": 55,
   "id": "be1605c4-f93a-4920-96de-8c0db9aaddb6",
   "metadata": {
    "pycharm": {
     "is_executing": true,
     "name": "#%%\n"
    }
   },
   "outputs": [],
   "source": [
    "model.RCVolumenminimo=pe.ConstraintList()"
   ]
  },
  {
   "cell_type": "code",
   "execution_count": 56,
   "id": "d3f17974-c071-4227-8a9b-86f94d414ce4",
   "metadata": {
    "pycharm": {
     "is_executing": true,
     "name": "#%%\n"
    }
   },
   "outputs": [],
   "source": [
    "for t in model.t:\n",
    "    for c in model.c:\n",
    "        lhs=(sum(model.CantidadPedir[i,c,t,col] for i in model.i for col in model.col if int(model.LargoCont[i])==int(1600))*750*1200*1600+\n",
    "                                     +(sum(model.CantidadPedir[i,c,t,col] for i in model.i for col in model.col if int(model.LargoCont[i])==int(1000)))*1000*1000*1200)/(3000*2400*13600)\n",
    "        rhs=0.98*model.Y[c,t]\n",
    "        model.RCVolumenminimo.add(lhs >= rhs)"
   ]
  },
  {
   "cell_type": "code",
   "execution_count": 57,
   "id": "9355d322-e790-4a34-aeda-8c028dc594d1",
   "metadata": {
    "pycharm": {
     "is_executing": true,
     "name": "#%%\n"
    }
   },
   "outputs": [],
   "source": [
    "model.bounds=pe.ConstraintList()\n",
    "for i in model.i:\n",
    "    for t in model.t:\n",
    "        model.bounds.add(model.Stock[i,t]>=0)\n"
   ]
  },
  {
   "cell_type": "code",
   "execution_count": 58,
   "id": "e954eeff-bab1-4415-b601-7a7679b6bcc0",
   "metadata": {
    "pycharm": {
     "is_executing": true,
     "name": "#%%\n"
    },
    "tags": []
   },
   "outputs": [
    {
     "name": "stdout",
     "output_type": "stream",
     "text": [
      "Welcome to the CBC MILP Solver \n",
      "Version: 2.10.5 \n",
      "Build Date: Nov 24 2021 \n",
      "\n",
      "command line - C:\\Users\\jmormal\\Downloads\\cbc-win64\\cbc.exe -seconds 600 -printingOptions all -import C:\\Users\\jmormal\\AppData\\Local\\Temp\\13\\tmp7a9r8f5y.pyomo.lp -stat=1 -solve -solu C:\\Users\\jmormal\\AppData\\Local\\Temp\\13\\tmp7a9r8f5y.pyomo.soln (default strategy 1)\n",
      "seconds was changed from 1e+100 to 600\n",
      "Option for printingOptions changed from normal to all\n",
      "Presolve is modifying 108 integer bounds and re-presolving\n",
      "Presolve 450 (-847) rows, 396 (-757) columns and 1546 (-1711) elements\n",
      "Statistics for presolved model\n",
      "Original problem has 1134 integers (54 of which binary)\n",
      "Presolved problem has 378 integers (54 of which binary)\n",
      "==== 324 zero objective 3 different\n",
      "324 variables have objective of 0\n",
      "18 variables have objective of 0.06\n",
      "54 variables have objective of 1000\n",
      "==== absolute objective values 3 different\n",
      "324 variables have objective of 0\n",
      "18 variables have objective of 0.06\n",
      "54 variables have objective of 1000\n",
      "==== for integers 324 zero objective 2 different\n",
      "324 variables have objective of 0\n",
      "54 variables have objective of 1000\n",
      "==== for integers absolute objective values 2 different\n",
      "324 variables have objective of 0\n",
      "54 variables have objective of 1000\n",
      "===== end objective counts\n",
      "\n",
      "\n",
      "Problem has 450 rows, 396 columns (72 with objective) and 1546 elements\n",
      "There are 2 singletons with objective \n",
      "Column breakdown:\n",
      "234 of type 0.0->inf, 108 of type 0.0->up, 0 of type lo->inf, \n",
      "0 of type lo->up, 0 of type free, 0 of type fixed, \n",
      "0 of type -inf->0.0, 0 of type -inf->up, 54 of type 0.0->1.0 \n",
      "Row breakdown:\n",
      "0 of type E 0.0, 0 of type E 1.0, 0 of type E -1.0, \n",
      "18 of type E other, 0 of type G 0.0, 0 of type G 1.0, \n",
      "0 of type G other, 432 of type L 0.0, 0 of type L 1.0, \n",
      "0 of type L other, 0 of type Range 0.0->1.0, 0 of type Range other, \n",
      "0 of type Free \n",
      "Continuous objective value is 20676.5 - 0.01 seconds\n",
      "Cgl0003I 0 fixed, 18 tightened bounds, 0 strengthened rows, 0 substitutions\n",
      "Cgl0004I processed model has 450 rows, 396 columns (378 integer (54 of which binary)) and 1546 elements\n",
      "Cutoff increment increased from 1e-05 to 0.01998\n",
      "Cbc0031I 50 added rows had average density of 126.08\n",
      "Cbc0013I At root node, 50 cuts changed objective from 20676.471 to 20684.375 in 100 passes\n",
      "Cbc0014I Cut generator 0 (Probing) - 2133 row cuts average 2.0 elements, 0 column cuts (4 active)  in 0.213 seconds - new frequency is 1\n",
      "Cbc0014I Cut generator 1 (Gomory) - 3605 row cuts average 163.6 elements, 0 column cuts (0 active)  in 0.813 seconds - new frequency is 1\n",
      "Cbc0014I Cut generator 2 (Knapsack) - 0 row cuts average 0.0 elements, 0 column cuts (0 active)  in 0.086 seconds - new frequency is -100\n",
      "Cbc0014I Cut generator 3 (Clique) - 0 row cuts average 0.0 elements, 0 column cuts (0 active)  in 0.001 seconds - new frequency is -100\n",
      "Cbc0014I Cut generator 4 (MixedIntegerRounding2) - 228 row cuts average 2.4 elements, 0 column cuts (0 active)  in 1.038 seconds - new frequency is -100\n",
      "Cbc0014I Cut generator 5 (FlowCover) - 4 row cuts average 4.0 elements, 0 column cuts (0 active)  in 0.213 seconds - new frequency is -100\n",
      "Cbc0014I Cut generator 6 (TwoMirCuts) - 983 row cuts average 19.8 elements, 0 column cuts (0 active)  in 0.178 seconds - new frequency is -100\n",
      "Cbc0010I After 0 nodes, 1 on tree, 1e+50 best solution, best possible 20684.375 (4.37 seconds)\n",
      "Cbc0010I After 1000 nodes, 440 on tree, 1e+50 best solution, best possible 20684.375 (12.25 seconds)\n",
      "Cbc0004I Integer solution of 22048.54 found after 60402 iterations and 1084 nodes (13.03 seconds)\n",
      "Cbc0038I Full problem 450 rows 396 columns, reduced to 78 rows 80 columns\n",
      "Cbc0038I Full problem 450 rows 396 columns, reduced to 78 rows 80 columns\n",
      "Cbc0038I Full problem 450 rows 396 columns, reduced to 86 rows 87 columns\n",
      "Cbc0038I Full problem 450 rows 396 columns, reduced to 90 rows 89 columns\n",
      "Cbc0038I Full problem 450 rows 396 columns, reduced to 61 rows 64 columns\n",
      "Cbc0038I Full problem 450 rows 396 columns, reduced to 73 rows 77 columns\n",
      "Cbc0038I Full problem 450 rows 396 columns, reduced to 90 rows 89 columns\n",
      "Cbc0038I Full problem 450 rows 396 columns, reduced to 86 rows 86 columns\n",
      "Cbc0038I Full problem 450 rows 396 columns, reduced to 231 rows 207 columns - 6 fixed gives 226, 198 - still too large\n",
      "Cbc0038I Full problem 450 rows 396 columns, reduced to 225 rows 198 columns\n",
      "Cbc0038I Full problem 450 rows 396 columns, reduced to 240 rows 214 columns - 5 fixed gives 240, 209 - still too large\n",
      "Cbc0038I Full problem 450 rows 396 columns, reduced to 239 rows 209 columns - too large\n",
      "Cbc0010I After 2000 nodes, 822 on tree, 22048.54 best solution, best possible 20684.375 (18.67 seconds)\n",
      "Cbc0038I Full problem 450 rows 396 columns, reduced to 216 rows 195 columns\n",
      "Cbc0038I Full problem 450 rows 396 columns, reduced to 61 rows 66 columns\n",
      "Cbc0010I After 3000 nodes, 1229 on tree, 22048.54 best solution, best possible 20684.375 (24.33 seconds)\n",
      "Cbc0038I Full problem 450 rows 396 columns, reduced to 104 rows 102 columns\n",
      "Cbc0010I After 4000 nodes, 1666 on tree, 22048.54 best solution, best possible 20684.375 (30.57 seconds)\n",
      "Cbc0038I Full problem 450 rows 396 columns, reduced to 87 rows 85 columns\n",
      "Cbc0038I Full problem 450 rows 396 columns, reduced to 216 rows 193 columns\n",
      "Cbc0010I After 5000 nodes, 2097 on tree, 22048.54 best solution, best possible 20684.375 (35.75 seconds)\n",
      "Cbc0016I Integer solution of 21055.98 found by strong branching after 268978 iterations and 5203 nodes (36.29 seconds)\n",
      "Cbc0038I Full problem 450 rows 396 columns, reduced to 268 rows 237 columns - 13 fixed gives 263, 221 - still too large\n",
      "Cbc0038I Full problem 450 rows 396 columns, reduced to 263 rows 221 columns - too large\n",
      "Cbc0038I Full problem 450 rows 396 columns, reduced to 267 rows 235 columns - 12 fixed gives 267, 223 - still too large\n",
      "Cbc0038I Full problem 450 rows 396 columns, reduced to 266 rows 222 columns - too large\n",
      "Cbc0010I After 6000 nodes, 1482 on tree, 21055.98 best solution, best possible 20684.375 (40.64 seconds)\n",
      "Cbc0010I After 7000 nodes, 1881 on tree, 21055.98 best solution, best possible 20684.375 (46.31 seconds)\n",
      "Cbc0038I Full problem 450 rows 396 columns, reduced to 258 rows 226 columns - 11 fixed gives 258, 215 - still too large\n",
      "Cbc0038I Full problem 450 rows 396 columns, reduced to 258 rows 215 columns - too large\n",
      "Cbc0010I After 8000 nodes, 2317 on tree, 21055.98 best solution, best possible 20684.375 (51.03 seconds)\n",
      "Cbc0038I Full problem 450 rows 396 columns, reduced to 69 rows 75 columns\n",
      "Cbc0038I Full problem 450 rows 396 columns, reduced to 69 rows 75 columns\n",
      "Cbc0010I After 9000 nodes, 2733 on tree, 21055.98 best solution, best possible 20684.375 (54.52 seconds)\n",
      "Cbc0016I Integer solution of 21052.74 found by strong branching after 426305 iterations and 9237 nodes (55.17 seconds)\n",
      "Cbc0010I After 10000 nodes, 2781 on tree, 21052.74 best solution, best possible 20684.375 (58.75 seconds)\n",
      "Cbc0038I Full problem 450 rows 396 columns, reduced to 266 rows 236 columns - 1 fixed gives 266, 235 - still too large\n",
      "Cbc0038I Full problem 450 rows 396 columns, reduced to 266 rows 235 columns - too large\n",
      "Cbc0010I After 11000 nodes, 3060 on tree, 21052.74 best solution, best possible 20684.375 (62.09 seconds)\n",
      "Cbc0012I Integer solution of 21044.22 found by DiveCoefficient after 493279 iterations and 11010 nodes (63.15 seconds)\n",
      "Cbc0010I After 12000 nodes, 2621 on tree, 21044.22 best solution, best possible 20684.375 (67.65 seconds)\n",
      "Cbc0010I After 13000 nodes, 3054 on tree, 21044.22 best solution, best possible 20684.377 (79.47 seconds)\n",
      "Cbc0004I Integer solution of 21041.82 found after 547217 iterations and 13063 nodes (79.77 seconds)\n",
      "Cbc0010I After 14000 nodes, 3091 on tree, 21041.82 best solution, best possible 20684.377 (82.88 seconds)\n",
      "Cbc0038I Full problem 450 rows 396 columns, reduced to 246 rows 216 columns - 1 fixed gives 246, 215 - still too large\n",
      "Cbc0038I Full problem 450 rows 396 columns, reduced to 242 rows 211 columns - too large\n",
      "Cbc0012I Integer solution of 21035.82 found by DiveCoefficient after 593266 iterations and 14962 nodes (92.42 seconds)\n",
      "Cbc0010I After 15000 nodes, 2906 on tree, 21035.82 best solution, best possible 20684.377 (92.52 seconds)\n",
      "Cbc0010I After 16000 nodes, 3327 on tree, 21035.82 best solution, best possible 20684.38 (100.38 seconds)\n",
      "Cbc0010I After 17000 nodes, 3774 on tree, 21035.82 best solution, best possible 20684.382 (107.77 seconds)\n",
      "Cbc0038I Full problem 450 rows 396 columns, reduced to 266 rows 236 columns - 1 fixed gives 266, 235 - still too large\n",
      "Cbc0038I Full problem 450 rows 396 columns, reduced to 266 rows 235 columns - too large\n",
      "Cbc0010I After 18000 nodes, 3819 on tree, 21035.82 best solution, best possible 20684.382 (110.45 seconds)\n",
      "Cbc0010I After 19000 nodes, 4272 on tree, 21035.82 best solution, best possible 20684.382 (119.32 seconds)\n",
      "Cbc0010I After 20000 nodes, 4706 on tree, 21035.82 best solution, best possible 20684.383 (125.27 seconds)\n",
      "Cbc0010I After 21000 nodes, 5141 on tree, 21035.82 best solution, best possible 20684.383 (133.41 seconds)\n",
      "Cbc0004I Integer solution of 21030.06 found after 708907 iterations and 21154 nodes (133.92 seconds)\n",
      "Cbc0038I Full problem 450 rows 396 columns, reduced to 216 rows 188 columns\n",
      "Cbc0010I After 22000 nodes, 4954 on tree, 21030.06 best solution, best possible 20684.383 (136.73 seconds)\n",
      "Cbc0010I After 23000 nodes, 5430 on tree, 21030.06 best solution, best possible 20684.384 (145.25 seconds)\n",
      "Cbc0010I After 24000 nodes, 5883 on tree, 21030.06 best solution, best possible 20684.385 (152.36 seconds)\n",
      "Cbc0010I After 25000 nodes, 6326 on tree, 21030.06 best solution, best possible 20684.385 (161.37 seconds)\n",
      "Cbc0010I After 26000 nodes, 6356 on tree, 21030.06 best solution, best possible 20684.385 (164.52 seconds)\n",
      "Cbc0010I After 27000 nodes, 6817 on tree, 21030.06 best solution, best possible 20684.386 (173.10 seconds)\n",
      "Cbc0010I After 28000 nodes, 7242 on tree, 21030.06 best solution, best possible 20684.388 (180.08 seconds)\n",
      "Cbc0038I Full problem 450 rows 396 columns, reduced to 235 rows 206 columns - 1 fixed gives 235, 205 - still too large\n",
      "Cbc0038I Full problem 450 rows 396 columns, reduced to 235 rows 205 columns - too large\n",
      "Cbc0010I After 29000 nodes, 7672 on tree, 21030.06 best solution, best possible 20684.389 (185.80 seconds)\n",
      "Cbc0012I Integer solution of 21023.16 found by rounding after 880860 iterations and 29043 nodes (185.93 seconds)\n",
      "Cbc0010I After 30000 nodes, 7603 on tree, 21023.16 best solution, best possible 20684.389 (188.68 seconds)\n",
      "Cbc0010I After 31000 nodes, 8051 on tree, 21023.16 best solution, best possible 20684.39 (195.85 seconds)\n",
      "Cbc0010I After 32000 nodes, 8492 on tree, 21023.16 best solution, best possible 20684.391 (205.05 seconds)\n",
      "Cbc0038I Full problem 450 rows 396 columns, reduced to 282 rows 247 columns - 1 fixed gives 282, 246 - still too large\n",
      "Cbc0038I Full problem 450 rows 396 columns, reduced to 274 rows 238 columns - too large\n",
      "Cbc0010I After 33000 nodes, 8939 on tree, 21023.16 best solution, best possible 20684.391 (211.99 seconds)\n",
      "Cbc0010I After 34000 nodes, 8975 on tree, 21023.16 best solution, best possible 20684.391 (214.89 seconds)\n",
      "Cbc0010I After 35000 nodes, 9417 on tree, 21023.16 best solution, best possible 20684.392 (221.96 seconds)\n",
      "Cbc0010I After 36000 nodes, 9861 on tree, 21023.16 best solution, best possible 20684.393 (229.77 seconds)\n",
      "Cbc0010I After 37000 nodes, 10310 on tree, 21023.16 best solution, best possible 20684.393 (237.56 seconds)\n",
      "Cbc0010I After 38000 nodes, 10335 on tree, 21023.16 best solution, best possible 20684.393 (240.34 seconds)\n",
      "Cbc0010I After 39000 nodes, 10768 on tree, 21023.16 best solution, best possible 20684.393 (243.09 seconds)\n",
      "Cbc0038I Full problem 450 rows 396 columns, reduced to 191 rows 169 columns\n",
      "Cbc0010I After 40000 nodes, 11028 on tree, 21023.16 best solution, best possible 20684.393 (246.80 seconds)\n",
      "Cbc0010I After 41000 nodes, 10782 on tree, 21023.16 best solution, best possible 20684.393 (249.12 seconds)\n",
      "Cbc0010I After 42000 nodes, 10811 on tree, 21023.16 best solution, best possible 20684.393 (252.35 seconds)\n",
      "Cbc0010I After 43000 nodes, 11154 on tree, 21023.16 best solution, best possible 20684.393 (256.52 seconds)\n",
      "Cbc0038I Full problem 450 rows 396 columns, reduced to 150 rows 134 columns\n"
     ]
    },
    {
     "name": "stdout",
     "output_type": "stream",
     "text": [
      "Cbc0010I After 44000 nodes, 11521 on tree, 21023.16 best solution, best possible 20684.393 (259.00 seconds)\n",
      "Cbc0004I Integer solution of 21018.6 found after 1155929 iterations and 44487 nodes (260.88 seconds)\n",
      "Cbc0010I After 45000 nodes, 11516 on tree, 21018.6 best solution, best possible 20684.393 (262.87 seconds)\n",
      "Cbc0010I After 46000 nodes, 11545 on tree, 21018.6 best solution, best possible 20684.393 (267.68 seconds)\n",
      "Cbc0038I Full problem 450 rows 396 columns, reduced to 241 rows 213 columns - 2 fixed gives 241, 211 - still too large\n",
      "Cbc0038I Full problem 450 rows 396 columns, reduced to 241 rows 211 columns - too large\n",
      "Cbc0010I After 47000 nodes, 11807 on tree, 21018.6 best solution, best possible 20684.393 (271.14 seconds)\n",
      "Cbc0010I After 48000 nodes, 12024 on tree, 21018.6 best solution, best possible 20684.393 (273.60 seconds)\n",
      "Cbc0010I After 49000 nodes, 11824 on tree, 21018.6 best solution, best possible 20684.393 (276.81 seconds)\n",
      "Cbc0010I After 50000 nodes, 11853 on tree, 21018.6 best solution, best possible 20684.393 (281.19 seconds)\n",
      "Cbc0010I After 51000 nodes, 12054 on tree, 21018.6 best solution, best possible 20684.393 (284.11 seconds)\n",
      "Cbc0010I After 52000 nodes, 12200 on tree, 21018.6 best solution, best possible 20684.393 (287.33 seconds)\n",
      "Cbc0010I After 53000 nodes, 12227 on tree, 21018.6 best solution, best possible 20684.393 (291.17 seconds)\n",
      "Cbc0038I Full problem 450 rows 396 columns, reduced to 250 rows 220 columns - 1 fixed gives 250, 219 - still too large\n",
      "Cbc0038I Full problem 450 rows 396 columns, reduced to 250 rows 219 columns - too large\n",
      "Cbc0010I After 54000 nodes, 12261 on tree, 21018.6 best solution, best possible 20684.393 (294.77 seconds)\n",
      "Cbc0010I After 55000 nodes, 12546 on tree, 21018.6 best solution, best possible 20684.393 (298.12 seconds)\n",
      "Cbc0010I After 56000 nodes, 12799 on tree, 21018.6 best solution, best possible 20684.393 (301.40 seconds)\n",
      "Cbc0010I After 57000 nodes, 12787 on tree, 21018.6 best solution, best possible 20684.393 (304.84 seconds)\n",
      "Cbc0010I After 58000 nodes, 12817 on tree, 21018.6 best solution, best possible 20684.393 (308.60 seconds)\n",
      "Cbc0010I After 59000 nodes, 13002 on tree, 21018.6 best solution, best possible 20684.393 (311.65 seconds)\n",
      "Cbc0010I After 60000 nodes, 13260 on tree, 21018.6 best solution, best possible 20684.393 (314.22 seconds)\n",
      "Cbc0010I After 61000 nodes, 13256 on tree, 21018.6 best solution, best possible 20684.393 (318.50 seconds)\n",
      "Cbc0010I After 62000 nodes, 13294 on tree, 21018.6 best solution, best possible 20684.393 (322.21 seconds)\n",
      "Cbc0010I After 63000 nodes, 13536 on tree, 21018.6 best solution, best possible 20684.393 (325.88 seconds)\n",
      "Cbc0010I After 64000 nodes, 13739 on tree, 21018.6 best solution, best possible 20684.393 (330.70 seconds)\n",
      "Cbc0010I After 65000 nodes, 13555 on tree, 21018.6 best solution, best possible 20684.393 (336.01 seconds)\n",
      "Cbc0010I After 66000 nodes, 13585 on tree, 21018.6 best solution, best possible 20684.393 (339.05 seconds)\n",
      "Cbc0010I After 67000 nodes, 13731 on tree, 21018.6 best solution, best possible 20684.393 (342.55 seconds)\n",
      "Cbc0010I After 68000 nodes, 13838 on tree, 21018.6 best solution, best possible 20684.393 (346.64 seconds)\n",
      "Cbc0010I After 69000 nodes, 13740 on tree, 21018.6 best solution, best possible 20684.393 (350.95 seconds)\n",
      "Cbc0010I After 70000 nodes, 13772 on tree, 21018.6 best solution, best possible 20684.393 (353.44 seconds)\n",
      "Cbc0010I After 71000 nodes, 13832 on tree, 21018.6 best solution, best possible 20684.393 (358.05 seconds)\n",
      "Cbc0010I After 72000 nodes, 13865 on tree, 21018.6 best solution, best possible 20684.393 (361.45 seconds)\n",
      "Cbc0010I After 73000 nodes, 13724 on tree, 21018.6 best solution, best possible 20684.393 (366.70 seconds)\n",
      "Cbc0010I After 74000 nodes, 13753 on tree, 21018.6 best solution, best possible 20684.393 (371.68 seconds)\n",
      "Cbc0010I After 75000 nodes, 13881 on tree, 21018.6 best solution, best possible 20684.393 (374.62 seconds)\n",
      "Cbc0010I After 76000 nodes, 14248 on tree, 21018.6 best solution, best possible 20684.393 (377.79 seconds)\n",
      "Cbc0010I After 77000 nodes, 14537 on tree, 21018.6 best solution, best possible 20684.393 (382.54 seconds)\n",
      "Cbc0010I After 78000 nodes, 14557 on tree, 21018.6 best solution, best possible 20684.393 (386.79 seconds)\n",
      "Cbc0010I After 79000 nodes, 14931 on tree, 21018.6 best solution, best possible 20684.393 (391.17 seconds)\n",
      "Cbc0010I After 80000 nodes, 15175 on tree, 21018.6 best solution, best possible 20684.393 (394.74 seconds)\n",
      "Cbc0010I After 81000 nodes, 15421 on tree, 21018.6 best solution, best possible 20684.393 (398.41 seconds)\n",
      "Cbc0010I After 82000 nodes, 15457 on tree, 21018.6 best solution, best possible 20684.393 (401.37 seconds)\n",
      "Cbc0010I After 83000 nodes, 15654 on tree, 21018.6 best solution, best possible 20684.393 (404.43 seconds)\n",
      "Cbc0010I After 84000 nodes, 16034 on tree, 21018.6 best solution, best possible 20684.393 (407.86 seconds)\n",
      "Cbc0010I After 85000 nodes, 16269 on tree, 21018.6 best solution, best possible 20684.393 (411.23 seconds)\n",
      "Cbc0010I After 86000 nodes, 16296 on tree, 21018.6 best solution, best possible 20684.393 (414.83 seconds)\n",
      "Cbc0010I After 87000 nodes, 16554 on tree, 21018.6 best solution, best possible 20684.393 (419.60 seconds)\n",
      "Cbc0010I After 88000 nodes, 16805 on tree, 21018.6 best solution, best possible 20684.393 (425.31 seconds)\n",
      "Cbc0010I After 89000 nodes, 16946 on tree, 21018.6 best solution, best possible 20684.393 (429.44 seconds)\n",
      "Cbc0010I After 90000 nodes, 16979 on tree, 21018.6 best solution, best possible 20684.393 (432.14 seconds)\n",
      "Cbc0010I After 91000 nodes, 17181 on tree, 21018.6 best solution, best possible 20684.393 (435.33 seconds)\n",
      "Cbc0010I After 92000 nodes, 17374 on tree, 21018.6 best solution, best possible 20684.393 (438.96 seconds)\n",
      "Cbc0010I After 93000 nodes, 17325 on tree, 21018.6 best solution, best possible 20684.393 (443.32 seconds)\n",
      "Cbc0010I After 94000 nodes, 17354 on tree, 21018.6 best solution, best possible 20684.393 (446.11 seconds)\n",
      "Cbc0010I After 95000 nodes, 17528 on tree, 21018.6 best solution, best possible 20684.393 (450.49 seconds)\n",
      "Cbc0010I After 96000 nodes, 17834 on tree, 21018.6 best solution, best possible 20684.393 (453.22 seconds)\n",
      "Cbc0010I After 97000 nodes, 17879 on tree, 21018.6 best solution, best possible 20684.393 (458.80 seconds)\n",
      "Cbc0038I Full problem 450 rows 396 columns, reduced to 242 rows 211 columns - 2 fixed gives 242, 209 - still too large\n",
      "Cbc0038I Full problem 450 rows 396 columns, reduced to 242 rows 209 columns - too large\n",
      "Cbc0010I After 98000 nodes, 17914 on tree, 21018.6 best solution, best possible 20684.393 (463.17 seconds)\n",
      "Cbc0010I After 99000 nodes, 18105 on tree, 21018.6 best solution, best possible 20684.393 (466.91 seconds)\n",
      "Cbc0010I After 100000 nodes, 18333 on tree, 21018.6 best solution, best possible 20684.393 (470.65 seconds)\n",
      "Cbc0010I After 101000 nodes, 18295 on tree, 21018.6 best solution, best possible 20684.393 (475.94 seconds)\n",
      "Cbc0010I After 102000 nodes, 18770 on tree, 21018.6 best solution, best possible 20684.394 (485.03 seconds)\n",
      "Cbc0010I After 103000 nodes, 18764 on tree, 21018.6 best solution, best possible 20684.394 (489.34 seconds)\n",
      "Cbc0010I After 104000 nodes, 18951 on tree, 21018.6 best solution, best possible 20684.394 (493.35 seconds)\n",
      "Cbc0010I After 105000 nodes, 18845 on tree, 21018.6 best solution, best possible 20684.394 (498.60 seconds)\n",
      "Cbc0010I After 106000 nodes, 19308 on tree, 21018.6 best solution, best possible 20684.395 (508.72 seconds)\n",
      "Cbc0010I After 107000 nodes, 19515 on tree, 21018.6 best solution, best possible 20684.395 (512.38 seconds)\n",
      "Cbc0038I Full problem 450 rows 396 columns, reduced to 159 rows 142 columns\n",
      "Cbc0010I After 108000 nodes, 19737 on tree, 21018.6 best solution, best possible 20684.395 (514.98 seconds)\n",
      "Cbc0010I After 109000 nodes, 19451 on tree, 21018.6 best solution, best possible 20684.395 (519.17 seconds)\n",
      "Cbc0010I After 110000 nodes, 19928 on tree, 21018.6 best solution, best possible 20684.396 (528.94 seconds)\n",
      "Cbc0010I After 111000 nodes, 20118 on tree, 21018.6 best solution, best possible 20684.396 (532.32 seconds)\n",
      "Cbc0010I After 112000 nodes, 20399 on tree, 21018.6 best solution, best possible 20684.396 (535.61 seconds)\n"
     ]
    },
    {
     "name": "stdout",
     "output_type": "stream",
     "text": [
      "Cbc0010I After 113000 nodes, 20333 on tree, 21018.6 best solution, best possible 20684.396 (540.45 seconds)\n",
      "Cbc0010I After 114000 nodes, 20788 on tree, 21018.6 best solution, best possible 20684.397 (550.49 seconds)\n",
      "Cbc0010I After 115000 nodes, 21031 on tree, 21018.6 best solution, best possible 20684.397 (554.16 seconds)\n",
      "Cbc0010I After 116000 nodes, 21264 on tree, 21018.6 best solution, best possible 20684.397 (558.68 seconds)\n",
      "Cbc0010I After 117000 nodes, 21241 on tree, 21018.6 best solution, best possible 20684.397 (564.37 seconds)\n",
      "Cbc0010I After 118000 nodes, 21682 on tree, 21018.6 best solution, best possible 20684.398 (572.89 seconds)\n",
      "Cbc0010I After 119000 nodes, 21960 on tree, 21018.6 best solution, best possible 20684.398 (578.42 seconds)\n",
      "Cbc0010I After 120000 nodes, 22148 on tree, 21018.6 best solution, best possible 20684.398 (582.78 seconds)\n",
      "Cbc0010I After 121000 nodes, 22101 on tree, 21018.6 best solution, best possible 20684.398 (589.49 seconds)\n",
      "Cbc0020I Exiting on maximum time\n",
      "Cbc0005I Partial search - best objective 21018.6 (best possible 20684.398), took 2673000 iterations and 121911 nodes (600.79 seconds)\n",
      "Cbc0032I Strong branching done 74160 times (805829 iterations), fathomed 4355 nodes and fixed 11654 variables\n",
      "Cbc0035I Maximum depth 108, 8357 variables fixed on reduced cost\n",
      "Cuts at root node changed objective from 20676.5 to 20684.4\n",
      "Probing was tried 44627 times and created 161712 cuts of which 4 were active after adding rounds of cuts (14.414 seconds)\n",
      "Gomory was tried 37929 times and created 133372 cuts of which 0 were active after adding rounds of cuts (46.354 seconds)\n",
      "Knapsack was tried 100 times and created 0 cuts of which 0 were active after adding rounds of cuts (0.086 seconds)\n",
      "Clique was tried 100 times and created 0 cuts of which 0 were active after adding rounds of cuts (0.001 seconds)\n",
      "MixedIntegerRounding2 was tried 100 times and created 228 cuts of which 0 were active after adding rounds of cuts (1.038 seconds)\n",
      "FlowCover was tried 100 times and created 4 cuts of which 0 were active after adding rounds of cuts (0.213 seconds)\n",
      "TwoMirCuts was tried 100 times and created 983 cuts of which 0 were active after adding rounds of cuts (0.178 seconds)\n",
      "ZeroHalf was tried 1 times and created 0 cuts of which 0 were active after adding rounds of cuts (0.001 seconds)\n",
      "\n",
      "Result - Stopped on time limit\n",
      "\n",
      "Objective value:                21018.60000000\n",
      "Lower bound:                    20684.398\n",
      "Gap:                            0.02\n",
      "Enumerated nodes:               121911\n",
      "Total iterations:               2673000\n",
      "Time (CPU seconds):             600.89\n",
      "Time (Wallclock seconds):       600.87\n",
      "\n",
      "Total time (CPU seconds):       600.92   (Wallclock seconds):       600.90\n",
      "\n",
      "WARNING: Loading a SolverResults object with an 'aborted' status, but\n",
      "    containing a solution\n",
      "\n",
      "Problem: \n",
      "- Name: unknown\n",
      "  Lower bound: 20684.398\n",
      "  Upper bound: 21018.6\n",
      "  Number of objectives: 1\n",
      "  Number of constraints: 450\n",
      "  Number of variables: 396\n",
      "  Number of binary variables: 54\n",
      "  Number of integer variables: 1134\n",
      "  Number of nonzeros: 72\n",
      "  Sense: minimize\n",
      "Solver: \n",
      "- Status: aborted\n",
      "  User time: -1.0\n",
      "  System time: 600.92\n",
      "  Wallclock time: 600.9\n",
      "  Termination condition: maxTimeLimit\n",
      "  Termination message: Optimization terminated because the time expended exceeded the value specified in the seconds parameter.\n",
      "  Statistics: \n",
      "    Branch and bound: \n",
      "      Number of bounded subproblems: 121911\n",
      "      Number of created subproblems: 121911\n",
      "    Black box: \n",
      "      Number of iterations: 2673000\n",
      "  Error rc: 0\n",
      "  Time: 601.1769127845764\n",
      "Solution: \n",
      "- number of solutions: 0\n",
      "  number of solutions displayed: 0\n",
      "\n"
     ]
    }
   ],
   "source": [
    "solvername='cbc'\n",
    "solverpath_exe=r\"C:\\Users\\jmormal\\Downloads\\cbc-win64\\cbc.exe\"\n",
    "\n",
    "solver = po.SolverFactory(solvername,executable=solverpath_exe)\n",
    "# solver.options[\"TimeLimit\"]=60\n",
    "# # solver.options[\"MIPFocus\"] = 0\n",
    "# solver.options[\"MIPGap\"] = 0.01\n",
    "solver.options[\"seconds\"]=10*60\n",
    "results = solver.solve(model,tee=True)\n",
    "\n",
    "print(results)"
   ]
  },
  {
   "cell_type": "code",
   "execution_count": 59,
   "id": "7038cfd1-830d-4491-a6a7-39e6c182b200",
   "metadata": {
    "pycharm": {
     "is_executing": true,
     "name": "#%%\n"
    }
   },
   "outputs": [
    {
     "name": "stdout",
     "output_type": "stream",
     "text": [
      "1 6.0 -498 -492.0\n",
      "2 21.0 -525 -504.0\n",
      "3 33.0 -444 -411.0\n",
      "4 24.0 -444 -420.0\n",
      "5 42.0 -444 -402.0\n",
      "6 33.0 -570 -537.0\n",
      "7 54.0 -570 -516.0\n",
      "8 0.0 -570 -570.0\n",
      "9 16.0 -570 -554.0\n"
     ]
    }
   ],
   "source": [
    "for t in range(1,6):\n",
    "    print(t,model.Stock[i,t].value,-model.demanda[i,t+1]-model.demanda[i,t+2]-model.demanda[i,t+3] ,\n",
    "          model.Stock[i,t].value-model.demanda[i,t+1]-model.demanda[i,t+2]-model.demanda[i,t+3])\n",
    "    a=-model.demanda[i,t+1]-model.demanda[i,t+2]-model.demanda[i,t+3]-model.demanda[i,t+4]\n",
    "for t in range(6,10):\n",
    "    print(t,model.Stock[i,t].value,a ,model.Stock[i,t].value+a)\n",
    "def mean(x):\n",
    "    return sum(x)/len(x)"
   ]
  },
  {
   "cell_type": "code",
   "execution_count": 60,
   "id": "9efabc94",
   "metadata": {
    "pycharm": {
     "is_executing": true,
     "name": "#%%\n"
    }
   },
   "outputs": [
    {
     "name": "stdout",
     "output_type": "stream",
     "text": [
      "1 1 1.0\n",
      "1 2 0.0\n",
      "1 3 1.0\n",
      "1 4 0.0\n",
      "1 5 0.0\n",
      "1 6 0.0\n",
      "2 1 0.0\n",
      "2 2 1.0\n",
      "2 3 1.0\n",
      "2 4 0.0\n",
      "2 5 0.0\n",
      "2 6 1.0\n",
      "3 1 1.0\n",
      "3 2 1.0\n",
      "3 3 0.0\n",
      "3 4 0.0\n",
      "3 5 1.0\n",
      "3 6 0.0\n",
      "4 1 0.0\n",
      "4 2 1.0\n",
      "4 3 1.0\n",
      "4 4 0.0\n",
      "4 5 0.0\n",
      "4 6 0.0\n",
      "5 1 1.0\n",
      "5 2 0.0\n",
      "5 3 0.0\n",
      "5 4 1.0\n",
      "5 5 0.0\n",
      "5 6 1.0\n",
      "6 1 1.0\n",
      "6 2 0.0\n",
      "6 3 0.0\n",
      "6 4 0.0\n",
      "6 5 0.0\n",
      "6 6 1.0\n",
      "7 1 1.0\n",
      "7 2 1.0\n",
      "7 3 0.0\n",
      "7 4 0.0\n",
      "7 5 0.0\n",
      "7 6 0.0\n",
      "8 1 1.0\n",
      "8 2 0.0\n",
      "8 3 1.0\n",
      "8 4 0.0\n",
      "8 5 0.0\n",
      "8 6 0.0\n",
      "9 1 1.0\n",
      "9 2 0.0\n",
      "9 3 1.0\n",
      "9 4 0.0\n",
      "9 5 0.0\n",
      "9 6 0.0\n"
     ]
    }
   ],
   "source": [
    "for t in model.t:\n",
    "    for c in model.c:\n",
    "        print(t,c,model.Y[c,t].value)"
   ]
  },
  {
   "cell_type": "code",
   "execution_count": 61,
   "id": "49e6734a-b1a9-4f51-bbb6-be21a51c9354",
   "metadata": {
    "pycharm": {
     "is_executing": true,
     "name": "#%%\n"
    }
   },
   "outputs": [
    {
     "name": "stdout",
     "output_type": "stream",
     "text": [
      "[1.0, 1.0, 1.0, 1.0, 0.9852941176470589, 0.9852941176470589, 0.9852941176470589, 0.9852941176470589, 0.9852941176470589, 0.9852941176470589, 1.0, 1.0, 1.0, 1.0, 0.9852941176470589, 1.0, 1.0, 1.0, 1.0, 0.9877450980392157, 0.9877450980392157]\n",
      "0.9939309056956115\n",
      "21\n"
     ]
    }
   ],
   "source": [
    "utilizacion=0\n",
    "volumen_por_camion=[]\n",
    "for t in model.t:\n",
    "    for c in model.c:\n",
    "        if model.Y[c,t].value==1:\n",
    "            volumen_por_camion.append(((sum(model.CantidadPedir[i,c,t,col].value for i in model.i for col in model.col if int(model.LargoCont[i])==int(1600))*750*1200*1600+\n",
    "                                     +(sum(model.CantidadPedir[i,c,t,col].value for i in model.i for col in model.col if int(model.LargoCont[i])==int(1000)))*1000*1000*1200)/\n",
    "                                     (3000*2400*13600)))\n",
    "print(volumen_por_camion)\n",
    "print(mean(volumen_por_camion))\n",
    "print(len(volumen_por_camion))"
   ]
  },
  {
   "cell_type": "code",
   "execution_count": 62,
   "id": "6ed53c7a-1519-4c04-849e-b6b8283879c5",
   "metadata": {
    "pycharm": {
     "is_executing": true,
     "name": "#%%\n"
    }
   },
   "outputs": [
    {
     "name": "stdout",
     "output_type": "stream",
     "text": [
      "2.0\n",
      "3.0\n",
      "3.0\n",
      "2.0\n",
      "3.0\n",
      "2.0\n",
      "2.0\n",
      "2.0\n",
      "2.0\n"
     ]
    }
   ],
   "source": [
    "for t in model.t:\n",
    "    print(sum(model.Y[c,t].value for c in model.c))"
   ]
  },
  {
   "cell_type": "code",
   "execution_count": 63,
   "id": "63f19f4c-ef02-4479-ac90-1172ab745460",
   "metadata": {
    "pycharm": {
     "is_executing": true,
     "name": "#%%\n"
    }
   },
   "outputs": [],
   "source": [
    "l=[]\n",
    "for t in model.t:\n",
    "    for i in model.i:\n",
    "        1\n",
    "        # print(t,i,model.Stock[i,t].value, sum(model.Y[c,t].value  for c in model.c if model.CantidadPedir[i,c,t,col].value>0))\n",
    "\n",
    "            # if model.Y[c,t].value==1:\n",
    "            #     print(t,model.A[c,col,t].value,model.B[c,col,t].value,((sum(model.CantidadPedir[i,c,t,col].value/model.PiezasCont[i] for i in model.i for col in model.col if int(model.LargoCont[i])==int(1600))*750*1200*1600+\n",
    "            #                          +(sum(model.CantidadPedir[i,c,t,col].value/model.PiezasCont[i] for i in model.i for col in model.col if int(model.LargoCont[i])==int(1000)))*1000*1000*1200)/\n",
    "            #                          (3000*2400*13600)))"
   ]
  },
  {
   "cell_type": "code",
   "execution_count": 64,
   "id": "17f9995b-9eb7-49a3-b9cc-e1bda6de84ec",
   "metadata": {
    "pycharm": {
     "is_executing": true,
     "name": "#%%\n"
    }
   },
   "outputs": [],
   "source": [
    "l=[]\n",
    "for t in model.t:\n",
    "    for c in model.c:\n",
    "        for col in model.col:\n",
    "\n",
    "            if model.Y[c,t].value==1:\n",
    "                l.append([c,col,t,model.A[c,col,t].value,model.B[c,col,t].value,((sum(model.CantidadPedir[i,c,t,col].value for i in model.i for col in model.col if int(model.LargoCont[i])==int(1600))*750*1200*1600+\n",
    "                                     +(sum(model.CantidadPedir[i,c,t,col].value for i in model.i for col in model.col if int(model.LargoCont[i])==int(1000)))*1000*1000*1200)/\n",
    "                                     (3000*2400*13600),[model.CantidadPedir[i,c,t,col].value for i in model.i])])\n",
    "                # print([model.CantidadPedir[i,c,t,col].value for i in model.i])\n",
    "                # print(t,model.A[c,col,t].value,model.B[c,col,t].value,((sum(model.CantidadPedir[i,c,t,col].value for i in model.i for col in model.col if int(model.LargoCont[i])==int(1600))*750*1200*1600+\n",
    "                #                      +(sum(model.CantidadPedir[i,c,t,col].value for i in model.i for col in model.col if int(model.LargoCont[i])==int(1000)))*1000*1000*1200)/\n",
    "                #                      (3000*2400*13600)),\n",
    "                #     sum(model.CantidadPedir[i,c,t,col].value for i in model.i for col in model.col if int(model.LargoCont[i])==int(1600))\n",
    "                #       ,sum(model.CantidadPedir[i,c,t,col].value for i in model.i for col in model.col if int(model.LargoCont[i])==int(1000)))"
   ]
  },
  {
   "cell_type": "code",
   "execution_count": 65,
   "id": "3935cc94-e874-48d3-8fb1-1473d45f5ff7",
   "metadata": {
    "pycharm": {
     "is_executing": true,
     "name": "#%%\n"
    }
   },
   "outputs": [
    {
     "data": {
      "text/html": [
       "<div>\n",
       "<style scoped>\n",
       "    .dataframe tbody tr th:only-of-type {\n",
       "        vertical-align: middle;\n",
       "    }\n",
       "\n",
       "    .dataframe tbody tr th {\n",
       "        vertical-align: top;\n",
       "    }\n",
       "\n",
       "    .dataframe thead th {\n",
       "        text-align: right;\n",
       "    }\n",
       "</style>\n",
       "<table border=\"1\" class=\"dataframe\">\n",
       "  <thead>\n",
       "    <tr style=\"text-align: right;\">\n",
       "      <th></th>\n",
       "      <th>c</th>\n",
       "      <th>col</th>\n",
       "      <th>t</th>\n",
       "      <th>A</th>\n",
       "      <th>B</th>\n",
       "      <th>Volumen</th>\n",
       "    </tr>\n",
       "  </thead>\n",
       "  <tbody>\n",
       "    <tr>\n",
       "      <th>0</th>\n",
       "      <td>1</td>\n",
       "      <td>1</td>\n",
       "      <td>1</td>\n",
       "      <td>1.0</td>\n",
       "      <td>12.0</td>\n",
       "      <td>(1.0, [4.0, 36.0])</td>\n",
       "    </tr>\n",
       "    <tr>\n",
       "      <th>1</th>\n",
       "      <td>1</td>\n",
       "      <td>2</td>\n",
       "      <td>1</td>\n",
       "      <td>1.0</td>\n",
       "      <td>12.0</td>\n",
       "      <td>(1.0, [4.0, 36.0])</td>\n",
       "    </tr>\n",
       "    <tr>\n",
       "      <th>2</th>\n",
       "      <td>3</td>\n",
       "      <td>1</td>\n",
       "      <td>1</td>\n",
       "      <td>1.0</td>\n",
       "      <td>12.0</td>\n",
       "      <td>(1.0, [4.0, 36.0])</td>\n",
       "    </tr>\n",
       "    <tr>\n",
       "      <th>3</th>\n",
       "      <td>3</td>\n",
       "      <td>2</td>\n",
       "      <td>1</td>\n",
       "      <td>1.0</td>\n",
       "      <td>12.0</td>\n",
       "      <td>(1.0, [4.0, 36.0])</td>\n",
       "    </tr>\n",
       "    <tr>\n",
       "      <th>4</th>\n",
       "      <td>2</td>\n",
       "      <td>1</td>\n",
       "      <td>2</td>\n",
       "      <td>1.0</td>\n",
       "      <td>12.0</td>\n",
       "      <td>(1.0, [4.0, 36.0])</td>\n",
       "    </tr>\n",
       "    <tr>\n",
       "      <th>5</th>\n",
       "      <td>2</td>\n",
       "      <td>2</td>\n",
       "      <td>2</td>\n",
       "      <td>1.0</td>\n",
       "      <td>12.0</td>\n",
       "      <td>(1.0, [4.0, 36.0])</td>\n",
       "    </tr>\n",
       "    <tr>\n",
       "      <th>6</th>\n",
       "      <td>3</td>\n",
       "      <td>1</td>\n",
       "      <td>2</td>\n",
       "      <td>1.0</td>\n",
       "      <td>12.0</td>\n",
       "      <td>(1.0, [4.0, 36.0])</td>\n",
       "    </tr>\n",
       "    <tr>\n",
       "      <th>7</th>\n",
       "      <td>3</td>\n",
       "      <td>2</td>\n",
       "      <td>2</td>\n",
       "      <td>1.0</td>\n",
       "      <td>12.0</td>\n",
       "      <td>(1.0, [4.0, 36.0])</td>\n",
       "    </tr>\n",
       "    <tr>\n",
       "      <th>8</th>\n",
       "      <td>6</td>\n",
       "      <td>1</td>\n",
       "      <td>2</td>\n",
       "      <td>4.0</td>\n",
       "      <td>7.0</td>\n",
       "      <td>(0.9852941176470589, [16.0, 21.0])</td>\n",
       "    </tr>\n",
       "    <tr>\n",
       "      <th>9</th>\n",
       "      <td>6</td>\n",
       "      <td>2</td>\n",
       "      <td>2</td>\n",
       "      <td>4.0</td>\n",
       "      <td>7.0</td>\n",
       "      <td>(0.9852941176470589, [16.0, 21.0])</td>\n",
       "    </tr>\n",
       "    <tr>\n",
       "      <th>10</th>\n",
       "      <td>1</td>\n",
       "      <td>1</td>\n",
       "      <td>3</td>\n",
       "      <td>1.0</td>\n",
       "      <td>12.0</td>\n",
       "      <td>(0.9852941176470589, [4.0, 36.0])</td>\n",
       "    </tr>\n",
       "    <tr>\n",
       "      <th>11</th>\n",
       "      <td>1</td>\n",
       "      <td>2</td>\n",
       "      <td>3</td>\n",
       "      <td>1.0</td>\n",
       "      <td>12.0</td>\n",
       "      <td>(0.9852941176470589, [3.0, 36.0])</td>\n",
       "    </tr>\n",
       "    <tr>\n",
       "      <th>12</th>\n",
       "      <td>2</td>\n",
       "      <td>1</td>\n",
       "      <td>3</td>\n",
       "      <td>1.0</td>\n",
       "      <td>12.0</td>\n",
       "      <td>(0.9852941176470589, [4.0, 36.0])</td>\n",
       "    </tr>\n",
       "    <tr>\n",
       "      <th>13</th>\n",
       "      <td>2</td>\n",
       "      <td>2</td>\n",
       "      <td>3</td>\n",
       "      <td>1.0</td>\n",
       "      <td>12.0</td>\n",
       "      <td>(0.9852941176470589, [3.0, 36.0])</td>\n",
       "    </tr>\n",
       "    <tr>\n",
       "      <th>14</th>\n",
       "      <td>5</td>\n",
       "      <td>1</td>\n",
       "      <td>3</td>\n",
       "      <td>1.0</td>\n",
       "      <td>12.0</td>\n",
       "      <td>(0.9852941176470589, [3.0, 36.0])</td>\n",
       "    </tr>\n",
       "    <tr>\n",
       "      <th>15</th>\n",
       "      <td>5</td>\n",
       "      <td>2</td>\n",
       "      <td>3</td>\n",
       "      <td>1.0</td>\n",
       "      <td>12.0</td>\n",
       "      <td>(0.9852941176470589, [4.0, 36.0])</td>\n",
       "    </tr>\n",
       "    <tr>\n",
       "      <th>16</th>\n",
       "      <td>2</td>\n",
       "      <td>1</td>\n",
       "      <td>4</td>\n",
       "      <td>1.0</td>\n",
       "      <td>12.0</td>\n",
       "      <td>(0.9852941176470589, [4.0, 36.0])</td>\n",
       "    </tr>\n",
       "    <tr>\n",
       "      <th>17</th>\n",
       "      <td>2</td>\n",
       "      <td>2</td>\n",
       "      <td>4</td>\n",
       "      <td>1.0</td>\n",
       "      <td>12.0</td>\n",
       "      <td>(0.9852941176470589, [3.0, 36.0])</td>\n",
       "    </tr>\n",
       "    <tr>\n",
       "      <th>18</th>\n",
       "      <td>3</td>\n",
       "      <td>1</td>\n",
       "      <td>4</td>\n",
       "      <td>4.0</td>\n",
       "      <td>7.0</td>\n",
       "      <td>(0.9852941176470589, [16.0, 21.0])</td>\n",
       "    </tr>\n",
       "    <tr>\n",
       "      <th>19</th>\n",
       "      <td>3</td>\n",
       "      <td>2</td>\n",
       "      <td>4</td>\n",
       "      <td>4.0</td>\n",
       "      <td>7.0</td>\n",
       "      <td>(0.9852941176470589, [16.0, 21.0])</td>\n",
       "    </tr>\n",
       "    <tr>\n",
       "      <th>20</th>\n",
       "      <td>1</td>\n",
       "      <td>1</td>\n",
       "      <td>5</td>\n",
       "      <td>1.0</td>\n",
       "      <td>12.0</td>\n",
       "      <td>(1.0, [4.0, 36.0])</td>\n",
       "    </tr>\n",
       "    <tr>\n",
       "      <th>21</th>\n",
       "      <td>1</td>\n",
       "      <td>2</td>\n",
       "      <td>5</td>\n",
       "      <td>1.0</td>\n",
       "      <td>12.0</td>\n",
       "      <td>(1.0, [4.0, 36.0])</td>\n",
       "    </tr>\n",
       "    <tr>\n",
       "      <th>22</th>\n",
       "      <td>4</td>\n",
       "      <td>1</td>\n",
       "      <td>5</td>\n",
       "      <td>1.0</td>\n",
       "      <td>12.0</td>\n",
       "      <td>(1.0, [4.0, 36.0])</td>\n",
       "    </tr>\n",
       "    <tr>\n",
       "      <th>23</th>\n",
       "      <td>4</td>\n",
       "      <td>2</td>\n",
       "      <td>5</td>\n",
       "      <td>1.0</td>\n",
       "      <td>12.0</td>\n",
       "      <td>(1.0, [4.0, 36.0])</td>\n",
       "    </tr>\n",
       "    <tr>\n",
       "      <th>24</th>\n",
       "      <td>6</td>\n",
       "      <td>1</td>\n",
       "      <td>5</td>\n",
       "      <td>1.0</td>\n",
       "      <td>12.0</td>\n",
       "      <td>(1.0, [4.0, 36.0])</td>\n",
       "    </tr>\n",
       "    <tr>\n",
       "      <th>25</th>\n",
       "      <td>6</td>\n",
       "      <td>2</td>\n",
       "      <td>5</td>\n",
       "      <td>1.0</td>\n",
       "      <td>12.0</td>\n",
       "      <td>(1.0, [4.0, 36.0])</td>\n",
       "    </tr>\n",
       "    <tr>\n",
       "      <th>26</th>\n",
       "      <td>1</td>\n",
       "      <td>1</td>\n",
       "      <td>6</td>\n",
       "      <td>1.0</td>\n",
       "      <td>12.0</td>\n",
       "      <td>(1.0, [4.0, 36.0])</td>\n",
       "    </tr>\n",
       "    <tr>\n",
       "      <th>27</th>\n",
       "      <td>1</td>\n",
       "      <td>2</td>\n",
       "      <td>6</td>\n",
       "      <td>1.0</td>\n",
       "      <td>12.0</td>\n",
       "      <td>(1.0, [4.0, 36.0])</td>\n",
       "    </tr>\n",
       "    <tr>\n",
       "      <th>28</th>\n",
       "      <td>6</td>\n",
       "      <td>1</td>\n",
       "      <td>6</td>\n",
       "      <td>4.0</td>\n",
       "      <td>7.0</td>\n",
       "      <td>(0.9852941176470589, [16.0, 21.0])</td>\n",
       "    </tr>\n",
       "    <tr>\n",
       "      <th>29</th>\n",
       "      <td>6</td>\n",
       "      <td>2</td>\n",
       "      <td>6</td>\n",
       "      <td>4.0</td>\n",
       "      <td>7.0</td>\n",
       "      <td>(0.9852941176470589, [16.0, 21.0])</td>\n",
       "    </tr>\n",
       "    <tr>\n",
       "      <th>30</th>\n",
       "      <td>1</td>\n",
       "      <td>1</td>\n",
       "      <td>7</td>\n",
       "      <td>1.0</td>\n",
       "      <td>12.0</td>\n",
       "      <td>(1.0, [4.0, 36.0])</td>\n",
       "    </tr>\n",
       "    <tr>\n",
       "      <th>31</th>\n",
       "      <td>1</td>\n",
       "      <td>2</td>\n",
       "      <td>7</td>\n",
       "      <td>1.0</td>\n",
       "      <td>12.0</td>\n",
       "      <td>(1.0, [4.0, 36.0])</td>\n",
       "    </tr>\n",
       "    <tr>\n",
       "      <th>32</th>\n",
       "      <td>2</td>\n",
       "      <td>1</td>\n",
       "      <td>7</td>\n",
       "      <td>1.0</td>\n",
       "      <td>12.0</td>\n",
       "      <td>(1.0, [4.0, 36.0])</td>\n",
       "    </tr>\n",
       "    <tr>\n",
       "      <th>33</th>\n",
       "      <td>2</td>\n",
       "      <td>2</td>\n",
       "      <td>7</td>\n",
       "      <td>1.0</td>\n",
       "      <td>12.0</td>\n",
       "      <td>(1.0, [4.0, 36.0])</td>\n",
       "    </tr>\n",
       "    <tr>\n",
       "      <th>34</th>\n",
       "      <td>1</td>\n",
       "      <td>1</td>\n",
       "      <td>8</td>\n",
       "      <td>1.0</td>\n",
       "      <td>12.0</td>\n",
       "      <td>(1.0, [4.0, 36.0])</td>\n",
       "    </tr>\n",
       "    <tr>\n",
       "      <th>35</th>\n",
       "      <td>1</td>\n",
       "      <td>2</td>\n",
       "      <td>8</td>\n",
       "      <td>1.0</td>\n",
       "      <td>12.0</td>\n",
       "      <td>(1.0, [4.0, 36.0])</td>\n",
       "    </tr>\n",
       "    <tr>\n",
       "      <th>36</th>\n",
       "      <td>3</td>\n",
       "      <td>1</td>\n",
       "      <td>8</td>\n",
       "      <td>1.0</td>\n",
       "      <td>12.0</td>\n",
       "      <td>(1.0, [4.0, 36.0])</td>\n",
       "    </tr>\n",
       "    <tr>\n",
       "      <th>37</th>\n",
       "      <td>3</td>\n",
       "      <td>2</td>\n",
       "      <td>8</td>\n",
       "      <td>1.0</td>\n",
       "      <td>12.0</td>\n",
       "      <td>(1.0, [4.0, 36.0])</td>\n",
       "    </tr>\n",
       "    <tr>\n",
       "      <th>38</th>\n",
       "      <td>1</td>\n",
       "      <td>1</td>\n",
       "      <td>9</td>\n",
       "      <td>1.0</td>\n",
       "      <td>12.0</td>\n",
       "      <td>(0.9877450980392157, [4.0, 36.0])</td>\n",
       "    </tr>\n",
       "    <tr>\n",
       "      <th>39</th>\n",
       "      <td>1</td>\n",
       "      <td>2</td>\n",
       "      <td>9</td>\n",
       "      <td>1.0</td>\n",
       "      <td>12.0</td>\n",
       "      <td>(0.9877450980392157, [4.0, 35.0])</td>\n",
       "    </tr>\n",
       "    <tr>\n",
       "      <th>40</th>\n",
       "      <td>3</td>\n",
       "      <td>1</td>\n",
       "      <td>9</td>\n",
       "      <td>1.0</td>\n",
       "      <td>12.0</td>\n",
       "      <td>(0.9877450980392157, [4.0, 35.0])</td>\n",
       "    </tr>\n",
       "    <tr>\n",
       "      <th>41</th>\n",
       "      <td>3</td>\n",
       "      <td>2</td>\n",
       "      <td>9</td>\n",
       "      <td>1.0</td>\n",
       "      <td>12.0</td>\n",
       "      <td>(0.9877450980392157, [4.0, 36.0])</td>\n",
       "    </tr>\n",
       "  </tbody>\n",
       "</table>\n",
       "</div>"
      ],
      "text/plain": [
       "    c  col  t    A     B                             Volumen\n",
       "0   1    1  1  1.0  12.0                  (1.0, [4.0, 36.0])\n",
       "1   1    2  1  1.0  12.0                  (1.0, [4.0, 36.0])\n",
       "2   3    1  1  1.0  12.0                  (1.0, [4.0, 36.0])\n",
       "3   3    2  1  1.0  12.0                  (1.0, [4.0, 36.0])\n",
       "4   2    1  2  1.0  12.0                  (1.0, [4.0, 36.0])\n",
       "5   2    2  2  1.0  12.0                  (1.0, [4.0, 36.0])\n",
       "6   3    1  2  1.0  12.0                  (1.0, [4.0, 36.0])\n",
       "7   3    2  2  1.0  12.0                  (1.0, [4.0, 36.0])\n",
       "8   6    1  2  4.0   7.0  (0.9852941176470589, [16.0, 21.0])\n",
       "9   6    2  2  4.0   7.0  (0.9852941176470589, [16.0, 21.0])\n",
       "10  1    1  3  1.0  12.0   (0.9852941176470589, [4.0, 36.0])\n",
       "11  1    2  3  1.0  12.0   (0.9852941176470589, [3.0, 36.0])\n",
       "12  2    1  3  1.0  12.0   (0.9852941176470589, [4.0, 36.0])\n",
       "13  2    2  3  1.0  12.0   (0.9852941176470589, [3.0, 36.0])\n",
       "14  5    1  3  1.0  12.0   (0.9852941176470589, [3.0, 36.0])\n",
       "15  5    2  3  1.0  12.0   (0.9852941176470589, [4.0, 36.0])\n",
       "16  2    1  4  1.0  12.0   (0.9852941176470589, [4.0, 36.0])\n",
       "17  2    2  4  1.0  12.0   (0.9852941176470589, [3.0, 36.0])\n",
       "18  3    1  4  4.0   7.0  (0.9852941176470589, [16.0, 21.0])\n",
       "19  3    2  4  4.0   7.0  (0.9852941176470589, [16.0, 21.0])\n",
       "20  1    1  5  1.0  12.0                  (1.0, [4.0, 36.0])\n",
       "21  1    2  5  1.0  12.0                  (1.0, [4.0, 36.0])\n",
       "22  4    1  5  1.0  12.0                  (1.0, [4.0, 36.0])\n",
       "23  4    2  5  1.0  12.0                  (1.0, [4.0, 36.0])\n",
       "24  6    1  5  1.0  12.0                  (1.0, [4.0, 36.0])\n",
       "25  6    2  5  1.0  12.0                  (1.0, [4.0, 36.0])\n",
       "26  1    1  6  1.0  12.0                  (1.0, [4.0, 36.0])\n",
       "27  1    2  6  1.0  12.0                  (1.0, [4.0, 36.0])\n",
       "28  6    1  6  4.0   7.0  (0.9852941176470589, [16.0, 21.0])\n",
       "29  6    2  6  4.0   7.0  (0.9852941176470589, [16.0, 21.0])\n",
       "30  1    1  7  1.0  12.0                  (1.0, [4.0, 36.0])\n",
       "31  1    2  7  1.0  12.0                  (1.0, [4.0, 36.0])\n",
       "32  2    1  7  1.0  12.0                  (1.0, [4.0, 36.0])\n",
       "33  2    2  7  1.0  12.0                  (1.0, [4.0, 36.0])\n",
       "34  1    1  8  1.0  12.0                  (1.0, [4.0, 36.0])\n",
       "35  1    2  8  1.0  12.0                  (1.0, [4.0, 36.0])\n",
       "36  3    1  8  1.0  12.0                  (1.0, [4.0, 36.0])\n",
       "37  3    2  8  1.0  12.0                  (1.0, [4.0, 36.0])\n",
       "38  1    1  9  1.0  12.0   (0.9877450980392157, [4.0, 36.0])\n",
       "39  1    2  9  1.0  12.0   (0.9877450980392157, [4.0, 35.0])\n",
       "40  3    1  9  1.0  12.0   (0.9877450980392157, [4.0, 35.0])\n",
       "41  3    2  9  1.0  12.0   (0.9877450980392157, [4.0, 36.0])"
      ]
     },
     "execution_count": 65,
     "metadata": {},
     "output_type": "execute_result"
    }
   ],
   "source": [
    "df1=pd.DataFrame(l,columns=[\"c\", \"col\", \"t\", \"A\", \"B\", \"Volumen\",])\n",
    "df1"
   ]
  },
  {
   "cell_type": "code",
   "execution_count": 66,
   "id": "0471c296-c262-4d16-a0f7-0a1bb139d01f",
   "metadata": {
    "pycharm": {
     "is_executing": true,
     "name": "#%%\n"
    }
   },
   "outputs": [
    {
     "name": "stdout",
     "output_type": "stream",
     "text": [
      "4.0\n",
      "36.0\n",
      "0.0\n",
      "0.0\n",
      "4.0\n",
      "36.0\n",
      "0.0\n",
      "0.0\n",
      "0.0\n",
      "0.0\n",
      "0.0\n",
      "0.0\n",
      "0.0\n",
      "0.0\n",
      "4.0\n",
      "36.0\n",
      "4.0\n",
      "36.0\n",
      "0.0\n",
      "0.0\n",
      "0.0\n",
      "0.0\n",
      "16.0\n",
      "21.0\n",
      "3.0\n",
      "36.0\n",
      "3.0\n",
      "36.0\n",
      "0.0\n",
      "0.0\n",
      "0.0\n",
      "0.0\n",
      "4.0\n",
      "36.0\n",
      "0.0\n",
      "0.0\n",
      "0.0\n",
      "0.0\n",
      "3.0\n",
      "36.0\n",
      "16.0\n",
      "21.0\n",
      "0.0\n",
      "0.0\n",
      "0.0\n",
      "0.0\n",
      "0.0\n",
      "0.0\n",
      "4.0\n",
      "36.0\n",
      "0.0\n",
      "0.0\n",
      "0.0\n",
      "0.0\n",
      "4.0\n",
      "36.0\n",
      "0.0\n",
      "0.0\n",
      "4.0\n",
      "36.0\n",
      "4.0\n",
      "36.0\n",
      "0.0\n",
      "0.0\n",
      "0.0\n",
      "0.0\n",
      "0.0\n",
      "0.0\n",
      "0.0\n",
      "0.0\n",
      "16.0\n",
      "21.0\n",
      "4.0\n",
      "36.0\n",
      "4.0\n",
      "36.0\n",
      "0.0\n",
      "0.0\n",
      "0.0\n",
      "0.0\n",
      "0.0\n",
      "0.0\n",
      "0.0\n",
      "0.0\n",
      "4.0\n",
      "36.0\n",
      "0.0\n",
      "0.0\n",
      "4.0\n",
      "36.0\n",
      "0.0\n",
      "0.0\n",
      "0.0\n",
      "0.0\n",
      "0.0\n",
      "0.0\n",
      "4.0\n",
      "35.0\n",
      "0.0\n",
      "0.0\n",
      "4.0\n",
      "36.0\n",
      "0.0\n",
      "0.0\n",
      "0.0\n",
      "0.0\n",
      "0.0\n",
      "0.0\n"
     ]
    }
   ],
   "source": [
    "for t in model.t:\n",
    "    for c in model.c:\n",
    "        for i in model.i:\n",
    "            print(model.CantidadPedir[i,c,t,col].value)#*float(int(model.LargoCont[i])==int(1000)))"
   ]
  },
  {
   "cell_type": "code",
   "execution_count": 67,
   "id": "8ba8747f-29b1-440c-96b2-b63c1b2b6d66",
   "metadata": {
    "pycharm": {
     "is_executing": true,
     "name": "#%%\n"
    }
   },
   "outputs": [],
   "source": [
    "l1=[]\n",
    "a=list(range(25))\n",
    "for t in range(1,7):\n",
    "    for i in model.i:\n",
    "            l1.append([t,i,model.Stock[i,t].value,-model.demanda[i,t+1]-model.demanda[i,t+2]-model.demanda[i,t+3] ,\n",
    "          model.Stock[i,t].value-model.demanda[i,t+1]-model.demanda[i,t+2]-model.demanda[i,t+3]])\n",
    "            a[i]=-model.demanda[i,t+1]-model.demanda[i,t+2]-model.demanda[i,t+3]\n",
    "for t in range(7,9):\n",
    "    for i in model.i:\n",
    "            l1.append([t,i,model.Stock[i,t].value,a[i] ,\n",
    "          model.Stock[i,t].value+a[i]])"
   ]
  },
  {
   "cell_type": "code",
   "execution_count": 68,
   "id": "7d7a6cbf-bb23-4cca-946a-69ac53a8dd08",
   "metadata": {
    "pycharm": {
     "is_executing": true,
     "name": "#%%\n"
    }
   },
   "outputs": [
    {
     "data": {
      "text/html": [
       "<div>\n",
       "<style scoped>\n",
       "    .dataframe tbody tr th:only-of-type {\n",
       "        vertical-align: middle;\n",
       "    }\n",
       "\n",
       "    .dataframe tbody tr th {\n",
       "        vertical-align: top;\n",
       "    }\n",
       "\n",
       "    .dataframe thead th {\n",
       "        text-align: right;\n",
       "    }\n",
       "</style>\n",
       "<table border=\"1\" class=\"dataframe\">\n",
       "  <thead>\n",
       "    <tr style=\"text-align: right;\">\n",
       "      <th></th>\n",
       "      <th>t</th>\n",
       "      <th>id</th>\n",
       "      <th>Stock</th>\n",
       "      <th>Demanda Proximos Dias</th>\n",
       "      <th>Diferencia Demanda</th>\n",
       "    </tr>\n",
       "  </thead>\n",
       "  <tbody>\n",
       "    <tr>\n",
       "      <th>0</th>\n",
       "      <td>1</td>\n",
       "      <td>2</td>\n",
       "      <td>0.0</td>\n",
       "      <td>-92</td>\n",
       "      <td>-92.0</td>\n",
       "    </tr>\n",
       "    <tr>\n",
       "      <th>1</th>\n",
       "      <td>1</td>\n",
       "      <td>1</td>\n",
       "      <td>6.0</td>\n",
       "      <td>-498</td>\n",
       "      <td>-492.0</td>\n",
       "    </tr>\n",
       "    <tr>\n",
       "      <th>2</th>\n",
       "      <td>2</td>\n",
       "      <td>2</td>\n",
       "      <td>0.0</td>\n",
       "      <td>-72</td>\n",
       "      <td>-72.0</td>\n",
       "    </tr>\n",
       "    <tr>\n",
       "      <th>3</th>\n",
       "      <td>2</td>\n",
       "      <td>1</td>\n",
       "      <td>21.0</td>\n",
       "      <td>-525</td>\n",
       "      <td>-504.0</td>\n",
       "    </tr>\n",
       "    <tr>\n",
       "      <th>4</th>\n",
       "      <td>3</td>\n",
       "      <td>2</td>\n",
       "      <td>1.0</td>\n",
       "      <td>-76</td>\n",
       "      <td>-75.0</td>\n",
       "    </tr>\n",
       "    <tr>\n",
       "      <th>5</th>\n",
       "      <td>3</td>\n",
       "      <td>1</td>\n",
       "      <td>33.0</td>\n",
       "      <td>-444</td>\n",
       "      <td>-411.0</td>\n",
       "    </tr>\n",
       "    <tr>\n",
       "      <th>6</th>\n",
       "      <td>4</td>\n",
       "      <td>2</td>\n",
       "      <td>16.0</td>\n",
       "      <td>-76</td>\n",
       "      <td>-60.0</td>\n",
       "    </tr>\n",
       "    <tr>\n",
       "      <th>7</th>\n",
       "      <td>4</td>\n",
       "      <td>1</td>\n",
       "      <td>24.0</td>\n",
       "      <td>-444</td>\n",
       "      <td>-420.0</td>\n",
       "    </tr>\n",
       "    <tr>\n",
       "      <th>8</th>\n",
       "      <td>5</td>\n",
       "      <td>2</td>\n",
       "      <td>12.0</td>\n",
       "      <td>-80</td>\n",
       "      <td>-68.0</td>\n",
       "    </tr>\n",
       "    <tr>\n",
       "      <th>9</th>\n",
       "      <td>5</td>\n",
       "      <td>1</td>\n",
       "      <td>42.0</td>\n",
       "      <td>-444</td>\n",
       "      <td>-402.0</td>\n",
       "    </tr>\n",
       "    <tr>\n",
       "      <th>10</th>\n",
       "      <td>6</td>\n",
       "      <td>2</td>\n",
       "      <td>28.0</td>\n",
       "      <td>-76</td>\n",
       "      <td>-48.0</td>\n",
       "    </tr>\n",
       "    <tr>\n",
       "      <th>11</th>\n",
       "      <td>6</td>\n",
       "      <td>1</td>\n",
       "      <td>33.0</td>\n",
       "      <td>-447</td>\n",
       "      <td>-414.0</td>\n",
       "    </tr>\n",
       "    <tr>\n",
       "      <th>12</th>\n",
       "      <td>7</td>\n",
       "      <td>2</td>\n",
       "      <td>20.0</td>\n",
       "      <td>-76</td>\n",
       "      <td>-56.0</td>\n",
       "    </tr>\n",
       "    <tr>\n",
       "      <th>13</th>\n",
       "      <td>7</td>\n",
       "      <td>1</td>\n",
       "      <td>54.0</td>\n",
       "      <td>-447</td>\n",
       "      <td>-393.0</td>\n",
       "    </tr>\n",
       "    <tr>\n",
       "      <th>14</th>\n",
       "      <td>8</td>\n",
       "      <td>2</td>\n",
       "      <td>4.0</td>\n",
       "      <td>-76</td>\n",
       "      <td>-72.0</td>\n",
       "    </tr>\n",
       "    <tr>\n",
       "      <th>15</th>\n",
       "      <td>8</td>\n",
       "      <td>1</td>\n",
       "      <td>0.0</td>\n",
       "      <td>-447</td>\n",
       "      <td>-447.0</td>\n",
       "    </tr>\n",
       "  </tbody>\n",
       "</table>\n",
       "</div>"
      ],
      "text/plain": [
       "    t  id  Stock  Demanda Proximos Dias  Diferencia Demanda\n",
       "0   1   2    0.0                    -92               -92.0\n",
       "1   1   1    6.0                   -498              -492.0\n",
       "2   2   2    0.0                    -72               -72.0\n",
       "3   2   1   21.0                   -525              -504.0\n",
       "4   3   2    1.0                    -76               -75.0\n",
       "5   3   1   33.0                   -444              -411.0\n",
       "6   4   2   16.0                    -76               -60.0\n",
       "7   4   1   24.0                   -444              -420.0\n",
       "8   5   2   12.0                    -80               -68.0\n",
       "9   5   1   42.0                   -444              -402.0\n",
       "10  6   2   28.0                    -76               -48.0\n",
       "11  6   1   33.0                   -447              -414.0\n",
       "12  7   2   20.0                    -76               -56.0\n",
       "13  7   1   54.0                   -447              -393.0\n",
       "14  8   2    4.0                    -76               -72.0\n",
       "15  8   1    0.0                   -447              -447.0"
      ]
     },
     "execution_count": 68,
     "metadata": {},
     "output_type": "execute_result"
    }
   ],
   "source": [
    "df2=pd.DataFrame(l1,columns=[\"t\",\"id\",\"Stock\",\"Demanda Proximos Dias\",\"Diferencia Demanda\"])\n",
    "pd.set_option('display.max_rows', None)\n",
    "df2"
   ]
  },
  {
   "cell_type": "code",
   "execution_count": 69,
   "id": "5f05379e-ae03-4fac-ad83-22893ff1a1f3",
   "metadata": {
    "pycharm": {
     "is_executing": true,
     "name": "#%%\n"
    }
   },
   "outputs": [
    {
     "name": "stdout",
     "output_type": "stream",
     "text": [
      "236.0\n",
      "1420.0\n"
     ]
    }
   ],
   "source": [
    "# for t in model.t:\n",
    "#     print(t,sum(model.CantidadPedir[i,c,t,col].value for c in model.c for i in model.i for col in model.col if int(model.LargoCont[i])==int(1000)))\n",
    "print(sum(model.CantidadPedir[i,c,t,col].value for t in model.t for c in model.c for i in model.i for col in model.col if int(model.LargoCont[i])==int(1600)))\n",
    "print(sum(model.CantidadPedir[i,c,t,col].value for t in model.t for c in model.c for i in model.i for col in model.col if int(model.LargoCont[i])==int(1000)))"
   ]
  },
  {
   "cell_type": "code",
   "execution_count": 70,
   "id": "bc0dd6ad-4f70-4e3a-b9ce-53fd974e6287",
   "metadata": {
    "pycharm": {
     "is_executing": true,
     "name": "#%%\n"
    }
   },
   "outputs": [
    {
     "data": {
      "text/html": [
       "<div>\n",
       "<style scoped>\n",
       "    .dataframe tbody tr th:only-of-type {\n",
       "        vertical-align: middle;\n",
       "    }\n",
       "\n",
       "    .dataframe tbody tr th {\n",
       "        vertical-align: top;\n",
       "    }\n",
       "\n",
       "    .dataframe thead th {\n",
       "        text-align: right;\n",
       "    }\n",
       "</style>\n",
       "<table border=\"1\" class=\"dataframe\">\n",
       "  <thead>\n",
       "    <tr style=\"text-align: right;\">\n",
       "      <th></th>\n",
       "      <th>Magnum</th>\n",
       "      <th>A-cont</th>\n",
       "    </tr>\n",
       "    <tr>\n",
       "      <th>Collection in supplier</th>\n",
       "      <th></th>\n",
       "      <th></th>\n",
       "    </tr>\n",
       "  </thead>\n",
       "  <tbody>\n",
       "    <tr>\n",
       "      <th>day 1</th>\n",
       "      <td>138</td>\n",
       "      <td>16</td>\n",
       "    </tr>\n",
       "    <tr>\n",
       "      <th>day 2</th>\n",
       "      <td>171</td>\n",
       "      <td>48</td>\n",
       "    </tr>\n",
       "    <tr>\n",
       "      <th>day 3</th>\n",
       "      <td>204</td>\n",
       "      <td>20</td>\n",
       "    </tr>\n",
       "    <tr>\n",
       "      <th>day 4</th>\n",
       "      <td>123</td>\n",
       "      <td>24</td>\n",
       "    </tr>\n",
       "    <tr>\n",
       "      <th>day 5</th>\n",
       "      <td>198</td>\n",
       "      <td>28</td>\n",
       "    </tr>\n",
       "    <tr>\n",
       "      <th>day 6</th>\n",
       "      <td>123</td>\n",
       "      <td>24</td>\n",
       "    </tr>\n",
       "    <tr>\n",
       "      <th>day 7</th>\n",
       "      <td>123</td>\n",
       "      <td>24</td>\n",
       "    </tr>\n",
       "    <tr>\n",
       "      <th>day 8</th>\n",
       "      <td>198</td>\n",
       "      <td>32</td>\n",
       "    </tr>\n",
       "    <tr>\n",
       "      <th>day 9</th>\n",
       "      <td>126</td>\n",
       "      <td>20</td>\n",
       "    </tr>\n",
       "  </tbody>\n",
       "</table>\n",
       "</div>"
      ],
      "text/plain": [
       "                        Magnum  A-cont\n",
       "Collection in supplier                \n",
       "day 1                      138      16\n",
       "day 2                      171      48\n",
       "day 3                      204      20\n",
       "day 4                      123      24\n",
       "day 5                      198      28\n",
       "day 6                      123      24\n",
       "day 7                      123      24\n",
       "day 8                      198      32\n",
       "day 9                      126      20"
      ]
     },
     "execution_count": 70,
     "metadata": {},
     "output_type": "execute_result"
    }
   ],
   "source": [
    "df_demanda"
   ]
  },
  {
   "cell_type": "code",
   "execution_count": 71,
   "id": "acfcd42b-9220-4232-a412-d56ff37467e5",
   "metadata": {
    "pycharm": {
     "is_executing": true,
     "name": "#%%\n"
    }
   },
   "outputs": [],
   "source": [
    "CamionesDia=[]\n",
    "for t in model.t:\n",
    "    CamionesDia.append(sum(model.Y[c,t].value for c in model.c))\n",
    "df_CamionesDia=pd.DataFrame(CamionesDia,columns=[\"CamionesDia\"])\n",
    "df_CamionesDia.to_csv(\"CamionesDia.csv\")"
   ]
  },
  {
   "cell_type": "code",
   "execution_count": 72,
   "id": "e2c9b24a-b02c-48ed-a521-c6e3c6149bee",
   "metadata": {
    "pycharm": {
     "is_executing": true,
     "name": "#%%\n"
    }
   },
   "outputs": [],
   "source": [
    "stock=[]\n",
    "for t in model.t:\n",
    "    for i in model.i:\n",
    "        stock.append([t,i,model.Stock[i,t].value])\n",
    "df_stock=pd.DataFrame(stock,columns=[\"t\",\"id\",\"Stock\"])\n",
    "df_stock.to_csv(\"Stock.csv\")"
   ]
  },
  {
   "cell_type": "code",
   "execution_count": null,
   "id": "8f8c464d-433a-4da3-8846-c517cbec5988",
   "metadata": {
    "pycharm": {
     "is_executing": true,
     "name": "#%%\n"
    }
   },
   "outputs": [],
   "source": []
  },
  {
   "cell_type": "code",
   "execution_count": 73,
   "id": "8b53b8fa-7b4d-4629-b361-b1c66e9264ee",
   "metadata": {
    "pycharm": {
     "is_executing": true,
     "name": "#%%\n"
    }
   },
   "outputs": [
    {
     "data": {
      "text/plain": [
       "1     1\n",
       "3     2\n",
       "5     3\n",
       "7     4\n",
       "9     5\n",
       "11    6\n",
       "13    7\n",
       "15    8\n",
       "Name: t, dtype: int64"
      ]
     },
     "execution_count": 73,
     "metadata": {},
     "output_type": "execute_result"
    }
   ],
   "source": [
    "df2.loc[df2[\"id\"]==1][\"t\"]"
   ]
  },
  {
   "cell_type": "code",
   "execution_count": 74,
   "id": "14cc73d3",
   "metadata": {
    "pycharm": {
     "is_executing": true,
     "name": "#%%\n"
    }
   },
   "outputs": [],
   "source": [
    "cantidadpedir_pro=[]\n",
    "for t in model.t:\n",
    "    pro=[]\n",
    "    for i in model.i:\n",
    "        pro.append(sum(model.CantidadPedir[i,c,t,col].value  for c in model.c for col in model.col))\n",
    "    cantidadpedir_pro.append(pro)\n",
    "df_cantidadpedir_pro=pd.DataFrame(cantidadpedir_pro,columns=[str(i) for i in model.i])"
   ]
  },
  {
   "cell_type": "code",
   "execution_count": 75,
   "id": "5b8385d4",
   "metadata": {
    "pycharm": {
     "is_executing": true,
     "name": "#%%\n"
    }
   },
   "outputs": [],
   "source": [
    "df_cantidadpedir_pro.to_csv(\"CantidadPedir.csv\")"
   ]
  },
  {
   "cell_type": "code",
   "execution_count": 76,
   "id": "8c6ad361",
   "metadata": {
    "pycharm": {
     "is_executing": true,
     "name": "#%%\n"
    }
   },
   "outputs": [],
   "source": [
    "cantidadpedir_acu=[]\n",
    "for t in model.t:\n",
    "    pro=[]\n",
    "    for i in model.i:\n",
    "        pro.append(sum(model.CantidadPedir[i,c,t1,col].value  for c in model.c for col in model.col for t1 in list(model.t)[0:t]))\n",
    "    cantidadpedir_acu.append(pro)"
   ]
  },
  {
   "cell_type": "code",
   "execution_count": null,
   "id": "12ecbbca",
   "metadata": {
    "pycharm": {
     "is_executing": true,
     "name": "#%%\n"
    }
   },
   "outputs": [],
   "source": []
  },
  {
   "cell_type": "code",
   "execution_count": 77,
   "id": "5d2dc1b9",
   "metadata": {
    "pycharm": {
     "is_executing": true,
     "name": "#%%\n"
    }
   },
   "outputs": [],
   "source": [
    "df_cantidadpedir_acu=pd.DataFrame(cantidadpedir_acu, columns=[str(i) for i in model.i])\n",
    "df_cantidadpedir_acu[\"2\"]\n",
    "df_cantidadpedir_acu.to_csv(\"CantidadPedirAcumulado.csv\")"
   ]
  },
  {
   "cell_type": "code",
   "execution_count": null,
   "id": "52daf6bf",
   "metadata": {
    "pycharm": {
     "is_executing": true,
     "name": "#%%\n"
    }
   },
   "outputs": [],
   "source": []
  },
  {
   "cell_type": "code",
   "execution_count": null,
   "id": "218f711a",
   "metadata": {
    "pycharm": {
     "is_executing": true,
     "name": "#%%\n"
    }
   },
   "outputs": [],
   "source": []
  }
 ],
 "metadata": {
  "kernelspec": {
   "display_name": "Python 3 (ipykernel)",
   "language": "python",
   "name": "python3"
  },
  "language_info": {
   "codemirror_mode": {
    "name": "ipython",
    "version": 3
   },
   "file_extension": ".py",
   "mimetype": "text/x-python",
   "name": "python",
   "nbconvert_exporter": "python",
   "pygments_lexer": "ipython3",
   "version": "3.8.13"
  }
 },
 "nbformat": 4,
 "nbformat_minor": 5
}