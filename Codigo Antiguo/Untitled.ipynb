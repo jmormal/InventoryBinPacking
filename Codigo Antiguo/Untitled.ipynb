{
 "cells": [
  {
   "cell_type": "code",
   "execution_count": 1,
   "id": "f1428c00-5390-4072-baed-8379bc556497",
   "metadata": {},
   "outputs": [],
   "source": [
    "import pyomo.environ as pe\n",
    "import pyomo.opt as po"
   ]
  },
  {
   "cell_type": "code",
   "execution_count": 2,
   "id": "289fdc8e-c3b2-4aa9-9000-b5b6f0179ef6",
   "metadata": {},
   "outputs": [],
   "source": [
    "solver = po.SolverFactory('glpk')"
   ]
  },
  {
   "cell_type": "code",
   "execution_count": 3,
   "id": "99bcfa8c-84df-46dd-9c2d-323bd585f267",
   "metadata": {},
   "outputs": [],
   "source": [
    "model = pe.ConcreteModel()"
   ]
  },
  {
   "cell_type": "code",
   "execution_count": 4,
   "id": "63f708c5-737d-4ac9-8b80-96dfe59a9de7",
   "metadata": {},
   "outputs": [],
   "source": [
    "model.x1 = pe.Var(domain=pe.Binary)\n",
    "model.x2 = pe.Var(domain=pe.Binary)\n",
    "model.x3 = pe.Var(domain=pe.Binary)\n",
    "model.x4 = pe.Var(domain=pe.Binary)\n",
    "model.x5 = pe.Var(domain=pe.Binary)"
   ]
  },
  {
   "cell_type": "code",
   "execution_count": 5,
   "id": "12720f25-37ed-4ee9-b753-40388136e0b2",
   "metadata": {},
   "outputs": [],
   "source": [
    "obj_expr = 3 * model.x1 + 4 * model.x2 + 5 * model.x3 + 8 * model.x4 + 9 * model.x5\n",
    "model.obj = pe.Objective(sense=pe.maximize, expr=obj_expr)"
   ]
  },
  {
   "cell_type": "code",
   "execution_count": 6,
   "id": "b1807792-a172-4884-a179-0e55ed22941d",
   "metadata": {},
   "outputs": [],
   "source": [
    "con_expr = 2 * model.x1 + 3 * model.x2 + 4 * model.x3 + 5 * model.x4 + 9 * model.x5 <= 20\n",
    "model.con = pe.Constraint(expr=con_expr)"
   ]
  },
  {
   "cell_type": "code",
   "execution_count": 9,
   "id": "703521a8-f780-48b3-9d0d-a95c08d7e738",
   "metadata": {},
   "outputs": [
    {
     "name": "stdout",
     "output_type": "stream",
     "text": [
      "GLPSOL--GLPK LP/MIP Solver 5.0\n",
      "Parameter(s) specified in the command line:\n",
      " --write C:\\Users\\juano\\AppData\\Local\\Temp\\tmpe35k0w6n.glpk.raw --wglp C:\\Users\\juano\\AppData\\Local\\Temp\\tmp6h5_tx9q.glpk.glp\n",
      " --cpxlp C:\\Users\\juano\\AppData\\Local\\Temp\\tmptdns514e.pyomo.lp\n",
      "Reading problem data from 'C:\\Users\\juano\\AppData\\Local\\Temp\\tmptdns514e.pyomo.lp'...\n",
      "C:\\Users\\juano\\AppData\\Local\\Temp\\tmptdns514e.pyomo.lp:31: warning: lower bound of variable 'x1' redefined\n",
      "C:\\Users\\juano\\AppData\\Local\\Temp\\tmptdns514e.pyomo.lp:31: warning: upper bound of variable 'x1' redefined\n",
      "2 rows, 6 columns, 6 non-zeros\n",
      "5 integer variables, all of which are binary\n",
      "36 lines were read\n",
      "Writing problem data to 'C:\\Users\\juano\\AppData\\Local\\Temp\\tmp6h5_tx9q.glpk.glp'...\n",
      "25 lines were written\n",
      "GLPK Integer Optimizer 5.0\n",
      "2 rows, 6 columns, 6 non-zeros\n",
      "5 integer variables, all of which are binary\n",
      "Preprocessing...\n",
      "3 constraint coefficient(s) were reduced\n",
      "1 row, 5 columns, 5 non-zeros\n",
      "5 integer variables, all of which are binary\n",
      "Scaling...\n",
      " A: min|aij| =  2.000e+00  max|aij| =  3.000e+00  ratio =  1.500e+00\n",
      "Problem data seem to be well scaled\n",
      "Constructing initial basis...\n",
      "Size of triangular part is 1\n",
      "Solving LP relaxation...\n",
      "GLPK Simplex Optimizer 5.0\n",
      "1 row, 5 columns, 5 non-zeros\n",
      "*     0: obj =  -0.000000000e+00 inf =   0.000e+00 (5)\n",
      "*     5: obj =   2.500000000e+01 inf =   0.000e+00 (0)\n",
      "OPTIMAL LP SOLUTION FOUND\n",
      "Integer optimization begins...\n",
      "Long-step dual simplex will be used\n",
      "+     5: mip =     not found yet <=              +inf        (1; 0)\n",
      "+     5: >>>>>   2.500000000e+01 <=   2.500000000e+01   0.0% (1; 0)\n",
      "+     5: mip =   2.500000000e+01 <=     tree is empty   0.0% (0; 1)\n",
      "INTEGER OPTIMAL SOLUTION FOUND\n",
      "Time used:   0.0 secs\n",
      "Memory used: 0.1 Mb (60111 bytes)\n",
      "Writing MIP solution to 'C:\\Users\\juano\\AppData\\Local\\Temp\\tmpe35k0w6n.glpk.raw'...\n",
      "17 lines were written\n"
     ]
    },
    {
     "data": {
      "text/plain": [
       "<pyomo.core.base.var.ScalarVar at 0x1cde37e5890>"
      ]
     },
     "execution_count": 9,
     "metadata": {},
     "output_type": "execute_result"
    }
   ],
   "source": [
    "\n",
    "result = solver.solve(model, tee=True)\n",
    "model.x1"
   ]
  },
  {
   "cell_type": "markdown",
   "id": "eaa47a1b-a703-4e6a-8048-401a2e3e54df",
   "metadata": {},
   "source": [
    "## Implement (General)"
   ]
  },
  {
   "cell_type": "code",
   "execution_count": 22,
   "id": "6f17f48e-e2d1-4175-b74f-5d90b0ba15aa",
   "metadata": {},
   "outputs": [],
   "source": [
    "model = pe.ConcreteModel()"
   ]
  },
  {
   "cell_type": "code",
   "execution_count": 25,
   "id": "db77fa29-3c19-4e9d-a20e-6f3dea911e4a",
   "metadata": {},
   "outputs": [
    {
     "name": "stdout",
     "output_type": "stream",
     "text": [
      "WARNING: Implicitly replacing the Component attribute N (type=<class\n",
      "    'pyomo.core.base.set.FiniteScalarRangeSet'>) on block unknown with a new\n",
      "    Component (type=<class 'pyomo.core.base.set.FiniteScalarRangeSet'>). This\n",
      "    is usually indicative of a modelling error. To avoid this warning, use\n",
      "    block.del_component() and block.add_component().\n"
     ]
    }
   ],
   "source": [
    "model.N = pe.RangeSet(1, 5)"
   ]
  },
  {
   "cell_type": "code",
   "execution_count": 26,
   "id": "4fd4e237-8863-4581-8f45-e32078ce8237",
   "metadata": {},
   "outputs": [
    {
     "name": "stdout",
     "output_type": "stream",
     "text": [
      "{1, 2, 3, 4, 5}\n"
     ]
    }
   ],
   "source": [
    "print(set(model.N))"
   ]
  },
  {
   "cell_type": "code",
   "execution_count": 27,
   "id": "23c2ab23-f765-4570-8147-536261360441",
   "metadata": {},
   "outputs": [],
   "source": [
    "c = {1: 3, 2: 4, 3: 5, 4: 8, 5: 9}\n",
    "a = {1: 2, 2: 3, 3: 4, 4: 5, 5: 9}\n",
    "b = 20"
   ]
  },
  {
   "cell_type": "code",
   "execution_count": 28,
   "id": "27d16a34-cf17-4125-a5f4-a7c99cff1041",
   "metadata": {},
   "outputs": [],
   "source": [
    "model.c = pe.Param(model.N, initialize=c)\n",
    "model.a = pe.Param(model.N, initialize=a)\n",
    "model.b = pe.Param(initialize=b)"
   ]
  },
  {
   "cell_type": "code",
   "execution_count": 29,
   "id": "baaa8c65-0226-4fd3-9bcd-9ab988991dd8",
   "metadata": {},
   "outputs": [
    {
     "name": "stdout",
     "output_type": "stream",
     "text": [
      "c\n",
      "4\n",
      "b\n",
      "20\n",
      "20\n"
     ]
    }
   ],
   "source": [
    "print(model.c)\n",
    "print(model.c[2])\n",
    "print(model.b)\n",
    "print(model.b.value)\n",
    "print(pe.value(model.b))"
   ]
  },
  {
   "cell_type": "code",
   "execution_count": 30,
   "id": "88dfc5eb-bad4-4418-8e78-42ab486efe84",
   "metadata": {},
   "outputs": [],
   "source": [
    "model.x = pe.Var(model.N, domain=pe.Binary)"
   ]
  },
  {
   "cell_type": "code",
   "execution_count": 31,
   "id": "1d686a23-9456-45c7-8294-df7ca4ff4e48",
   "metadata": {},
   "outputs": [],
   "source": [
    "obj_expr = sum(model.c[i] * model.x[i] for i in model.N)\n",
    "model.obj = pe.Objective(sense=pe.maximize, expr=obj_expr)"
   ]
  },
  {
   "cell_type": "code",
   "execution_count": 32,
   "id": "01477f75-8593-4972-8041-d5307dc9a2ef",
   "metadata": {},
   "outputs": [],
   "source": [
    "con_lhs_expr = sum(model.a[i] * model.x[i] for i in model.N)\n",
    "con_rhs_expr = model.b\n",
    "model.con1 = pe.Constraint(expr=(con_lhs_expr <= con_rhs_expr))"
   ]
  },
  {
   "cell_type": "code",
   "execution_count": 33,
   "id": "8c8ea637-0c51-4573-982d-e115588b3b80",
   "metadata": {},
   "outputs": [],
   "source": [
    "result = solver.solve(model)"
   ]
  },
  {
   "cell_type": "code",
   "execution_count": 24,
   "id": "ba5d90e9-2843-40cc-8154-23a3fc2fe81b",
   "metadata": {},
   "outputs": [
    {
     "data": {
      "text/plain": [
       "{'_ctypes': {pyomo.core.base.set.RangeSet: [0, 0, 1]},\n",
       " '_decl': {'N': 0},\n",
       " '_decl_order': [(<pyomo.core.base.set.FiniteScalarRangeSet at 0x1cde4340c40>,\n",
       "   None)],\n",
       " '_suppress_ctypes': set(),\n",
       " '_dense': True,\n",
       " '_ctype': pyomo.core.base.block.Block,\n",
       " 'doc': None,\n",
       " '_name': 'unknown',\n",
       " '_constructed': True,\n",
       " '_parent': None,\n",
       " '_data': {None: <pyomo.core.base.PyomoModel.ConcreteModel at 0x1cde3ab3600>},\n",
       " '_implicit_subsets': None,\n",
       " '_index': <pyomo.core.base.global_set._UnindexedComponent_set at 0x1cddffc8e80>,\n",
       " '_rule': None,\n",
       " 'statistics': Bunch(),\n",
       " 'config': PyomoConfig(),\n",
       " 'solutions': <pyomo.core.base.PyomoModel.ModelSolutions at 0x1cde3d080d0>,\n",
       " 'N': <pyomo.core.base.set.FiniteScalarRangeSet at 0x1cde4340c40>}"
      ]
     },
     "execution_count": 24,
     "metadata": {},
     "output_type": "execute_result"
    }
   ],
   "source": [
    "model.__dict__"
   ]
  },
  {
   "cell_type": "code",
   "execution_count": 34,
   "id": "a7b6bcd1-cf1d-4674-9222-d5c534e4c261",
   "metadata": {},
   "outputs": [
    {
     "name": "stdout",
     "output_type": "stream",
     "text": [
      "1.0\n",
      "0.0\n",
      "1.0\n",
      "1.0\n",
      "1.0\n",
      "25.0\n"
     ]
    }
   ],
   "source": [
    "for i in model.N:\n",
    "    print(pe.value(model.x[i]))\n",
    "print(pe.value(model.obj))"
   ]
  },
  {
   "cell_type": "code",
   "execution_count": null,
   "id": "3aecc258-29b3-4b21-ad40-9a0ac1a9aa6f",
   "metadata": {},
   "outputs": [],
   "source": []
  }
 ],
 "metadata": {
  "kernelspec": {
   "display_name": "Python 3 (ipykernel)",
   "language": "python",
   "name": "python3"
  },
  "language_info": {
   "codemirror_mode": {
    "name": "ipython",
    "version": 3
   },
   "file_extension": ".py",
   "mimetype": "text/x-python",
   "name": "python",
   "nbconvert_exporter": "python",
   "pygments_lexer": "ipython3",
   "version": "3.8.10"
  }
 },
 "nbformat": 4,
 "nbformat_minor": 5
}
