{
 "cells": [
  {
   "cell_type": "code",
   "execution_count": 1,
   "id": "e42650f7-d9b6-45a8-b68c-76ae8f92e009",
   "metadata": {},
   "outputs": [],
   "source": [
    "import pyodbc\n",
    "import pandas as pd\n",
    "import pyomo.environ as pe\n",
    "import pyomo.opt as po\n",
    "model = pe.ConcreteModel(\"Cargacamiones\")\n"
   ]
  },
  {
   "cell_type": "code",
   "execution_count": 2,
   "id": "b8fa57e5-a2fb-4af9-8ef3-3624a71f3b1d",
   "metadata": {},
   "outputs": [],
   "source": [
    "path=r\"C:\\Users\\jmormal\\PycharmProjects\\pythonProject3\\Carga de camiones\\Transporte_cubicaje.mdb\"\n",
    "conn = pyodbc.connect('Driver={Microsoft Access Driver (*.mdb, *.accdb)};DBQ='+path+';')\n",
    "cursor = conn.cursor()"
   ]
  },
  {
   "cell_type": "markdown",
   "id": "90368ebb-04b7-4902-9262-c9170e9c357a",
   "metadata": {},
   "source": [
    "Familias Carga de datos"
   ]
  },
  {
   "cell_type": "code",
   "execution_count": 3,
   "id": "4cec6228-3dcb-4b33-82c2-6f7a31f7dee8",
   "metadata": {},
   "outputs": [],
   "source": [
    "cursor.execute('select IdProducto from Productos')\n",
    "productos=[]\n",
    "for row in cursor.fetchall():\n",
    "    productos.append(row[0])"
   ]
  },
  {
   "cell_type": "code",
   "execution_count": 4,
   "id": "1729c2ef-9b05-47de-8bb3-00b4c5f6eeaa",
   "metadata": {},
   "outputs": [],
   "source": [
    "cursor.execute('select IdFamilia from Familias')\n",
    "familias=[]\n",
    "for row in cursor.fetchall():\n",
    "    familias.append(row[0])"
   ]
  },
  {
   "cell_type": "code",
   "execution_count": 5,
   "id": "67d24c87-6a45-4b11-9a79-ca590c00db10",
   "metadata": {},
   "outputs": [],
   "source": [
    "cursor.execute('select IdCamion from Camiones WHERE IdCamion<4')\n",
    "camiones=[]\n",
    "for i in range(1,10):\n",
    "    camiones.append(i)"
   ]
  },
  {
   "cell_type": "code",
   "execution_count": 6,
   "id": "b146f205-9229-4c16-8c3b-b7c6fa6030c1",
   "metadata": {},
   "outputs": [],
   "source": [
    "cursor.execute('select IdDia from Dias WHERE \"IdDia\"<=19')\n",
    "dias=[]\n",
    "for row in cursor.fetchall():\n",
    "    dias.append(row[0])\n",
    "        "
   ]
  },
  {
   "cell_type": "code",
   "execution_count": 7,
   "id": "a819db32-4ace-44cc-8422-436a1943c34d",
   "metadata": {},
   "outputs": [],
   "source": [
    "cursor.execute('select IdDia from Dias')\n",
    "dias1=[]\n",
    "for row in cursor.fetchall():\n",
    "    dias1.append(row[0])\n",
    "    "
   ]
  },
  {
   "cell_type": "code",
   "execution_count": 8,
   "id": "07399b98-4597-43ce-97d2-e4354d17b914",
   "metadata": {},
   "outputs": [],
   "source": [
    "columnas=[1,2]"
   ]
  },
  {
   "cell_type": "markdown",
   "id": "45f4435a-4da6-4a13-b895-945c4f2e2f48",
   "metadata": {},
   "source": [
    "## Familias Pyomo"
   ]
  },
  {
   "cell_type": "code",
   "execution_count": 9,
   "id": "62d43fd4-f804-4e33-8960-4f0123a03598",
   "metadata": {},
   "outputs": [],
   "source": [
    "model.i = pe.Set(initialize=productos)\n",
    "model.f = pe.Set(initialize=familias)\n",
    "model.c = pe.Set(initialize=camiones)\n",
    "model.t = pe.Set(initialize=dias)\n",
    "model.t1 = pe.Set(initialize=dias1)\n",
    "model.col=pe.Set(initialize=columnas)"
   ]
  },
  {
   "cell_type": "markdown",
   "id": "56854c70-cd27-4926-ae52-ab188ae1680d",
   "metadata": {},
   "source": [
    "## Carga de datos productos"
   ]
  },
  {
   "cell_type": "code",
   "execution_count": 10,
   "id": "0e9d47b7-50e0-4466-b192-b6585231c153",
   "metadata": {},
   "outputs": [],
   "source": [
    "cursor.execute('select IdFamilia, LotePedido from Familias')\n",
    "lotepedido={}\n",
    "for row in cursor.fetchall():\n",
    "    lotepedido.update({row[0]:row[1]})\n"
   ]
  },
  {
   "cell_type": "code",
   "execution_count": 11,
   "id": "29c33ca3-f76a-428c-9a79-8c12eca08171",
   "metadata": {},
   "outputs": [],
   "source": [
    "cursor.execute('select IdProducto , PiezasCont from Productos')\n",
    "piezascont={}\n",
    "for row in cursor.fetchall():\n",
    "    piezascont.update({row[0]:row[1]})"
   ]
  },
  {
   "cell_type": "code",
   "execution_count": 12,
   "id": "995a888b-08b1-4a53-929e-e56697c2c0ee",
   "metadata": {},
   "outputs": [],
   "source": [
    "cursor.execute('select IdProducto , LargoContedor from Productos')\n",
    "piezas_largo_box={}\n",
    "for row in cursor.fetchall():\n",
    "    piezas_largo_box.update({row[0]:row[1]})"
   ]
  },
  {
   "cell_type": "code",
   "execution_count": 13,
   "id": "13962258-4bdf-4a63-9482-1bca7ab61528",
   "metadata": {},
   "outputs": [],
   "source": [
    "cursor.execute('select IdProducto , IdFamilia, beta from beta')\n",
    "b={}\n",
    "for row in cursor.fetchall():\n",
    "    b.update({(row[0],row[1]):row[2]})\n"
   ]
  },
  {
   "cell_type": "code",
   "execution_count": 14,
   "id": "099cc323-bcbb-4125-8d79-fee66ccdaae3",
   "metadata": {},
   "outputs": [],
   "source": [
    "cursor.execute('select  IdProducto , IdDia, Demanda from Demanda')\n",
    "demanda={}\n",
    "for row in cursor.fetchall():\n",
    "    demanda.update({(row[0],row[1]):row[2]})"
   ]
  },
  {
   "cell_type": "code",
   "execution_count": 15,
   "id": "e0eb904d-1c8a-4e15-a0dd-803f5cc4f972",
   "metadata": {},
   "outputs": [],
   "source": [
    "# cursor.execute('select IdProducto , StockInicial from Productos')\n",
    "stockInicial={}\n",
    "# for row in cursor.fetchall():\n",
    "#     stockInicial.update({row[0]:row[1]})\n",
    "cursor.execute('select  IdProducto , Demanda from Demanda where IdDia=1')\n",
    "\n",
    "for row in cursor.fetchall():\n",
    "    stockInicial.update({row[0]:row[1]*3})\n"
   ]
  },
  {
   "cell_type": "code",
   "execution_count": null,
   "id": "d1592a33-918c-4279-989e-67b75cc553da",
   "metadata": {},
   "outputs": [],
   "source": []
  },
  {
   "cell_type": "code",
   "execution_count": 16,
   "id": "8750c074-23b5-4b1e-94e1-7e7f9a9d0f77",
   "metadata": {},
   "outputs": [],
   "source": [
    "cursor.execute('select  IdProducto , Valor from Productos')\n",
    "valor={}\n",
    "for row in cursor.fetchall():\n",
    "    valor.update({row[0]:row[1]})"
   ]
  },
  {
   "cell_type": "code",
   "execution_count": 17,
   "id": "ae03f73d-8cda-4a9d-a6a2-9cf71c6441a6",
   "metadata": {},
   "outputs": [],
   "source": [
    "PC={}\n",
    "for camion in camiones:\n",
    "    PC.update({camion:1000})"
   ]
  },
  {
   "cell_type": "code",
   "execution_count": 18,
   "id": "5f7ec971-3d78-49a9-8518-1d2454643441",
   "metadata": {},
   "outputs": [],
   "source": [
    "L=78\n",
    "nu=26/30\n",
    "NT_lw=5\n",
    "NT_up=10"
   ]
  },
  {
   "cell_type": "code",
   "execution_count": 19,
   "id": "285975ba-3b0f-4e8a-ae1f-7656bd99d3cb",
   "metadata": {},
   "outputs": [
    {
     "name": "stdout",
     "output_type": "stream",
     "text": [
      "WARNING: DEPRECATED: Param 'LargoCont' declared with an implicit domain of\n",
      "    'Any'. The default domain for Param objects is 'Any'.  However, we will be\n",
      "    changing that default to 'Reals' in the future.  If you really intend the\n",
      "    domain of this Paramto be 'Any', you can suppress this warning by\n",
      "    explicitly specifying 'within=Any' to the Param constructor.  (deprecated\n",
      "    in 5.6.9, will be removed in (or after) 6.0) (called from\n",
      "    C:\\Users\\jmormal\\Anaconda3\\envs\\cubicaje38\\lib\\site-\n",
      "    packages\\pyomo\\core\\base\\indexed_component.py:645)\n"
     ]
    }
   ],
   "source": [
    "model.LotePedido = pe.Param(model.f , initialize=lotepedido)\n",
    "model.PiezasCont= pe.Param(model.i ,initialize=piezascont)\n",
    "model.b= pe.Param(model.i, model.f ,initialize=b, default=0)\n",
    "model.StockInicial= pe.Param(model.i, initialize=stockInicial)\n",
    "model.demanda= pe.Param(model.i, model.t1,  initialize=demanda)\n",
    "model.valor=pe.Param(model.i, initialize=stockInicial)\n",
    "model.PC=pe.Param(model.c, initialize=PC)\n",
    "model.L=pe.Param(initialize=L)\n",
    "model.nu=pe.Param(initialize=nu)\n",
    "model.NT_lw=pe.Param(initialize=NT_lw)\n",
    "model.NT_up=pe.Param(initialize=NT_up)\n",
    "model.LargoCont=pe.Param(model.i,initialize=piezas_largo_box)"
   ]
  },
  {
   "cell_type": "markdown",
   "id": "dfe06a96-676c-48f6-a963-bf71ffbabd5a",
   "metadata": {},
   "source": [
    "# # Varibles"
   ]
  },
  {
   "cell_type": "code",
   "execution_count": 20,
   "id": "703e4d9f-a03e-4019-a8c1-a631475fc6b8",
   "metadata": {},
   "outputs": [],
   "source": [
    "model.CantidadPedir = pe.Var(model.i, model.c, model.t,model.col, domain=pe.Integers, bounds=(0,None))"
   ]
  },
  {
   "cell_type": "code",
   "execution_count": 21,
   "id": "45e1db77-888c-451b-887b-6eb9855e3dbe",
   "metadata": {},
   "outputs": [],
   "source": [
    "model.CantidadPedir2 = pe.Var(model.i,model.f, model.c, model.t,model.col, domain=pe.Integers )\n",
    "model.ContenedoresCamion=pe.Var(model.c,model.t,model.col,model.i, domain=pe.Integers)"
   ]
  },
  {
   "cell_type": "code",
   "execution_count": 22,
   "id": "8aedd595-3e0e-455b-83eb-b29110277101",
   "metadata": {},
   "outputs": [],
   "source": [
    "model.Stock=pe.Var(model.i,model.t, bounds=(0,None))"
   ]
  },
  {
   "cell_type": "code",
   "execution_count": 23,
   "id": "78544ce4-f486-43f6-b950-4b2f91e332e0",
   "metadata": {},
   "outputs": [],
   "source": [
    "model.RetrasoDemanda=pe.Var(model.i,model.t, bounds=(0,None))"
   ]
  },
  {
   "cell_type": "code",
   "execution_count": 24,
   "id": "5d8daad9-835e-4f5e-9f06-8c33b3459648",
   "metadata": {},
   "outputs": [],
   "source": [
    "model.K=pe.Var(model.f,model.c,model.t,model.col ,domain=pe.Integers)"
   ]
  },
  {
   "cell_type": "code",
   "execution_count": 25,
   "id": "9a57ba50-b2eb-4f12-926d-29626c730758",
   "metadata": {},
   "outputs": [],
   "source": [
    "model.Y=pe.Var(model.c,model.t ,domain=pe.Binary, initialize=0)"
   ]
  },
  {
   "cell_type": "code",
   "execution_count": 26,
   "id": "a7e18df4-c807-425e-8357-7d834d601616",
   "metadata": {},
   "outputs": [],
   "source": [
    "model.A=pe.Var(model.c,model.col,model.t, domain=pe.Integers, bounds=(0,None))\n",
    "model.B=pe.Var(model.c,model.col, model.t, domain=pe.Integers, bounds=(0,None))\n"
   ]
  },
  {
   "cell_type": "markdown",
   "id": "4456c6c3-d50e-42ad-8287-5c26dfdf99af",
   "metadata": {},
   "source": [
    "## Función Objetivo"
   ]
  },
  {
   "cell_type": "code",
   "execution_count": 27,
   "id": "21e0ac46-c8c0-4d10-921f-5d4fb694b2cd",
   "metadata": {},
   "outputs": [],
   "source": [
    "expr = sum(model.PC[c]*model.Y[c,t]  for c in model.c for t in model.t)"
   ]
  },
  {
   "cell_type": "code",
   "execution_count": 28,
   "id": "51e5e1fd-4e59-4dd4-89de-7c103381e841",
   "metadata": {},
   "outputs": [],
   "source": [
    " #Coste Transporte\n",
    "model.objective = pe.Objective(sense=pe.minimize, expr=expr)"
   ]
  },
  {
   "cell_type": "markdown",
   "id": "ceb7304e-b5e4-4fd0-b692-5224aaff29fb",
   "metadata": {},
   "source": [
    "## Funciones auxiliares"
   ]
  },
  {
   "cell_type": "code",
   "execution_count": 29,
   "id": "5e708056-8ba4-400c-82a8-9a14cbc7f647",
   "metadata": {},
   "outputs": [],
   "source": [
    "def UsoCamion(model):\n",
    "    return sum(model.L*model.Y[c,t] for c in model.c for t in model.t)-\\\n",
    "        sum(model.ContenedoresCamion[c,t] for c in model.c for t in model.t)"
   ]
  },
  {
   "cell_type": "code",
   "execution_count": 30,
   "id": "2715fc7d-df48-4756-a01f-8f4ba07c26b2",
   "metadata": {},
   "outputs": [],
   "source": [
    "def CTransporte(model):\n",
    "    return sum(model.PC[c]*model.Y[c,t] for c in model.c for t in model.t)"
   ]
  },
  {
   "cell_type": "code",
   "execution_count": 31,
   "id": "165ba238-8b2c-42c3-91ae-5fb67d2187ea",
   "metadata": {},
   "outputs": [],
   "source": [
    "def NumeroCamiones(model):\n",
    "    return sum(model.Y[c,t] for c in model.c for t in model.t)"
   ]
  },
  {
   "cell_type": "markdown",
   "id": "2f88e217-bfde-44aa-807a-172241f861dd",
   "metadata": {},
   "source": [
    "## Restricciones"
   ]
  },
  {
   "cell_type": "code",
   "execution_count": 32,
   "id": "f5a915f0-7814-45c9-b5c1-5dfb41a5f4c3",
   "metadata": {},
   "outputs": [],
   "source": [
    "model.stocks=pe.ConstraintList()"
   ]
  },
  {
   "cell_type": "code",
   "execution_count": 33,
   "id": "ce6ac04f-3309-4c96-8816-d280df1661be",
   "metadata": {},
   "outputs": [],
   "source": [
    "for i in model.i:\n",
    "        lhs=model.Stock[i,1]\n",
    "        rhs=model.StockInicial[i]-model.demanda[i,1]+sum(model.CantidadPedir[i,c,1,col] for c in model.c for col in model.col )\n",
    "        model.stocks.add(lhs==rhs)"
   ]
  },
  {
   "cell_type": "code",
   "execution_count": 34,
   "id": "173d8196-22f7-4695-8c8a-1922b5c29a23",
   "metadata": {},
   "outputs": [],
   "source": [
    "for t in list(model.t)[1:]:\n",
    "    for i in model.i:\n",
    "            lhs=model.Stock[i,t]\n",
    "            rhs=model.Stock[i,t-1]-model.demanda[i,t-1]+sum(model.CantidadPedir[i,c,t-1,col] for c in model.c for col in model.col)\n",
    "            model.stocks.add(lhs==rhs)"
   ]
  },
  {
   "cell_type": "code",
   "execution_count": 35,
   "id": "05d94883-746b-4680-9115-cd65cd7b429f",
   "metadata": {},
   "outputs": [],
   "source": [
    "model.RcantidadPedir=pe.ConstraintList()"
   ]
  },
  {
   "cell_type": "code",
   "execution_count": 36,
   "id": "01555077-48bd-4a11-ad7d-256c44725d76",
   "metadata": {},
   "outputs": [],
   "source": [
    "for i in model.i:\n",
    "    for f in model.f:\n",
    "        for c in model.c:\n",
    "            for t in model.t:\n",
    "                for col in model.col:\n",
    "                    lhs=model.CantidadPedir2[i,f,c,t,col]\n",
    "                    rhs=model.K[f,c,t,col]*model.LotePedido[f]*model.b[i,f]\n",
    "                    model.RcantidadPedir.add(lhs==rhs)"
   ]
  },
  {
   "cell_type": "code",
   "execution_count": 37,
   "id": "8e74beb7-51cf-44e2-b5c4-bd406b1526bf",
   "metadata": {},
   "outputs": [],
   "source": [
    "model.RcantidadPedir2=pe.ConstraintList()"
   ]
  },
  {
   "cell_type": "code",
   "execution_count": 38,
   "id": "90e660c5-19e9-4fb3-824c-6588d1ee577d",
   "metadata": {},
   "outputs": [],
   "source": [
    "for i in model.i:\n",
    "    for c in model.c:\n",
    "        for t in model.t:\n",
    "            for col in model.col:\n",
    "                lhs=model.CantidadPedir[i,c,t,col]\n",
    "                rhs=sum(model.CantidadPedir2[i,f,c,t,col] for f in model.f)\n",
    "                model.RcantidadPedir2.add(lhs==rhs)"
   ]
  },
  {
   "cell_type": "code",
   "execution_count": 39,
   "id": "d6bf0da5-4f2f-4a52-8a2a-df1f172058ab",
   "metadata": {},
   "outputs": [],
   "source": [
    "# model.RContendores=pe.ConstraintList()"
   ]
  },
  {
   "cell_type": "code",
   "execution_count": 40,
   "id": "80eb9004-3a56-42fc-8c6a-20a5db275f08",
   "metadata": {},
   "outputs": [],
   "source": [
    "# for c in model.c:\n",
    "#     for t in model.t:\n",
    "#         for col in model.col:\n",
    "#             for i in model.i:\n",
    "#                 lhs=model.ContenedoresCamion[c,t,col,i]\n",
    "#                 rhs=model.CantidadPedir[i,c,t,col]/model.PiezasCont[i]\n",
    "#                 model.RContendores.add(lhs==rhs)"
   ]
  },
  {
   "cell_type": "code",
   "execution_count": 41,
   "id": "6bd9b17b-a8c1-496f-8932-beed91d88eb6",
   "metadata": {},
   "outputs": [],
   "source": [
    "model.RDimensionesCamion=pe.ConstraintList()"
   ]
  },
  {
   "cell_type": "code",
   "execution_count": 42,
   "id": "13920e0a-7f48-4177-a90a-c0e69e64648f",
   "metadata": {},
   "outputs": [],
   "source": [
    "for c in model.c:\n",
    "    for t in model.t:\n",
    "        for col in model.col:\n",
    "            lhs=13600\n",
    "            rhs=(model.A[c,col,t]*1600+model.B[c,col,t]*1000)*model.Y[c,t]\n",
    "            model.RDimensionesCamion.add(lhs>=rhs)"
   ]
  },
  {
   "cell_type": "code",
   "execution_count": 43,
   "id": "e327728c-f509-4340-b66c-19a743ee6d17",
   "metadata": {},
   "outputs": [],
   "source": [
    "model.RCajasTotales=pe.ConstraintList()"
   ]
  },
  {
   "cell_type": "code",
   "execution_count": 44,
   "id": "c9cf7adb-6b4c-4f0f-8ecd-65e881651242",
   "metadata": {},
   "outputs": [],
   "source": [
    "for c in model.c:\n",
    "    for t in model.t:\n",
    "        for col in model.col:\n",
    "            lhs=sum(model.CantidadPedir[i,c,t,col]/model.PiezasCont[i] for i in model.i)\n",
    "            rhs=(model.A[c,col,t]*4+model.B[c,col,t]*3)*model.Y[c,t]\n",
    "            model.RCajasTotales.add(lhs<=rhs)"
   ]
  },
  {
   "cell_type": "code",
   "execution_count": 45,
   "id": "2c10fa4c-7e07-4358-83c4-07f0b542553a",
   "metadata": {},
   "outputs": [],
   "source": [
    "model.RCajasTipoA=pe.ConstraintList()"
   ]
  },
  {
   "cell_type": "code",
   "execution_count": 46,
   "id": "f45ddf77-3df3-4a21-9ddd-d19d0f80f87d",
   "metadata": {},
   "outputs": [],
   "source": [
    "for c in model.c:\n",
    "    for t in model.t:\n",
    "        for col in model.col:\n",
    "            lhs=sum(model.CantidadPedir[i,c,t,col]/model.PiezasCont[i]*float(int(model.LargoCont[i])==int(1600)) for i in model.i)\n",
    "            rhs=model.A[c,col,t]*4*model.Y[c,t]\n",
    "            model.RCajasTipoA.add(lhs<=rhs)"
   ]
  },
  {
   "cell_type": "code",
   "execution_count": 47,
   "id": "7074250a-752b-44e4-a9d3-efa4947a1d8b",
   "metadata": {},
   "outputs": [],
   "source": [
    "model.RCajasTipoB=pe.ConstraintList()"
   ]
  },
  {
   "cell_type": "code",
   "execution_count": 48,
   "id": "7a45175a-b1db-4ab3-a1bd-c7e61ba29d53",
   "metadata": {},
   "outputs": [],
   "source": [
    "for c in model.c:\n",
    "    for t in model.t:\n",
    "        for col in model.col:\n",
    "            lhs=sum(model.ContenedoresCamion[c,t,col,i]*float(int(model.LargoCont[i])==int(1000)) for i in model.i)\n",
    "            rhs=model.B[c,col,t]*3*model.Y[c,t]\n",
    "            model.RCajasTipoB.add(lhs<=rhs)"
   ]
  },
  {
   "cell_type": "code",
   "execution_count": 49,
   "id": "67223171-4297-46a8-b4ab-7fd0a3a6c557",
   "metadata": {},
   "outputs": [],
   "source": [
    "# model.RDimensionesCamion=pe.ConstraintList()"
   ]
  },
  {
   "cell_type": "code",
   "execution_count": 50,
   "id": "2da9c700-9c62-4829-8837-f1f58fb6a219",
   "metadata": {},
   "outputs": [],
   "source": [
    "# for c in model.c:\n",
    "#     for t in model.t:\n",
    "#         lhs=model.ContenedoresCamion[c,t]\n",
    "#         rhs=model.L*model.Y[c,t]\n",
    "#         model.RDimensionesCamion.add(lhs<=rhs)"
   ]
  },
  {
   "cell_type": "code",
   "execution_count": 51,
   "id": "2896c7d5-1505-4bb6-b8b0-a6b08933bd8e",
   "metadata": {},
   "outputs": [],
   "source": [
    "# model.RLlenado=pe.ConstraintList()\n",
    "# for c in model.c:\n",
    "#     for t in model.t:\n",
    "#         lhs=model.ContenedoresCamion[c,t]\n",
    "#         rhs=model.L*model.nu*model.Y[c,t]\n",
    "#         model.RLlenado.add(lhs>=rhs)"
   ]
  },
  {
   "cell_type": "code",
   "execution_count": 52,
   "id": "fdae8c93-f5a9-4aa4-b772-2974f089f8cd",
   "metadata": {},
   "outputs": [],
   "source": [
    "model.RCobertura=pe.ConstraintList()\n",
    "for i in model.i:\n",
    "    for t in range(1,16):\n",
    "        lhs=model.Stock[i,t]\n",
    "        rhs=(model.demanda[i,t+1]+model.demanda[i,t+2]+model.demanda[i,t+3]+model.demanda[i,t+4])\n",
    "        model.RCobertura.add(lhs>=rhs)\n",
    "for i in model.i:\n",
    "    for t in range(16,20):\n",
    "        lhs=model.Stock[i,t]\n",
    "        model.RCobertura.add(lhs>=rhs)"
   ]
  },
  {
   "cell_type": "code",
   "execution_count": 53,
   "id": "9355d322-e790-4a34-aeda-8c028dc594d1",
   "metadata": {},
   "outputs": [],
   "source": [
    "model.bounds=pe.ConstraintList()\n",
    "for i in model.i:\n",
    "    for t in model.t:\n",
    "        model.bounds.add(model.Stock[i,t]>=0)\n"
   ]
  },
  {
   "cell_type": "code",
   "execution_count": 54,
   "id": "e954eeff-bab1-4415-b601-7a7679b6bcc0",
   "metadata": {
    "tags": []
   },
   "outputs": [
    {
     "name": "stdout",
     "output_type": "stream",
     "text": [
      "Set parameter Username\n",
      "Academic license - for non-commercial use only - expires 2023-06-30\n",
      "Read LP format model from file C:\\Users\\jmormal\\AppData\\Local\\Temp\\13\\tmpf1fo_rr9.pyomo.lp\n",
      "Reading time = 0.65 seconds\n",
      "x93766: 82936 rows, 89377 columns, 170416 nonzeros\n",
      "Gurobi Optimizer version 9.5.2 build v9.5.2rc0 (win64)\n",
      "Thread count: 48 physical cores, 96 logical processors, using up to 32 threads\n",
      "Optimize a model with 82936 rows, 89377 columns and 170416 nonzeros\n",
      "Model fingerprint: 0x5065165c\n",
      "Model has 1368 quadratic constraints\n",
      "Variable types: 286 continuous, 89091 integer (171 binary)\n",
      "Coefficient statistics:\n",
      "  Matrix range     [1e+00, 1e+00]\n",
      "  QMatrix range    [3e+00, 2e+03]\n",
      "  QLMatrix range   [2e-02, 1e+00]\n",
      "  Objective range  [1e+03, 1e+03]\n",
      "  Bounds range     [1e+00, 1e+00]\n",
      "  RHS range        [1e+00, 3e+03]\n",
      "  QRHS range       [1e+04, 1e+04]\n",
      "Presolve removed 82672 rows and 82486 columns\n",
      "Presolve time: 0.19s\n",
      "Presolved: 2856 rows, 8835 columns, 20262 nonzeros\n",
      "Presolved model has 1296 SOS constraint(s)\n",
      "Variable types: 0 continuous, 8835 integer (810 binary)\n",
      "\n",
      "Root relaxation: objective 5.633282e+04, 3634 iterations, 0.15 seconds (0.05 work units)\n",
      "\n",
      "    Nodes    |    Current Node    |     Objective Bounds      |     Work\n",
      " Expl Unexpl |  Obj  Depth IntInf | Incumbent    BestBd   Gap | It/Node Time\n",
      "\n",
      "     0     0 56332.8184    0  522          - 56332.8184      -     -    1s\n",
      "H    0     0                    87000.000000 56332.8184  35.2%     -    1s\n",
      "H    0     0                    79000.000000 56332.8184  28.7%     -    1s\n",
      "     0     0 57486.1032    0  601 79000.0000 57486.1032  27.2%     -    1s\n",
      "H    0     0                    72000.000000 57486.1032  20.2%     -    1s\n",
      "     0     0 57539.2282    0  540 72000.0000 57539.2282  20.1%     -    1s\n",
      "     0     0 57539.2282    0  538 72000.0000 57539.2282  20.1%     -    1s\n",
      "H    0     0                    71000.000000 57539.2282  19.0%     -    1s\n",
      "     0     0 57586.1032    0  513 71000.0000 57586.1032  18.9%     -    2s\n",
      "     0     0 57586.1032    0  516 71000.0000 57586.1032  18.9%     -    2s\n",
      "     0     0 57586.1032    0  482 71000.0000 57586.1032  18.9%     -    2s\n",
      "     0     0 57586.1032    0  479 71000.0000 57586.1032  18.9%     -    2s\n",
      "     0     0 57653.7574    0  604 71000.0000 57653.7574  18.8%     -    2s\n",
      "     0     0 57653.7574    0  588 71000.0000 57653.7574  18.8%     -    3s\n",
      "H    0     0                    69000.000000 57653.7574  16.4%     -    3s\n",
      "     0     2 57653.7574    0  578 69000.0000 57653.7574  16.4%     -    3s\n",
      "    63    96 62112.5238    6  431 69000.0000 60895.0184  11.7%   377    5s\n",
      "H   95   128                    67000.000000 60895.0184  9.11%   328   14s\n",
      "   191   225 62470.2203    8  391 67000.0000 60895.0184  9.11%   259   15s\n",
      "  1377  1386 64426.2662   35  271 67000.0000 60895.0184  9.11%   103   20s\n",
      "  3043  2881 64945.9645   62  281 67000.0000 60895.0184  9.11%  83.1   25s\n",
      "  5699  5329 65854.8848  160  148 67000.0000 60895.0184  9.11%  72.7   30s\n",
      "  7124  6132 60900.6453   10  475 67000.0000 60900.6453  9.10%  67.9   35s\n",
      "  7184  6200 60900.6453   15  445 67000.0000 60900.6453  9.10%  68.0   40s\n",
      "  7312  6308 63007.1496   17  475 67000.0000 60900.6453  9.10%  67.6   45s\n",
      "  7906  6706 60900.6453   25  480 67000.0000 60900.6453  9.10%  66.5   50s\n",
      "  8174  6852 60900.6453   27  501 67000.0000 60900.6453  9.10%  66.7   63s\n",
      "  8466  7141 60900.6453   30  448 67000.0000 60900.6453  9.10%  66.6   65s\n",
      "  9044  7520 60900.6453   36  362 67000.0000 60900.6453  9.10%  66.2   70s\n",
      "  9748  7919 60900.6453   43  370 67000.0000 60900.6453  9.10%  65.5   75s\n",
      " 10515  8346 60900.6453   49  313 67000.0000 60900.6453  9.10%  65.0   80s\n",
      " 11191  8764 60900.6453   56  295 67000.0000 60900.6453  9.10%  64.8   85s\n",
      " 12020  9156 60900.6453   68  328 67000.0000 60900.6453  9.10%  64.1   91s\n",
      " 12857  9415 60900.6453   88  302 67000.0000 60900.6453  9.10%  63.9   99s\n",
      " 12892  9664 60900.6453   89  309 67000.0000 60900.6453  9.10%  64.0  101s\n",
      " 13498 10027 61197.2929  102  268 67000.0000 60900.6453  9.10%  64.1  105s\n",
      " 14206 10556 61307.8698  122  241 67000.0000 60900.6453  9.10%  64.5  110s\n",
      " 15307 10957 63754.4703  145  205 67000.0000 60900.6453  9.10%  64.1  116s\n",
      " 15707 11249 63926.3453  156  174 67000.0000 60900.6453  9.10%  64.4  120s\n",
      " 16822 11764 63863.8453  181  181 67000.0000 60900.6453  9.10%  62.6  127s\n",
      " 17368 12119 63863.8453  194  191 67000.0000 60900.6453  9.10%  62.0  131s\n",
      " 17980 12462 63863.8453  208  195 67000.0000 60900.6453  9.10%  61.2  135s\n",
      " 19288 12965 64426.3453  238  197 67000.0000 60900.6453  9.10%  59.6  142s\n",
      " 19877 13300 64426.3453  253  204 67000.0000 60900.6453  9.10%  59.3  146s\n",
      " 20560 13643 64476.8261  269  212 67000.0000 60900.6453  9.10%  58.5  151s\n",
      " 21250 13999 64952.7876  284  228 67000.0000 60900.6453  9.10%  57.9  156s\n",
      " 22004 14262 64952.7876  303  228 67000.0000 60900.6453  9.10%  57.4  160s\n",
      " 23322 14895 65577.7876  339  208 67000.0000 60900.6453  9.10%  56.7  168s\n",
      " 24093 15354     cutoff  354      67000.0000 60900.6453  9.10%  56.5  174s\n",
      " 25015 15719 65621.3482  373  196 67000.0000 60900.6453  9.10%  55.7  180s\n",
      " 25865 16242 65621.3482  392  189 67000.0000 60900.6453  9.10%  55.3  185s\n",
      " 26769 17038 60900.6453   18  505 67000.0000 60900.6453  9.10%  54.8  191s\n",
      " 27709 17911 60900.6453   26  572 67000.0000 60900.6453  9.10%  54.3  198s\n",
      " 28776 18881 63905.0745   41  316 67000.0000 60900.6453  9.10%  53.6  205s\n",
      " 29941 20153     cutoff   73      67000.0000 60900.6453  9.10%  52.6  213s\n",
      " 31680 20929 65761.4696  102  216 67000.0000 60900.6453  9.10%  51.2  217s\n",
      " 32573 21638 60900.6453   30  549 67000.0000 60900.6453  9.10%  51.0  221s\n",
      " 33504 22397 60900.6453   31  493 67000.0000 60900.6453  9.10%  50.7  225s\n",
      " 34483 23320 60900.6453   35  516 67000.0000 60900.6453  9.10%  50.4  230s\n",
      " 35636 24273 64573.5397   39  363 67000.0000 60900.6453  9.10%  49.9  235s\n",
      " 36880 25134 63821.6017   42  376 67000.0000 60900.6453  9.10%  49.5  241s\n",
      " 37985 26194 62875.8652   44  443 67000.0000 60900.6453  9.10%  49.0  246s\n",
      " 39314 27308 62891.3691   49  435 67000.0000 60900.6453  9.10%  48.4  252s\n",
      " 40690 28615 66000.0000   59  262 67000.0000 60900.6453  9.10%  48.0  259s\n",
      " 42312 29535 66000.0000   66  218 67000.0000 60900.6453  9.10%  47.2  265s\n",
      " 43620 30463 66000.0000   72  201 67000.0000 60900.6453  9.10%  46.9  270s\n",
      " 44838 31403 66000.0000   91  170 67000.0000 60900.6453  9.10%  47.4  275s\n",
      " 46021 32649 60900.6453   29  457 67000.0000 60900.6453  9.10%  47.8  281s\n",
      " 47438 34137 64503.7076   91  267 67000.0000 60900.6453  9.10%  48.0  289s\n",
      " 49166 35845     cutoff   30      67000.0000 60900.6453  9.10%  47.9  298s\n",
      " 51191 37533     cutoff   92      67000.0000 60900.6453  9.10%  47.3  307s\n",
      " 53218 39334     cutoff   33      67000.0000 60900.6453  9.10%  46.8  316s\n",
      " 55322 41131     cutoff   63      67000.0000 60900.6453  9.10%  46.4  325s\n",
      " 57426 43065 60900.6453   26  514 67000.0000 60900.6453  9.10%  46.0  335s\n",
      " 59672 43066 63750.6416  112  942 67000.0000 60900.6453  9.10%  45.5  366s\n",
      "\n",
      "Cutting planes:\n",
      "  Gomory: 21\n",
      "  Implied bound: 79\n",
      "  Projected implied bound: 56\n",
      "  MIR: 371\n",
      "  StrongCG: 3\n",
      "  Flow cover: 9\n",
      "  Relax-and-lift: 2\n",
      "\n",
      "Explored 59680 nodes (2751344 simplex iterations) in 369.67 seconds (43.89 work units)\n",
      "Thread count was 32 (of 96 available processors)\n",
      "\n",
      "Solution count 6: 67000 69000 71000 ... 87000\n",
      "\n",
      "Optimal solution found (tolerance 1.00e-04)\n",
      "Best objective 6.700000000000e+04, best bound 6.700000000000e+04, gap 0.0000%\n"
     ]
    }
   ],
   "source": [
    "solver = po.SolverFactory('gurobi')\n",
    "solver.options[\"MIPFocus\"] = 0\n",
    "results = solver.solve(model, tee=True)\n",
    "\n",
    "\n"
   ]
  },
  {
   "cell_type": "code",
   "execution_count": 55,
   "id": "2993e45b-432b-4a40-828b-bec04a06abae",
   "metadata": {},
   "outputs": [],
   "source": [
    "def mean(x):\n",
    "    return sum(x)/len(x)"
   ]
  },
  {
   "cell_type": "code",
   "execution_count": 56,
   "id": "49e6734a-b1a9-4f51-bbb6-be21a51c9354",
   "metadata": {},
   "outputs": [
    {
     "data": {
      "text/plain": [
       "0.9573277080506553"
      ]
     },
     "execution_count": 56,
     "metadata": {},
     "output_type": "execute_result"
    }
   ],
   "source": [
    "utilizacion=0\n",
    "volumen_por_camion=[]\n",
    "for t in model.t:\n",
    "    for c in model.c:\n",
    "        if model.Y[c,t].value==1:\n",
    "            volumen_por_camion.append(((sum(model.CantidadPedir[i,c,t,col].value/model.PiezasCont[i] for i in model.i for col in model.col if int(model.LargoCont[i])==int(1600))*750*1200*1600+\n",
    "                                     +(sum(model.CantidadPedir[i,c,t,col].value/model.PiezasCont[i] for i in model.i for col in model.col if int(model.LargoCont[i])==int(1000)))*1000*1000*1200)/\n",
    "                                     (3000*2400*13600)))\n",
    "volumen_por_camion\n",
    "mean(volumen_por_camion)"
   ]
  },
  {
   "cell_type": "code",
   "execution_count": 57,
   "id": "63f19f4c-ef02-4479-ac90-1172ab745460",
   "metadata": {},
   "outputs": [
    {
     "name": "stdout",
     "output_type": "stream",
     "text": [
      "6.0 4.0 48.0 24.0 1.0\n",
      "6.0 4.0 48.0 24.0 1.0\n",
      "6.0 4.0 48.0 24.0 1.0\n",
      "6.0 4.0 48.0 24.0 1.0\n",
      "6.0 4.0 48.0 23.990530303030305 0.9998839497920381\n",
      "6.0 4.0 48.0 23.990530303030305 0.9998839497920381\n",
      "6.0 4.0 47.95 24.045454545454547 0.9998217468805705\n",
      "6.0 4.0 47.95 24.045454545454547 0.9998217468805705\n",
      "6.0 4.0 48.0 24.0 1.0\n",
      "6.0 4.0 48.0 24.0 1.0\n",
      "7.0 1.0 52.0 14.988636363636363 0.9483901515151515\n",
      "6.0 4.0 52.0 14.988636363636363 0.9483901515151515\n",
      "6.0 4.0 48.0 24.0 1.0\n",
      "6.0 4.0 48.0 24.0 1.0\n",
      "6.0 4.0 48.0 23.954545454545453 0.9994429590017825\n",
      "6.0 4.0 48.0 23.954545454545453 0.9994429590017825\n",
      "6.0 4.0 47.949999999999996 24.022727272727273 0.9995432263814618\n",
      "6.0 4.0 47.949999999999996 24.022727272727273 0.9995432263814618\n",
      "8.0 0.0 64.0 0.0 0.9411764705882353\n",
      "8.0 0.0 64.0 0.0 0.9411764705882353\n",
      "6.0 4.0 56.0 12.0 0.9705882352941176\n",
      "8.0 0.0 56.0 12.0 0.9705882352941176\n",
      "8.0 0.0 56.0 12.0 0.9705882352941176\n",
      "6.0 4.0 56.0 12.0 0.9705882352941176\n",
      "8.0 0.0 64.0 0.0 0.9411764705882353\n",
      "8.0 0.0 64.0 0.0 0.9411764705882353\n",
      "6.0 4.0 56.0 12.0 0.9705882352941176\n",
      "8.0 0.0 56.0 12.0 0.9705882352941176\n",
      "8.0 0.0 64.0 0.0 0.9411764705882353\n",
      "8.0 0.0 64.0 0.0 0.9411764705882353\n",
      "8.0 0.0 56.0 12.0 0.9705882352941176\n",
      "6.0 4.0 56.0 12.0 0.9705882352941176\n",
      "8.0 0.0 56.0 11.818181818181818 0.9683600713012477\n",
      "6.0 4.0 56.0 11.818181818181818 0.9683600713012477\n",
      "8.0 0.0 64.0 0.0 0.9411764705882353\n",
      "8.0 0.0 64.0 0.0 0.9411764705882353\n",
      "8.0 0.0 64.0 0.0 0.9411764705882353\n",
      "8.0 0.0 64.0 0.0 0.9411764705882353\n",
      "6.0 4.0 48.0 24.0 1.0\n",
      "6.0 4.0 48.0 24.0 1.0\n",
      "8.0 0.0 64.0 0.0 0.9411764705882353\n",
      "8.0 0.0 64.0 0.0 0.9411764705882353\n",
      "8.0 0.0 46.2 22.791666666666668 0.9587214052287582\n",
      "4.0 7.0 46.2 22.791666666666668 0.9587214052287582\n",
      "8.0 0.0 63.983333333333334 0.0 0.9409313725490196\n",
      "8.0 0.0 63.983333333333334 0.0 0.9409313725490196\n",
      "5.0 4.0 50.733333333333334 12.625 0.9007965686274509\n",
      "8.0 0.0 50.733333333333334 12.625 0.9007965686274509\n",
      "6.0 4.0 56.0 12.0 0.9705882352941176\n",
      "8.0 0.0 56.0 12.0 0.9705882352941176\n",
      "8.0 0.0 64.0 0.0 0.9411764705882353\n",
      "8.0 0.0 64.0 0.0 0.9411764705882353\n",
      "8.0 0.0 56.0 12.0 0.9705882352941176\n",
      "6.0 4.0 56.0 12.0 0.9705882352941176\n",
      "8.0 0.0 63.53333333333333 0.4583333333333333 0.9399305555555556\n",
      "8.0 0.0 63.53333333333333 0.4583333333333333 0.9399305555555556\n",
      "6.0 4.0 56.0 12.0 0.9705882352941176\n",
      "8.0 0.0 56.0 12.0 0.9705882352941176\n",
      "8.0 0.0 63.93333333333333 0.0 0.9401960784313725\n",
      "8.0 0.0 63.93333333333333 0.0 0.9401960784313725\n",
      "6.0 4.0 48.0 24.0 1.0\n",
      "6.0 4.0 48.0 24.0 1.0\n",
      "8.0 0.0 56.0 12.0 0.9705882352941176\n",
      "6.0 4.0 56.0 12.0 0.9705882352941176\n",
      "8.0 0.0 64.0 0.0 0.9411764705882353\n",
      "8.0 0.0 64.0 0.0 0.9411764705882353\n",
      "8.0 0.0 64.0 0.0 0.9411764705882353\n",
      "8.0 0.0 64.0 0.0 0.9411764705882353\n",
      "8.0 0.0 64.0 0.0 0.9411764705882353\n",
      "8.0 0.0 64.0 0.0 0.9411764705882353\n",
      "6.0 4.0 56.0 12.0 0.9705882352941176\n",
      "8.0 0.0 56.0 12.0 0.9705882352941176\n",
      "6.0 4.0 56.0 12.0 0.9705882352941176\n",
      "8.0 0.0 56.0 12.0 0.9705882352941176\n",
      "8.0 0.0 55.95 12.020833333333334 0.970108251633987\n",
      "6.0 4.0 55.95 12.020833333333334 0.970108251633987\n",
      "6.0 4.0 56.0 12.0 0.9705882352941176\n",
      "8.0 0.0 56.0 12.0 0.9705882352941176\n",
      "6.0 4.0 55.96666666666666 11.990530303030305 0.9699819890077241\n",
      "8.0 0.0 55.96666666666666 11.990530303030305 0.9699819890077241\n",
      "6.0 4.0 55.96666666666667 12.020833333333334 0.9703533496732026\n",
      "8.0 0.0 55.96666666666667 12.020833333333334 0.9703533496732026\n",
      "8.0 0.0 56.0 12.0 0.9705882352941176\n",
      "6.0 4.0 56.0 12.0 0.9705882352941176\n",
      "8.0 0.0 64.0 0.0 0.9411764705882353\n",
      "8.0 0.0 64.0 0.0 0.9411764705882353\n",
      "6.0 4.0 48.0 24.0 1.0\n",
      "6.0 4.0 48.0 24.0 1.0\n",
      "6.0 4.0 56.0 12.0 0.9705882352941176\n",
      "8.0 0.0 56.0 12.0 0.9705882352941176\n",
      "6.0 4.0 56.0 12.0 0.9705882352941176\n",
      "8.0 0.0 56.0 12.0 0.9705882352941176\n",
      "6.0 4.0 41.13333333333333 23.363636363636363 0.8912210338680926\n",
      "5.0 4.0 41.13333333333333 23.363636363636363 0.8912210338680926\n",
      "6.0 4.0 56.0 11.0625 0.9590992647058824\n",
      "8.0 0.0 56.0 11.0625 0.9590992647058824\n",
      "6.0 4.0 48.0 24.0 1.0\n",
      "6.0 4.0 48.0 24.0 1.0\n",
      "6.0 4.0 56.0 12.0 0.9705882352941176\n",
      "8.0 0.0 56.0 12.0 0.9705882352941176\n",
      "8.0 0.0 56.0 11.962121212121211 0.9701240344622698\n",
      "6.0 4.0 56.0 11.962121212121211 0.9701240344622698\n",
      "8.0 0.0 64.0 0.0 0.9411764705882353\n",
      "8.0 0.0 64.0 0.0 0.9411764705882353\n",
      "8.0 0.0 56.0 12.0 0.9705882352941176\n",
      "6.0 4.0 56.0 12.0 0.9705882352941176\n",
      "6.0 4.0 46.766666666666666 16.178030303030305 0.8860052733214498\n",
      "6.0 1.0 46.766666666666666 16.178030303030305 0.8860052733214498\n",
      "8.0 0.0 56.0 12.0 0.9705882352941176\n",
      "6.0 4.0 56.0 12.0 0.9705882352941176\n",
      "8.0 0.0 57.2 6.791666666666667 0.9244076797385621\n",
      "8.0 0.0 57.2 6.791666666666667 0.9244076797385621\n",
      "8.0 0.0 64.0 0.0 0.9411764705882353\n",
      "8.0 0.0 64.0 0.0 0.9411764705882353\n",
      "8.0 0.0 64.0 0.0 0.9411764705882353\n",
      "8.0 0.0 64.0 0.0 0.9411764705882353\n",
      "6.0 4.0 48.0 23.988636363636363 0.9998607397504455\n",
      "6.0 4.0 48.0 23.988636363636363 0.9998607397504455\n",
      "6.0 4.0 56.0 12.0 0.9705882352941176\n",
      "8.0 0.0 56.0 12.0 0.9705882352941176\n",
      "8.0 0.0 64.0 0.0 0.9411764705882353\n",
      "8.0 0.0 64.0 0.0 0.9411764705882353\n",
      "8.0 0.0 31.933333333333334 29.240530303030305 0.8279476752822341\n",
      "0.0 13.0 31.933333333333334 29.240530303030305 0.8279476752822341\n",
      "8.0 0.0 51.93333333333334 0.0 0.7637254901960784\n",
      "5.0 0.0 51.93333333333334 0.0 0.7637254901960784\n",
      "8.0 0.0 61.43333333333333 2.5454545454545454 0.9346256684491979\n",
      "8.0 0.0 61.43333333333333 2.5454545454545454 0.9346256684491979\n",
      "6.0 4.0 56.0 12.0 0.9705882352941176\n",
      "8.0 0.0 56.0 12.0 0.9705882352941176\n",
      "6.0 4.0 46.833333333333336 25.145833333333336 0.9968852124183006\n",
      "6.0 4.0 46.833333333333336 25.145833333333336 0.9968852124183006\n",
      "7.0 1.0 46.31666666666667 19.636363636363637 0.9217691622103388\n",
      "5.0 5.0 46.31666666666667 19.636363636363637 0.9217691622103388\n"
     ]
    }
   ],
   "source": [
    "for t in model.t:\n",
    "    for c in model.c:\n",
    "        for col in model.col:\n",
    "            if model.Y[c,t].value==1:\n",
    "                print(model.A[c,col,t].value,model.B[c,col,t].value,(sum(model.CantidadPedir[i,c,t,col].value/model.PiezasCont[i] for i in model.i for col in model.col if int(model.LargoCont[i])==int(1600))) ,\n",
    "                     (sum(model.CantidadPedir[i,c,t,col].value/model.PiezasCont[i] for i in model.i for col in model.col if int(model.LargoCont[i])==int(1000))) , ((sum(model.CantidadPedir[i,c,t,col].value/model.PiezasCont[i] for i in model.i for col in model.col if int(model.LargoCont[i])==int(1600))*750*1200*1600+\n",
    "                                     +(sum(model.CantidadPedir[i,c,t,col].value/model.PiezasCont[i] for i in model.i for col in model.col if int(model.LargoCont[i])==int(1000)))*1000*1000*1200)/\n",
    "                                     (3000*2400*13600)))"
   ]
  },
  {
   "cell_type": "code",
   "execution_count": 58,
   "id": "7d7a6cbf-bb23-4cca-946a-69ac53a8dd08",
   "metadata": {},
   "outputs": [
    {
     "name": "stdout",
     "output_type": "stream",
     "text": [
      "1 1 6.0 4.0 1310.0 24.0 1.0\n",
      "1 1 6.0 4.0 1310.0 24.0 1.0\n",
      "1 2 6.0 4.0 781.0 24.0 1.0\n",
      "1 2 6.0 4.0 781.0 24.0 1.0\n",
      "1 3 6.0 4.0 648.0 23.990530303030305 0.9998839497920381\n",
      "1 3 6.0 4.0 648.0 23.990530303030305 0.9998839497920381\n",
      "1 4 6.0 4.0 639.0 24.045454545454547 0.9998217468805705\n",
      "1 4 6.0 4.0 639.0 24.045454545454547 0.9998217468805705\n",
      "1 5 6.0 4.0 648.0 24.0 1.0\n",
      "1 5 6.0 4.0 648.0 24.0 1.0\n",
      "1 6 7.0 1.0 1342.0 14.988636363636363 0.9483901515151515\n",
      "1 6 6.0 4.0 1342.0 14.988636363636363 0.9483901515151515\n",
      "1 7 6.0 4.0 1080.0 24.0 1.0\n",
      "1 7 6.0 4.0 1080.0 24.0 1.0\n",
      "1 8 6.0 4.0 720.0 23.954545454545453 0.9994429590017825\n",
      "1 8 6.0 4.0 720.0 23.954545454545453 0.9994429590017825\n",
      "1 9 6.0 4.0 685.0 24.022727272727273 0.9995432263814618\n",
      "1 9 6.0 4.0 685.0 24.022727272727273 0.9995432263814618\n",
      "2 1 8.0 0.0 1440.0 0.0 0.9411764705882353\n",
      "2 1 8.0 0.0 1440.0 0.0 0.9411764705882353\n",
      "2 2 6.0 4.0 1248.0 12.0 0.9705882352941176\n",
      "2 2 8.0 0.0 1248.0 12.0 0.9705882352941176\n",
      "2 4 8.0 0.0 840.0 12.0 0.9705882352941176\n",
      "2 4 6.0 4.0 840.0 12.0 0.9705882352941176\n",
      "2 6 8.0 0.0 1440.0 0.0 0.9411764705882353\n",
      "2 6 8.0 0.0 1440.0 0.0 0.9411764705882353\n",
      "2 7 6.0 4.0 1248.0 12.0 0.9705882352941176\n",
      "2 7 8.0 0.0 1248.0 12.0 0.9705882352941176\n",
      "2 8 8.0 0.0 1920.0 0.0 0.9411764705882353\n",
      "2 8 8.0 0.0 1920.0 0.0 0.9411764705882353\n",
      "3 1 8.0 0.0 1104.0 12.0 0.9705882352941176\n",
      "3 1 6.0 4.0 1104.0 12.0 0.9705882352941176\n",
      "3 8 8.0 0.0 1320.0 11.818181818181818 0.9683600713012477\n",
      "3 8 6.0 4.0 1320.0 11.818181818181818 0.9683600713012477\n",
      "4 5 8.0 0.0 768.0 0.0 0.9411764705882353\n",
      "4 5 8.0 0.0 768.0 0.0 0.9411764705882353\n",
      "5 1 8.0 0.0 1344.0 0.0 0.9411764705882353\n",
      "5 1 8.0 0.0 1344.0 0.0 0.9411764705882353\n",
      "5 2 6.0 4.0 648.0 24.0 1.0\n",
      "5 2 6.0 4.0 648.0 24.0 1.0\n",
      "5 3 8.0 0.0 864.0 0.0 0.9411764705882353\n",
      "5 3 8.0 0.0 864.0 0.0 0.9411764705882353\n",
      "5 4 8.0 0.0 816.0 22.791666666666668 0.9587214052287582\n",
      "5 4 4.0 7.0 816.0 22.791666666666668 0.9587214052287582\n",
      "5 5 8.0 0.0 929.0 0.0 0.9409313725490196\n",
      "5 5 8.0 0.0 929.0 0.0 0.9409313725490196\n",
      "5 7 5.0 4.0 724.0 12.625 0.9007965686274509\n",
      "5 7 8.0 0.0 724.0 12.625 0.9007965686274509\n",
      "5 8 6.0 4.0 744.0 12.0 0.9705882352941176\n",
      "5 8 8.0 0.0 744.0 12.0 0.9705882352941176\n",
      "5 9 8.0 0.0 1440.0 0.0 0.9411764705882353\n",
      "5 9 8.0 0.0 1440.0 0.0 0.9411764705882353\n",
      "7 1 8.0 0.0 840.0 12.0 0.9705882352941176\n",
      "7 1 6.0 4.0 840.0 12.0 0.9705882352941176\n",
      "7 5 8.0 0.0 1426.0 0.4583333333333333 0.9399305555555556\n",
      "7 5 8.0 0.0 1426.0 0.4583333333333333 0.9399305555555556\n",
      "7 8 6.0 4.0 840.0 12.0 0.9705882352941176\n",
      "7 8 8.0 0.0 840.0 12.0 0.9705882352941176\n",
      "8 3 8.0 0.0 865.0 0.0 0.9401960784313725\n",
      "8 3 8.0 0.0 865.0 0.0 0.9401960784313725\n",
      "9 1 6.0 4.0 720.0 24.0 1.0\n",
      "9 1 6.0 4.0 720.0 24.0 1.0\n",
      "9 3 8.0 0.0 672.0 12.0 0.9705882352941176\n",
      "9 3 6.0 4.0 672.0 12.0 0.9705882352941176\n",
      "9 4 8.0 0.0 1440.0 0.0 0.9411764705882353\n",
      "9 4 8.0 0.0 1440.0 0.0 0.9411764705882353\n",
      "9 5 8.0 0.0 864.0 0.0 0.9411764705882353\n",
      "9 5 8.0 0.0 864.0 0.0 0.9411764705882353\n",
      "9 6 8.0 0.0 1356.0 0.0 0.9411764705882353\n",
      "9 6 8.0 0.0 1356.0 0.0 0.9411764705882353\n",
      "11 2 6.0 4.0 840.0 12.0 0.9705882352941176\n",
      "11 2 8.0 0.0 840.0 12.0 0.9705882352941176\n",
      "11 3 6.0 4.0 768.0 12.0 0.9705882352941176\n",
      "11 3 8.0 0.0 768.0 12.0 0.9705882352941176\n",
      "11 5 8.0 0.0 810.0 12.020833333333334 0.970108251633987\n",
      "11 5 6.0 4.0 810.0 12.020833333333334 0.970108251633987\n",
      "11 6 6.0 4.0 840.0 12.0 0.9705882352941176\n",
      "11 6 8.0 0.0 840.0 12.0 0.9705882352941176\n",
      "11 7 6.0 4.0 672.0 11.990530303030305 0.9699819890077241\n",
      "11 7 8.0 0.0 672.0 11.990530303030305 0.9699819890077241\n",
      "11 8 6.0 4.0 806.0 12.020833333333334 0.9703533496732026\n",
      "11 8 8.0 0.0 806.0 12.020833333333334 0.9703533496732026\n",
      "11 9 8.0 0.0 744.0 12.0 0.9705882352941176\n",
      "11 9 6.0 4.0 744.0 12.0 0.9705882352941176\n",
      "12 7 8.0 0.0 960.0 0.0 0.9411764705882353\n",
      "12 7 8.0 0.0 960.0 0.0 0.9411764705882353\n",
      "13 1 6.0 4.0 648.0 24.0 1.0\n",
      "13 1 6.0 4.0 648.0 24.0 1.0\n",
      "13 2 6.0 4.0 1320.0 12.0 0.9705882352941176\n",
      "13 2 8.0 0.0 1320.0 12.0 0.9705882352941176\n",
      "13 3 6.0 4.0 840.0 12.0 0.9705882352941176\n",
      "13 3 8.0 0.0 840.0 12.0 0.9705882352941176\n",
      "13 4 6.0 4.0 617.0 23.363636363636363 0.8912210338680926\n",
      "13 4 5.0 4.0 617.0 23.363636363636363 0.8912210338680926\n",
      "13 6 6.0 4.0 840.0 11.0625 0.9590992647058824\n",
      "13 6 8.0 0.0 840.0 11.0625 0.9590992647058824\n",
      "13 7 6.0 4.0 720.0 24.0 1.0\n",
      "13 7 6.0 4.0 720.0 24.0 1.0\n",
      "13 8 6.0 4.0 840.0 12.0 0.9705882352941176\n",
      "13 8 8.0 0.0 840.0 12.0 0.9705882352941176\n",
      "13 9 8.0 0.0 840.0 11.962121212121211 0.9701240344622698\n",
      "13 9 6.0 4.0 840.0 11.962121212121211 0.9701240344622698\n",
      "14 1 8.0 0.0 960.0 0.0 0.9411764705882353\n",
      "14 1 8.0 0.0 960.0 0.0 0.9411764705882353\n",
      "14 3 8.0 0.0 1320.0 12.0 0.9705882352941176\n",
      "14 3 6.0 4.0 1320.0 12.0 0.9705882352941176\n",
      "15 1 6.0 4.0 1403.0 16.178030303030305 0.8860052733214498\n",
      "15 1 6.0 1.0 1403.0 16.178030303030305 0.8860052733214498\n",
      "15 3 8.0 0.0 744.0 12.0 0.9705882352941176\n",
      "15 3 6.0 4.0 744.0 12.0 0.9705882352941176\n",
      "15 4 8.0 0.0 762.0 6.791666666666667 0.9244076797385621\n",
      "15 4 8.0 0.0 762.0 6.791666666666667 0.9244076797385621\n",
      "15 5 8.0 0.0 1361.0 0.0 0.9411764705882353\n",
      "15 5 8.0 0.0 1361.0 0.0 0.9411764705882353\n",
      "15 6 8.0 0.0 960.0 0.0 0.9411764705882353\n",
      "15 6 8.0 0.0 960.0 0.0 0.9411764705882353\n",
      "15 7 6.0 4.0 720.0 23.988636363636363 0.9998607397504455\n",
      "15 7 6.0 4.0 720.0 23.988636363636363 0.9998607397504455\n",
      "15 8 6.0 4.0 840.0 12.0 0.9705882352941176\n",
      "15 8 8.0 0.0 840.0 12.0 0.9705882352941176\n",
      "15 9 8.0 0.0 960.0 0.0 0.9411764705882353\n",
      "15 9 8.0 0.0 960.0 0.0 0.9411764705882353\n",
      "16 3 8.0 0.0 466.0 29.240530303030305 0.8279476752822341\n",
      "16 3 0.0 13.0 466.0 29.240530303030305 0.8279476752822341\n",
      "16 7 8.0 0.0 633.0 0.0 0.7637254901960784\n",
      "16 7 5.0 0.0 633.0 0.0 0.7637254901960784\n",
      "17 2 8.0 0.0 1243.0 2.5454545454545454 0.9346256684491979\n",
      "17 2 8.0 0.0 1243.0 2.5454545454545454 0.9346256684491979\n",
      "17 7 6.0 4.0 840.0 12.0 0.9705882352941176\n",
      "17 7 8.0 0.0 840.0 12.0 0.9705882352941176\n",
      "18 3 6.0 4.0 1065.0 25.145833333333336 0.9968852124183006\n",
      "18 3 6.0 4.0 1065.0 25.145833333333336 0.9968852124183006\n",
      "18 4 7.0 1.0 903.0 19.636363636363637 0.9217691622103388\n",
      "18 4 5.0 5.0 903.0 19.636363636363637 0.9217691622103388\n"
     ]
    }
   ],
   "source": [
    "for t in model.t:\n",
    "    for c in model.c:\n",
    "        for col in model.col:\n",
    "            if model.Y[c,t].value==1:\n",
    "                print(t,c,model.A[c,col,t].value,model.B[c,col,t].value,(sum(model.CantidadPedir[i,c,t,col].value for i in model.i for col in model.col if int(model.LargoCont[i])==int(1600))) ,\n",
    "                     (sum(model.CantidadPedir[i,c,t,col].value/model.PiezasCont[i] for i in model.i for col in model.col if int(model.LargoCont[i])==int(1000))) , ((sum(model.CantidadPedir[i,c,t,col].value/model.PiezasCont[i] for i in model.i for col in model.col if int(model.LargoCont[i])==int(1600))*750*1200*1600+\n",
    "                                     +(sum(model.CantidadPedir[i,c,t,col].value/model.PiezasCont[i] for i in model.i for col in model.col if int(model.LargoCont[i])==int(1000)))*1000*1000*1200)/\n",
    "                                     (3000*2400*13600)))"
   ]
  },
  {
   "cell_type": "code",
   "execution_count": 59,
   "id": "c9519392-2e9f-46e5-bb00-e7ff8a7f2c8a",
   "metadata": {},
   "outputs": [],
   "source": [
    "# for "
   ]
  },
  {
   "cell_type": "code",
   "execution_count": 60,
   "id": "5f05379e-ae03-4fac-ad83-22893ff1a1f3",
   "metadata": {},
   "outputs": [
    {
     "data": {
      "text/plain": [
       "0"
      ]
     },
     "execution_count": 60,
     "metadata": {},
     "output_type": "execute_result"
    }
   ],
   "source": [
    "int(0.6)"
   ]
  },
  {
   "cell_type": "code",
   "execution_count": 61,
   "id": "d16a462d-a2a9-47a5-b1ff-062d41c209d9",
   "metadata": {},
   "outputs": [
    {
     "data": {
      "text/plain": [
       "1000"
      ]
     },
     "execution_count": 61,
     "metadata": {},
     "output_type": "execute_result"
    }
   ],
   "source": [
    "int(model.LargoCont[14])"
   ]
  },
  {
   "cell_type": "code",
   "execution_count": 62,
   "id": "bc0dd6ad-4f70-4e3a-b9ce-53fd974e6287",
   "metadata": {},
   "outputs": [
    {
     "ename": "AttributeError",
     "evalue": "'SumExpression' object has no attribute 'value'",
     "output_type": "error",
     "traceback": [
      "\u001b[1;31m---------------------------------------------------------------------------\u001b[0m",
      "\u001b[1;31mAttributeError\u001b[0m                            Traceback (most recent call last)",
      "Input \u001b[1;32mIn [62]\u001b[0m, in \u001b[0;36m<cell line: 1>\u001b[1;34m()\u001b[0m\n\u001b[1;32m----> 1\u001b[0m \u001b[38;5;28;43msum\u001b[39;49m\u001b[43m(\u001b[49m\u001b[43mmodel\u001b[49m\u001b[38;5;241;43m.\u001b[39;49m\u001b[43mPC\u001b[49m\u001b[43m[\u001b[49m\u001b[43mc\u001b[49m\u001b[43m]\u001b[49m\u001b[38;5;241;43m*\u001b[39;49m\u001b[43mmodel\u001b[49m\u001b[38;5;241;43m.\u001b[39;49m\u001b[43mY\u001b[49m\u001b[43m[\u001b[49m\u001b[43mc\u001b[49m\u001b[43m,\u001b[49m\u001b[43mt\u001b[49m\u001b[43m]\u001b[49m\u001b[43m  \u001b[49m\u001b[38;5;28;43;01mfor\u001b[39;49;00m\u001b[43m \u001b[49m\u001b[43mc\u001b[49m\u001b[43m \u001b[49m\u001b[38;5;129;43;01min\u001b[39;49;00m\u001b[43m \u001b[49m\u001b[43mmodel\u001b[49m\u001b[38;5;241;43m.\u001b[39;49m\u001b[43mc\u001b[49m\u001b[43m \u001b[49m\u001b[38;5;28;43;01mfor\u001b[39;49;00m\u001b[43m \u001b[49m\u001b[43mt\u001b[49m\u001b[43m \u001b[49m\u001b[38;5;129;43;01min\u001b[39;49;00m\u001b[43m \u001b[49m\u001b[43mmodel\u001b[49m\u001b[38;5;241;43m.\u001b[39;49m\u001b[43mt\u001b[49m\u001b[43m)\u001b[49m\u001b[38;5;241;43m.\u001b[39;49m\u001b[43mvalue\u001b[49m\n",
      "\u001b[1;31mAttributeError\u001b[0m: 'SumExpression' object has no attribute 'value'"
     ]
    }
   ],
   "source": [
    "sum(model.PC[c]*model.Y[c,t]  for c in model.c for t in model.t).value"
   ]
  },
  {
   "cell_type": "code",
   "execution_count": null,
   "id": "acfcd42b-9220-4232-a412-d56ff37467e5",
   "metadata": {},
   "outputs": [],
   "source": [
    "for i,v in model.LargoCont:\n",
    "    print(i)"
   ]
  },
  {
   "cell_type": "code",
   "execution_count": null,
   "id": "e2c9b24a-b02c-48ed-a521-c6e3c6149bee",
   "metadata": {},
   "outputs": [],
   "source": []
  },
  {
   "cell_type": "code",
   "execution_count": null,
   "id": "8f8c464d-433a-4da3-8846-c517cbec5988",
   "metadata": {},
   "outputs": [],
   "source": []
  },
  {
   "cell_type": "code",
   "execution_count": null,
   "id": "8b53b8fa-7b4d-4629-b361-b1c66e9264ee",
   "metadata": {},
   "outputs": [],
   "source": []
  }
 ],
 "metadata": {
  "kernelspec": {
   "display_name": "Python 3 (ipykernel)",
   "language": "python",
   "name": "python3"
  },
  "language_info": {
   "codemirror_mode": {
    "name": "ipython",
    "version": 3
   },
   "file_extension": ".py",
   "mimetype": "text/x-python",
   "name": "python",
   "nbconvert_exporter": "python",
   "pygments_lexer": "ipython3",
   "version": "3.8.13"
  }
 },
 "nbformat": 4,
 "nbformat_minor": 5
}
