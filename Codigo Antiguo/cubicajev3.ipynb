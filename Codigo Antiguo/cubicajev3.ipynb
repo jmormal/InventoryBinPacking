{
 "cells": [
  {
   "cell_type": "code",
   "execution_count": 44,
   "id": "e42650f7-d9b6-45a8-b68c-76ae8f92e009",
   "metadata": {},
   "outputs": [],
   "source": [
    "import pyodbc\n",
    "import pandas as pd\n",
    "import pyomo.environ as pe\n",
    "import pyomo.opt as po\n",
    "model = pe.ConcreteModel(\"Cargacamiones\")\n"
   ]
  },
  {
   "cell_type": "code",
   "execution_count": 45,
   "id": "b8fa57e5-a2fb-4af9-8ef3-3624a71f3b1d",
   "metadata": {},
   "outputs": [],
   "source": [
    "path=r\"C:\\Users\\juano\\Documents\\pyomcamiones\\Carga de camiones\\Transporte_cubicaje.mdb\"\n",
    "conn = pyodbc.connect('Driver={Microsoft Access Driver (*.mdb, *.accdb)};DBQ='+path+';')\n",
    "cursor = conn.cursor()"
   ]
  },
  {
   "cell_type": "markdown",
   "id": "90368ebb-04b7-4902-9262-c9170e9c357a",
   "metadata": {},
   "source": [
    "Familias Carga de datos"
   ]
  },
  {
   "cell_type": "code",
   "execution_count": 46,
   "id": "4cec6228-3dcb-4b33-82c2-6f7a31f7dee8",
   "metadata": {},
   "outputs": [],
   "source": [
    "cursor.execute('select IdProducto from Productos')\n",
    "productos=[]\n",
    "for row in cursor.fetchall():\n",
    "    productos.append(row[0])"
   ]
  },
  {
   "cell_type": "code",
   "execution_count": 47,
   "id": "1729c2ef-9b05-47de-8bb3-00b4c5f6eeaa",
   "metadata": {},
   "outputs": [],
   "source": [
    "cursor.execute('select IdFamilia from Familias')\n",
    "familias=[]\n",
    "for row in cursor.fetchall():\n",
    "    familias.append(row[0])"
   ]
  },
  {
   "cell_type": "code",
   "execution_count": 48,
   "id": "67d24c87-6a45-4b11-9a79-ca590c00db10",
   "metadata": {},
   "outputs": [],
   "source": [
    "cursor.execute('select IdCamion from Camiones WHERE IdCamion<4')\n",
    "camiones=[]\n",
    "for i in range(1,40):\n",
    "    camiones.append(i)"
   ]
  },
  {
   "cell_type": "code",
   "execution_count": 49,
   "id": "b146f205-9229-4c16-8c3b-b7c6fa6030c1",
   "metadata": {},
   "outputs": [],
   "source": [
    "cursor.execute('select IdDia from Dias WHERE \"IdDia\"<=19')\n",
    "dias=[]\n",
    "for row in cursor.fetchall():\n",
    "    dias.append(row[0])\n",
    "        "
   ]
  },
  {
   "cell_type": "code",
   "execution_count": 50,
   "id": "a819db32-4ace-44cc-8422-436a1943c34d",
   "metadata": {},
   "outputs": [],
   "source": [
    "cursor.execute('select IdDia from Dias')\n",
    "dias1=[]\n",
    "for row in cursor.fetchall():\n",
    "    dias1.append(row[0])\n",
    "    "
   ]
  },
  {
   "cell_type": "markdown",
   "id": "45f4435a-4da6-4a13-b895-945c4f2e2f48",
   "metadata": {},
   "source": [
    "## Familias Pyomo"
   ]
  },
  {
   "cell_type": "code",
   "execution_count": 51,
   "id": "62d43fd4-f804-4e33-8960-4f0123a03598",
   "metadata": {},
   "outputs": [],
   "source": [
    "model.i = pe.Set(initialize=productos)\n",
    "model.f = pe.Set(initialize=familias)\n",
    "model.c = pe.Set(initialize=camiones)\n",
    "model.t = pe.Set(initialize=dias)\n",
    "model.t1 = pe.Set(initialize=dias1)"
   ]
  },
  {
   "cell_type": "markdown",
   "id": "56854c70-cd27-4926-ae52-ab188ae1680d",
   "metadata": {},
   "source": [
    "## Carga de datos productos"
   ]
  },
  {
   "cell_type": "code",
   "execution_count": 52,
   "id": "0e9d47b7-50e0-4466-b192-b6585231c153",
   "metadata": {},
   "outputs": [],
   "source": [
    "cursor.execute('select IdFamilia, LotePedido from Familias')\n",
    "lotepedido={}\n",
    "for row in cursor.fetchall():\n",
    "    lotepedido.update({row[0]:row[1]})\n"
   ]
  },
  {
   "cell_type": "code",
   "execution_count": 53,
   "id": "29c33ca3-f76a-428c-9a79-8c12eca08171",
   "metadata": {},
   "outputs": [],
   "source": [
    "cursor.execute('select IdProducto , PiezasCont from Productos')\n",
    "piezascont={}\n",
    "for row in cursor.fetchall():\n",
    "    piezascont.update({row[0]:row[1]})"
   ]
  },
  {
   "cell_type": "code",
   "execution_count": 54,
   "id": "13962258-4bdf-4a63-9482-1bca7ab61528",
   "metadata": {},
   "outputs": [],
   "source": [
    "cursor.execute('select IdProducto , IdFamilia, beta from beta')\n",
    "b={}\n",
    "for row in cursor.fetchall():\n",
    "    b.update({(row[0],row[1]):row[2]})\n"
   ]
  },
  {
   "cell_type": "code",
   "execution_count": 55,
   "id": "e0eb904d-1c8a-4e15-a0dd-803f5cc4f972",
   "metadata": {},
   "outputs": [],
   "source": [
    "cursor.execute('select IdProducto , StockInicial from Productos')\n",
    "stockInicial={}\n",
    "for row in cursor.fetchall():\n",
    "    stockInicial.update({row[0]:row[1]})\n"
   ]
  },
  {
   "cell_type": "code",
   "execution_count": 56,
   "id": "099cc323-bcbb-4125-8d79-fee66ccdaae3",
   "metadata": {},
   "outputs": [],
   "source": [
    "cursor.execute('select  IdProducto , IdDia, Demanda from Demanda')\n",
    "demanda={}\n",
    "for row in cursor.fetchall():\n",
    "    demanda.update({(row[0],row[1]):row[2]})"
   ]
  },
  {
   "cell_type": "code",
   "execution_count": 57,
   "id": "8750c074-23b5-4b1e-94e1-7e7f9a9d0f77",
   "metadata": {},
   "outputs": [],
   "source": [
    "cursor.execute('select  IdProducto , Valor from Productos')\n",
    "valor={}\n",
    "for row in cursor.fetchall():\n",
    "    valor.update({row[0]:row[1]})"
   ]
  },
  {
   "cell_type": "code",
   "execution_count": 58,
   "id": "ae03f73d-8cda-4a9d-a6a2-9cf71c6441a6",
   "metadata": {},
   "outputs": [],
   "source": [
    "PC={}\n",
    "for camion in camiones:\n",
    "    PC.update({camion:1000})"
   ]
  },
  {
   "cell_type": "code",
   "execution_count": 59,
   "id": "5f7ec971-3d78-49a9-8518-1d2454643441",
   "metadata": {},
   "outputs": [],
   "source": [
    "L=78\n",
    "nu=26/30\n",
    "NT_lw=5\n",
    "NT_up=10"
   ]
  },
  {
   "cell_type": "code",
   "execution_count": 60,
   "id": "285975ba-3b0f-4e8a-ae1f-7656bd99d3cb",
   "metadata": {},
   "outputs": [],
   "source": [
    "model.LotePedido = pe.Param(model.f , initialize=lotepedido)\n",
    "model.PiezasCont= pe.Param(model.i ,initialize=piezascont)\n",
    "model.b= pe.Param(model.i, model.f ,initialize=b, default=0)\n",
    "model.StockInicial= pe.Param(model.i, initialize=stockInicial)\n",
    "model.demanda= pe.Param(model.i, model.t1,  initialize=demanda)\n",
    "model.valor=pe.Param(model.i, initialize=stockInicial)\n",
    "model.PC=pe.Param(model.c, initialize=PC)\n",
    "model.L=pe.Param(initialize=L)\n",
    "model.nu=pe.Param(initialize=nu)\n",
    "model.NT_lw=pe.Param(initialize=NT_lw)\n",
    "model.NT_up=pe.Param(initialize=NT_up)"
   ]
  },
  {
   "cell_type": "markdown",
   "id": "dfe06a96-676c-48f6-a963-bf71ffbabd5a",
   "metadata": {},
   "source": [
    "# # Varibles"
   ]
  },
  {
   "cell_type": "code",
   "execution_count": 61,
   "id": "703e4d9f-a03e-4019-a8c1-a631475fc6b8",
   "metadata": {},
   "outputs": [],
   "source": [
    "model.CantidadPedir = pe.Var(model.i, model.c, model.t, domain=pe.Integers)"
   ]
  },
  {
   "cell_type": "code",
   "execution_count": 62,
   "id": "45e1db77-888c-451b-887b-6eb9855e3dbe",
   "metadata": {},
   "outputs": [],
   "source": [
    "model.CantidadPedir2 = pe.Var(model.i,model.f, model.c, model.t)\n",
    "model.ContenedoresCamion=pe.Var(model.c,model.t, domain=pe.Integers)"
   ]
  },
  {
   "cell_type": "code",
   "execution_count": 63,
   "id": "8aedd595-3e0e-455b-83eb-b29110277101",
   "metadata": {},
   "outputs": [],
   "source": [
    "model.Stock=pe.Var(model.i,model.t, bounds=(0,None))"
   ]
  },
  {
   "cell_type": "code",
   "execution_count": 64,
   "id": "78544ce4-f486-43f6-b950-4b2f91e332e0",
   "metadata": {},
   "outputs": [],
   "source": [
    "model.RetrasoDemanda=pe.Var(model.i,model.t)"
   ]
  },
  {
   "cell_type": "code",
   "execution_count": 65,
   "id": "5d8daad9-835e-4f5e-9f06-8c33b3459648",
   "metadata": {},
   "outputs": [],
   "source": [
    "model.K=pe.Var(model.f,model.c,model.t, domain=pe.Integers)"
   ]
  },
  {
   "cell_type": "code",
   "execution_count": 66,
   "id": "9a57ba50-b2eb-4f12-926d-29626c730758",
   "metadata": {},
   "outputs": [],
   "source": [
    "model.Y=pe.Var(model.c,model.t ,domain=pe.Binary, initialize=0)"
   ]
  },
  {
   "cell_type": "markdown",
   "id": "4456c6c3-d50e-42ad-8287-5c26dfdf99af",
   "metadata": {},
   "source": [
    "## Función Objetivo"
   ]
  },
  {
   "cell_type": "code",
   "execution_count": 67,
   "id": "21e0ac46-c8c0-4d10-921f-5d4fb694b2cd",
   "metadata": {},
   "outputs": [],
   "source": [
    "expr = sum(model.PC[c]*model.Y[c,t]  for c in model.c for t in model.t)"
   ]
  },
  {
   "cell_type": "code",
   "execution_count": 68,
   "id": "51e5e1fd-4e59-4dd4-89de-7c103381e841",
   "metadata": {},
   "outputs": [],
   "source": [
    " #Coste Transporte\n",
    "model.objective = pe.Objective(sense=pe.minimize, expr=expr)"
   ]
  },
  {
   "cell_type": "markdown",
   "id": "ceb7304e-b5e4-4fd0-b692-5224aaff29fb",
   "metadata": {},
   "source": [
    "## Funciones auxiliares"
   ]
  },
  {
   "cell_type": "code",
   "execution_count": 69,
   "id": "5e708056-8ba4-400c-82a8-9a14cbc7f647",
   "metadata": {},
   "outputs": [],
   "source": [
    "def UsoCamion(model):\n",
    "    return sum(model.L*model.Y[c,t] for c in model.c for t in model.t)-\\\n",
    "        sum(model.ContenedoresCamion[c,t] for c in model.c for t in model.t)"
   ]
  },
  {
   "cell_type": "code",
   "execution_count": 70,
   "id": "2715fc7d-df48-4756-a01f-8f4ba07c26b2",
   "metadata": {},
   "outputs": [],
   "source": [
    "def CTransporte(model):\n",
    "    return sum(model.PC[c]*model.Y[c,t] for c in model.c for t in model.t)"
   ]
  },
  {
   "cell_type": "code",
   "execution_count": 71,
   "id": "165ba238-8b2c-42c3-91ae-5fb67d2187ea",
   "metadata": {},
   "outputs": [],
   "source": [
    "def NumeroCamiones(model):\n",
    "    return sum(model.Y[c,t] for c in model.c for t in model.t)"
   ]
  },
  {
   "cell_type": "markdown",
   "id": "2f88e217-bfde-44aa-807a-172241f861dd",
   "metadata": {},
   "source": [
    "## Restricciones"
   ]
  },
  {
   "cell_type": "code",
   "execution_count": 72,
   "id": "f5a915f0-7814-45c9-b5c1-5dfb41a5f4c3",
   "metadata": {},
   "outputs": [],
   "source": [
    "model.stocks=pe.ConstraintList()"
   ]
  },
  {
   "cell_type": "code",
   "execution_count": 73,
   "id": "ce6ac04f-3309-4c96-8816-d280df1661be",
   "metadata": {},
   "outputs": [],
   "source": [
    "for i in model.i:\n",
    "    lhs=model.Stock[i,1]\n",
    "    rhs=model.StockInicial[i]-model.demanda[i,1]+sum(model.CantidadPedir[i,c,1] for c in model.c)\n",
    "    model.stocks.add(lhs==rhs)"
   ]
  },
  {
   "cell_type": "code",
   "execution_count": 74,
   "id": "173d8196-22f7-4695-8c8a-1922b5c29a23",
   "metadata": {},
   "outputs": [],
   "source": [
    "for t in list(model.t)[1:]:\n",
    "    for i in model.i:\n",
    "        lhs=model.Stock[i,t]\n",
    "        rhs=model.StockInicial[i]-model.demanda[i,t-1]+sum(model.CantidadPedir[i,c,t-1] for c in model.c)\n",
    "        model.stocks.add(lhs==rhs)"
   ]
  },
  {
   "cell_type": "code",
   "execution_count": 75,
   "id": "05d94883-746b-4680-9115-cd65cd7b429f",
   "metadata": {},
   "outputs": [],
   "source": [
    "model.RcantidadPedir=pe.ConstraintList()"
   ]
  },
  {
   "cell_type": "code",
   "execution_count": 76,
   "id": "01555077-48bd-4a11-ad7d-256c44725d76",
   "metadata": {},
   "outputs": [],
   "source": [
    "for i in model.i:\n",
    "    for f in model.f:\n",
    "        for c in model.c:\n",
    "            for t in model.t:\n",
    "                lhs=model.CantidadPedir2[i,f,c,t]\n",
    "                rhs=model.K[f,c,t]*model.LotePedido[f]*model.b[i,f]\n",
    "                model.RcantidadPedir.add(lhs==rhs)"
   ]
  },
  {
   "cell_type": "code",
   "execution_count": 77,
   "id": "8e74beb7-51cf-44e2-b5c4-bd406b1526bf",
   "metadata": {},
   "outputs": [],
   "source": [
    "model.RcantidadPedir2=pe.ConstraintList()"
   ]
  },
  {
   "cell_type": "code",
   "execution_count": 78,
   "id": "90e660c5-19e9-4fb3-824c-6588d1ee577d",
   "metadata": {},
   "outputs": [],
   "source": [
    "for i in model.i:\n",
    "    for c in model.c:\n",
    "        for t in model.t:\n",
    "            lhs=model.CantidadPedir[i,c,t]\n",
    "            rhs=sum(model.CantidadPedir2[i,f,c,t] for f in model.f)\n",
    "            model.RcantidadPedir2.add(lhs==rhs)"
   ]
  },
  {
   "cell_type": "code",
   "execution_count": 79,
   "id": "d6bf0da5-4f2f-4a52-8a2a-df1f172058ab",
   "metadata": {},
   "outputs": [],
   "source": [
    "model.RContendores=pe.ConstraintList()"
   ]
  },
  {
   "cell_type": "code",
   "execution_count": 80,
   "id": "80eb9004-3a56-42fc-8c6a-20a5db275f08",
   "metadata": {},
   "outputs": [],
   "source": [
    "for c in model.c:\n",
    "    for t in model.t:\n",
    "        lhs=model.ContenedoresCamion[c,t]\n",
    "        rhs=sum(model.CantidadPedir[i,c,t]/model.PiezasCont[i] for i in model.i)\n",
    "        model.RContendores.add(lhs==rhs)"
   ]
  },
  {
   "cell_type": "code",
   "execution_count": 81,
   "id": "67223171-4297-46a8-b4ab-7fd0a3a6c557",
   "metadata": {},
   "outputs": [],
   "source": [
    "model.RDimensionesCamion=pe.ConstraintList()"
   ]
  },
  {
   "cell_type": "code",
   "execution_count": 82,
   "id": "2da9c700-9c62-4829-8837-f1f58fb6a219",
   "metadata": {},
   "outputs": [],
   "source": [
    "for c in model.c:\n",
    "    for t in model.t:\n",
    "        lhs=model.ContenedoresCamion[c,t]\n",
    "        rhs=model.L*model.Y[c,t]\n",
    "        model.RDimensionesCamion.add(lhs<=rhs)"
   ]
  },
  {
   "cell_type": "code",
   "execution_count": 83,
   "id": "2896c7d5-1505-4bb6-b8b0-a6b08933bd8e",
   "metadata": {},
   "outputs": [],
   "source": [
    "model.RLlenado=pe.ConstraintList()\n",
    "for c in model.c:\n",
    "    for t in model.t:\n",
    "        lhs=model.ContenedoresCamion[c,t]\n",
    "        rhs=model.L*model.nu*model.Y[c,t]\n",
    "        model.RLlenado.add(lhs>=rhs)"
   ]
  },
  {
   "cell_type": "code",
   "execution_count": 84,
   "id": "fdae8c93-f5a9-4aa4-b772-2974f089f8cd",
   "metadata": {},
   "outputs": [],
   "source": [
    "model.RCobertura=pe.ConstraintList()\n",
    "for i in model.i:\n",
    "    for t in range(1,17):\n",
    "        lhs=model.Stock[i,t]\n",
    "        rhs=model.demanda[i,t+1]+model.demanda[i,t+2]+model.demanda[i,t+3]\n",
    "        model.RCobertura.add(lhs>=rhs)\n",
    "for i in model.i:\n",
    "    for t in range(17,20):\n",
    "        lhs=model.Stock[i,t]\n",
    "        model.RCobertura.add(lhs>=rhs)"
   ]
  },
  {
   "cell_type": "code",
   "execution_count": 85,
   "id": "9355d322-e790-4a34-aeda-8c028dc594d1",
   "metadata": {},
   "outputs": [],
   "source": [
    "model.bounds=pe.ConstraintList()\n",
    "for i in model.i:\n",
    "    for t in model.t:\n",
    "        model.bounds.add(model.Stock[i,t]>=0)\n"
   ]
  },
  {
   "cell_type": "code",
   "execution_count": 86,
   "id": "e954eeff-bab1-4415-b601-7a7679b6bcc0",
   "metadata": {},
   "outputs": [
    {
     "name": "stdout",
     "output_type": "stream",
     "text": [
      "Set parameter Username\n",
      "Academic license - for non-commercial use only - expires 2022-08-06\n",
      "Read LP format model from file C:\\Users\\juano\\AppData\\Local\\Temp\\tmpfo3lb9gm.pyomo.lp\n",
      "Reading time = 0.37 seconds\n",
      "x191008: 180919 rows, 190723 columns, 382471 nonzeros\n",
      "Gurobi Optimizer version 9.5.1 build v9.5.1rc2 (win64)\n",
      "Thread count: 6 physical cores, 12 logical processors, using up to 12 threads\n",
      "Optimize a model with 180919 rows, 190723 columns and 382471 nonzeros\n",
      "Model fingerprint: 0xd4adb3f6\n",
      "Variable types: 167011 continuous, 23712 integer (741 binary)\n",
      "Coefficient statistics:\n",
      "  Matrix range     [2e-02, 8e+01]\n",
      "  Objective range  [1e+03, 1e+03]\n",
      "  Bounds range     [1e+00, 1e+00]\n",
      "  RHS range        [1e+00, 2e+03]\n",
      "Presolve removed 178543 rows and 178789 columns\n",
      "Presolve time: 0.42s\n",
      "Presolved: 2376 rows, 11934 columns, 24570 nonzeros\n",
      "Variable types: 0 continuous, 11934 integer (702 binary)\n",
      "\n",
      "Root relaxation: objective 2.118665e+05, 1789 iterations, 0.12 seconds (0.01 work units)\n",
      "\n",
      "    Nodes    |    Current Node    |     Objective Bounds      |     Work\n",
      " Expl Unexpl |  Obj  Depth IntInf | Incumbent    BestBd   Gap | It/Node Time\n",
      "\n",
      "     0     0 211866.477    0   89          - 211866.477      -     -    0s\n",
      "     0     0 222000.000    0   54          - 222000.000      -     -    0s\n",
      "     0     0 222000.000    0   54          - 222000.000      -     -    1s\n",
      " 22137 20600 222000.000   18    7          - 222000.000      -   3.1    5s\n",
      " 101434 71692 222000.000  461   37          - 222000.000      -   2.5   10s\n",
      " 209723 180601 222000.000 1186   43          - 222000.000      -   3.8   15s\n",
      " 307840 275799 222000.000 2854   43          - 222000.000      -   4.9   20s\n",
      " 399686 262033 222000.000 1741   40          - 222000.000      -   5.6   25s\n",
      " 491314 348781 222000.000  626   35          - 222000.000      -   6.2   30s\n",
      " 565151 420404 222000.000 2972   43          - 222000.000      -   6.9   35s\n",
      " 627161 479363 222000.000 1054   45          - 222000.000      -   7.8   40s\n",
      " 692305 542579 222000.000 4305   41          - 222000.000      -   8.4   45s\n",
      " 741020 585229 222000.000 1211   37          - 222000.000      -   8.9   50s\n",
      " 795630 495859 223000.000 6643   18          - 222000.000      -   9.5   55s\n",
      " 853558 405945 222000.000 5788   34          - 222000.000      -   9.8   60s\n",
      " 916540 464030 222000.000  402   35          - 222000.000      -  10.4   65s\n",
      "H959563  9285                    225000.00000 222000.000  1.33%  10.7   69s\n",
      "H961266  4878                    223000.00000 222000.000  0.45%  10.7   69s\n",
      "H962412  2969                    222000.00000 222000.000  0.00%  10.7   69s\n",
      "\n",
      "Cutting planes:\n",
      "  Gomory: 36\n",
      "\n",
      "Explored 962412 nodes (10320112 simplex iterations) in 69.85 seconds (59.45 work units)\n",
      "Thread count was 12 (of 12 available processors)\n",
      "\n",
      "Solution count 3: 222000 223000 225000 \n",
      "\n",
      "Optimal solution found (tolerance 1.00e-04)\n",
      "Best objective 2.220000000000e+05, best bound 2.220000000000e+05, gap 0.0000%\n"
     ]
    }
   ],
   "source": [
    "solver = po.SolverFactory('gurobi')\n",
    "results = solver.solve(model, tee=True)"
   ]
  },
  {
   "cell_type": "code",
   "execution_count": 87,
   "id": "49e6734a-b1a9-4f51-bbb6-be21a51c9354",
   "metadata": {},
   "outputs": [
    {
     "data": {
      "text/plain": [
       "{'Problem': [{'Name': 'x191008', 'Lower bound': 222000.0, 'Upper bound': 222000.0, 'Number of objectives': 1, 'Number of constraints': 180919, 'Number of variables': 190723, 'Number of binary variables': 741, 'Number of integer variables': 23712, 'Number of continuous variables': 167011, 'Number of nonzeros': 382471, 'Sense': 'minimize'}], 'Solver': [{'Status': 'ok', 'Return code': '0', 'Message': 'Model was solved to optimality (subject to tolerances), and an optimal solution is available.', 'Termination condition': 'optimal', 'Termination message': 'Model was solved to optimality (subject to tolerances), and an optimal solution is available.', 'Wall time': '69.85356521606445', 'Error rc': 0, 'Time': 70.94683718681335}], 'Solution': [OrderedDict([('number of solutions', 0), ('number of solutions displayed', 0)])]}"
      ]
     },
     "execution_count": 87,
     "metadata": {},
     "output_type": "execute_result"
    }
   ],
   "source": [
    "results"
   ]
  },
  {
   "cell_type": "markdown",
   "id": "0a88e389-0987-4cab-9dc5-3ec6b71812b4",
   "metadata": {},
   "source": [
    "## for t in model.t:\n",
    "    print(t)"
   ]
  },
  {
   "cell_type": "code",
   "execution_count": null,
   "id": "7d7a6cbf-bb23-4cca-946a-69ac53a8dd08",
   "metadata": {},
   "outputs": [],
   "source": []
  },
  {
   "cell_type": "code",
   "execution_count": null,
   "id": "c9519392-2e9f-46e5-bb00-e7ff8a7f2c8a",
   "metadata": {},
   "outputs": [],
   "source": []
  },
  {
   "cell_type": "code",
   "execution_count": null,
   "id": "5f05379e-ae03-4fac-ad83-22893ff1a1f3",
   "metadata": {},
   "outputs": [],
   "source": []
  },
  {
   "cell_type": "code",
   "execution_count": null,
   "id": "d16a462d-a2a9-47a5-b1ff-062d41c209d9",
   "metadata": {},
   "outputs": [],
   "source": []
  },
  {
   "cell_type": "code",
   "execution_count": null,
   "id": "bc0dd6ad-4f70-4e3a-b9ce-53fd974e6287",
   "metadata": {},
   "outputs": [],
   "source": []
  },
  {
   "cell_type": "code",
   "execution_count": null,
   "id": "acfcd42b-9220-4232-a412-d56ff37467e5",
   "metadata": {},
   "outputs": [],
   "source": []
  },
  {
   "cell_type": "code",
   "execution_count": null,
   "id": "e2c9b24a-b02c-48ed-a521-c6e3c6149bee",
   "metadata": {},
   "outputs": [],
   "source": []
  },
  {
   "cell_type": "code",
   "execution_count": null,
   "id": "8f8c464d-433a-4da3-8846-c517cbec5988",
   "metadata": {},
   "outputs": [],
   "source": []
  },
  {
   "cell_type": "code",
   "execution_count": null,
   "id": "8b53b8fa-7b4d-4629-b361-b1c66e9264ee",
   "metadata": {},
   "outputs": [],
   "source": []
  }
 ],
 "metadata": {
  "kernelspec": {
   "display_name": "Python 3 (ipykernel)",
   "language": "python",
   "name": "python3"
  },
  "language_info": {
   "codemirror_mode": {
    "name": "ipython",
    "version": 3
   },
   "file_extension": ".py",
   "mimetype": "text/x-python",
   "name": "python",
   "nbconvert_exporter": "python",
   "pygments_lexer": "ipython3",
   "version": "3.8.10"
  }
 },
 "nbformat": 4,
 "nbformat_minor": 5
}
